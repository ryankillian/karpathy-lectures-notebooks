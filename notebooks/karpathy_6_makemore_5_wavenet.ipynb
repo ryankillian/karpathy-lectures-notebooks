{
  "nbformat": 4,
  "nbformat_minor": 0,
  "metadata": {
    "colab": {
      "provenance": [],
      "collapsed_sections": [
        "qoL_O0bQKgwF",
        "LCS1_6eQr1yR",
        "pvCGe2h68Akn",
        "UdIw_uGaHEzh"
      ],
      "toc_visible": true
    },
    "kernelspec": {
      "name": "python3",
      "display_name": "Python 3"
    },
    "language_info": {
      "name": "python"
    }
  },
  "cells": [
    {
      "cell_type": "markdown",
      "source": [
        "# Introduction"
      ],
      "metadata": {
        "id": "Av6lpomRoqf-"
      }
    },
    {
      "cell_type": "markdown",
      "source": [
        "---\n",
        "\n",
        "## WaveNet Implementation: Based on Andrej Karpathy's Lecture\n",
        "\n",
        "This notebook is a practical follow-up to Andrej Karpathy's \"Building makemore Part 5: Building a WaveNet\" lecture. Check out the full lecture [here](https://www.youtube.com/watch?v=t3YJ5hKiMQ0).\n",
        "\n",
        "Here's what we'll cover:\n",
        "\n",
        "1. **Model Basics**: Introduction to a multi-layer perceptron character-level language model.\n",
        "2. **Model Enhancement**: Expanding the architecture and input characters for better results.\n",
        "3. **WaveNet Overview**: Understand WaveNet's hierarchical structure and its predictions.\n",
        "4. **Batch Normalization**: Dive into the BatchNorm layer and its challenges.\n",
        "5. **PyTorch Containers**: A look at how PyTorch structures its layers.\n",
        "6. **Dataset Expansion**: Increase the context length for performance improvement.\n",
        "7. **Forward Pass**: Visualization of tensor transformations in the network.\n",
        "8. **BatchNorm1D Bug**: Addressing an implementation bug.\n",
        "9. **Development Insights**: Best practices in deep neural network development.\n",
        "10. **Optimizing WaveNet**: Suggestions and strategies for better performance.\n",
        "\n",
        "This notebook aims to provide a clear understanding of WaveNet's development and optimization process.\n",
        "\n",
        "---"
      ],
      "metadata": {
        "id": "P5O9z2c4OQcm"
      }
    },
    {
      "cell_type": "markdown",
      "source": [
        "## WaveNet\n",
        "\n",
        "### WaveNet Overview:\n",
        "- **Nature of the Model**: WaveNet is a fully probabilistic and autoregressive model. This means that when predicting any given audio sample, it considers all the previous samples.\n",
        "- **Efficiency**: It can be trained efficiently on very high-resolution audio data (e.g., data with tens of thousands of samples per second).\n",
        "- **Performance**: For text-to-speech tasks, human listeners rated the outputs of WaveNet as more natural sounding than other leading methods. Additionally, it can switch between different speakers by conditioning on the speaker's identity. WaveNet can also generate musical fragments that sound realistic.\n",
        "\n",
        "### Technical Insights:\n",
        "\n",
        "1. **Generative Model for Audio**: WaveNet operates directly on raw audio, predicting the probability of each audio sample based on the previous ones. The model's structure is inspired by PixelCNN, which was designed for images.\n",
        "\n",
        "2. **Dilated Causal Convolutions**: To ensure that predictions for any timestep don't depend on future timesteps, the model uses causal convolutions. \"Dilated\" convolutions are introduced to effectively increase the receptive field (the portion of the input data the model \"sees\") without significantly increasing computational cost.\n",
        "\n",
        "3. **Softmax Distributions**: Instead of using a mixture model, the paper employs a softmax distribution for modeling audio samples. To manage the high-resolution of raw audio, a µ-law companding transformation is applied to the data before quantizing it.\n",
        "\n",
        "4. **Gated Activation Units**: The paper uses a specific type of activation function for the neural network, which was found to work particularly well for audio signals.\n",
        "\n",
        "5. **Residual and Skip Connections**: These are techniques to help train deeper neural networks more effectively. They help in faster convergence and enable deeper model architectures.\n",
        "\n",
        "6. **Conditional WaveNets**: WaveNet can be conditioned on additional inputs, which allows it to generate audio with specific characteristics. For example, by conditioning on a speaker's identity, WaveNet can produce audio in that speaker's voice. The paper distinguishes between global conditioning (affecting the whole audio) and local conditioning (affecting specific parts of the audio).\n",
        "\n",
        "7. **Context Stacks**: To increase the receptive field size, the paper introduces the concept of context stacks. These are separate smaller networks that process longer parts of the audio signal and condition the primary WaveNet model.\n",
        "\n",
        "### Applications:\n",
        "- **Text-to-Speech (TTS)**: WaveNet can produce very natural-sounding speech, surpassing other state-of-the-art systems.\n",
        "- **Voice Modulation**: A single WaveNet model can mimic many different speakers.\n",
        "- **Music Generation**: WaveNet can generate realistic musical fragments.\n",
        "- **Other Audio Tasks**: The model is also promising for tasks like speech enhancement, voice conversion, and source separation.\n",
        "\n",
        "In essence, WaveNet is a breakthrough in audio generation, offering a versatile and powerful model for a range of audio-related tasks."
      ],
      "metadata": {
        "id": "dDkRTGa0q5xL"
      }
    },
    {
      "cell_type": "markdown",
      "source": [
        "## Our model gets improved using ideas from Wavenet\n",
        "\n",
        "The finished model is inspired by WaveNet, which is a deep learning architecture designed for generating raw audio waveforms.\n",
        "\n",
        "**Innovation**:\n",
        "1. **Hierarchical Fusion of Information**: Instead of squashing all the character information into a single layer right at the beginning, the new model aims for a more hierarchical approach. This is akin to WaveNet's methodology where information from previous contexts gets fused progressively as the network gets deeper. It's a departure from the original network that was more linear in its approach.\n",
        "2. **FlattenConsecutive Layer**: This new layer is essentially reshaping the data by grouping consecutive embeddings, which helps in retaining more granularity of information for longer sequences.\n",
        "3. **Increased Depth with Batch Normalization**: The model has added depth, with multiple hidden layers interspersed with BatchNorm layers. Batch Normalization helps in stabilizing and accelerating the training of deeper networks.\n",
        "\n",
        "**Intuition**:\n",
        "1. **Preserving Contextual Information**: By not immediately squashing all characters into a single layer, the network retains more of the raw, granular information from the input. This is crucial when predicting the next character based on a sequence of prior characters. The more original context the model has, the better its predictive capability.\n",
        "2. **Progressive Fusion of Information**: Just as our human cognition processes information hierarchically (from letters to words to sentences to paragraphs), the model is designed to gradually combine information. It first understands pairs of characters, then bigger chunks, and so on. This allows the model to capture both short-term and long-term dependencies in the data.\n",
        "3. **Stability with Batch Normalization**: Deep networks can suffer from internal covariate shift where the distribution of layer inputs changes during training. Batch normalization standardizes the inputs of a layer, making training more stable and faster.\n",
        "4. **Embedding Layer**: It's a look-up table that maps from integer indices (representing specific words or characters) to dense vectors (their embeddings). These vectors are trainable and can capture the semantic relationship between words or characters. By using embeddings, the model can capture richer representations of the input data.\n",
        "\n",
        "In summary, the hierarchical approach is inspired by WaveNet's methodology of processing audio signals, where the prediction for the next audio sample depends on a gradually fused context of previous samples. By applying a similar approach to character prediction, the model aims to capture richer contextual information, leading to better predictions."
      ],
      "metadata": {
        "id": "f5ceBbYLN_7X"
      }
    },
    {
      "cell_type": "markdown",
      "source": [
        "# Summary of transcript\n"
      ],
      "metadata": {
        "id": "qoL_O0bQKgwF"
      }
    },
    {
      "cell_type": "markdown",
      "source": [
        "\n",
        "\n",
        "**Overview**\n",
        "The lecture centers around the implementation and enhancement of a character-level language model using neural networks. The instructor emphasizes the evolution from a simple multi-layer perceptron to a more complex, hierarchically structured network resembling the WaveNet model.\n",
        "\n",
        "**Location Change**\n",
        "The instructor notes a change in their background as they are currently in Kyoto.\n",
        "\n",
        "**Model Introduction**\n",
        "- The initial model is a multi-layer perceptron character-level language model.\n",
        "- It takes three previous characters as input to predict the fourth character.\n",
        "- It uses a single hidden layer of neurons.\n",
        "\n",
        "**Desire for Model Enhancement**\n",
        "- The instructor expresses the need to complexify the architecture.\n",
        "  - Increase the number of input characters.\n",
        "  - Avoid compressing information too quickly into a single hidden layer.\n",
        "  - Instead, aim for a deeper model that fuses information progressively.\n",
        "\n",
        "**Introduction to WaveNet**\n",
        "- WaveNet is a model published in 2016.\n",
        "- It is primarily a language model that predicts audio sequences instead of character sequences.\n",
        "- It adopts an auto-regressive model approach, predicting the next character in a sequence.\n",
        "- WaveNet uses a hierarchical tree-like structure, progressively combining character information.\n",
        "\n",
        "**Code Overview**\n",
        "- The code begins with imports and data processing.\n",
        "- The dataset consists of 182,000 examples where three characters predict the fourth one.\n",
        "- The instructor introduces the concept of \"layers\" which act as building blocks for neural networks.\n",
        "- These layers have similar APIs and signatures to those in PyTorch.\n",
        "\n",
        "**Batch Normalization (BatchNorm) Layer**\n",
        "- The BatchNorm layer plays a significant role in the neural network.\n",
        "- It has unique characteristics:\n",
        "  - Trains running mean and variance outside of backpropagation.\n",
        "  - Has different behaviors during training and evaluation.\n",
        "  - Controls the activation statistics.\n",
        "- BatchNorm can introduce potential bugs due to its complexity and behavior changes between training and evaluation modes.\n",
        "\n",
        "**PyTorch Containers**\n",
        "- PyTorch has a concept called containers to organize layers.\n",
        "- `Sequential` is a module in PyTorch that maintains a list of layers and processes input through all the layers sequentially.\n",
        "\n",
        "**Expanding the Dataset**\n",
        "- The instructor then increases the block size from 3 to 8, meaning the model now considers eight characters of context to predict the ninth character.\n",
        "- Just by increasing the context length, there's a notable improvement in model performance.\n",
        "\n",
        "**Takeaways**\n",
        "The lecture provides a deep dive into building and refining a character-level language model. It touches upon the importance of model architecture, the challenges and intricacies of certain layers like BatchNorm, and the benefits of using tools and structures provided by libraries like PyTorch. The overarching theme is the continual iteration and refinement of the model to achieve better performance.\n",
        "\n",
        "---\n",
        "\n",
        "## WaveNet Implementation and Tensor Management\n",
        "\n",
        "### Forward Pass Visualization\n",
        "The lecturer is working on a neural network implementation of WaveNet. To ensure understanding and correct functioning, they visualize the forward pass by observing tensor shapes at each stage. This helps in understanding data transformations as it progresses through the network.\n",
        "\n",
        "### Input Batch and Shape\n",
        "A batch of 4 random examples is created for debugging. The shape of the batch (referred to as \\( xB \\)) is \\($ 4 \\times 8 $\\) due to having 4 examples and a block size of 8.\n",
        "\n",
        "### Embedding Layer\n",
        "The first layer is the embedding layer. When the integer tensor \\( xB \\) is passed through this layer, the output shape becomes \\( $4 \\times 8 \\times 10 $\\). Here, each character has a 10-dimensional vector representation. The embedding layer takes the integers and converts them into these 10-dimensional vectors.\n",
        "\n",
        "### Flattening and Concatenation\n",
        "The flattened layer views the \\( $4 \\times 8 \\times 10 $\\) tensor as a \\( $4 \\times 80 $\\) tensor. The effect is that the 10-dimensional embeddings for the 8 characters are lined up in a row, appearing as if they've been concatenated.\n",
        "\n",
        "### Linear Layer and Matrix Multiplication\n",
        "The linear layer is responsible for transforming the shape from \\( $4 \\times 80 $\\) to \\($ 4 \\times 200$ \\). This is achieved through matrix multiplication. The lecturer emphasizes that in PyTorch, the matrix multiplication operator is versatile and can handle higher-dimensional tensors, treating earlier dimensions as batch dimensions.\n",
        "\n",
        "### Restructuring Input\n",
        "A key insight is that instead of flattening the entire input, we can group and process parts of it. For instance, the lecturer suggests grouping every two consecutive elements for processing in parallel. This results in a tensor shape of \\($ 4 \\times 4 \\times 20 $\\).\n",
        "\n",
        "### Flattening Consecutively\n",
        "To achieve the desired restructuring, the lecturer introduces a new method called \"Flatten Consecutive\". This method differs from the regular flattening by allowing for flattening only a specified number of consecutive elements, leading to multi-dimensional outputs rather than fully flattened ones.\n",
        "\n",
        "### Model Layers and Parameter Count\n",
        "The lecturer moves on to demonstrate how the neural network layers are organized. They ensure that the number of parameters remains consistent as the model architecture evolves, emphasizing the importance of maintaining model capacity.\n",
        "\n",
        "### WaveNet's Performance\n",
        "After restructuring the neural network, the lecturer observes that the validation loss remains nearly identical to the original, simpler model. This suggests that, at least in this instance, the added complexity doesn't yield performance benefits.\n",
        "\n",
        "### Potential Issues with BatchNorm1D\n",
        "The lecturer points out that while the model runs, there might still be issues, specifically with the BatchNorm1D layer. A thorough review of this layer is necessary to ensure it's functioning correctly.\n",
        "\n",
        "---\n",
        "\n",
        "**Key Takeaways**:\n",
        "1. **Visualizing the forward pass**: This helps in understanding data transformations in a neural network.\n",
        "2. **Embeddings**: Convert categorical data (like characters) into continuous vectors.\n",
        "3. **Flattening and Reshaping**: Managing tensor shapes is crucial, especially when designing custom architectures.\n",
        "4. **Matrix Multiplication in Neural Networks**: PyTorch's matrix multiplication can handle multi-dimensional tensors, treating earlier dimensions as batch dimensions.\n",
        "5. **Model Capacity**: When altering a neural network architecture, it's essential to keep an eye on the number of parameters to ensure model capacity remains consistent.\n",
        "6. **Debugging and Validation**: Always ensure that each layer of the neural network is functioning as expected, especially when introducing custom layers or functions.\n",
        "\n",
        "---\n",
        "\n",
        "## Fixing BatchNorm1D Bug\n",
        "\n",
        "The lecturer begins by discussing a bug related to the BatchNorm1D implementation.\n",
        "\n",
        "- **Issue**: The current BatchNorm1D implementation assumes a two-dimensional input, but the actual input is three-dimensional. This discrepancy leads to improper calculations.\n",
        "- **Current Behavior**: The BatchNorm receives an input with dimensions 32x4x68. Although this shape allows the code to run without errors due to broadcasting, it doesn't work as intended.\n",
        "- **Desired Behavior**: The BatchNorm should be modified to consider both the zeroth and first dimensions as batch dimensions. Instead of averaging over 32 numbers, the average should be over \\($32 \\times 4$\\) numbers for each of the 68 channels.\n",
        "- **Solution**: The lecturer suggests using the `torch.mean` function, which can reduce over multiple dimensions at the same time. By passing in a tuple (0,1) as dimensions, the mean is calculated over both the zeroth and first dimensions, leading to a 1x1x68 shape.\n",
        "\n",
        "## Deviation from PyTorch API\n",
        "\n",
        "There's a highlighted difference between the lecturer's implementation and PyTorch's BatchNorm1D:\n",
        "\n",
        "- **PyTorch's BatchNorm1D**: Assumes that when input is three-dimensional, it should be in the form of nxCxL (with C being the number of features or channels).\n",
        "- **Lecturer's Implementation**: Assumes the input to be in the form of nxLxC.\n",
        "\n",
        "## Development Process of Building Deep Neural Nets\n",
        "\n",
        "The lecturer provides insights into the typical process of building and refining deep neural networks:\n",
        "\n",
        "1. **Reference to Documentation**: It's essential to frequently refer to the documentation to understand the various layers, their expected input shapes, and functionalities. However, the lecturer notes that PyTorch documentation can sometimes be misleading or incomplete.\n",
        "2. **Shape Management**: A significant amount of time is spent ensuring tensor shapes are compatible. This involves reshaping tensors, understanding expected input and output shapes, and sometimes prototyping to ensure shapes align.\n",
        "3. **Prototyping**: The lecturer emphasizes the utility of Jupyter notebooks for prototyping. Once satisfied with the prototype, the code is transferred to a more permanent codebase.\n",
        "4. **Use of Convolutions**: Convolutions are introduced as a means for efficiency. Instead of processing inputs individually, convolutions allow the model to process multiple inputs simultaneously by sliding filters over the input sequence. This concept connects with future topics, like Convolutional Neural Networks (CNNs).\n",
        "\n",
        "## Improving WaveNet's Performance\n",
        "\n",
        "The lecturer emphasizes the potential for improving the performance of WaveNet:\n",
        "\n",
        "- **Current Performance**: The model's performance has improved from a loss of 2.1 to 1.993.\n",
        "- **Challenges**: The lecturer points out that the current approach lacks an experimental harness, meaning they're mostly making educated guesses without a systematic way to evaluate changes.\n",
        "- **Potential Improvements**: Suggestions include re-allocating channels, tweaking the number of dimensions for embeddings, or even reverting to a simpler network structure. The WaveNet paper itself might also have additional strategies or layers worth implementing.\n",
        "\n",
        "## Call to Action\n",
        "\n",
        "Lastly, the lecturer encourages listeners to try and improve upon the WaveNet's loss of 1.993, pointing out that there's a lot of potential to optimize the network further."
      ],
      "metadata": {
        "id": "Gvu_59LuJtAi"
      }
    },
    {
      "cell_type": "markdown",
      "source": [
        "# Dataset processing"
      ],
      "metadata": {
        "id": "p8KiqWaMpl9A"
      }
    },
    {
      "cell_type": "code",
      "source": [
        "import torch\n",
        "import torch.nn.functional as F\n",
        "import matplotlib.pyplot as plt # for making figures\n",
        "%matplotlib inline"
      ],
      "metadata": {
        "id": "W2-cHhyLprcU"
      },
      "execution_count": null,
      "outputs": []
    },
    {
      "cell_type": "code",
      "execution_count": null,
      "metadata": {
        "colab": {
          "base_uri": "https://localhost:8080/"
        },
        "id": "9yReUcVlnAaY",
        "outputId": "cbdffe8a-13fa-4a20-a813-a1bb3441f286"
      },
      "outputs": [
        {
          "output_type": "stream",
          "name": "stdout",
          "text": [
            "--2023-08-25 18:10:45--  https://raw.githubusercontent.com/karpathy/makemore/master/names.txt\n",
            "Resolving raw.githubusercontent.com (raw.githubusercontent.com)... 185.199.108.133, 185.199.109.133, 185.199.110.133, ...\n",
            "Connecting to raw.githubusercontent.com (raw.githubusercontent.com)|185.199.108.133|:443... connected.\n",
            "HTTP request sent, awaiting response... 200 OK\n",
            "Length: 228145 (223K) [text/plain]\n",
            "Saving to: ‘names.txt.5’\n",
            "\n",
            "names.txt.5         100%[===================>] 222.80K  --.-KB/s    in 0.01s   \n",
            "\n",
            "2023-08-25 18:10:45 (15.3 MB/s) - ‘names.txt.5’ saved [228145/228145]\n",
            "\n"
          ]
        }
      ],
      "source": [
        "!wget https://raw.githubusercontent.com/karpathy/makemore/master/names.txt"
      ]
    },
    {
      "cell_type": "code",
      "source": [
        "# read in all the words\n",
        "words = open('names.txt', 'r').read().splitlines()\n",
        "print(len(words))\n",
        "print(max(len(w) for w in words))\n",
        "print(words[:8])"
      ],
      "metadata": {
        "colab": {
          "base_uri": "https://localhost:8080/"
        },
        "id": "CoWgbuM5qRuq",
        "outputId": "be6c30e4-1961-441b-c1ea-010a498b7e01"
      },
      "execution_count": null,
      "outputs": [
        {
          "output_type": "stream",
          "name": "stdout",
          "text": [
            "32033\n",
            "15\n",
            "['emma', 'olivia', 'ava', 'isabella', 'sophia', 'charlotte', 'mia', 'amelia']\n"
          ]
        }
      ]
    },
    {
      "cell_type": "code",
      "source": [
        "# build the vocabulary of characters and mappings to/from integers\n",
        "chars = sorted(list(set(''.join(words))))\n",
        "stoi = {s:i+1 for i,s in enumerate(chars)}\n",
        "stoi['.'] = 0\n",
        "itos = {i:s for s,i in stoi.items()}\n",
        "vocab_size = len(itos)\n",
        "print(itos)\n",
        "print(vocab_size)"
      ],
      "metadata": {
        "colab": {
          "base_uri": "https://localhost:8080/"
        },
        "id": "Kh5oz0n7puCR",
        "outputId": "7a936d42-85a7-4e57-8b19-daf3396a7894"
      },
      "execution_count": null,
      "outputs": [
        {
          "output_type": "stream",
          "name": "stdout",
          "text": [
            "{1: 'a', 2: 'b', 3: 'c', 4: 'd', 5: 'e', 6: 'f', 7: 'g', 8: 'h', 9: 'i', 10: 'j', 11: 'k', 12: 'l', 13: 'm', 14: 'n', 15: 'o', 16: 'p', 17: 'q', 18: 'r', 19: 's', 20: 't', 21: 'u', 22: 'v', 23: 'w', 24: 'x', 25: 'y', 26: 'z', 0: '.'}\n",
            "27\n"
          ]
        }
      ]
    },
    {
      "cell_type": "code",
      "source": [
        "# shuffle up the words\n",
        "import random\n",
        "random.seed(42)\n",
        "random.shuffle(words)"
      ],
      "metadata": {
        "id": "1JKDODAepwQj"
      },
      "execution_count": null,
      "outputs": []
    },
    {
      "cell_type": "code",
      "source": [
        "# build the dataset\n",
        "block_size = 8 # context length: how many characters do we take to predict the next one?\n",
        "\n",
        "def build_dataset(words):\n",
        "  X, Y = [], []\n",
        "\n",
        "  for w in words:\n",
        "    context = [0] * block_size\n",
        "    for ch in w + '.':\n",
        "      ix = stoi[ch]\n",
        "      X.append(context)\n",
        "      Y.append(ix)\n",
        "      context = context[1:] + [ix] # crop and append\n",
        "\n",
        "  X = torch.tensor(X)\n",
        "  Y = torch.tensor(Y)\n",
        "  print(X.shape, Y.shape)\n",
        "  return X, Y\n",
        "\n",
        "n1 = int(0.8*len(words))\n",
        "n2 = int(0.9*len(words))\n",
        "Xtr,  Ytr  = build_dataset(words[:n1])     # 80%\n",
        "Xdev, Ydev = build_dataset(words[n1:n2])   # 10%\n",
        "Xte,  Yte  = build_dataset(words[n2:])     # 10%"
      ],
      "metadata": {
        "colab": {
          "base_uri": "https://localhost:8080/"
        },
        "id": "RoaBDNvfpy6q",
        "outputId": "32679520-875d-45b3-e027-2597e73302f0"
      },
      "execution_count": null,
      "outputs": [
        {
          "output_type": "stream",
          "name": "stdout",
          "text": [
            "torch.Size([182625, 8]) torch.Size([182625])\n",
            "torch.Size([22655, 8]) torch.Size([22655])\n",
            "torch.Size([22866, 8]) torch.Size([22866])\n"
          ]
        }
      ]
    },
    {
      "cell_type": "code",
      "source": [
        "for x,y in zip(Xtr[:20], Ytr[:20]):\n",
        "  print(''.join(itos[ix.item()] for ix in x), '-->', itos[y.item()])"
      ],
      "metadata": {
        "colab": {
          "base_uri": "https://localhost:8080/"
        },
        "id": "48zHojyyp13q",
        "outputId": "028ab013-9951-4a8a-daeb-e58daf34dc9b"
      },
      "execution_count": null,
      "outputs": [
        {
          "output_type": "stream",
          "name": "stdout",
          "text": [
            "........ --> y\n",
            ".......y --> u\n",
            "......yu --> h\n",
            ".....yuh --> e\n",
            "....yuhe --> n\n",
            "...yuhen --> g\n",
            "..yuheng --> .\n",
            "........ --> d\n",
            ".......d --> i\n",
            "......di --> o\n",
            ".....dio --> n\n",
            "....dion --> d\n",
            "...diond --> r\n",
            "..diondr --> e\n",
            ".diondre --> .\n",
            "........ --> x\n",
            ".......x --> a\n",
            "......xa --> v\n",
            ".....xav --> i\n",
            "....xavi --> e\n"
          ]
        }
      ]
    },
    {
      "cell_type": "markdown",
      "source": [
        "# Layers"
      ],
      "metadata": {
        "id": "Z2eWk3P7qqI6"
      }
    },
    {
      "cell_type": "code",
      "source": [
        "# -----------------------------------------------------------------------------------------------\n",
        "class Linear:\n",
        "\n",
        "  def __init__(self, fan_in, fan_out, bias=True):\n",
        "    self.weight = torch.randn((fan_in, fan_out)) / fan_in**0.5 # note: kaiming init\n",
        "    self.bias = torch.zeros(fan_out) if bias else None\n",
        "\n",
        "  def __call__(self, x):\n",
        "    self.out = x @ self.weight\n",
        "    if self.bias is not None:\n",
        "      self.out += self.bias\n",
        "    return self.out\n",
        "\n",
        "  def parameters(self):\n",
        "    return [self.weight] + ([] if self.bias is None else [self.bias])\n",
        "\n",
        "# -----------------------------------------------------------------------------------------------\n",
        "class BatchNorm1d:\n",
        "\n",
        "  def __init__(self, dim, eps=1e-5, momentum=0.1):\n",
        "    self.eps = eps\n",
        "    self.momentum = momentum\n",
        "    self.training = True\n",
        "    # parameters (trained with backprop)\n",
        "    self.gamma = torch.ones(dim)\n",
        "    self.beta = torch.zeros(dim)\n",
        "    # buffers (trained with a running 'momentum update')\n",
        "    self.running_mean = torch.zeros(dim)\n",
        "    self.running_var = torch.ones(dim)\n",
        "\n",
        "  def __call__(self, x):\n",
        "    # calculate the forward pass\n",
        "    if self.training:\n",
        "      if x.ndim == 2:\n",
        "        dim = 0\n",
        "      elif x.ndim == 3:\n",
        "        dim = (0,1)\n",
        "      xmean = x.mean(dim, keepdim=True) # batch mean\n",
        "      xvar = x.var(dim, keepdim=True) # batch variance\n",
        "    else:\n",
        "      xmean = self.running_mean\n",
        "      xvar = self.running_var\n",
        "    xhat = (x - xmean) / torch.sqrt(xvar + self.eps) # normalize to unit variance\n",
        "    self.out = self.gamma * xhat + self.beta\n",
        "    # update the buffers\n",
        "    if self.training:\n",
        "      with torch.no_grad():\n",
        "        self.running_mean = (1 - self.momentum) * self.running_mean + self.momentum * xmean\n",
        "        self.running_var = (1 - self.momentum) * self.running_var + self.momentum * xvar\n",
        "    return self.out\n",
        "\n",
        "  def parameters(self):\n",
        "    return [self.gamma, self.beta]\n",
        "\n",
        "# -----------------------------------------------------------------------------------------------\n",
        "class Tanh:\n",
        "  def __call__(self, x):\n",
        "    self.out = torch.tanh(x)\n",
        "    return self.out\n",
        "  def parameters(self):\n",
        "    return []\n",
        "\n",
        "# -----------------------------------------------------------------------------------------------\n",
        "class Embedding:\n",
        "\n",
        "  def __init__(self, num_embeddings, embedding_dim):\n",
        "    self.weight = torch.randn((num_embeddings, embedding_dim))\n",
        "\n",
        "  def __call__(self, IX):\n",
        "    self.out = self.weight[IX]\n",
        "    return self.out\n",
        "\n",
        "  def parameters(self):\n",
        "    return [self.weight]\n",
        "\n",
        "# -----------------------------------------------------------------------------------------------\n",
        "class FlattenConsecutive:\n",
        "\n",
        "  def __init__(self, n):\n",
        "    self.n = n\n",
        "\n",
        "  def __call__(self, x):\n",
        "    B, T, C = x.shape\n",
        "    x = x.view(B, T//self.n, C*self.n)\n",
        "    if x.shape[1] == 1:\n",
        "      x = x.squeeze(1)\n",
        "    self.out = x\n",
        "    return self.out\n",
        "\n",
        "  def parameters(self):\n",
        "    return []\n",
        "\n",
        "# -----------------------------------------------------------------------------------------------\n",
        "class Sequential:\n",
        "\n",
        "  def __init__(self, layers):\n",
        "    self.layers = layers\n",
        "\n",
        "  def __call__(self, x):\n",
        "    for layer in self.layers:\n",
        "      x = layer(x)\n",
        "    self.out = x\n",
        "    return self.out\n",
        "\n",
        "  def parameters(self):\n",
        "    # get parameters of all layers and stretch them out into one list\n",
        "    return [p for layer in self.layers for p in layer.parameters()]\n"
      ],
      "metadata": {
        "id": "8VFvEwmSqorb"
      },
      "execution_count": null,
      "outputs": []
    },
    {
      "cell_type": "markdown",
      "source": [
        "# Original Network"
      ],
      "metadata": {
        "id": "NYgAvpferlou"
      }
    },
    {
      "cell_type": "code",
      "source": [
        "torch.manual_seed(42); # seed rng for reproducibility"
      ],
      "metadata": {
        "id": "jarJ7073rpu2"
      },
      "execution_count": null,
      "outputs": []
    },
    {
      "cell_type": "code",
      "source": [
        "# original network\n",
        "n_embd = 10 # the dimensionality of the character embedding vectors\n",
        "n_hidden = 86 # the number of neurons in the hidden layer of the MLP\n",
        "\n",
        "# model = Sequential([\n",
        "#   Embedding(vocab_size, n_embd),\n",
        "#   FlattenConsecutive(block_size), Linear(n_embd * block_size, n_hidden, bias=False), BatchNorm1d(n_hidden), Tanh(),\n",
        "#   Linear(n_hidden, vocab_size),\n",
        "# ])\n",
        "\n",
        "# hierarchical network\n",
        "# n_embd = 24 # the dimensionality of the character embedding vectors\n",
        "# n_hidden = 128 # the number of neurons in the hidden layer of the MLP\n",
        "model = Sequential([\n",
        "  Embedding(vocab_size, n_embd),\n",
        "  FlattenConsecutive(2), Linear(n_embd * 2, n_hidden, bias=False), BatchNorm1d(n_hidden), Tanh(),\n",
        "  FlattenConsecutive(2), Linear(n_hidden*2, n_hidden, bias=False), BatchNorm1d(n_hidden), Tanh(),\n",
        "  FlattenConsecutive(2), Linear(n_hidden*2, n_hidden, bias=False), BatchNorm1d(n_hidden), Tanh(),\n",
        "  Linear(n_hidden, vocab_size),\n",
        "])\n",
        "\n",
        "# parameter init\n",
        "with torch.no_grad():\n",
        "  model.layers[-1].weight *= 0.1 # last layer make less confident\n",
        "\n",
        "parameters = model.parameters()\n",
        "print(sum(p.nelement() for p in parameters)) # number of parameters in total\n",
        "for p in parameters:\n",
        "  p.requires_grad = True"
      ],
      "metadata": {
        "colab": {
          "base_uri": "https://localhost:8080/"
        },
        "id": "8jSaW5UQrs7h",
        "outputId": "48b94069-fc0e-4127-862a-c84cd71e63ff"
      },
      "execution_count": null,
      "outputs": [
        {
          "output_type": "stream",
          "name": "stdout",
          "text": [
            "34439\n"
          ]
        }
      ]
    },
    {
      "cell_type": "markdown",
      "source": [
        "# Full Training (block size 3)"
      ],
      "metadata": {
        "id": "LCS1_6eQr1yR"
      }
    },
    {
      "cell_type": "code",
      "source": [
        "# same optimization as last time\n",
        "max_steps = 200000\n",
        "batch_size = 32\n",
        "lossi = []\n",
        "\n",
        "for i in range(max_steps):\n",
        "\n",
        "  # minibatch construct\n",
        "  ix = torch.randint(0, Xtr.shape[0], (batch_size,))\n",
        "  Xb, Yb = Xtr[ix], Ytr[ix] # batch X,Y\n",
        "\n",
        "  # forward pass\n",
        "  logits = model(Xb)\n",
        "  loss = F.cross_entropy(logits, Yb) # loss function\n",
        "\n",
        "  # backward pass\n",
        "  for p in parameters:\n",
        "    p.grad = None\n",
        "  loss.backward()\n",
        "\n",
        "  # update: simple SGD\n",
        "  lr = 0.1 if i < 150000 else 0.01 # step learning rate decay\n",
        "  for p in parameters:\n",
        "    p.data += -lr * p.grad\n",
        "\n",
        "  # track stats\n",
        "  if i % 10000 == 0: # print every once in a while\n",
        "    print(f'{i:7d}/{max_steps:7d}: {loss.item():.4f}')\n",
        "  lossi.append(loss.log10().item())"
      ],
      "metadata": {
        "colab": {
          "base_uri": "https://localhost:8080/"
        },
        "id": "d0FL2XjPr4XT",
        "outputId": "f7564587-cdaa-4f5c-a187-f43103b23bd8"
      },
      "execution_count": null,
      "outputs": [
        {
          "output_type": "stream",
          "name": "stdout",
          "text": [
            "      0/ 200000: 3.2911\n",
            "  10000/ 200000: 2.0472\n",
            "  20000/ 200000: 1.9437\n",
            "  30000/ 200000: 2.3802\n",
            "  40000/ 200000: 2.4372\n",
            "  50000/ 200000: 1.8244\n",
            "  60000/ 200000: 2.0982\n",
            "  70000/ 200000: 2.1178\n",
            "  80000/ 200000: 2.1619\n",
            "  90000/ 200000: 2.1643\n",
            " 100000/ 200000: 2.1339\n",
            " 110000/ 200000: 2.1713\n",
            " 120000/ 200000: 2.3686\n",
            " 130000/ 200000: 1.8889\n",
            " 140000/ 200000: 2.8263\n",
            " 150000/ 200000: 2.4014\n",
            " 160000/ 200000: 1.7611\n",
            " 170000/ 200000: 1.9562\n",
            " 180000/ 200000: 2.3484\n",
            " 190000/ 200000: 2.4407\n"
          ]
        }
      ]
    },
    {
      "cell_type": "markdown",
      "source": [
        "# Aside: Fix our noisy graph\n"
      ],
      "metadata": {
        "id": "TL3jZDFMvS2j"
      }
    },
    {
      "cell_type": "code",
      "source": [
        "plt.plot(lossi)"
      ],
      "metadata": {
        "colab": {
          "base_uri": "https://localhost:8080/",
          "height": 448
        },
        "id": "k7_GPfvXxWPj",
        "outputId": "cf1ade77-025a-431b-a26a-87f5228c8096"
      },
      "execution_count": null,
      "outputs": [
        {
          "output_type": "execute_result",
          "data": {
            "text/plain": [
              "[<matplotlib.lines.Line2D at 0x7eea51754a00>]"
            ]
          },
          "metadata": {},
          "execution_count": 51
        },
        {
          "output_type": "display_data",
          "data": {
            "text/plain": [
              "<Figure size 640x480 with 1 Axes>"
            ],
            "image/png": "[encoded data removed]"
          },
          "metadata": {}
        }
      ]
    },
    {
      "cell_type": "code",
      "source": [
        "# now to improve previous near-useless noisy graph\n",
        "torch.arange(10)"
      ],
      "metadata": {
        "colab": {
          "base_uri": "https://localhost:8080/"
        },
        "id": "B7tqFeEtwjW3",
        "outputId": "5cbae3ac-3b8b-40d8-c71e-4d86eb017d3c"
      },
      "execution_count": null,
      "outputs": [
        {
          "output_type": "execute_result",
          "data": {
            "text/plain": [
              "tensor([0, 1, 2, 3, 4, 5, 6, 7, 8, 9])"
            ]
          },
          "metadata": {},
          "execution_count": 44
        }
      ]
    },
    {
      "cell_type": "code",
      "source": [
        "torch.arange(10).view(2,5)"
      ],
      "metadata": {
        "colab": {
          "base_uri": "https://localhost:8080/"
        },
        "id": "8FzacOC8w5Vk",
        "outputId": "70c448d6-9c9d-418f-bb8b-5a3d3f8c461b"
      },
      "execution_count": null,
      "outputs": [
        {
          "output_type": "execute_result",
          "data": {
            "text/plain": [
              "tensor([[0, 1, 2, 3, 4],\n",
              "        [5, 6, 7, 8, 9]])"
            ]
          },
          "metadata": {},
          "execution_count": 45
        }
      ]
    },
    {
      "cell_type": "code",
      "source": [
        "torch.arange(10).view(2,-1)"
      ],
      "metadata": {
        "colab": {
          "base_uri": "https://localhost:8080/"
        },
        "id": "68bDmkOIw8zn",
        "outputId": "01e09c49-e180-4e47-bc0e-36e25aa0aad1"
      },
      "execution_count": null,
      "outputs": [
        {
          "output_type": "execute_result",
          "data": {
            "text/plain": [
              "tensor([[0, 1, 2, 3, 4],\n",
              "        [5, 6, 7, 8, 9]])"
            ]
          },
          "metadata": {},
          "execution_count": 46
        }
      ]
    },
    {
      "cell_type": "code",
      "source": [
        "torch.tensor(lossi).shape"
      ],
      "metadata": {
        "colab": {
          "base_uri": "https://localhost:8080/"
        },
        "id": "7ip9O-8LxC13",
        "outputId": "6042a327-e10a-4fda-8c57-3223aad95a75"
      },
      "execution_count": null,
      "outputs": [
        {
          "output_type": "execute_result",
          "data": {
            "text/plain": [
              "torch.Size([200000])"
            ]
          },
          "metadata": {},
          "execution_count": 47
        }
      ]
    },
    {
      "cell_type": "code",
      "source": [
        "torch.tensor(lossi).view(-1,1000).shape"
      ],
      "metadata": {
        "colab": {
          "base_uri": "https://localhost:8080/"
        },
        "id": "WAXa7jj2xGJS",
        "outputId": "ecff4a1b-f504-4959-81b7-bff01d9e774a"
      },
      "execution_count": null,
      "outputs": [
        {
          "output_type": "execute_result",
          "data": {
            "text/plain": [
              "torch.Size([200, 1000])"
            ]
          },
          "metadata": {},
          "execution_count": 49
        }
      ]
    },
    {
      "cell_type": "code",
      "source": [
        "torch.tensor(lossi).view(-1, 1000).mean(1)"
      ],
      "metadata": {
        "colab": {
          "base_uri": "https://localhost:8080/"
        },
        "id": "-cgUA0NMxN4o",
        "outputId": "97ab0d31-82c6-4140-fd06-15a53f43ac5f"
      },
      "execution_count": null,
      "outputs": [
        {
          "output_type": "execute_result",
          "data": {
            "text/plain": [
              "tensor([0.4025, 0.3816, 0.3732, 0.3690, 0.3647, 0.3612, 0.3627, 0.3594, 0.3592,\n",
              "        0.3576, 0.3550, 0.3531, 0.3552, 0.3493, 0.3515, 0.3498, 0.3523, 0.3497,\n",
              "        0.3490, 0.3480, 0.3467, 0.3482, 0.3459, 0.3465, 0.3449, 0.3422, 0.3449,\n",
              "        0.3442, 0.3421, 0.3438, 0.3445, 0.3412, 0.3410, 0.3421, 0.3437, 0.3414,\n",
              "        0.3417, 0.3397, 0.3393, 0.3415, 0.3417, 0.3406, 0.3401, 0.3385, 0.3362,\n",
              "        0.3397, 0.3405, 0.3379, 0.3352, 0.3369, 0.3396, 0.3404, 0.3379, 0.3361,\n",
              "        0.3379, 0.3364, 0.3346, 0.3387, 0.3339, 0.3348, 0.3391, 0.3375, 0.3343,\n",
              "        0.3365, 0.3382, 0.3333, 0.3371, 0.3361, 0.3339, 0.3378, 0.3355, 0.3356,\n",
              "        0.3367, 0.3337, 0.3357, 0.3341, 0.3344, 0.3345, 0.3371, 0.3324, 0.3360,\n",
              "        0.3327, 0.3348, 0.3358, 0.3336, 0.3337, 0.3363, 0.3319, 0.3338, 0.3331,\n",
              "        0.3333, 0.3345, 0.3326, 0.3329, 0.3350, 0.3303, 0.3331, 0.3309, 0.3337,\n",
              "        0.3337, 0.3373, 0.3321, 0.3309, 0.3324, 0.3312, 0.3321, 0.3315, 0.3335,\n",
              "        0.3338, 0.3340, 0.3325, 0.3336, 0.3319, 0.3340, 0.3313, 0.3302, 0.3318,\n",
              "        0.3308, 0.3327, 0.3312, 0.3315, 0.3319, 0.3341, 0.3316, 0.3306, 0.3333,\n",
              "        0.3343, 0.3298, 0.3322, 0.3278, 0.3293, 0.3318, 0.3336, 0.3313, 0.3290,\n",
              "        0.3326, 0.3317, 0.3305, 0.3308, 0.3329, 0.3319, 0.3291, 0.3292, 0.3309,\n",
              "        0.3307, 0.3300, 0.3306, 0.3328, 0.3335, 0.3288, 0.3205, 0.3161, 0.3159,\n",
              "        0.3169, 0.3163, 0.3169, 0.3153, 0.3135, 0.3144, 0.3117, 0.3157, 0.3132,\n",
              "        0.3130, 0.3136, 0.3179, 0.3153, 0.3168, 0.3129, 0.3152, 0.3135, 0.3156,\n",
              "        0.3145, 0.3126, 0.3146, 0.3135, 0.3162, 0.3135, 0.3149, 0.3151, 0.3145,\n",
              "        0.3162, 0.3123, 0.3154, 0.3135, 0.3121, 0.3127, 0.3125, 0.3129, 0.3138,\n",
              "        0.3141, 0.3129, 0.3145, 0.3155, 0.3104, 0.3136, 0.3155, 0.3136, 0.3153,\n",
              "        0.3119, 0.3135])"
            ]
          },
          "metadata": {},
          "execution_count": 50
        }
      ]
    },
    {
      "cell_type": "code",
      "source": [
        "plt.plot(torch.tensor(lossi).view(-1, 1000).mean(1))"
      ],
      "metadata": {
        "colab": {
          "base_uri": "https://localhost:8080/",
          "height": 448
        },
        "id": "bE6BecERvVx7",
        "outputId": "00b655ad-a726-4954-a079-80b78ebcc77b"
      },
      "execution_count": null,
      "outputs": [
        {
          "output_type": "execute_result",
          "data": {
            "text/plain": [
              "[<matplotlib.lines.Line2D at 0x7eeb17bb5c90>]"
            ]
          },
          "metadata": {},
          "execution_count": 38
        },
        {
          "output_type": "display_data",
          "data": {
            "text/plain": [
              "<Figure size 640x480 with 1 Axes>"
            ],
            "image/png": "[encoded data removed]"
          },
          "metadata": {}
        }
      ]
    },
    {
      "cell_type": "markdown",
      "source": [
        "# Evaluate the loss"
      ],
      "metadata": {
        "id": "yPDtRtmhxlca"
      }
    },
    {
      "cell_type": "code",
      "source": [
        "plt.plot(torch.tensor(lossi).view(-1, 1000).mean(1))"
      ],
      "metadata": {
        "colab": {
          "base_uri": "https://localhost:8080/",
          "height": 448
        },
        "id": "pqz4NjuyxozX",
        "outputId": "ad6c02c8-945f-43a7-9150-1c1bd9be1b30"
      },
      "execution_count": null,
      "outputs": [
        {
          "output_type": "execute_result",
          "data": {
            "text/plain": [
              "[<matplotlib.lines.Line2D at 0x7eea50f4eef0>]"
            ]
          },
          "metadata": {},
          "execution_count": 52
        },
        {
          "output_type": "display_data",
          "data": {
            "text/plain": [
              "<Figure size 640x480 with 1 Axes>"
            ],
            "image/png": "[encoded data removed]"
          },
          "metadata": {}
        }
      ]
    },
    {
      "cell_type": "code",
      "source": [
        "# put layers into eval mode (needed for batchnorm especially)\n",
        "for layer in model.layers:\n",
        "  layer.training = False"
      ],
      "metadata": {
        "id": "zqsaVjoWvZdC"
      },
      "execution_count": null,
      "outputs": []
    },
    {
      "cell_type": "code",
      "source": [
        "# evaluate the loss\n",
        "@torch.no_grad() # this decorator disables gradient tracking inside pytorch\n",
        "def split_loss(split):\n",
        "  x,y = {\n",
        "    'train': (Xtr, Ytr),\n",
        "    'val': (Xdev, Ydev),\n",
        "    'test': (Xte, Yte),\n",
        "  }[split]\n",
        "  logits = model(x)\n",
        "  loss = F.cross_entropy(logits, y)\n",
        "  print(split, loss.item())\n",
        "\n",
        "split_loss('train')\n",
        "split_loss('val')"
      ],
      "metadata": {
        "colab": {
          "base_uri": "https://localhost:8080/"
        },
        "id": "s5TcKC7Jvcwj",
        "outputId": "704372f6-0aef-41f7-8150-8a89b644fd3a"
      },
      "execution_count": null,
      "outputs": [
        {
          "output_type": "stream",
          "name": "stdout",
          "text": [
            "train 2.0431485176086426\n",
            "val 2.096590757369995\n"
          ]
        }
      ]
    },
    {
      "cell_type": "markdown",
      "source": [
        "# Sample from the model"
      ],
      "metadata": {
        "id": "5RLA7QyhvyzX"
      }
    },
    {
      "cell_type": "code",
      "source": [
        "# sample from the model\n",
        "for _ in range(20):\n",
        "\n",
        "    out = []\n",
        "    context = [0] * block_size # initialize with all ...\n",
        "    while True:\n",
        "      # forward pass the neural net\n",
        "      logits = model(torch.tensor([context]))\n",
        "      probs = F.softmax(logits, dim=1)\n",
        "      # sample from the distribution\n",
        "      ix = torch.multinomial(probs, num_samples=1).item()\n",
        "      # shift the context window and track the samples\n",
        "      context = context[1:] + [ix]\n",
        "      out.append(ix)\n",
        "      # if we sample the special '.' token, break\n",
        "      if ix == 0:\n",
        "        break\n",
        "\n",
        "    print(''.join(itos[i] for i in out)) # decode and print the generated word"
      ],
      "metadata": {
        "colab": {
          "base_uri": "https://localhost:8080/"
        },
        "id": "Zc4lHG5Pvx2w",
        "outputId": "5632dae8-2dd3-4516-d4bc-b6cfcf5494d0"
      },
      "execution_count": null,
      "outputs": [
        {
          "output_type": "stream",
          "name": "stdout",
          "text": [
            "incolette.\n",
            "kyliah.\n",
            "bristonai.\n",
            "edbeilyah.\n",
            "myliaan.\n",
            "adhi.\n",
            "dechermi.\n",
            "jordynte.\n",
            "jayden.\n",
            "roce.\n",
            "dizelle.\n",
            "den.\n",
            "odonica.\n",
            "kowancy.\n",
            "ze.\n",
            "sha.\n",
            "she.\n",
            "elynn.\n",
            "chara.\n",
            "ceon.\n"
          ]
        }
      ]
    },
    {
      "cell_type": "markdown",
      "source": [
        "# Expanding the model"
      ],
      "metadata": {
        "id": "pvCGe2h68Akn"
      }
    },
    {
      "cell_type": "markdown",
      "source": [
        "## Update Embedding Layer\n",
        "\n",
        "### 1. **Current Model State**:\n",
        "The current model has training and validation losses that are close to each other. This suggests that the model isn't overfitting. In such cases, a common approach to improve performance is to expand the model: increase its capacity by adding more neurons or layers.\n",
        "\n",
        "### 2. **Problem with Current Architecture**:\n",
        "Right now, the model takes in a sequence of characters, processes them through a single layer, and predicts the next character. This is somewhat akin to trying to understand a sentence by reading all its words at once. While you can add more layers, you're still compressing all the information at the very beginning, which might be suboptimal.\n",
        "\n",
        "### 3. **Inspiration from WaveNet**:\n",
        "WaveNet offers a different approach. Instead of compressing all characters at once, it processes the input in a hierarchical manner. Imagine trying to understand a sentence not word by word, but by understanding two words at a time, then four words, then eight, and so on. This allows the model to capture relationships and patterns at different scales.\n",
        "\n",
        "### 4. **Progressive Fusion**:\n",
        "The key idea is to combine (or \"fuse\") input data progressively. Start by combining pairs of characters (bigrams). Then, combine pairs of bigrams to form four-character chunks, and so on. This slow fusion ensures that the model has a more refined understanding of the input data at various levels of granularity.\n",
        "\n",
        "### 5. **Dilated Causal Convolutions**:\n",
        "While it sounds complex, the core idea is about efficiency and preserving information. In standard convolutions, each layer can only see a limited portion of the input. By using dilated convolutions, each layer can see a wider range of input, allowing the model to capture longer-term dependencies without needing extremely deep architectures. The \"causal\" part ensures that the prediction at any time step is only based on past and current data, not future data.\n",
        "\n",
        "### Conclusion:\n",
        "In essence, the lecturer is suggesting moving from a simplistic model that quickly compresses input information to a more sophisticated architecture that understands the input in a layered and hierarchical manner. This approach, inspired by WaveNet, allows the model to capture patterns and relationships at different scales, potentially leading to better performance. The implementation details, like dilated causal convolutions, are there to ensure efficiency and respect the temporal nature of the data."
      ],
      "metadata": {
        "id": "BDrhOSWT8HeT"
      }
    },
    {
      "cell_type": "markdown",
      "source": [
        "# Layer inspector tool"
      ],
      "metadata": {
        "id": "I4xXQMka4PAE"
      }
    },
    {
      "cell_type": "code",
      "source": [
        "for layer in model.layers:\n",
        "  print(layer.__class__.__name__, ':', tuple(layer.out.shape) )\n"
      ],
      "metadata": {
        "colab": {
          "base_uri": "https://localhost:8080/"
        },
        "id": "hSYBW1c831YG",
        "outputId": "73bbba6b-ce91-405e-ec7c-0a67e8347aee"
      },
      "execution_count": null,
      "outputs": [
        {
          "output_type": "stream",
          "name": "stdout",
          "text": [
            "Embedding : (32, 8, 10)\n",
            "FlattenConsecutive : (32, 80)\n",
            "Linear : (32, 300)\n",
            "BatchNorm1d : (32, 300)\n",
            "Tanh : (32, 300)\n",
            "Linear : (32, 27)\n"
          ]
        }
      ]
    },
    {
      "cell_type": "code",
      "source": [
        "# same optimization as last time\n",
        "max_steps = 200000\n",
        "batch_size = 32\n",
        "lossi = []\n",
        "\n",
        "for i in range(max_steps):\n",
        "\n",
        "  # minibatch construct\n",
        "  ix = torch.randint(0, Xtr.shape[0], (batch_size,))\n",
        "  Xb, Yb = Xtr[ix], Ytr[ix] # batch X,Y\n",
        "\n",
        "  # forward pass\n",
        "  logits = model(Xb)\n",
        "  loss = F.cross_entropy(logits, Yb) # loss function\n",
        "\n",
        "  # backward pass\n",
        "  for p in parameters:\n",
        "    p.grad = None\n",
        "  loss.backward()\n",
        "\n",
        "  # update: simple SGD\n",
        "  lr = 0.1 if i < 150000 else 0.01 # step learning rate decay\n",
        "  for p in parameters:\n",
        "    p.data += -lr * p.grad\n",
        "\n",
        "  # track stats\n",
        "  if i % 10000 == 0: # print every once in a while\n",
        "    print(f'{i:7d}/{max_steps:7d}: {loss.item():.4f}')\n",
        "  lossi.append(loss.log10().item())\n",
        "\n",
        "  break"
      ],
      "metadata": {
        "colab": {
          "base_uri": "https://localhost:8080/"
        },
        "id": "TMiEKMnw5K0d",
        "outputId": "a4fc8aa9-dc45-4ea3-bb8f-b317874ce040"
      },
      "execution_count": null,
      "outputs": [
        {
          "output_type": "stream",
          "name": "stdout",
          "text": [
            "      0/ 200000: 3.3032\n"
          ]
        }
      ]
    },
    {
      "cell_type": "code",
      "source": [
        "for layer in model.layers:\n",
        "  print(layer.__class__.__name__, ':', tuple(layer.out.shape) )"
      ],
      "metadata": {
        "colab": {
          "base_uri": "https://localhost:8080/"
        },
        "id": "9GPcQCP75rYm",
        "outputId": "701ea09a-e511-4865-bb13-657bbf0d71a8"
      },
      "execution_count": null,
      "outputs": [
        {
          "output_type": "stream",
          "name": "stdout",
          "text": [
            "Embedding : (32, 8, 10)\n",
            "FlattenConsecutive : (32, 4, 20)\n",
            "Linear : (32, 4, 300)\n",
            "BatchNorm1d : (32, 4, 300)\n",
            "Tanh : (32, 4, 300)\n",
            "FlattenConsecutive : (32, 2, 600)\n",
            "Linear : (32, 2, 300)\n",
            "BatchNorm1d : (32, 2, 300)\n",
            "Tanh : (32, 2, 300)\n",
            "FlattenConsecutive : (32, 600)\n",
            "Linear : (32, 300)\n",
            "BatchNorm1d : (32, 300)\n",
            "Tanh : (32, 300)\n",
            "Linear : (32, 27)\n"
          ]
        }
      ]
    },
    {
      "cell_type": "markdown",
      "source": [
        "# Full Training with block size 8"
      ],
      "metadata": {
        "id": "UdIw_uGaHEzh"
      }
    },
    {
      "cell_type": "code",
      "source": [
        "# same optimization as last time\n",
        "max_steps = 200000\n",
        "batch_size = 32\n",
        "lossi = []\n",
        "\n",
        "for i in range(max_steps):\n",
        "\n",
        "  # minibatch construct\n",
        "  ix = torch.randint(0, Xtr.shape[0], (batch_size,))\n",
        "  Xb, Yb = Xtr[ix], Ytr[ix] # batch X,Y\n",
        "\n",
        "  # forward pass\n",
        "  logits = model(Xb)\n",
        "  loss = F.cross_entropy(logits, Yb) # loss function\n",
        "\n",
        "  # backward pass\n",
        "  for p in parameters:\n",
        "    p.grad = None\n",
        "  loss.backward()\n",
        "\n",
        "  # update: simple SGD\n",
        "  lr = 0.1 if i < 150000 else 0.01 # step learning rate decay\n",
        "  for p in parameters:\n",
        "    p.data += -lr * p.grad\n",
        "\n",
        "  # track stats\n",
        "  if i % 10000 == 0: # print every once in a while\n",
        "    print(f'{i:7d}/{max_steps:7d}: {loss.item():.4f}')\n",
        "  lossi.append(loss.log10().item())"
      ],
      "metadata": {
        "colab": {
          "base_uri": "https://localhost:8080/"
        },
        "id": "1nfXzbC9Hy3z",
        "outputId": "af1989a7-3f4f-4d99-d0b4-b53e08705930"
      },
      "execution_count": null,
      "outputs": [
        {
          "output_type": "stream",
          "name": "stdout",
          "text": [
            "      0/ 200000: 3.3005\n",
            "  10000/ 200000: 2.2621\n",
            "  20000/ 200000: 1.6759\n",
            "  30000/ 200000: 2.1167\n",
            "  40000/ 200000: 1.7575\n",
            "  50000/ 200000: 2.0973\n",
            "  60000/ 200000: 2.3095\n",
            "  70000/ 200000: 1.9639\n",
            "  80000/ 200000: 1.6569\n",
            "  90000/ 200000: 2.3567\n",
            " 100000/ 200000: 1.9784\n",
            " 110000/ 200000: 1.7420\n",
            " 120000/ 200000: 1.6916\n",
            " 130000/ 200000: 2.2580\n",
            " 140000/ 200000: 1.9683\n",
            " 150000/ 200000: 1.8872\n",
            " 160000/ 200000: 1.5089\n",
            " 170000/ 200000: 1.9284\n",
            " 180000/ 200000: 1.7699\n",
            " 190000/ 200000: 1.5594\n"
          ]
        }
      ]
    },
    {
      "cell_type": "code",
      "source": [
        "for layer in model.layers:\n",
        "  layer.training = False"
      ],
      "metadata": {
        "id": "GfiXg7L1H3sl"
      },
      "execution_count": null,
      "outputs": []
    },
    {
      "cell_type": "code",
      "source": [
        "plt.plot(torch.tensor(lossi).view(-1, 1000).mean(1))"
      ],
      "metadata": {
        "colab": {
          "base_uri": "https://localhost:8080/",
          "height": 452
        },
        "id": "VPU85wFZH7rU",
        "outputId": "10825c67-3dec-4684-9f44-6840c5186ca4"
      },
      "execution_count": null,
      "outputs": [
        {
          "output_type": "execute_result",
          "data": {
            "text/plain": [
              "[<matplotlib.lines.Line2D at 0x7eea455e52d0>]"
            ]
          },
          "metadata": {},
          "execution_count": 111
        },
        {
          "output_type": "display_data",
          "data": {
            "text/plain": [
              "<Figure size 640x480 with 1 Axes>"
            ],
            "image/png": "[encoded data removed]"
          },
          "metadata": {}
        }
      ]
    },
    {
      "cell_type": "code",
      "source": [
        "# evaluate the loss\n",
        "@torch.no_grad() # this decorator disables gradient tracking inside pytorch\n",
        "def split_loss(split):\n",
        "  x,y = {\n",
        "    'train': (Xtr, Ytr),\n",
        "    'val': (Xdev, Ydev),\n",
        "    'test': (Xte, Yte),\n",
        "  }[split]\n",
        "  logits = model(x)\n",
        "  loss = F.cross_entropy(logits, y)\n",
        "  print(split, loss.item())\n",
        "\n",
        "split_loss('train')\n",
        "split_loss('val')"
      ],
      "metadata": {
        "colab": {
          "base_uri": "https://localhost:8080/"
        },
        "id": "73XexxaxIAs_",
        "outputId": "d0a0068a-a5b0-4f6e-b8ae-d53baa2f70ad"
      },
      "execution_count": null,
      "outputs": [
        {
          "output_type": "stream",
          "name": "stdout",
          "text": [
            "train 1.8679423332214355\n",
            "val 2.008166551589966\n"
          ]
        }
      ]
    },
    {
      "cell_type": "code",
      "source": [
        "# sample from the model\n",
        "for _ in range(20):\n",
        "\n",
        "    out = []\n",
        "    context = [0] * block_size # initialize with all ...\n",
        "    while True:\n",
        "      # forward pass the neural net\n",
        "      logits = model(torch.tensor([context]))\n",
        "      probs = F.softmax(logits, dim=1)\n",
        "      # sample from the distribution\n",
        "      ix = torch.multinomial(probs, num_samples=1).item()\n",
        "      # shift the context window and track the samples\n",
        "      context = context[1:] + [ix]\n",
        "      out.append(ix)\n",
        "      # if we sample the special '.' token, break\n",
        "      if ix == 0:\n",
        "        break\n",
        "\n",
        "    print(''.join(itos[i] for i in out)) # decode and print the generated word"
      ],
      "metadata": {
        "colab": {
          "base_uri": "https://localhost:8080/"
        },
        "id": "c6_BZe0GIEEW",
        "outputId": "b7af65f4-40eb-4dd5-b008-cdcd300eadaa"
      },
      "execution_count": null,
      "outputs": [
        {
          "output_type": "stream",
          "name": "stdout",
          "text": [
            "luselta.\n",
            "ralin.\n",
            "gahlyah.\n",
            "shahire.\n",
            "zinson.\n",
            "jayleah.\n",
            "makerin.\n",
            "sofely.\n",
            "dora.\n",
            "wyeli.\n",
            "lamaah.\n",
            "perlynn.\n",
            "jawell.\n",
            "milie.\n",
            "isabella.\n",
            "cal.\n",
            "lucia.\n",
            "elisiot.\n",
            "xyovalluwaromiloba.\n",
            "aharian.\n"
          ]
        }
      ]
    },
    {
      "cell_type": "markdown",
      "source": [
        "# Glossary\n"
      ],
      "metadata": {
        "id": "ccCD9tvMFDNw"
      }
    },
    {
      "cell_type": "markdown",
      "source": [
        "## Random seeding in the context of PyTorch and neural network training.\n",
        "\n",
        "### 1. **Purpose of Seeding**:\n",
        "In machine learning, especially in neural networks, we often initialize weights and biases randomly. Moreover, when you're dealing with stochastic processes like dropout, sampling, and other random transformations, the behavior can differ from one run to another due to the randomness. By setting a seed for these random operations, we ensure that the randomness is consistent across multiple runs, making experiments reproducible.\n",
        "\n",
        "### 2. **torch.manual_seed() vs. torch.Generator()**:\n",
        "\n",
        "- **torch.manual_seed(seed)**:\n",
        "  This sets the seed for the default global generator in PyTorch. Every time you call a function that involves randomness without specifying a generator, it uses the global generator. When you set a manual seed, you're setting the seed for this global generator. It's a straightforward way to ensure consistent randomness throughout your program.\n",
        "\n",
        "- **torch.Generator()**:\n",
        "  This creates an independent random number generator. You can manually set the seed for this generator and use it for specific operations, keeping it separate from the global generator. This is particularly useful when you want different parts of your code to have different random behaviors, but still want each of those behaviors to be reproducible.\n",
        "\n",
        "### 3. **Why not always use torch.manual_seed()?**:\n",
        "In many cases, using `torch.manual_seed()` is sufficient, especially for simpler projects and experiments. However, as your projects grow in complexity, there might be reasons to maintain different seeds:\n",
        "\n",
        "- **Fine-grained Control**: You might want different parts of your code to operate with different seeds. For example, if you're doing multi-task learning with multiple neural networks, you might want to initialize each network with a different seed, but still want each initialization to be reproducible.\n",
        "  \n",
        "- **Parallelism**: When running operations in parallel, having separate generators can prevent potential synchronization issues and ensure that each parallel operation is consistent across runs.\n",
        "\n",
        "- **Isolation**: By using different generators for different parts of your code, you can change one part of your code without affecting the randomness in another part.\n",
        "\n",
        "### Conclusion:\n",
        "While `torch.manual_seed()` is a quick and effective method for most use cases, as your projects become more complex, you might find situations where the granularity and control offered by `torch.Generator()` become necessary. Knowing when and how to use each method appropriately can make your experiments more organized and your results more reliable."
      ],
      "metadata": {
        "id": "EwuMtfrRGSVY"
      }
    },
    {
      "cell_type": "markdown",
      "source": [
        "## High-level hierarchical view of PyTorch API\n",
        "\n",
        "The PyTorch API is extensive, but I'll provide a high-level hierarchical view of its core components, which should give you a roadmap for diving deeper:\n",
        "\n",
        "1. **Tensors**\n",
        "    - Core data structure in PyTorch, similar to NumPy arrays but with GPU support.\n",
        "    - `torch.Tensor` class and its various methods.\n",
        "    - Creation: `torch.empty()`, `torch.rand()`, `torch.zeros()`, `torch.ones()`, `torch.tensor()`, etc.\n",
        "    - Operations: Mathematical, Reduction, Comparison, Matrix, etc.\n",
        "    - Indexing, Slicing, Joining, Mutating ops: `torch.cat()`, `torch.stack()`, etc.\n",
        "\n",
        "2. **Autograd**\n",
        "    - Automatic differentiation library.\n",
        "    - `torch.autograd` module.\n",
        "    - `Variable`: Deprecated, but historically important. All Tensors now have `requires_grad` attribute.\n",
        "    - `Function`: Defines a forward and backward operation. Links to `Variable` to build a computation graph.\n",
        "\n",
        "3. **Neural Networks**\n",
        "    - `torch.nn` module.\n",
        "    - Layers: Pre-defined layers like `nn.Linear`, `nn.Conv2d`, `nn.ReLU`, etc.\n",
        "    - Loss functions: `nn.CrossEntropyLoss`, `nn.MSELoss`, etc.\n",
        "    - Optimizers: Located in `torch.optim`, e.g., `optim.Adam`, `optim.SGD`.\n",
        "    - Utilities: `nn.functional` for stateless functions like activation functions.\n",
        "    - `nn.Module`: Base class for all neural network modules, aiding in organizing code and parameters.\n",
        "    - `nn.Sequential`: A sequential container for stacking layers.\n",
        "\n",
        "4. **Utilities**\n",
        "    - Tensor transformations: `torchvision.transforms`.\n",
        "    - Data handling for NN training: `torch.utils.data.Dataset`, `torch.utils.data.DataLoader`.\n",
        "\n",
        "5. **Optimization**\n",
        "    - `torch.optim` module.\n",
        "    - Optimization algorithms like SGD, Adam, RMSProp, etc.\n",
        "    - Learning rate schedulers: Adjust LR on-the-fly during training.\n",
        "\n",
        "6. **Serialization**\n",
        "    - Save and load models: `torch.save()`, `torch.load()`, `nn.Module.load_state_dict()`, etc.\n",
        "\n",
        "7. **Distributed Training**\n",
        "    - `torch.distributed`: For multi-GPU and distributed training.\n",
        "    - Backend support for different communication protocols.\n",
        "\n",
        "8. **Other Libraries & Extensions**\n",
        "    - `torchvision`: Datasets, models, and image transformations for computer vision.\n",
        "    - `torchaudio`: Audio processing tools and datasets.\n",
        "    - `torchtext`: NLP data utilities and models.\n",
        "\n",
        "9. **Device & CUDA**\n",
        "    - Tensor operations on different devices: CPU, GPU.\n",
        "    - CUDA Tensors: Tensors transferred to GPU.\n",
        "    - Device management: `torch.cuda`, `torch.device`.\n",
        "\n",
        "10. **JIT Compiler**\n",
        "    - `torch.jit`: Just-In-Time compiler to convert PyTorch models to a representation that can be optimized and run in non-Python environments.\n",
        "\n",
        "11. **Quantization**\n",
        "    - Reduce the size of models and increase runtime performance.\n",
        "    - `torch.quantization`: Contains utilities for model quantization.\n",
        "\n",
        "Start with Tensors and Autograd to get a solid grasp on the basics. Then, you can delve into neural networks with the `torch.nn` module. After mastering these, choose specialized topics based on your interests and needs."
      ],
      "metadata": {
        "id": "vhOOYA2m-xNQ"
      }
    },
    {
      "cell_type": "markdown",
      "source": [
        "## `torch.nn.Embedding`.\n",
        "\n",
        "### 1. **The Concept of Embeddings**:\n",
        "\n",
        "Embeddings are a powerful tool in the world of deep learning, especially when dealing with categorical data, like words in a language. Instead of representing words or other categorical variables as discrete values (like integers), embeddings represent them as continuous vectors. These vectors capture more information and relationships between different words or categories.\n",
        "\n",
        "### 2. **torch.nn.Embedding**:\n",
        "\n",
        "`torch.nn.Embedding` is PyTorch's module to create an embedding layer. Essentially, it's a lookup table that maps from integer indices (representing specific words or categories) to dense vectors (their embeddings).\n",
        "\n",
        "### 3. **Parameters**:\n",
        "\n",
        "- **num_embeddings**: Total number of distinct categories/words.\n",
        "  \n",
        "- **embedding_dim**: The size of each embedding vector, i.e., the number of units each embedding should have.\n",
        "\n",
        "### 4. **Why Use Embeddings?**:\n",
        "\n",
        "- **Dimensionality Reduction**: One-hot encoded vectors can be massive (imagine a vector of length 50,000 for a moderate-sized vocabulary, with all zeros except for a single one). Embeddings condense this information into a much smaller dimension, like 300 for word embeddings.\n",
        "\n",
        "- **Capture Relationships**: Embeddings are learned from data. This means that words or categories that have similar meanings or behaviors can have embeddings that are close to each other in the vector space.\n",
        "\n",
        "- **Flexibility**: Embeddings can be fine-tuned during training. This means that as a model learns a task, it can also adjust the embeddings to capture any task-specific insights.\n",
        "\n",
        "### 5. **Usage**:\n",
        "\n",
        "An embedding layer is typically initialized with random weights and will learn an embedding for all the words in the training dataset. It is a flexible layer that can be used in a variety of ways, such as:\n",
        "\n",
        "- **Pre-trained Embeddings**: Sometimes, embeddings are pre-trained on a larger dataset and then fine-tuned on a specific task. Word2Vec, GloVe, and FastText are popular pre-trained word embeddings.\n",
        "\n",
        "- **Task-specific Embeddings**: For some tasks, it might be beneficial to let the embedding layer learn embeddings from scratch, tailored to the specific task.\n",
        "\n",
        "### 6. **Under the Hood**:\n",
        "\n",
        "At its core, an embedding layer is a weight matrix. The rows of this matrix correspond to each category's unique ID (like a word's ID), and the columns correspond to the embedding dimensions. When you \"pass\" an integer to this layer, it returns the corresponding row of the weight matrix. This operation is essentially a lookup, making it efficient.\n",
        "\n",
        "### Conclusion:\n",
        "\n",
        "`torch.nn.Embedding` provides an efficient and straightforward way to handle categorical data in neural networks. By converting discrete categorical values into continuous vectors, embeddings enable models to capture intricate relationships in the data and improve performance on a variety of tasks."
      ],
      "metadata": {
        "id": "tKefTByj0Pbn"
      }
    },
    {
      "cell_type": "markdown",
      "source": [
        "## `torch.nn.Flatten`.\n",
        "\n",
        "### 1. **The Basic Idea**:\n",
        "\n",
        "When working with neural networks, especially convolutional neural networks (CNNs), we often deal with multi-dimensional data (like images). After passing this data through several convolutional and pooling layers, we often want to use the resulting multi-dimensional feature maps in fully connected layers (dense layers). However, fully connected layers expect a 1D input. Here's where `torch.nn.Flatten` comes in: it's used to transform multi-dimensional data into a one-dimensional format.\n",
        "\n",
        "### 2. **torch.nn.Flatten**:\n",
        "\n",
        "`torch.nn.Flatten` is a layer provided by PyTorch that reshapes its input into a one-dimensional tensor. It's effectively a 'flattening' operation.\n",
        "\n",
        "### 3. **Parameters**:\n",
        "\n",
        "- **start_dim**: Dimension to start the flattening. Typically, for a batch of images, the data shape might be `[batch_size, channels, height, width]`. If we want to flatten the channel, height, and width dimensions, we'd start the flattening from dimension 1 (0-based indexing for dimensions). By default, `start_dim` is 1.\n",
        "\n",
        "- **end_dim**: Dimension to end the flattening. By default, it's -1, meaning it will flatten all dimensions from `start_dim` to the last dimension.\n",
        "\n",
        "### 4. **Why Use Flatten?**:\n",
        "\n",
        "- **Transitioning in Architectures**: It's common in CNNs to have convolutional layers followed by dense layers. The flatten layer acts as a bridge between these two, reshaping the output of the convolutional layers to a format that dense layers can work with.\n",
        "\n",
        "- **Simplicity**: Instead of manually reshaping tensors using `.view()` or `.reshape()`, `torch.nn.Flatten` provides a more readable and explicit way to flatten data within a model architecture.\n",
        "\n",
        "### 5. **Usage**:\n",
        "\n",
        "Imagine you have a batch of images with the shape `[batch_size, channels, height, width]`. After passing them through convolutional layers, you might get a shape like `[batch_size, 64, 7, 7]`. Before sending this to a fully connected layer, you'd use the flatten layer:\n",
        "\n",
        "```python\n",
        "flat_layer = torch.nn.Flatten()\n",
        "flattened_data = flat_layer(conv_output)\n",
        "```\n",
        "\n",
        "Now, `flattened_data` will have a shape `[batch_size, 64*7*7]`, ready to be passed to a fully connected layer.\n",
        "\n",
        "### 6. **In Context**:\n",
        "\n",
        "If you're familiar with other deep learning frameworks, you might recognize this as similar to TensorFlow's `tf.keras.layers.Flatten` or Keras's `Flatten` layer. It's a staple in the toolkit of designing deep learning architectures.\n",
        "\n",
        "### Conclusion:\n",
        "\n",
        "`torch.nn.Flatten` is a utility layer in PyTorch that streamlines the process of converting multi-dimensional tensors into a one-dimensional format, easing the transition from convolutional layers to fully connected layers in neural network architectures. It's a straightforward yet crucial component for many deep learning models, particularly CNNs."
      ],
      "metadata": {
        "id": "aGnObIlB4Tz4"
      }
    },
    {
      "cell_type": "markdown",
      "source": [
        "## `torch.nn.Sequential`.\n",
        "\n",
        "### 1. **The Basic Idea**:\n",
        "\n",
        "When building neural networks, we often create architectures that involve a series of layers or operations that process data in a specific order. `torch.nn.Sequential` is a container provided by PyTorch that allows us to encapsulate a sequence of modules or operations into a single module, streamlining both the definition and execution of such sequences.\n",
        "\n",
        "### 2. **torch.nn.Sequential**:\n",
        "\n",
        "At its core, `torch.nn.Sequential` is essentially an ordered container of modules. Data passed to a `Sequential` module will traverse through each contained module in the order they were added, with the output of one module becoming the input to the next.\n",
        "\n",
        "### 3. **Advantages**:\n",
        "\n",
        "- **Readability**: Architectures, especially simpler ones, become more readable and compact. Instead of defining and calling layers separately, you can consolidate them into a single `Sequential` block.\n",
        "  \n",
        "- **Modularity**: It allows for easy reuse of certain sequences of operations across different architectures. If a specific sequence of layers gets used frequently, encapsulating it within a `Sequential` block makes it easier to plug into various models.\n",
        "\n",
        "### 4. **Usage**:\n",
        "\n",
        "Suppose you're designing a simple feedforward neural network with two hidden layers and ReLU activations:\n",
        "\n",
        "Without `Sequential`:\n",
        "```python\n",
        "self.fc1 = torch.nn.Linear(input_size, hidden_size)\n",
        "self.relu1 = torch.nn.ReLU()\n",
        "self.fc2 = torch.nn.Linear(hidden_size, hidden_size)\n",
        "self.relu2 = torch.nn.ReLU()\n",
        "self.fc3 = torch.nn.Linear(hidden_size, output_size)\n",
        "```\n",
        "With `Sequential`:\n",
        "```python\n",
        "self.layers = torch.nn.Sequential(\n",
        "    torch.nn.Linear(input_size, hidden_size),\n",
        "    torch.nn.ReLU(),\n",
        "    torch.nn.Linear(hidden_size, hidden_size),\n",
        "    torch.nn.ReLU(),\n",
        "    torch.nn.Linear(hidden_size, output_size)\n",
        ")\n",
        "```\n",
        "\n",
        "The latter is clearly more concise and readable.\n",
        "\n",
        "### 5. **Points to Remember**:\n",
        "\n",
        "- While `Sequential` is convenient, it's most suited for networks where the data flow is linear. For architectures with branches (like skip connections in ResNets) or multiple inputs/outputs, manual layer definition might be more appropriate.\n",
        "\n",
        "- Modules in `Sequential` are executed in the order they're added, making the order crucial. Always ensure that layers are added in the intended sequence.\n",
        "\n",
        "### 6. **In Context**:\n",
        "\n",
        "If you're familiar with other deep learning frameworks, the concept might remind you of Keras's `Sequential` model. The idea of simplifying linear stacks of layers is a common one across various deep learning libraries, given its convenience.\n",
        "\n",
        "### Conclusion:\n",
        "\n",
        "`torch.nn.Sequential` is a convenient tool in the PyTorch library that helps in compactly defining and organizing linear sequences of operations in neural network architectures. While incredibly useful for straightforward, linear data flows, it's essential to remember its limitations when dealing with more complex architectures."
      ],
      "metadata": {
        "id": "bu90Xe5L43im"
      }
    },
    {
      "cell_type": "markdown",
      "source": [
        "## `torch.squeeze`\n",
        "\n",
        "The `torch.squeeze` function removes dimensions of size 1 from a tensor. It's particularly useful when certain operations introduce unwanted singleton dimensions, and you want to revert back to a more compact shape.\n",
        "\n",
        "**Function signature**:\n",
        "```python\n",
        "torch.squeeze(input, dim=None, *, out=None)\n",
        "```\n",
        "\n",
        "- `input` (Tensor): The input tensor.\n",
        "- `dim` (int, optional): Specifies which dimension to squeeze. If not specified, all dimensions of size 1 will be squeezed.\n",
        "- `out` (Tensor, optional): The output tensor.\n",
        "\n",
        "### **Examples**:\n",
        "\n",
        "1. **Squeezing all dimensions of size 1**:\n",
        "\n",
        "```python\n",
        "import torch\n",
        "\n",
        "# A tensor with shape [1, 3, 1, 2]\n",
        "x = torch.tensor([[[[1, 2]], [[3, 4]], [[5, 6]]]])\n",
        "print(x.shape)  # torch.Size([1, 3, 1, 2])\n",
        "\n",
        "y = torch.squeeze(x)\n",
        "print(y.shape)  # torch.Size([3, 2])\n",
        "```\n",
        "\n",
        "Here, `torch.squeeze` removed the first and third dimensions, both of size 1.\n",
        "\n",
        "2. **Squeezing a specific dimension**:\n",
        "\n",
        "If you only want to squeeze a specific dimension, you can specify it using the `dim` argument.\n",
        "\n",
        "```python\n",
        "z = torch.squeeze(x, dim=0)\n",
        "print(z.shape)  # torch.Size([3, 1, 2])\n",
        "```\n",
        "\n",
        "In this case, only the first dimension of size 1 was squeezed.\n",
        "\n",
        "3. **A tensor with no dimensions of size 1**:\n",
        "\n",
        "```python\n",
        "a = torch.tensor([[1, 2], [3, 4]])\n",
        "print(a.shape)  # torch.Size([2, 2])\n",
        "\n",
        "b = torch.squeeze(a)\n",
        "print(b.shape)  # torch.Size([2, 2])\n",
        "```\n",
        "\n",
        "As there were no dimensions of size 1, `torch.squeeze` had no effect on the tensor's shape.\n",
        "\n",
        "### **Note**:\n",
        "\n",
        "Be cautious when using `torch.squeeze` without specifying a dimension. In some cases, especially when your tensor might sometimes have singleton dimensions due to variable data sizes (e.g., batch size of 1 in deep learning models), unintended squeezing might lead to shape mismatches or other errors in subsequent operations."
      ],
      "metadata": {
        "id": "lNXIDOdJ7lPe"
      }
    },
    {
      "cell_type": "markdown",
      "source": [
        "## `torch.randint`\n",
        "\n",
        "### 1. **torch.randint**:\n",
        "\n",
        "`torch.randint` is a PyTorch function that returns a tensor filled with random integers generated uniformly between two specified integer values (low and high).\n",
        "\n",
        "The function signature is:\n",
        "```python\n",
        "torch.randint(low=0, high, size, *, dtype=None, layout=torch.strided, device=None, requires_grad=False)\n",
        "```\n",
        "\n",
        "- `low` (int, optional): Lowest integer to be drawn from the distribution. Default: 0.\n",
        "- `high` (int): One above the highest integer to be drawn from the distribution.\n",
        "- `size` (tuple): The shape of the output tensor.\n",
        "- Additional arguments like `dtype`, `device`, and `requires_grad` allow you to further specify the nature of the returned tensor.\n",
        "\n",
        "### 2. **Given Line**:\n",
        "\n",
        "This would produce a 1D tensor with 4 random integer values in the specified range.\n",
        "\n",
        "This line aims to generate a tensor of random integer values between 0 (inclusive) and `Xtr.shape[0]` (exclusive).\n",
        "\n",
        "```python\n",
        "ix = torch.randint(0, Xtr.shape[0], (4,))\n",
        "```"
      ],
      "metadata": {
        "id": "aiUSExB-2yKF"
      }
    },
    {
      "cell_type": "markdown",
      "source": [
        "## Convolutional Neural Network (CNN) in simple terms\n",
        "\n",
        "Imagine you're trying to identify objects in a large photograph, but instead of looking at the entire picture all at once, you use a small magnifying glass to focus on specific parts of the picture one at a time. As you move the magnifying glass over the picture, you notice different features: maybe the edge of a building, the curve of a car, or the pattern of a shirt.\n",
        "\n",
        "A Convolutional Neural Network (CNN) operates in a similar manner when processing images. Instead of analyzing the entire image in one go, it uses \"filters\" (akin to our magnifying glass) to scan through the image and detect specific features. These features could be edges, textures, colors, and more.\n",
        "\n",
        "As the CNN processes the image through multiple layers:\n",
        "1. **Early layers** might recognize simple patterns like lines and edges.\n",
        "2. **Middle layers** might recognize more complex structures, like shapes or specific textures.\n",
        "3. **Deeper layers** might recognize high-level features, such as a human face or a dog.\n",
        "\n",
        "To continue with our analogy, after examining the entire photograph using the magnifying glass, you would then combine all the features you've noticed to determine what the entire image represents. Similarly, after detecting various features in an image, a CNN combines them in its later layers to determine the object in the image (e.g., \"This is a picture of a cat\").\n",
        "\n",
        "In summary, a CNN processes images by scanning them for features using filters and then combines these features in sophisticated ways to make decisions about what the image contains. This structure makes CNNs particularly good at understanding visual data.\n"
      ],
      "metadata": {
        "id": "LZrKS1ubyXlI"
      }
    }
  ]
}