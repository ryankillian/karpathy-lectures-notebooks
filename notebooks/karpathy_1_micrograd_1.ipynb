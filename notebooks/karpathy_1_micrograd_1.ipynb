{
  "nbformat": 4,
  "nbformat_minor": 0,
  "metadata": {
    "colab": {
      "provenance": [],
      "toc_visible": true
    },
    "kernelspec": {
      "name": "python3",
      "display_name": "Python 3"
    },
    "language_info": {
      "name": "python"
    }
  },
  "cells": [
    {
      "cell_type": "markdown",
      "source": [
        "# Introduction"
      ],
      "metadata": {
        "id": "mbEIBwbmFKAa"
      }
    },
    {
      "cell_type": "markdown",
      "source": [
        "## Introductory Text for Colab Notebook\n",
        "\n",
        "In this notebook, we delve into the foundational concepts of neural networks, following Andrej Karpathy's lecture titled \"The spelled-out intro to neural networks and backpropagation: building micrograd.\" By dissecting neural networks into their core mathematical components and operations, we aim to demystify their inner workings and build a fundamental understanding of how they are trained. The main concepts covered are:\n",
        "\n",
        "1. **Micrograd Overview**: An introduction to the Micrograd library, which serves as an \"autograd\" engine to efficiently evaluate the gradient of a loss function concerning a neural network's weights.\n",
        "  \n",
        "2. **Neural Networks as Mathematical Expressions**: A deep dive into the realization that neural networks are just structured mathematical expressions with a focus on backpropagation as a general concept.\n",
        "\n",
        "3. **Understanding Derivatives**: A foundational explanation of derivatives, providing a conceptual understanding of their significance in neural network training.\n",
        "\n",
        "4. **Backward Function & Topological Sort**: Understanding the importance of topological sorting in backpropagation and implementing a backward function for an entire expression graph.\n",
        "\n",
        "5. **Building a Neural Network in Micrograd**: From constructing individual neurons to building a multi-layer perceptron (MLP), this segment details the process of creating a neural network from the ground up.\n",
        "\n",
        "6. **Gradient Descent Optimization**: A comprehensive look at the optimization technique vital for training neural networks, detailing its process, challenges, and its real-world implementation in frameworks like PyTorch.\n"
      ],
      "metadata": {
        "id": "QYYAXo-UFNBB"
      }
    },
    {
      "cell_type": "markdown",
      "source": [
        "## Summary of transcript\n",
        "\n",
        "**Introduction**\n",
        "- The lecturer, Andrej, introduces the topic of deep neural networks and explains that he will provide an in-depth look at what happens under the hood during neural network training.\n",
        "\n",
        "**Micrograd Overview**\n",
        "- Micrograd is a library released by Andre on GitHub.\n",
        "- It's an autograd engine, with \"autograd\" meaning \"automatic gradient\".\n",
        "- The primary purpose of Micrograd is to implement backpropagation, which allows for the efficient evaluation of the gradient of a loss function concerning a neural network's weights.\n",
        "- Modern deep neural network libraries, like PyTorch and Jaxx, rely on backpropagation.\n",
        "- Andrej provides an illustrative example, demonstrating how Micrograd can build mathematical expressions. The library can perform operations like addition, multiplication, power, division, etc.\n",
        "- Micrograd can also perform a backward pass, which initiates backpropagation. This helps in evaluating the derivative of the output concerning various internal nodes and inputs.\n",
        "\n",
        "**Neural Networks as Mathematical Expressions**\n",
        "- Andrej emphasizes that neural networks are just mathematical expressions. While the example provided earlier was arbitrary, neural networks are more structured yet based on the same foundational concepts.\n",
        "- Backpropagation is a general concept and doesn't just apply to neural networks.\n",
        "- Andrej mentions that Micrograd works on scalar values, which is not efficient for production but is pedagogically useful.\n",
        "\n",
        "**Simplicity of Micrograd**\n",
        "- Micrograd's core engine consists of just 100 lines of Python code.\n",
        "- The neural network library built on top of Micrograd is also very concise, focusing on the essential concepts of neurons, layers, and multi-layer perceptrons.\n",
        "\n",
        "**Understanding Derivatives**\n",
        "- Andrej delves into the fundamental concept of derivatives, using a simple function as an example.\n",
        "- He explains the definition of a derivative and shows how to compute it numerically for a scalar function.\n",
        "- The slope of the function at various points is discussed, providing an intuitive understanding of the derivative's meaning.\n",
        "\n",
        "**Derivative of a Function with Multiple Inputs**\n",
        "- The lecture progresses to a more complex case where the function has multiple inputs.\n",
        "- Andrej demonstrates how to compute the derivative of the function concerning each input and interprets the results.\n",
        "\n",
        "**Closing Remarks**\n",
        "- The lecture aims to provide foundational knowledge before diving into neural networks.\n",
        "\n",
        "---\n",
        "\n",
        "The lecturer provided a comprehensive exploration of how automatic differentiation works in deep learning. Here's a summary of the key points:\n",
        "\n",
        "1. **Value Object**: The core of the system is a 'Value' object that contains a scalar value. This object serves as the foundation for building mathematical expressions.\n",
        "  \n",
        "2. **Mathematical Expressions**: Neural networks can be thought of as large mathematical expressions. These expressions are built using various operations like addition and multiplication.\n",
        "\n",
        "3. **Operator Overloading**: Python's magic methods (e.g., `__add__`, `__mul__`) are used to define how Value objects should be combined using basic arithmetic operations. This is the essence of operator overloading.\n",
        "\n",
        "4. **Constructing Expressions**: By using these overloaded operations, complex mathematical expressions can be built from Value objects.\n",
        "\n",
        "5. **Expression Graph**: As the mathematical expressions are constructed, a graph is built in the background. This graph captures the relationships between Value objects and the operations that produce them.\n",
        "\n",
        "6. **Visualizing the Graph**: A visualization tool displays the expression graph, helping to visually understand the flow of computations.\n",
        "\n",
        "7. **Backpropagation**: The core of training neural networks. Starting from the end of the graph, the gradient (or derivative) is propagated backward. This gradient indicates how much a small change in a Value object would affect the final output.\n",
        "\n",
        "8. **Chain Rule**: A fundamental calculus principle used during backpropagation. It allows the computation of derivatives through function compositions. If a variable \\( z \\) depends on \\( y \\), which depends on \\( x \\), then the derivative of \\( z \\) with respect to \\( x \\) can be computed by chaining the derivatives together.\n",
        "\n",
        "9. **Gradient Computation**: Using the chain rule, the gradient of the output with respect to each Value object in the graph is computed. This gradient indicates how sensitive the output is to a change in that Value.\n",
        "\n",
        "10. **Gradient Verification**: After computing the gradients, they are verified using a numerical approach. By slightly perturbing each Value and observing the change in the output, the computed gradient can be cross-checked.\n",
        "\n",
        "The lecture emphasized the importance of understanding backpropagation and the chain rule in neural network training. By manually implementing and visualizing these concepts, one gains a deeper appreciation for the intricate dance of operations that allow neural networks to learn from data.\n",
        "\n",
        "---\n",
        "\n",
        "**Preview of a Single Optimization Step**\n",
        "- The goal is to nudge inputs to increase the value of \\( l \\).\n",
        "- For optimization, inputs such as \\( a \\), \\( b \\), \\( c \\), and \\( f \\) should increase in the direction of the gradient by a small step amount. This is known as the step size.\n",
        "- By nudging all values in the direction of the gradient, the expectation is that \\( l \\) will become less negative.\n",
        "\n",
        "**Manual Backpropagation Example #2: A Neuron**\n",
        "- A neuron in the context of neural networks is discussed. Neurons have inputs (\\( x \\)) and weights (\\( w \\)) associated with synapses.\n",
        "- The neuron also has a bias, which can make it more or less \"trigger happy.\"\n",
        "- The output of the neuron is the activation function applied to the dot product of the weights and the inputs.\n",
        "- The tanh function is used as an example activation function. It squashes its input values between -1 and 1.\n",
        "\n",
        "**Implementing Backward Function for Operations**\n",
        "- Instead of doing backpropagation manually, the backward function is introduced to automate the process.\n",
        "- The backward function uses the chain rule from calculus to propagate gradients backward in the computation graph.\n",
        "- For addition, the gradient simply flows to both inputs equally.\n",
        "- For multiplication, the gradient of one input is the value of the other input multiplied by the gradient of the output.\n",
        "- For the tanh function, the gradient is \\( 1 - \\text{{tanh}}^2(x) \\).\n",
        "\n",
        "**Backpropagation Through a Neuron Example**\n",
        "- An example neuron is set up, taking two inputs, \\( x1 \\) and \\( x2 \\), and two weights, \\( w1 \\) and \\( w2 \\).\n",
        "- Backpropagation is performed by calling the backward function on each node in the computation graph.\n",
        "- This process propagates the gradient from the output of the neuron back to its inputs and weights.\n",
        "- Using the backward function automates the gradient computation and makes backpropagation easier to manage.\n",
        "\n",
        "In summary, this lecture segment provided a deep dive into the mechanics of backpropagation, starting with the intuition of nudging inputs to optimize a value, followed by the manual backpropagation process for a neuron, and then introducing a more automated approach using the backward function.\n",
        "\n",
        "---\n",
        "\n",
        "### Summary\n",
        "\n",
        "## Backward Function and Topological Sort\n",
        "\n",
        "- The lecturer discussed the need to implement a backward function for an entire expression graph.\n",
        "- The process involves going backward through a mathematical expression to ensure that the backward function of a node is called only after all its subsequent nodes have been processed.\n",
        "- This ordering can be achieved using a technique called topological sort. In topological sort, all edges of a graph are directed from left to right.\n",
        "  \n",
        "## Building a Topological Graph\n",
        "\n",
        "- A topological graph is built by maintaining a set of visited nodes.\n",
        "- Starting from a root node, the function checks if a node has been visited. If not, it marks it as visited and then iterates through all of its children.\n",
        "- A node is only added to the topological list after all of its children have been processed.\n",
        "  \n",
        "## Backpropagation Implementation\n",
        "\n",
        "- The process starts by setting the gradient of the output node to 1.\n",
        "- Next, the topological order of nodes is built.\n",
        "- Nodes are processed in reverse order, ensuring that each node's backward function is called only after its children.\n",
        "  \n",
        "## Addressing Backpropagation Bugs\n",
        "\n",
        "- A potential bug arises when a node is used multiple times in computations.\n",
        "- The gradients should accumulate (using +=) rather than being overwritten.\n",
        "  \n",
        "## Implementing Additional Operations\n",
        "\n",
        "- To create more complex computations, operations like exponentiation, addition, subtraction, and division were added.\n",
        "- The lecturer demonstrated how to achieve operations like division by using a combination of multiplication and the power function.\n",
        "  \n",
        "## PyTorch Comparison\n",
        "\n",
        "- PyTorch, a modern deep learning library, offers a similar approach but at a more efficient scale.\n",
        "- In PyTorch, computations are done using tensors (n-dimensional arrays).\n",
        "- Tensors in PyTorch have `data` and `grad` attributes, similar to the custom implementation.\n",
        "- Operations on tensors in PyTorch are more efficient due to parallel processing capabilities.\n",
        "\n",
        "In conclusion, the lecturer demonstrated the principles of backpropagation, the importance of topological sorting in the process, and provided a practical implementation using a custom solution and compared it with PyTorch.\n",
        "\n",
        "---\n",
        "\n",
        "**Building a Neural Network Library in Micrograd**\n",
        "\n",
        "1. **Introduction to Neural Networks in Micrograd**\n",
        "   - Neural networks are specialized mathematical expressions.\n",
        "   - The goal is to build a two-layer multi-layer perceptron (MLP).\n",
        "   \n",
        "2. **Constructing a Single Neuron**\n",
        "   - Started with an individual neuron implementation.\n",
        "   - Adopted PyTorch API design for neural network modules.\n",
        "   - The neuron has inputs and associated weights. It also has a bias that influences its activation.\n",
        "   - The neuron's functionality is essentially a dot product of its inputs and weights, added to its bias.\n",
        "\n",
        "3. **Constructing a Layer of Neurons**\n",
        "   - A layer consists of multiple neurons.\n",
        "   - Each neuron in a layer is fully connected to the input but not to other neurons in the same layer.\n",
        "   - Implemented a layer as a list of neurons.\n",
        "\n",
        "4. **Building a Multi-Layer Perceptron (MLP)**\n",
        "   - An MLP has multiple layers, with each layer feeding into the next.\n",
        "   - Defined the MLP using lists of layers, where each layer contains a set of neurons.\n",
        "   - The MLP takes in a sequence of inputs and produces outputs by passing through its layers sequentially.\n",
        "\n",
        "5. **Loss Calculation for Neural Networks**\n",
        "   - Created a simple dataset with four examples to evaluate the neural network.\n",
        "   - Implemented a loss function (Mean Squared Error) to measure the performance of the network.\n",
        "   - The goal is to minimize the loss, indicating that the network's predictions are close to the desired targets.\n",
        "\n",
        "6. **Backpropagation and Adjusting Weights**\n",
        "   - After calculating the loss, backpropagation is used to calculate gradients for all parameters in the network.\n",
        "   - These gradients indicate how much each parameter should be adjusted to reduce the loss.\n",
        "   - Visualized the computational graph of the entire MLP using the `draw` function, showcasing the complexity of the forward and backward passes.\n",
        "\n",
        "7. **Gathering All Parameters for Adjustments**\n",
        "   - Added functionality to collect all parameters (weights and biases) of the network into one array.\n",
        "   - This simplifies the process of adjusting all parameters based on their gradients.\n",
        "\n",
        "In summary, the lecture covered the process of building a neural network (specifically an MLP) from scratch using the Micrograd library, defining a loss function, and implementing backpropagation to adjust the network's parameters for better predictions.\n",
        "\n",
        "---\n",
        "\n",
        "**Gradient Descent Optimization and Training Neural Networks**\n",
        "- Neural networks make predictions and have different outcomes and loss values.\n",
        "- Neurons have gradients and values associated with them.\n",
        "- By examining gradients, one can determine how the network should adjust to improve accuracy.\n",
        "- The process involves iterating over every parameter in the neural net and adjusting its data based on the gradient.\n",
        "  \n",
        "**Understanding Gradient Descent**\n",
        "- The gradient is viewed as a vector pointing towards increased loss.\n",
        "- To minimize the loss, the gradient's direction is reversed (hence the negative sign).\n",
        "- Adjustments are made using a step size multiplied by the gradient.\n",
        "- If the step size is too large, the optimization can overshoot and cause instability.\n",
        "  \n",
        "**Optimization Process**\n",
        "- The process involves a forward pass to calculate predictions, followed by a backward pass to compute gradients.\n",
        "- After obtaining the gradients, parameters are updated.\n",
        "- This cycle continues until the network's predictions are satisfactory or converge.\n",
        "\n",
        "**Challenges in Neural Network Training**\n",
        "- Setting the right learning rate or step size is crucial. Too small, and convergence is slow; too large, and the model may become unstable.\n",
        "- Proper initialization and gradient reset are essential to avoid accumulated errors or bugs.\n",
        "  \n",
        "**Summary of Neural Networks**\n",
        "- Neural networks are mathematical expressions taking in data and weights, processing through forward passes, and comparing outputs to desired targets using a loss function.\n",
        "- The goal is to minimize this loss, which indicates the network's accuracy.\n",
        "- This optimization process, known as gradient descent, adjusts parameters iteratively to reduce the loss.\n",
        "  \n",
        "**Diving into Real-Life Frameworks: PyTorch**\n",
        "- In real-world frameworks like PyTorch, the implementation is more complex.\n",
        "- PyTorch's architecture supports CPU and GPU operations.\n",
        "- Adding custom functions requires defining both forward and backward passes.\n",
        "  \n",
        "**Conclusion**\n",
        "- The process of training a neural network involves understanding and adjusting gradients to minimize loss.\n",
        "- While simple neural networks can be trained manually, real-world applications using frameworks like PyTorch offer more flexibility and power but come with added complexity.\n",
        "\n",
        "\n",
        "\n",
        "\n",
        "\n",
        "\n"
      ],
      "metadata": {
        "id": "npEt_icR8MgG"
      }
    },
    {
      "cell_type": "markdown",
      "source": [
        "# The Value Object"
      ],
      "metadata": {
        "id": "Y-HSJ3lDF5mo"
      }
    },
    {
      "cell_type": "code",
      "source": [
        "import math\n",
        "import numpy as np\n",
        "import matplotlib.pyplot as plt\n",
        "%matplotlib inline"
      ],
      "metadata": {
        "id": "sZX1-Kxq63Um"
      },
      "execution_count": null,
      "outputs": []
    },
    {
      "cell_type": "code",
      "source": [
        "def f(x):\n",
        "  return 3*x**2 - 4*x + 5"
      ],
      "metadata": {
        "id": "4pvIcp6U66h_"
      },
      "execution_count": null,
      "outputs": []
    },
    {
      "cell_type": "code",
      "source": [
        "f(3.0)"
      ],
      "metadata": {
        "colab": {
          "base_uri": "https://localhost:8080/"
        },
        "id": "3ljgRh_c69oG",
        "outputId": "db4dda1e-b350-473d-f75d-48e7c4c08bb6"
      },
      "execution_count": null,
      "outputs": [
        {
          "output_type": "execute_result",
          "data": {
            "text/plain": [
              "20.0"
            ]
          },
          "metadata": {},
          "execution_count": 3
        }
      ]
    },
    {
      "cell_type": "code",
      "source": [
        "xs = np.arange(-5, 5, 0.25)\n",
        "ys = f(xs)\n",
        "plt.plot(xs, ys)"
      ],
      "metadata": {
        "colab": {
          "base_uri": "https://localhost:8080/",
          "height": 448
        },
        "id": "ihximj42BbPX",
        "outputId": "677decc0-613e-4634-b99e-17cd6a265118"
      },
      "execution_count": null,
      "outputs": [
        {
          "output_type": "execute_result",
          "data": {
            "text/plain": [
              "[<matplotlib.lines.Line2D at 0x7b4efc865c90>]"
            ]
          },
          "metadata": {},
          "execution_count": 6
        },
        {
          "output_type": "display_data",
          "data": {
            "text/plain": [
              "<Figure size 640x480 with 1 Axes>"
            ],
            "image/png": "[encoded data removed]"
          },
          "metadata": {}
        }
      ]
    },
    {
      "cell_type": "markdown",
      "source": [
        "Yes, the expression\n",
        "\n",
        "$$\n",
        "\\frac{f(x+h) - f(x)}{h}\n",
        "$$\n",
        "\n",
        "is known as the **difference quotient**. It represents the average rate of change of the function \\( f \\) over the interval \\( h \\).\n",
        "\n",
        "The derivative of \\( f \\) at a point \\( x \\) is defined as the limit of this difference quotient as \\( h \\) approaches 0:\n",
        "\n",
        "$$\n",
        "f'(x) = \\lim_{{h \\to 0}} \\frac{f(x+h) - f(x)}{h}\n",
        "$$\n",
        "\n",
        "When you take this limit, you're finding the instantaneous rate of change of \\( f \\) at the point \\( x \\), which is the slope of the tangent line to the curve of \\( f \\) at that point. If the limit exists, then \\( f \\) is said to be differentiable at \\( x \\), and the value of the limit is the derivative of \\( f \\) at \\( x \\)."
      ],
      "metadata": {
        "id": "EZDDb0uUDp98"
      }
    },
    {
      "cell_type": "code",
      "source": [
        "h = 0.0001\n",
        "x = 3\n",
        "(f(x+h) - f(x))/h"
      ],
      "metadata": {
        "colab": {
          "base_uri": "https://localhost:8080/"
        },
        "id": "rgJSN47KCp6s",
        "outputId": "b9db2ab3-947e-4742-bd74-356afab1a24f"
      },
      "execution_count": null,
      "outputs": [
        {
          "output_type": "execute_result",
          "data": {
            "text/plain": [
              "8.000300000023941"
            ]
          },
          "metadata": {},
          "execution_count": 11
        }
      ]
    },
    {
      "cell_type": "markdown",
      "source": [
        "A few examples to improve differential intuition"
      ],
      "metadata": {
        "id": "89zZFA_PMjy8"
      }
    },
    {
      "cell_type": "code",
      "source": [
        "# les get more complex\n",
        "a = 2.0\n",
        "b = -3.0\n",
        "c = 10.0\n",
        "d = a*b + c\n",
        "print(d)"
      ],
      "metadata": {
        "colab": {
          "base_uri": "https://localhost:8080/"
        },
        "id": "mfdP6tMfFF2n",
        "outputId": "3eae6d09-4b85-4767-dd68-eae3d1751ede"
      },
      "execution_count": null,
      "outputs": [
        {
          "output_type": "stream",
          "name": "stdout",
          "text": [
            "4.0\n"
          ]
        }
      ]
    },
    {
      "cell_type": "code",
      "source": [
        "h = 0.0001\n",
        "\n",
        "# inputs\n",
        "a = 2.0\n",
        "b = -3.0\n",
        "c = 10.0\n",
        "\n",
        "d1 = a*b + c\n",
        "a += h\n",
        "d2 = a*b + c\n",
        "\n",
        "print('d1', d1)\n",
        "print('d2', d2)\n",
        "print('slope', (d2 - d1)/h)"
      ],
      "metadata": {
        "colab": {
          "base_uri": "https://localhost:8080/"
        },
        "id": "yLEXpae_FHU2",
        "outputId": "36321ed4-b765-40a1-9a52-aa889ce7d39a"
      },
      "execution_count": null,
      "outputs": [
        {
          "output_type": "stream",
          "name": "stdout",
          "text": [
            "d1 4.0\n",
            "d2 3.999699999999999\n",
            "slope -3.000000000010772\n"
          ]
        }
      ]
    },
    {
      "cell_type": "code",
      "source": [
        "h = 0.0001\n",
        "\n",
        "# inputs\n",
        "a = 2.0\n",
        "b = -3.0\n",
        "c = 10.0\n",
        "\n",
        "d1 = a*b + c\n",
        "b += h\n",
        "d2 = a*b + c\n",
        "\n",
        "print('d1', d1)\n",
        "print('d2', d2)\n",
        "print('slope', (d2 - d1)/h)"
      ],
      "metadata": {
        "colab": {
          "base_uri": "https://localhost:8080/"
        },
        "id": "gVFhpvWtLV2N",
        "outputId": "50a2b46f-0f5c-46b6-ba2c-a7325e65c284"
      },
      "execution_count": null,
      "outputs": [
        {
          "output_type": "stream",
          "name": "stdout",
          "text": [
            "d1 4.0\n",
            "d2 4.0002\n",
            "slope 2.0000000000042206\n"
          ]
        }
      ]
    },
    {
      "cell_type": "code",
      "source": [
        "h = 0.0001\n",
        "\n",
        "# inputs\n",
        "a = 2.0\n",
        "b = -3.0\n",
        "c = 10.0\n",
        "\n",
        "d1 = a*b + c\n",
        "c += h\n",
        "d2 = a*b + c\n",
        "\n",
        "print('d1', d1)\n",
        "print('d2', d2)\n",
        "print('slope', (d2 - d1)/h)"
      ],
      "metadata": {
        "colab": {
          "base_uri": "https://localhost:8080/"
        },
        "id": "5mh4RVU6LdyB",
        "outputId": "c09dfc6a-0272-48d7-94f2-2f0962326cf8"
      },
      "execution_count": null,
      "outputs": [
        {
          "output_type": "stream",
          "name": "stdout",
          "text": [
            "d1 4.0\n",
            "d2 4.0001\n",
            "slope 0.9999999999976694\n"
          ]
        }
      ]
    },
    {
      "cell_type": "markdown",
      "source": [
        "Graph drawing function"
      ],
      "metadata": {
        "id": "-vMuayYqM4Kf"
      }
    },
    {
      "cell_type": "code",
      "source": [
        "from graphviz import Digraph\n",
        "\n",
        "def trace(root):\n",
        "  # builds a set of all nodes and edges in a graph\n",
        "  nodes, edges = set(), set()\n",
        "  def build(v):\n",
        "    if v not in nodes:\n",
        "      nodes.add(v)\n",
        "      for child in v._prev:\n",
        "        edges.add((child, v))\n",
        "        build(child)\n",
        "  build(root)\n",
        "  return nodes, edges\n",
        "\n",
        "def draw_dot(root):\n",
        "  dot = Digraph(format='svg', graph_attr={'rankdir': 'LR'}) # LR = left to right\n",
        "\n",
        "  nodes, edges = trace(root)\n",
        "  for n in nodes:\n",
        "    uid = str(id(n))\n",
        "    # for any value in the graph, create a rectangular ('record') node for it\n",
        "    dot.node(name = uid, label = \"{ %s | data %.4f | grad %.4f }\" % (n.label, n.data, n.grad), shape='record')\n",
        "    if n._op:\n",
        "      # if this value is a result of some operation, create an op node for it\n",
        "      dot.node(name = uid + n._op, label = n._op)\n",
        "      # and connect this node to it\n",
        "      dot.edge(uid + n._op, uid)\n",
        "\n",
        "  for n1, n2 in edges:\n",
        "    # connect n1 to the op node of n2\n",
        "    dot.edge(str(id(n1)), str(id(n2)) + n2._op)\n",
        "\n",
        "  return dot"
      ],
      "metadata": {
        "id": "6L29ME3qM2E3"
      },
      "execution_count": null,
      "outputs": []
    },
    {
      "cell_type": "markdown",
      "source": [
        "Start to build up Value class"
      ],
      "metadata": {
        "id": "VQN183thPOqn"
      }
    },
    {
      "cell_type": "code",
      "source": [
        "class Value:\n",
        "\n",
        "  def __init__(self, data, _children=(), _op='', label=''):\n",
        "    self.data = data\n",
        "    self._prev = set(_children)\n",
        "    self._op = _op\n",
        "    self.label = label\n",
        "    self.grad = 0.0\n",
        "\n",
        "  def __repr__(self):\n",
        "    return f\"Value(data={self.data})\"\n",
        "\n",
        "  def __add__(self, other):\n",
        "    out = Value(self.data + other.data, (self, other), '+')\n",
        "    return out\n",
        "\n",
        "  def __mul__(self, other):\n",
        "    out = Value(self.data * other.data, (self, other), '*')\n",
        "    return out\n",
        "\n",
        "\n",
        "a = Value(2.0, label='a')\n",
        "b = Value(-3.0, label='b')\n",
        "c = Value(10.0, label='c')\n",
        "e = a*b; e.label = 'e'\n",
        "d = e + c; d.label = 'd'\n",
        "f = Value(-2.0, label='f')\n",
        "L = d * f; L.label = 'L'\n",
        "L"
      ],
      "metadata": {
        "colab": {
          "base_uri": "https://localhost:8080/"
        },
        "id": "sg0po611Mv_V",
        "outputId": "53128e22-9970-4aa5-d3c5-bcb6cbbc49eb"
      },
      "execution_count": null,
      "outputs": [
        {
          "output_type": "execute_result",
          "data": {
            "text/plain": [
              "Value(data=-8.0)"
            ]
          },
          "metadata": {},
          "execution_count": 9
        }
      ]
    },
    {
      "cell_type": "code",
      "source": [
        "draw_dot(d)"
      ],
      "metadata": {
        "colab": {
          "base_uri": "https://localhost:8080/",
          "height": 192
        },
        "id": "MA_nPktlPUJa",
        "outputId": "f8df9a14-00e4-4e54-e4b7-d08d06fb8b5e"
      },
      "execution_count": null,
      "outputs": [
        {
          "output_type": "execute_result",
          "data": {
            "image/svg+xml": "<?xml version=\"1.0\" encoding=\"UTF-8\" standalone=\"no\"?>\n<!DOCTYPE svg PUBLIC \"-//W3C//DTD SVG 1.1//EN\"\n \"http://www.w3.org/Graphics/SVG/1.1/DTD/svg11.dtd\">\n<!-- Generated by graphviz version 2.43.0 (0)\n -->\n<!-- Title: %3 Pages: 1 -->\n<svg width=\"827pt\" height=\"128pt\"\n viewBox=\"0.00 0.00 827.00 128.00\" xmlns=\"http://www.w3.org/2000/svg\" xmlns:xlink=\"http://www.w3.org/1999/xlink\">\n<g id=\"graph0\" class=\"graph\" transform=\"scale(1 1) rotate(0) translate(4 124)\">\n<title>%3</title>\n<polygon fill=\"white\" stroke=\"transparent\" points=\"-4,4 -4,-124 823,-124 823,4 -4,4\"/>\n<!-- 134189884465184 -->\n<g id=\"node1\" class=\"node\">\n<title>134189884465184</title>\n<polygon fill=\"none\" stroke=\"black\" points=\"2.5,-83.5 2.5,-119.5 187.5,-119.5 187.5,-83.5 2.5,-83.5\"/>\n<text text-anchor=\"middle\" x=\"14\" y=\"-97.8\" font-family=\"Times,serif\" font-size=\"14.00\">a</text>\n<polyline fill=\"none\" stroke=\"black\" points=\"25.5,-83.5 25.5,-119.5 \"/>\n<text text-anchor=\"middle\" x=\"65.5\" y=\"-97.8\" font-family=\"Times,serif\" font-size=\"14.00\">data 2.0000</text>\n<polyline fill=\"none\" stroke=\"black\" points=\"105.5,-83.5 105.5,-119.5 \"/>\n<text text-anchor=\"middle\" x=\"146.5\" y=\"-97.8\" font-family=\"Times,serif\" font-size=\"14.00\">grad 0.0000</text>\n</g>\n<!-- 134189884471184* -->\n<g id=\"node3\" class=\"node\">\n<title>134189884471184*</title>\n<ellipse fill=\"none\" stroke=\"black\" cx=\"253\" cy=\"-73.5\" rx=\"27\" ry=\"18\"/>\n<text text-anchor=\"middle\" x=\"253\" y=\"-69.8\" font-family=\"Times,serif\" font-size=\"14.00\">*</text>\n</g>\n<!-- 134189884465184&#45;&gt;134189884471184* -->\n<g id=\"edge3\" class=\"edge\">\n<title>134189884465184&#45;&gt;134189884471184*</title>\n<path fill=\"none\" stroke=\"black\" d=\"M187.65,-85.05C197.94,-83.2 207.91,-81.41 216.81,-79.82\"/>\n<polygon fill=\"black\" stroke=\"black\" points=\"217.48,-83.25 226.71,-78.04 216.25,-76.36 217.48,-83.25\"/>\n</g>\n<!-- 134189884471184 -->\n<g id=\"node2\" class=\"node\">\n<title>134189884471184</title>\n<polygon fill=\"none\" stroke=\"black\" points=\"317,-55.5 317,-91.5 507,-91.5 507,-55.5 317,-55.5\"/>\n<text text-anchor=\"middle\" x=\"328.5\" y=\"-69.8\" font-family=\"Times,serif\" font-size=\"14.00\">e</text>\n<polyline fill=\"none\" stroke=\"black\" points=\"340,-55.5 340,-91.5 \"/>\n<text text-anchor=\"middle\" x=\"382.5\" y=\"-69.8\" font-family=\"Times,serif\" font-size=\"14.00\">data &#45;6.0000</text>\n<polyline fill=\"none\" stroke=\"black\" points=\"425,-55.5 425,-91.5 \"/>\n<text text-anchor=\"middle\" x=\"466\" y=\"-69.8\" font-family=\"Times,serif\" font-size=\"14.00\">grad 0.0000</text>\n</g>\n<!-- 134189884473296+ -->\n<g id=\"node7\" class=\"node\">\n<title>134189884473296+</title>\n<ellipse fill=\"none\" stroke=\"black\" cx=\"571\" cy=\"-45.5\" rx=\"27\" ry=\"18\"/>\n<text text-anchor=\"middle\" x=\"571\" y=\"-41.8\" font-family=\"Times,serif\" font-size=\"14.00\">+</text>\n</g>\n<!-- 134189884471184&#45;&gt;134189884473296+ -->\n<g id=\"edge5\" class=\"edge\">\n<title>134189884471184&#45;&gt;134189884473296+</title>\n<path fill=\"none\" stroke=\"black\" d=\"M507.05,-56.73C516.89,-54.97 526.39,-53.28 534.9,-51.76\"/>\n<polygon fill=\"black\" stroke=\"black\" points=\"535.52,-55.2 544.75,-50 534.29,-48.31 535.52,-55.2\"/>\n</g>\n<!-- 134189884471184*&#45;&gt;134189884471184 -->\n<g id=\"edge1\" class=\"edge\">\n<title>134189884471184*&#45;&gt;134189884471184</title>\n<path fill=\"none\" stroke=\"black\" d=\"M280.28,-73.5C288.05,-73.5 297.08,-73.5 306.68,-73.5\"/>\n<polygon fill=\"black\" stroke=\"black\" points=\"306.88,-77 316.88,-73.5 306.88,-70 306.88,-77\"/>\n</g>\n<!-- 134189884459952 -->\n<g id=\"node4\" class=\"node\">\n<title>134189884459952</title>\n<polygon fill=\"none\" stroke=\"black\" points=\"316,-0.5 316,-36.5 508,-36.5 508,-0.5 316,-0.5\"/>\n<text text-anchor=\"middle\" x=\"327.5\" y=\"-14.8\" font-family=\"Times,serif\" font-size=\"14.00\">c</text>\n<polyline fill=\"none\" stroke=\"black\" points=\"339,-0.5 339,-36.5 \"/>\n<text text-anchor=\"middle\" x=\"382.5\" y=\"-14.8\" font-family=\"Times,serif\" font-size=\"14.00\">data 10.0000</text>\n<polyline fill=\"none\" stroke=\"black\" points=\"426,-0.5 426,-36.5 \"/>\n<text text-anchor=\"middle\" x=\"467\" y=\"-14.8\" font-family=\"Times,serif\" font-size=\"14.00\">grad 0.0000</text>\n</g>\n<!-- 134189884459952&#45;&gt;134189884473296+ -->\n<g id=\"edge4\" class=\"edge\">\n<title>134189884459952&#45;&gt;134189884473296+</title>\n<path fill=\"none\" stroke=\"black\" d=\"M508.4,-34.91C517.69,-36.5 526.64,-38.04 534.71,-39.43\"/>\n<polygon fill=\"black\" stroke=\"black\" points=\"534.32,-42.91 544.76,-41.16 535.5,-36.02 534.32,-42.91\"/>\n</g>\n<!-- 134189884465088 -->\n<g id=\"node5\" class=\"node\">\n<title>134189884465088</title>\n<polygon fill=\"none\" stroke=\"black\" points=\"0,-28.5 0,-64.5 190,-64.5 190,-28.5 0,-28.5\"/>\n<text text-anchor=\"middle\" x=\"11.5\" y=\"-42.8\" font-family=\"Times,serif\" font-size=\"14.00\">b</text>\n<polyline fill=\"none\" stroke=\"black\" points=\"23,-28.5 23,-64.5 \"/>\n<text text-anchor=\"middle\" x=\"65.5\" y=\"-42.8\" font-family=\"Times,serif\" font-size=\"14.00\">data &#45;3.0000</text>\n<polyline fill=\"none\" stroke=\"black\" points=\"108,-28.5 108,-64.5 \"/>\n<text text-anchor=\"middle\" x=\"149\" y=\"-42.8\" font-family=\"Times,serif\" font-size=\"14.00\">grad 0.0000</text>\n</g>\n<!-- 134189884465088&#45;&gt;134189884471184* -->\n<g id=\"edge6\" class=\"edge\">\n<title>134189884465088&#45;&gt;134189884471184*</title>\n<path fill=\"none\" stroke=\"black\" d=\"M190.34,-62.83C199.62,-64.44 208.58,-65.99 216.66,-67.38\"/>\n<polygon fill=\"black\" stroke=\"black\" points=\"216.27,-70.87 226.72,-69.12 217.46,-63.97 216.27,-70.87\"/>\n</g>\n<!-- 134189884473296 -->\n<g id=\"node6\" class=\"node\">\n<title>134189884473296</title>\n<polygon fill=\"none\" stroke=\"black\" points=\"634,-27.5 634,-63.5 819,-63.5 819,-27.5 634,-27.5\"/>\n<text text-anchor=\"middle\" x=\"645.5\" y=\"-41.8\" font-family=\"Times,serif\" font-size=\"14.00\">d</text>\n<polyline fill=\"none\" stroke=\"black\" points=\"657,-27.5 657,-63.5 \"/>\n<text text-anchor=\"middle\" x=\"697\" y=\"-41.8\" font-family=\"Times,serif\" font-size=\"14.00\">data 4.0000</text>\n<polyline fill=\"none\" stroke=\"black\" points=\"737,-27.5 737,-63.5 \"/>\n<text text-anchor=\"middle\" x=\"778\" y=\"-41.8\" font-family=\"Times,serif\" font-size=\"14.00\">grad 0.0000</text>\n</g>\n<!-- 134189884473296+&#45;&gt;134189884473296 -->\n<g id=\"edge2\" class=\"edge\">\n<title>134189884473296+&#45;&gt;134189884473296</title>\n<path fill=\"none\" stroke=\"black\" d=\"M598.04,-45.5C605.58,-45.5 614.3,-45.5 623.57,-45.5\"/>\n<polygon fill=\"black\" stroke=\"black\" points=\"623.81,-49 633.81,-45.5 623.81,-42 623.81,-49\"/>\n</g>\n</g>\n</svg>\n",
            "text/plain": [
              "<graphviz.graphs.Digraph at 0x7a0b84654c10>"
            ]
          },
          "metadata": {},
          "execution_count": 10
        }
      ]
    },
    {
      "cell_type": "code",
      "source": [
        "draw_dot(L)"
      ],
      "metadata": {
        "colab": {
          "base_uri": "https://localhost:8080/",
          "height": 229
        },
        "id": "JpBg35pARaYr",
        "outputId": "a1a94600-7d38-4e5a-fc0a-04edd9266ce7"
      },
      "execution_count": null,
      "outputs": [
        {
          "output_type": "execute_result",
          "data": {
            "image/svg+xml": "<?xml version=\"1.0\" encoding=\"UTF-8\" standalone=\"no\"?>\n<!DOCTYPE svg PUBLIC \"-//W3C//DTD SVG 1.1//EN\"\n \"http://www.w3.org/Graphics/SVG/1.1/DTD/svg11.dtd\">\n<!-- Generated by graphviz version 2.43.0 (0)\n -->\n<!-- Title: %3 Pages: 1 -->\n<svg width=\"1148pt\" height=\"156pt\"\n viewBox=\"0.00 0.00 1148.00 156.00\" xmlns=\"http://www.w3.org/2000/svg\" xmlns:xlink=\"http://www.w3.org/1999/xlink\">\n<g id=\"graph0\" class=\"graph\" transform=\"scale(1 1) rotate(0) translate(4 152)\">\n<title>%3</title>\n<polygon fill=\"white\" stroke=\"transparent\" points=\"-4,4 -4,-152 1144,-152 1144,4 -4,4\"/>\n<!-- 134189884465184 -->\n<g id=\"node1\" class=\"node\">\n<title>134189884465184</title>\n<polygon fill=\"none\" stroke=\"black\" points=\"2.5,-111.5 2.5,-147.5 187.5,-147.5 187.5,-111.5 2.5,-111.5\"/>\n<text text-anchor=\"middle\" x=\"14\" y=\"-125.8\" font-family=\"Times,serif\" font-size=\"14.00\">a</text>\n<polyline fill=\"none\" stroke=\"black\" points=\"25.5,-111.5 25.5,-147.5 \"/>\n<text text-anchor=\"middle\" x=\"65.5\" y=\"-125.8\" font-family=\"Times,serif\" font-size=\"14.00\">data 2.0000</text>\n<polyline fill=\"none\" stroke=\"black\" points=\"105.5,-111.5 105.5,-147.5 \"/>\n<text text-anchor=\"middle\" x=\"146.5\" y=\"-125.8\" font-family=\"Times,serif\" font-size=\"14.00\">grad 0.0000</text>\n</g>\n<!-- 134189884471184* -->\n<g id=\"node6\" class=\"node\">\n<title>134189884471184*</title>\n<ellipse fill=\"none\" stroke=\"black\" cx=\"253\" cy=\"-101.5\" rx=\"27\" ry=\"18\"/>\n<text text-anchor=\"middle\" x=\"253\" y=\"-97.8\" font-family=\"Times,serif\" font-size=\"14.00\">*</text>\n</g>\n<!-- 134189884465184&#45;&gt;134189884471184* -->\n<g id=\"edge6\" class=\"edge\">\n<title>134189884465184&#45;&gt;134189884471184*</title>\n<path fill=\"none\" stroke=\"black\" d=\"M187.65,-113.05C197.94,-111.2 207.91,-109.41 216.81,-107.82\"/>\n<polygon fill=\"black\" stroke=\"black\" points=\"217.48,-111.25 226.71,-106.04 216.25,-104.36 217.48,-111.25\"/>\n</g>\n<!-- 134189884457120 -->\n<g id=\"node2\" class=\"node\">\n<title>134189884457120</title>\n<polygon fill=\"none\" stroke=\"black\" points=\"948,-27.5 948,-63.5 1140,-63.5 1140,-27.5 948,-27.5\"/>\n<text text-anchor=\"middle\" x=\"960.5\" y=\"-41.8\" font-family=\"Times,serif\" font-size=\"14.00\">L</text>\n<polyline fill=\"none\" stroke=\"black\" points=\"973,-27.5 973,-63.5 \"/>\n<text text-anchor=\"middle\" x=\"1015.5\" y=\"-41.8\" font-family=\"Times,serif\" font-size=\"14.00\">data &#45;8.0000</text>\n<polyline fill=\"none\" stroke=\"black\" points=\"1058,-27.5 1058,-63.5 \"/>\n<text text-anchor=\"middle\" x=\"1099\" y=\"-41.8\" font-family=\"Times,serif\" font-size=\"14.00\">grad 0.0000</text>\n</g>\n<!-- 134189884457120* -->\n<g id=\"node3\" class=\"node\">\n<title>134189884457120*</title>\n<ellipse fill=\"none\" stroke=\"black\" cx=\"885\" cy=\"-45.5\" rx=\"27\" ry=\"18\"/>\n<text text-anchor=\"middle\" x=\"885\" y=\"-41.8\" font-family=\"Times,serif\" font-size=\"14.00\">*</text>\n</g>\n<!-- 134189884457120*&#45;&gt;134189884457120 -->\n<g id=\"edge1\" class=\"edge\">\n<title>134189884457120*&#45;&gt;134189884457120</title>\n<path fill=\"none\" stroke=\"black\" d=\"M912.28,-45.5C919.78,-45.5 928.44,-45.5 937.67,-45.5\"/>\n<polygon fill=\"black\" stroke=\"black\" points=\"937.87,-49 947.87,-45.5 937.87,-42 937.87,-49\"/>\n</g>\n<!-- 134189884467056 -->\n<g id=\"node4\" class=\"node\">\n<title>134189884467056</title>\n<polygon fill=\"none\" stroke=\"black\" points=\"634,-0.5 634,-36.5 822,-36.5 822,-0.5 634,-0.5\"/>\n<text text-anchor=\"middle\" x=\"644.5\" y=\"-14.8\" font-family=\"Times,serif\" font-size=\"14.00\">f</text>\n<polyline fill=\"none\" stroke=\"black\" points=\"655,-0.5 655,-36.5 \"/>\n<text text-anchor=\"middle\" x=\"697.5\" y=\"-14.8\" font-family=\"Times,serif\" font-size=\"14.00\">data &#45;2.0000</text>\n<polyline fill=\"none\" stroke=\"black\" points=\"740,-0.5 740,-36.5 \"/>\n<text text-anchor=\"middle\" x=\"781\" y=\"-14.8\" font-family=\"Times,serif\" font-size=\"14.00\">grad 0.0000</text>\n</g>\n<!-- 134189884467056&#45;&gt;134189884457120* -->\n<g id=\"edge9\" class=\"edge\">\n<title>134189884467056&#45;&gt;134189884457120*</title>\n<path fill=\"none\" stroke=\"black\" d=\"M822.29,-34.75C831.57,-36.37 840.52,-37.93 848.61,-39.33\"/>\n<polygon fill=\"black\" stroke=\"black\" points=\"848.22,-42.82 858.68,-41.09 849.42,-35.92 848.22,-42.82\"/>\n</g>\n<!-- 134189884471184 -->\n<g id=\"node5\" class=\"node\">\n<title>134189884471184</title>\n<polygon fill=\"none\" stroke=\"black\" points=\"317,-83.5 317,-119.5 507,-119.5 507,-83.5 317,-83.5\"/>\n<text text-anchor=\"middle\" x=\"328.5\" y=\"-97.8\" font-family=\"Times,serif\" font-size=\"14.00\">e</text>\n<polyline fill=\"none\" stroke=\"black\" points=\"340,-83.5 340,-119.5 \"/>\n<text text-anchor=\"middle\" x=\"382.5\" y=\"-97.8\" font-family=\"Times,serif\" font-size=\"14.00\">data &#45;6.0000</text>\n<polyline fill=\"none\" stroke=\"black\" points=\"425,-83.5 425,-119.5 \"/>\n<text text-anchor=\"middle\" x=\"466\" y=\"-97.8\" font-family=\"Times,serif\" font-size=\"14.00\">grad 0.0000</text>\n</g>\n<!-- 134189884473296+ -->\n<g id=\"node10\" class=\"node\">\n<title>134189884473296+</title>\n<ellipse fill=\"none\" stroke=\"black\" cx=\"571\" cy=\"-73.5\" rx=\"27\" ry=\"18\"/>\n<text text-anchor=\"middle\" x=\"571\" y=\"-69.8\" font-family=\"Times,serif\" font-size=\"14.00\">+</text>\n</g>\n<!-- 134189884471184&#45;&gt;134189884473296+ -->\n<g id=\"edge4\" class=\"edge\">\n<title>134189884471184&#45;&gt;134189884473296+</title>\n<path fill=\"none\" stroke=\"black\" d=\"M507.05,-84.73C516.89,-82.97 526.39,-81.28 534.9,-79.76\"/>\n<polygon fill=\"black\" stroke=\"black\" points=\"535.52,-83.2 544.75,-78 534.29,-76.31 535.52,-83.2\"/>\n</g>\n<!-- 134189884471184*&#45;&gt;134189884471184 -->\n<g id=\"edge2\" class=\"edge\">\n<title>134189884471184*&#45;&gt;134189884471184</title>\n<path fill=\"none\" stroke=\"black\" d=\"M280.28,-101.5C288.05,-101.5 297.08,-101.5 306.68,-101.5\"/>\n<polygon fill=\"black\" stroke=\"black\" points=\"306.88,-105 316.88,-101.5 306.88,-98 306.88,-105\"/>\n</g>\n<!-- 134189884459952 -->\n<g id=\"node7\" class=\"node\">\n<title>134189884459952</title>\n<polygon fill=\"none\" stroke=\"black\" points=\"316,-28.5 316,-64.5 508,-64.5 508,-28.5 316,-28.5\"/>\n<text text-anchor=\"middle\" x=\"327.5\" y=\"-42.8\" font-family=\"Times,serif\" font-size=\"14.00\">c</text>\n<polyline fill=\"none\" stroke=\"black\" points=\"339,-28.5 339,-64.5 \"/>\n<text text-anchor=\"middle\" x=\"382.5\" y=\"-42.8\" font-family=\"Times,serif\" font-size=\"14.00\">data 10.0000</text>\n<polyline fill=\"none\" stroke=\"black\" points=\"426,-28.5 426,-64.5 \"/>\n<text text-anchor=\"middle\" x=\"467\" y=\"-42.8\" font-family=\"Times,serif\" font-size=\"14.00\">grad 0.0000</text>\n</g>\n<!-- 134189884459952&#45;&gt;134189884473296+ -->\n<g id=\"edge7\" class=\"edge\">\n<title>134189884459952&#45;&gt;134189884473296+</title>\n<path fill=\"none\" stroke=\"black\" d=\"M508.4,-62.91C517.69,-64.5 526.64,-66.04 534.71,-67.43\"/>\n<polygon fill=\"black\" stroke=\"black\" points=\"534.32,-70.91 544.76,-69.16 535.5,-64.02 534.32,-70.91\"/>\n</g>\n<!-- 134189884465088 -->\n<g id=\"node8\" class=\"node\">\n<title>134189884465088</title>\n<polygon fill=\"none\" stroke=\"black\" points=\"0,-56.5 0,-92.5 190,-92.5 190,-56.5 0,-56.5\"/>\n<text text-anchor=\"middle\" x=\"11.5\" y=\"-70.8\" font-family=\"Times,serif\" font-size=\"14.00\">b</text>\n<polyline fill=\"none\" stroke=\"black\" points=\"23,-56.5 23,-92.5 \"/>\n<text text-anchor=\"middle\" x=\"65.5\" y=\"-70.8\" font-family=\"Times,serif\" font-size=\"14.00\">data &#45;3.0000</text>\n<polyline fill=\"none\" stroke=\"black\" points=\"108,-56.5 108,-92.5 \"/>\n<text text-anchor=\"middle\" x=\"149\" y=\"-70.8\" font-family=\"Times,serif\" font-size=\"14.00\">grad 0.0000</text>\n</g>\n<!-- 134189884465088&#45;&gt;134189884471184* -->\n<g id=\"edge5\" class=\"edge\">\n<title>134189884465088&#45;&gt;134189884471184*</title>\n<path fill=\"none\" stroke=\"black\" d=\"M190.34,-90.83C199.62,-92.44 208.58,-93.99 216.66,-95.38\"/>\n<polygon fill=\"black\" stroke=\"black\" points=\"216.27,-98.87 226.72,-97.12 217.46,-91.97 216.27,-98.87\"/>\n</g>\n<!-- 134189884473296 -->\n<g id=\"node9\" class=\"node\">\n<title>134189884473296</title>\n<polygon fill=\"none\" stroke=\"black\" points=\"635.5,-55.5 635.5,-91.5 820.5,-91.5 820.5,-55.5 635.5,-55.5\"/>\n<text text-anchor=\"middle\" x=\"647\" y=\"-69.8\" font-family=\"Times,serif\" font-size=\"14.00\">d</text>\n<polyline fill=\"none\" stroke=\"black\" points=\"658.5,-55.5 658.5,-91.5 \"/>\n<text text-anchor=\"middle\" x=\"698.5\" y=\"-69.8\" font-family=\"Times,serif\" font-size=\"14.00\">data 4.0000</text>\n<polyline fill=\"none\" stroke=\"black\" points=\"738.5,-55.5 738.5,-91.5 \"/>\n<text text-anchor=\"middle\" x=\"779.5\" y=\"-69.8\" font-family=\"Times,serif\" font-size=\"14.00\">grad 0.0000</text>\n</g>\n<!-- 134189884473296&#45;&gt;134189884457120* -->\n<g id=\"edge8\" class=\"edge\">\n<title>134189884473296&#45;&gt;134189884457120*</title>\n<path fill=\"none\" stroke=\"black\" d=\"M820.51,-56.97C830.48,-55.17 840.13,-53.42 848.77,-51.86\"/>\n<polygon fill=\"black\" stroke=\"black\" points=\"849.55,-55.28 858.77,-50.06 848.3,-48.39 849.55,-55.28\"/>\n</g>\n<!-- 134189884473296+&#45;&gt;134189884473296 -->\n<g id=\"edge3\" class=\"edge\">\n<title>134189884473296+&#45;&gt;134189884473296</title>\n<path fill=\"none\" stroke=\"black\" d=\"M598.29,-73.5C606.26,-73.5 615.54,-73.5 625.39,-73.5\"/>\n<polygon fill=\"black\" stroke=\"black\" points=\"625.41,-77 635.41,-73.5 625.41,-70 625.41,-77\"/>\n</g>\n</g>\n</svg>\n",
            "text/plain": [
              "<graphviz.graphs.Digraph at 0x7a0b84654fd0>"
            ]
          },
          "metadata": {},
          "execution_count": 11
        }
      ]
    },
    {
      "cell_type": "code",
      "source": [
        "def lol():\n",
        "\n",
        "  h = 0.001\n",
        "\n",
        "  a = Value(2.0, label='a')\n",
        "  b = Value(-3.0, label='b')\n",
        "  c = Value(10.0, label='c')\n",
        "  e = a*b; e.label = 'e'\n",
        "  d = e + c; d.label = 'd'\n",
        "  f = Value(-2.0, label='f')\n",
        "  L = d * f; L.label = 'L'\n",
        "  L1 = L.data\n",
        "\n",
        "  a = Value(2.0, label='a')\n",
        "  b = Value(-3.0, label='b')\n",
        "  a.data += h\n",
        "  c = Value(10.0, label='c')\n",
        "  e = a*b; e.label = 'e'\n",
        "  d = e + c; d.label = 'd'\n",
        "  f = Value(-2.0, label='f')\n",
        "  L = d * f; L.label = 'L'\n",
        "  L2 = L.data\n",
        "\n",
        "  print((L2 - L1)/h)\n",
        "\n",
        "lol()"
      ],
      "metadata": {
        "colab": {
          "base_uri": "https://localhost:8080/"
        },
        "id": "cXfZR0VEUfJa",
        "outputId": "553826d8-c76c-41bd-a4f5-381078d38aea"
      },
      "execution_count": null,
      "outputs": [
        {
          "output_type": "stream",
          "name": "stdout",
          "text": [
            "6.000000000000227\n"
          ]
        }
      ]
    },
    {
      "cell_type": "code",
      "source": [
        "def lol():\n",
        "\n",
        "  h = 0.001\n",
        "\n",
        "  a = Value(2.0, label='a')\n",
        "  b = Value(-3.0, label='b')\n",
        "  c = Value(10.0, label='c')\n",
        "  e = a*b; e.label = 'e'\n",
        "  d = e + c; d.label = 'd'\n",
        "  f = Value(-2.0, label='f')\n",
        "  L = d * f; L.label = 'L'\n",
        "  L1 = L.data\n",
        "\n",
        "  a = Value(2.0, label='a')\n",
        "  b = Value(-3.0, label='b')\n",
        "  b.data += h\n",
        "  c = Value(10.0, label='c')\n",
        "  e = a*b; e.label = 'e'\n",
        "  d = e + c; d.label = 'd'\n",
        "  f = Value(-2.0, label='f')\n",
        "  L = d * f; L.label = 'L'\n",
        "  L2 = L.data\n",
        "\n",
        "  print((L2 - L1)/h)\n",
        "\n",
        "lol()"
      ],
      "metadata": {
        "colab": {
          "base_uri": "https://localhost:8080/"
        },
        "id": "AZkj5KybVIWr",
        "outputId": "6c39c573-50e3-4545-84c3-0f6d23a8abdd"
      },
      "execution_count": null,
      "outputs": [
        {
          "output_type": "stream",
          "name": "stdout",
          "text": [
            "-3.9999999999995595\n"
          ]
        }
      ]
    },
    {
      "cell_type": "markdown",
      "source": [
        "# Backpropagation"
      ],
      "metadata": {
        "id": "L3tKTdRaGLTp"
      }
    },
    {
      "cell_type": "markdown",
      "source": [
        "\n",
        "---\n",
        "\n",
        "### Manual Backpropagation: Building Intuition\n",
        "\n",
        "Before we delve into automating backpropagation, it's invaluable to manually walk through the process. This hands-on approach sharpens our understanding and intuition about how gradients flow backward through a computational graph.\n",
        "\n",
        "#### Starting Point: The Loss Gradient\n",
        "\n",
        "We begin with the final node, the Loss \\( L \\). The gradient of the loss with respect to itself, \\( $\\frac{dL}{dL}$ \\), is trivially \\( 1 \\). This is because any quantity differentiated with respect to itself is always \\( 1 \\). In the code, this is updated as `L.grad = 1`.\n",
        "\n",
        "#### Multiplying Nodes: A Simple Case\n",
        "\n",
        "Considering the equation \\( L = d $\\times$ f \\), we want to find out how the loss changes concerning small changes in \\( d \\) and \\( f \\).\n",
        "\n",
        "For multiplication, backpropagation is straightforward:\n",
        "\n",
        "- The gradient of \\( L \\) with respect to \\( d \\) is \\( f \\). In other words, \\( $\\frac{dL}{dd}$ = f \\).\n",
        "- The gradient of \\( L \\) with respect to \\( f \\) is \\( d \\). Similarly, \\( $\\frac{dL}{df}$ = d \\).\n",
        "\n",
        "This makes intuitive sense: if we increase \\( d \\) by a tiny amount, the change in \\( L \\) would be proportional to the current value of \\( f \\), and vice versa.\n",
        "\n",
        "In the code, this understanding is captured as:\n",
        "```python\n",
        "d.grad = f.data\n",
        "f.grad = d.data\n",
        "```\n",
        "\n",
        "#### Visualizing the Computational Graph\n",
        "\n",
        "To help us visually grasp the flow of gradients, the function `draw_dot` is employed. This function renders the computational graph, showing each node's data and gradient values. By visualizing the graph, we can get a clearer picture of the relationships between nodes and how gradients propagate through the network.\n",
        "\n",
        "#### Why Go Through This Manual Process?\n",
        "\n",
        "Manually computing gradients and visualizing the graph serves a dual purpose:\n",
        "\n",
        "1. **Deep Understanding:** By manually computing and updating gradients, we get an intimate understanding of backpropagation's inner workings.\n",
        "2. **Verification:** Later, when we implement automatic backpropagation, this manual process will serve as a reference. If our automated gradients match our manual computations, it's a good indication that our implementation is correct.\n",
        "\n",
        "---\n",
        "\n",
        "The subsequent cells in the notebook will delve deeper into automating this process, but this manual walkthrough sets a strong foundation.\n",
        "\n",
        "---\n"
      ],
      "metadata": {
        "id": "LaSuuOGOVtyM"
      }
    },
    {
      "cell_type": "code",
      "source": [
        "L.grad = 1.0\n",
        "d.grad = f.data\n",
        "f.grad = d.data\n",
        "draw_dot(L)"
      ],
      "metadata": {
        "colab": {
          "base_uri": "https://localhost:8080/",
          "height": 229
        },
        "id": "_5b-JS5yWqms",
        "outputId": "e2884ac0-2f71-470d-b71c-fac46317b0de"
      },
      "execution_count": null,
      "outputs": [
        {
          "output_type": "execute_result",
          "data": {
            "image/svg+xml": "<?xml version=\"1.0\" encoding=\"UTF-8\" standalone=\"no\"?>\n<!DOCTYPE svg PUBLIC \"-//W3C//DTD SVG 1.1//EN\"\n \"http://www.w3.org/Graphics/SVG/1.1/DTD/svg11.dtd\">\n<!-- Generated by graphviz version 2.43.0 (0)\n -->\n<!-- Title: %3 Pages: 1 -->\n<svg width=\"1149pt\" height=\"156pt\"\n viewBox=\"0.00 0.00 1149.00 156.00\" xmlns=\"http://www.w3.org/2000/svg\" xmlns:xlink=\"http://www.w3.org/1999/xlink\">\n<g id=\"graph0\" class=\"graph\" transform=\"scale(1 1) rotate(0) translate(4 152)\">\n<title>%3</title>\n<polygon fill=\"white\" stroke=\"transparent\" points=\"-4,4 -4,-152 1145,-152 1145,4 -4,4\"/>\n<!-- 134189884465184 -->\n<g id=\"node1\" class=\"node\">\n<title>134189884465184</title>\n<polygon fill=\"none\" stroke=\"black\" points=\"2.5,-111.5 2.5,-147.5 187.5,-147.5 187.5,-111.5 2.5,-111.5\"/>\n<text text-anchor=\"middle\" x=\"14\" y=\"-125.8\" font-family=\"Times,serif\" font-size=\"14.00\">a</text>\n<polyline fill=\"none\" stroke=\"black\" points=\"25.5,-111.5 25.5,-147.5 \"/>\n<text text-anchor=\"middle\" x=\"65.5\" y=\"-125.8\" font-family=\"Times,serif\" font-size=\"14.00\">data 2.0000</text>\n<polyline fill=\"none\" stroke=\"black\" points=\"105.5,-111.5 105.5,-147.5 \"/>\n<text text-anchor=\"middle\" x=\"146.5\" y=\"-125.8\" font-family=\"Times,serif\" font-size=\"14.00\">grad 0.0000</text>\n</g>\n<!-- 134189884471184* -->\n<g id=\"node6\" class=\"node\">\n<title>134189884471184*</title>\n<ellipse fill=\"none\" stroke=\"black\" cx=\"253\" cy=\"-101.5\" rx=\"27\" ry=\"18\"/>\n<text text-anchor=\"middle\" x=\"253\" y=\"-97.8\" font-family=\"Times,serif\" font-size=\"14.00\">*</text>\n</g>\n<!-- 134189884465184&#45;&gt;134189884471184* -->\n<g id=\"edge6\" class=\"edge\">\n<title>134189884465184&#45;&gt;134189884471184*</title>\n<path fill=\"none\" stroke=\"black\" d=\"M187.65,-113.05C197.94,-111.2 207.91,-109.41 216.81,-107.82\"/>\n<polygon fill=\"black\" stroke=\"black\" points=\"217.48,-111.25 226.71,-106.04 216.25,-104.36 217.48,-111.25\"/>\n</g>\n<!-- 134189884457120 -->\n<g id=\"node2\" class=\"node\">\n<title>134189884457120</title>\n<polygon fill=\"none\" stroke=\"black\" points=\"949,-27.5 949,-63.5 1141,-63.5 1141,-27.5 949,-27.5\"/>\n<text text-anchor=\"middle\" x=\"961.5\" y=\"-41.8\" font-family=\"Times,serif\" font-size=\"14.00\">L</text>\n<polyline fill=\"none\" stroke=\"black\" points=\"974,-27.5 974,-63.5 \"/>\n<text text-anchor=\"middle\" x=\"1016.5\" y=\"-41.8\" font-family=\"Times,serif\" font-size=\"14.00\">data &#45;8.0000</text>\n<polyline fill=\"none\" stroke=\"black\" points=\"1059,-27.5 1059,-63.5 \"/>\n<text text-anchor=\"middle\" x=\"1100\" y=\"-41.8\" font-family=\"Times,serif\" font-size=\"14.00\">grad 1.0000</text>\n</g>\n<!-- 134189884457120* -->\n<g id=\"node3\" class=\"node\">\n<title>134189884457120*</title>\n<ellipse fill=\"none\" stroke=\"black\" cx=\"886\" cy=\"-45.5\" rx=\"27\" ry=\"18\"/>\n<text text-anchor=\"middle\" x=\"886\" y=\"-41.8\" font-family=\"Times,serif\" font-size=\"14.00\">*</text>\n</g>\n<!-- 134189884457120*&#45;&gt;134189884457120 -->\n<g id=\"edge1\" class=\"edge\">\n<title>134189884457120*&#45;&gt;134189884457120</title>\n<path fill=\"none\" stroke=\"black\" d=\"M913.28,-45.5C920.78,-45.5 929.44,-45.5 938.67,-45.5\"/>\n<polygon fill=\"black\" stroke=\"black\" points=\"938.87,-49 948.87,-45.5 938.87,-42 938.87,-49\"/>\n</g>\n<!-- 134189884467056 -->\n<g id=\"node4\" class=\"node\">\n<title>134189884467056</title>\n<polygon fill=\"none\" stroke=\"black\" points=\"634.5,-0.5 634.5,-36.5 822.5,-36.5 822.5,-0.5 634.5,-0.5\"/>\n<text text-anchor=\"middle\" x=\"645\" y=\"-14.8\" font-family=\"Times,serif\" font-size=\"14.00\">f</text>\n<polyline fill=\"none\" stroke=\"black\" points=\"655.5,-0.5 655.5,-36.5 \"/>\n<text text-anchor=\"middle\" x=\"698\" y=\"-14.8\" font-family=\"Times,serif\" font-size=\"14.00\">data &#45;2.0000</text>\n<polyline fill=\"none\" stroke=\"black\" points=\"740.5,-0.5 740.5,-36.5 \"/>\n<text text-anchor=\"middle\" x=\"781.5\" y=\"-14.8\" font-family=\"Times,serif\" font-size=\"14.00\">grad 4.0000</text>\n</g>\n<!-- 134189884467056&#45;&gt;134189884457120* -->\n<g id=\"edge9\" class=\"edge\">\n<title>134189884467056&#45;&gt;134189884457120*</title>\n<path fill=\"none\" stroke=\"black\" d=\"M822.65,-34.67C832.2,-36.33 841.43,-37.93 849.72,-39.37\"/>\n<polygon fill=\"black\" stroke=\"black\" points=\"849.24,-42.84 859.69,-41.11 850.44,-35.95 849.24,-42.84\"/>\n</g>\n<!-- 134189884471184 -->\n<g id=\"node5\" class=\"node\">\n<title>134189884471184</title>\n<polygon fill=\"none\" stroke=\"black\" points=\"317,-83.5 317,-119.5 507,-119.5 507,-83.5 317,-83.5\"/>\n<text text-anchor=\"middle\" x=\"328.5\" y=\"-97.8\" font-family=\"Times,serif\" font-size=\"14.00\">e</text>\n<polyline fill=\"none\" stroke=\"black\" points=\"340,-83.5 340,-119.5 \"/>\n<text text-anchor=\"middle\" x=\"382.5\" y=\"-97.8\" font-family=\"Times,serif\" font-size=\"14.00\">data &#45;6.0000</text>\n<polyline fill=\"none\" stroke=\"black\" points=\"425,-83.5 425,-119.5 \"/>\n<text text-anchor=\"middle\" x=\"466\" y=\"-97.8\" font-family=\"Times,serif\" font-size=\"14.00\">grad 0.0000</text>\n</g>\n<!-- 134189884473296+ -->\n<g id=\"node10\" class=\"node\">\n<title>134189884473296+</title>\n<ellipse fill=\"none\" stroke=\"black\" cx=\"571\" cy=\"-73.5\" rx=\"27\" ry=\"18\"/>\n<text text-anchor=\"middle\" x=\"571\" y=\"-69.8\" font-family=\"Times,serif\" font-size=\"14.00\">+</text>\n</g>\n<!-- 134189884471184&#45;&gt;134189884473296+ -->\n<g id=\"edge4\" class=\"edge\">\n<title>134189884471184&#45;&gt;134189884473296+</title>\n<path fill=\"none\" stroke=\"black\" d=\"M507.05,-84.73C516.89,-82.97 526.39,-81.28 534.9,-79.76\"/>\n<polygon fill=\"black\" stroke=\"black\" points=\"535.52,-83.2 544.75,-78 534.29,-76.31 535.52,-83.2\"/>\n</g>\n<!-- 134189884471184*&#45;&gt;134189884471184 -->\n<g id=\"edge2\" class=\"edge\">\n<title>134189884471184*&#45;&gt;134189884471184</title>\n<path fill=\"none\" stroke=\"black\" d=\"M280.28,-101.5C288.05,-101.5 297.08,-101.5 306.68,-101.5\"/>\n<polygon fill=\"black\" stroke=\"black\" points=\"306.88,-105 316.88,-101.5 306.88,-98 306.88,-105\"/>\n</g>\n<!-- 134189884459952 -->\n<g id=\"node7\" class=\"node\">\n<title>134189884459952</title>\n<polygon fill=\"none\" stroke=\"black\" points=\"316,-28.5 316,-64.5 508,-64.5 508,-28.5 316,-28.5\"/>\n<text text-anchor=\"middle\" x=\"327.5\" y=\"-42.8\" font-family=\"Times,serif\" font-size=\"14.00\">c</text>\n<polyline fill=\"none\" stroke=\"black\" points=\"339,-28.5 339,-64.5 \"/>\n<text text-anchor=\"middle\" x=\"382.5\" y=\"-42.8\" font-family=\"Times,serif\" font-size=\"14.00\">data 10.0000</text>\n<polyline fill=\"none\" stroke=\"black\" points=\"426,-28.5 426,-64.5 \"/>\n<text text-anchor=\"middle\" x=\"467\" y=\"-42.8\" font-family=\"Times,serif\" font-size=\"14.00\">grad 0.0000</text>\n</g>\n<!-- 134189884459952&#45;&gt;134189884473296+ -->\n<g id=\"edge7\" class=\"edge\">\n<title>134189884459952&#45;&gt;134189884473296+</title>\n<path fill=\"none\" stroke=\"black\" d=\"M508.4,-62.91C517.69,-64.5 526.64,-66.04 534.71,-67.43\"/>\n<polygon fill=\"black\" stroke=\"black\" points=\"534.32,-70.91 544.76,-69.16 535.5,-64.02 534.32,-70.91\"/>\n</g>\n<!-- 134189884465088 -->\n<g id=\"node8\" class=\"node\">\n<title>134189884465088</title>\n<polygon fill=\"none\" stroke=\"black\" points=\"0,-56.5 0,-92.5 190,-92.5 190,-56.5 0,-56.5\"/>\n<text text-anchor=\"middle\" x=\"11.5\" y=\"-70.8\" font-family=\"Times,serif\" font-size=\"14.00\">b</text>\n<polyline fill=\"none\" stroke=\"black\" points=\"23,-56.5 23,-92.5 \"/>\n<text text-anchor=\"middle\" x=\"65.5\" y=\"-70.8\" font-family=\"Times,serif\" font-size=\"14.00\">data &#45;3.0000</text>\n<polyline fill=\"none\" stroke=\"black\" points=\"108,-56.5 108,-92.5 \"/>\n<text text-anchor=\"middle\" x=\"149\" y=\"-70.8\" font-family=\"Times,serif\" font-size=\"14.00\">grad 0.0000</text>\n</g>\n<!-- 134189884465088&#45;&gt;134189884471184* -->\n<g id=\"edge5\" class=\"edge\">\n<title>134189884465088&#45;&gt;134189884471184*</title>\n<path fill=\"none\" stroke=\"black\" d=\"M190.34,-90.83C199.62,-92.44 208.58,-93.99 216.66,-95.38\"/>\n<polygon fill=\"black\" stroke=\"black\" points=\"216.27,-98.87 226.72,-97.12 217.46,-91.97 216.27,-98.87\"/>\n</g>\n<!-- 134189884473296 -->\n<g id=\"node9\" class=\"node\">\n<title>134189884473296</title>\n<polygon fill=\"none\" stroke=\"black\" points=\"634,-55.5 634,-91.5 823,-91.5 823,-55.5 634,-55.5\"/>\n<text text-anchor=\"middle\" x=\"645.5\" y=\"-69.8\" font-family=\"Times,serif\" font-size=\"14.00\">d</text>\n<polyline fill=\"none\" stroke=\"black\" points=\"657,-55.5 657,-91.5 \"/>\n<text text-anchor=\"middle\" x=\"697\" y=\"-69.8\" font-family=\"Times,serif\" font-size=\"14.00\">data 4.0000</text>\n<polyline fill=\"none\" stroke=\"black\" points=\"737,-55.5 737,-91.5 \"/>\n<text text-anchor=\"middle\" x=\"780\" y=\"-69.8\" font-family=\"Times,serif\" font-size=\"14.00\">grad &#45;2.0000</text>\n</g>\n<!-- 134189884473296&#45;&gt;134189884457120* -->\n<g id=\"edge8\" class=\"edge\">\n<title>134189884473296&#45;&gt;134189884457120*</title>\n<path fill=\"none\" stroke=\"black\" d=\"M823.1,-56.65C832.4,-54.97 841.38,-53.35 849.49,-51.89\"/>\n<polygon fill=\"black\" stroke=\"black\" points=\"850.37,-55.29 859.59,-50.07 849.13,-48.4 850.37,-55.29\"/>\n</g>\n<!-- 134189884473296+&#45;&gt;134189884473296 -->\n<g id=\"edge3\" class=\"edge\">\n<title>134189884473296+&#45;&gt;134189884473296</title>\n<path fill=\"none\" stroke=\"black\" d=\"M598.03,-73.5C605.66,-73.5 614.52,-73.5 623.94,-73.5\"/>\n<polygon fill=\"black\" stroke=\"black\" points=\"623.94,-77 633.94,-73.5 623.94,-70 623.94,-77\"/>\n</g>\n</g>\n</svg>\n",
            "text/plain": [
              "<graphviz.graphs.Digraph at 0x7a0b846551e0>"
            ]
          },
          "metadata": {},
          "execution_count": 12
        }
      ]
    },
    {
      "cell_type": "markdown",
      "source": [
        "---\n",
        "\n",
        "### **Note: It is VERY IMPORTANT to fully understand the backpropagation of this \"+\" node.**\n",
        "\n",
        "Let's slowly walk through the computation for \\( $\\frac{dL}{dc}$ \\) and \\( $\\frac{dL}{de}$ \\) in the context of backpropagation.\n",
        "\n",
        "---\n",
        "\n",
        "### Slow-Motion Backpropagation: Computing \\( $\\frac{dL}{dc}$ \\) and \\( $\\frac{dL}{de}$ \\)\n",
        "\n",
        "Having determined the gradients \\( $\\frac{dL}{dd}$ \\) and \\( $\\frac{dL}{df}$ \\), we can now move a step backward in the computational graph to compute the gradients with respect to \\( c \\) and \\( e \\).\n",
        "\n",
        "#### Starting from the Relationship: \\( d = e + c \\)\n",
        "\n",
        "To begin with, let's look at the equation \\( d = e + c \\).\n",
        "\n",
        "1. **Gradient with respect to \\( c \\)**:\n",
        "\n",
        "   For addition operations, the gradient of the output with respect to any of the inputs is 1. This is because a small change in \\( c \\) will result in an equal change in \\( d \\). Formally, \\( $\\frac{dd}{dc}$ = 1 \\).\n",
        "\n",
        "   Now, using the chain rule, we can compute \\( $\\frac{dL}{dc}$ \\). The chain rule states:\n",
        "\n",
        "   $$\n",
        "   \\frac{dL}{dc} = \\frac{dL}{dd} \\times \\frac{dd}{dc}\n",
        "   $$\n",
        "\n",
        "   Given that \\( $\\frac{dd}{dc}$ = 1 \\) and \\( $\\frac{dL}{dd}$ \\) (which we've already computed), you can find \\( $\\frac{dL}{dc}$ \\).\n",
        "\n",
        "2. **Gradient with respect to \\( e \\)**:\n",
        "\n",
        "   Similarly, a tiny change in \\( e \\) will lead to an equal change in \\( d \\). Therefore, \\( $\\frac{dd}{de}$ = 1 \\).\n",
        "\n",
        "   Using the chain rule again:\n",
        "\n",
        "   $$\n",
        "   \\frac{dL}{de} = \\frac{dL}{dd} \\times \\frac{dd}{de}\n",
        "   $$\n",
        "\n",
        "   With \\( $\\frac{dd}{de}$ = 1 \\) and the previously computed \\( $\\frac{dL}{dd}$ \\), we can determine \\( $\\frac{dL}{de}$ \\).\n",
        "\n",
        "### Updating the Gradients in Code:\n",
        "\n",
        "To capture this understanding in the code, you can update the gradients for \\( c \\) and \\( e \\) as:\n",
        "\n",
        "```python\n",
        "c.grad = d.grad * 1  # This essentially means c.grad = d.grad\n",
        "e.grad = d.grad * 1  # Similarly, e.grad = d.grad\n",
        "```\n",
        "\n",
        "#### Why This Step is Crucial:\n",
        "\n",
        "By computing \\( $\\frac{dL}{dc}$ \\) and \\( $\\frac{dL}{de}$ \\), we're uncovering how changes to the earlier nodes in our computational graph influence the final loss. This step-by-step backward approach not only deepens our understanding but also ensures that every node in our network gets the gradient information it needs for subsequent optimization (like gradient descent).\n",
        "\n",
        "---\n",
        "\n",
        "This manual, slow-motion process of backpropagation allows us to see the inner workings of gradient computation, preparing us for more automated and generalized backpropagation approaches in larger networks."
      ],
      "metadata": {
        "id": "4PbqLStRwvGC"
      }
    },
    {
      "cell_type": "markdown",
      "source": [
        "Let's delve deeper into why \\( $\\frac{dd}{dc}$ = 1 \\) for the equation \\( d = e + c \\).\n",
        "\n",
        "### Understanding the Relationship: \\( d = e + c \\)\n",
        "\n",
        "For the equation \\( d = e + c \\), when we differentiate with respect to \\( c \\), we're essentially asking the question: \"If we make a tiny change in \\( c \\), how does \\( d \\) change in response?\"\n",
        "\n",
        "Given that \\( c \\) is added directly to form \\( d \\), any tiny change in \\( c \\) will result in an equal change in \\( d \\). For example, if you increase \\( c \\) by 0.001, \\( d \\) will also increase by 0.001.\n",
        "\n",
        "### The Derivative\n",
        "\n",
        "Mathematically, the derivative \\( $\\frac{dd}{dc}$ \\) represents the rate of change of \\( d \\) with respect to changes in \\( c \\). In the context of our equation, since \\( d \\) changes at the exact same rate as \\( c \\), this derivative is 1.\n",
        "\n",
        "### Local Derivative\n",
        "\n",
        "The term \"local derivative\" refers to the derivative of a function concerning one of its immediate variables, without considering the larger network or system in which it operates. In the context of backpropagation in neural networks, local derivatives are the derivatives of the operations themselves, without considering the rest of the network.\n",
        "\n",
        "For our equation \\( d = e + c \\), the local derivative \\( $\\frac{dd}{dc}$ \\) is 1. This local derivative is crucial for computing the gradient \\( $\\frac{dL}{dc}$ \\) using the chain rule. The chain rule allows us to combine local derivatives to compute gradients concerning the final output (in this case, the loss \\( L \\)).\n",
        "\n",
        "### Numerical Estimation\n",
        "\n",
        "We can verify our understanding with a numerical estimate. Using the difference quotient:\n",
        "\n",
        "\\$$\n",
        "\\frac{f(c+h) - f(c)}{h}\n",
        "$$\n",
        "\n",
        "Where \\( f(c) \\) represents \\( d \\) for a given value of \\( c \\), and \\( h \\) is a small value. If our understanding is correct, this quotient should be approximately 1 for any value of \\( h \\).\n",
        "\n",
        "### Example:\n",
        "\n",
        "Let's say \\( e = 5 \\) and \\( c = 3 \\). Then \\( d = e + c = 8 \\).\n",
        "\n",
        "Now, let's perturb \\( c \\) by a tiny amount \\( h = 0.001 \\).\n",
        "\n",
        "With this change, \\( c' = 3.001 \\) and \\( d' = e + c' = 8.001 \\).\n",
        "\n",
        "Using the difference quotient:\n",
        "$$\n",
        "\\frac{d' - d}{h} = \\frac{8.001 - 8}{0.001} = 1\n",
        "$$\n",
        "\n",
        "This confirms our understanding that \\( $\\frac{dd}{dc}$ = 1 \\).\n",
        "\n",
        "### Concluding Thoughts\n",
        "\n",
        "By understanding the local derivative \\( $\\frac{dd}{dc}$ \\), we're better equipped to compute the gradient \\( $\\frac{dL}{dc}$ \\) using the chain rule. This local-to-global approach is at the heart of backpropagation, allowing us to efficiently compute gradients in complex neural networks."
      ],
      "metadata": {
        "id": "1DxQ3yEgznOB"
      }
    },
    {
      "cell_type": "code",
      "source": [
        "c.grad = d.grad * 1  # This essentially means c.grad = d.grad\n",
        "e.grad = d.grad * 1  # Similarly, e.grad = d.grad\n",
        "draw_dot(L)"
      ],
      "metadata": {
        "colab": {
          "base_uri": "https://localhost:8080/",
          "height": 229
        },
        "id": "H46vqNoZ1_pJ",
        "outputId": "8d8e01ed-df4d-4d79-ec90-2ae1ec71d5ef"
      },
      "execution_count": null,
      "outputs": [
        {
          "output_type": "execute_result",
          "data": {
            "image/svg+xml": "<?xml version=\"1.0\" encoding=\"UTF-8\" standalone=\"no\"?>\n<!DOCTYPE svg PUBLIC \"-//W3C//DTD SVG 1.1//EN\"\n \"http://www.w3.org/Graphics/SVG/1.1/DTD/svg11.dtd\">\n<!-- Generated by graphviz version 2.43.0 (0)\n -->\n<!-- Title: %3 Pages: 1 -->\n<svg width=\"1153pt\" height=\"156pt\"\n viewBox=\"0.00 0.00 1153.00 156.00\" xmlns=\"http://www.w3.org/2000/svg\" xmlns:xlink=\"http://www.w3.org/1999/xlink\">\n<g id=\"graph0\" class=\"graph\" transform=\"scale(1 1) rotate(0) translate(4 152)\">\n<title>%3</title>\n<polygon fill=\"white\" stroke=\"transparent\" points=\"-4,4 -4,-152 1149,-152 1149,4 -4,4\"/>\n<!-- 134189884465184 -->\n<g id=\"node1\" class=\"node\">\n<title>134189884465184</title>\n<polygon fill=\"none\" stroke=\"black\" points=\"2.5,-111.5 2.5,-147.5 187.5,-147.5 187.5,-111.5 2.5,-111.5\"/>\n<text text-anchor=\"middle\" x=\"14\" y=\"-125.8\" font-family=\"Times,serif\" font-size=\"14.00\">a</text>\n<polyline fill=\"none\" stroke=\"black\" points=\"25.5,-111.5 25.5,-147.5 \"/>\n<text text-anchor=\"middle\" x=\"65.5\" y=\"-125.8\" font-family=\"Times,serif\" font-size=\"14.00\">data 2.0000</text>\n<polyline fill=\"none\" stroke=\"black\" points=\"105.5,-111.5 105.5,-147.5 \"/>\n<text text-anchor=\"middle\" x=\"146.5\" y=\"-125.8\" font-family=\"Times,serif\" font-size=\"14.00\">grad 0.0000</text>\n</g>\n<!-- 134189884471184* -->\n<g id=\"node6\" class=\"node\">\n<title>134189884471184*</title>\n<ellipse fill=\"none\" stroke=\"black\" cx=\"253\" cy=\"-101.5\" rx=\"27\" ry=\"18\"/>\n<text text-anchor=\"middle\" x=\"253\" y=\"-97.8\" font-family=\"Times,serif\" font-size=\"14.00\">*</text>\n</g>\n<!-- 134189884465184&#45;&gt;134189884471184* -->\n<g id=\"edge6\" class=\"edge\">\n<title>134189884465184&#45;&gt;134189884471184*</title>\n<path fill=\"none\" stroke=\"black\" d=\"M187.65,-113.05C197.94,-111.2 207.91,-109.41 216.81,-107.82\"/>\n<polygon fill=\"black\" stroke=\"black\" points=\"217.48,-111.25 226.71,-106.04 216.25,-104.36 217.48,-111.25\"/>\n</g>\n<!-- 134189884457120 -->\n<g id=\"node2\" class=\"node\">\n<title>134189884457120</title>\n<polygon fill=\"none\" stroke=\"black\" points=\"953,-27.5 953,-63.5 1145,-63.5 1145,-27.5 953,-27.5\"/>\n<text text-anchor=\"middle\" x=\"965.5\" y=\"-41.8\" font-family=\"Times,serif\" font-size=\"14.00\">L</text>\n<polyline fill=\"none\" stroke=\"black\" points=\"978,-27.5 978,-63.5 \"/>\n<text text-anchor=\"middle\" x=\"1020.5\" y=\"-41.8\" font-family=\"Times,serif\" font-size=\"14.00\">data &#45;8.0000</text>\n<polyline fill=\"none\" stroke=\"black\" points=\"1063,-27.5 1063,-63.5 \"/>\n<text text-anchor=\"middle\" x=\"1104\" y=\"-41.8\" font-family=\"Times,serif\" font-size=\"14.00\">grad 1.0000</text>\n</g>\n<!-- 134189884457120* -->\n<g id=\"node3\" class=\"node\">\n<title>134189884457120*</title>\n<ellipse fill=\"none\" stroke=\"black\" cx=\"890\" cy=\"-45.5\" rx=\"27\" ry=\"18\"/>\n<text text-anchor=\"middle\" x=\"890\" y=\"-41.8\" font-family=\"Times,serif\" font-size=\"14.00\">*</text>\n</g>\n<!-- 134189884457120*&#45;&gt;134189884457120 -->\n<g id=\"edge1\" class=\"edge\">\n<title>134189884457120*&#45;&gt;134189884457120</title>\n<path fill=\"none\" stroke=\"black\" d=\"M917.28,-45.5C924.78,-45.5 933.44,-45.5 942.67,-45.5\"/>\n<polygon fill=\"black\" stroke=\"black\" points=\"942.87,-49 952.87,-45.5 942.87,-42 942.87,-49\"/>\n</g>\n<!-- 134189884467056 -->\n<g id=\"node4\" class=\"node\">\n<title>134189884467056</title>\n<polygon fill=\"none\" stroke=\"black\" points=\"638.5,-0.5 638.5,-36.5 826.5,-36.5 826.5,-0.5 638.5,-0.5\"/>\n<text text-anchor=\"middle\" x=\"649\" y=\"-14.8\" font-family=\"Times,serif\" font-size=\"14.00\">f</text>\n<polyline fill=\"none\" stroke=\"black\" points=\"659.5,-0.5 659.5,-36.5 \"/>\n<text text-anchor=\"middle\" x=\"702\" y=\"-14.8\" font-family=\"Times,serif\" font-size=\"14.00\">data &#45;2.0000</text>\n<polyline fill=\"none\" stroke=\"black\" points=\"744.5,-0.5 744.5,-36.5 \"/>\n<text text-anchor=\"middle\" x=\"785.5\" y=\"-14.8\" font-family=\"Times,serif\" font-size=\"14.00\">grad 4.0000</text>\n</g>\n<!-- 134189884467056&#45;&gt;134189884457120* -->\n<g id=\"edge9\" class=\"edge\">\n<title>134189884467056&#45;&gt;134189884457120*</title>\n<path fill=\"none\" stroke=\"black\" d=\"M826.65,-34.67C836.2,-36.33 845.43,-37.93 853.72,-39.37\"/>\n<polygon fill=\"black\" stroke=\"black\" points=\"853.24,-42.84 863.69,-41.11 854.44,-35.95 853.24,-42.84\"/>\n</g>\n<!-- 134189884471184 -->\n<g id=\"node5\" class=\"node\">\n<title>134189884471184</title>\n<polygon fill=\"none\" stroke=\"black\" points=\"317,-83.5 317,-119.5 511,-119.5 511,-83.5 317,-83.5\"/>\n<text text-anchor=\"middle\" x=\"328.5\" y=\"-97.8\" font-family=\"Times,serif\" font-size=\"14.00\">e</text>\n<polyline fill=\"none\" stroke=\"black\" points=\"340,-83.5 340,-119.5 \"/>\n<text text-anchor=\"middle\" x=\"382.5\" y=\"-97.8\" font-family=\"Times,serif\" font-size=\"14.00\">data &#45;6.0000</text>\n<polyline fill=\"none\" stroke=\"black\" points=\"425,-83.5 425,-119.5 \"/>\n<text text-anchor=\"middle\" x=\"468\" y=\"-97.8\" font-family=\"Times,serif\" font-size=\"14.00\">grad &#45;2.0000</text>\n</g>\n<!-- 134189884473296+ -->\n<g id=\"node10\" class=\"node\">\n<title>134189884473296+</title>\n<ellipse fill=\"none\" stroke=\"black\" cx=\"575\" cy=\"-73.5\" rx=\"27\" ry=\"18\"/>\n<text text-anchor=\"middle\" x=\"575\" y=\"-69.8\" font-family=\"Times,serif\" font-size=\"14.00\">+</text>\n</g>\n<!-- 134189884471184&#45;&gt;134189884473296+ -->\n<g id=\"edge4\" class=\"edge\">\n<title>134189884471184&#45;&gt;134189884473296+</title>\n<path fill=\"none\" stroke=\"black\" d=\"M511.16,-84.57C520.82,-82.87 530.13,-81.23 538.49,-79.75\"/>\n<polygon fill=\"black\" stroke=\"black\" points=\"539.3,-83.17 548.54,-77.98 538.08,-76.27 539.3,-83.17\"/>\n</g>\n<!-- 134189884471184*&#45;&gt;134189884471184 -->\n<g id=\"edge2\" class=\"edge\">\n<title>134189884471184*&#45;&gt;134189884471184</title>\n<path fill=\"none\" stroke=\"black\" d=\"M280.26,-101.5C288.05,-101.5 297.1,-101.5 306.75,-101.5\"/>\n<polygon fill=\"black\" stroke=\"black\" points=\"306.99,-105 316.99,-101.5 306.99,-98 306.99,-105\"/>\n</g>\n<!-- 134189884459952 -->\n<g id=\"node7\" class=\"node\">\n<title>134189884459952</title>\n<polygon fill=\"none\" stroke=\"black\" points=\"316,-28.5 316,-64.5 512,-64.5 512,-28.5 316,-28.5\"/>\n<text text-anchor=\"middle\" x=\"327.5\" y=\"-42.8\" font-family=\"Times,serif\" font-size=\"14.00\">c</text>\n<polyline fill=\"none\" stroke=\"black\" points=\"339,-28.5 339,-64.5 \"/>\n<text text-anchor=\"middle\" x=\"382.5\" y=\"-42.8\" font-family=\"Times,serif\" font-size=\"14.00\">data 10.0000</text>\n<polyline fill=\"none\" stroke=\"black\" points=\"426,-28.5 426,-64.5 \"/>\n<text text-anchor=\"middle\" x=\"469\" y=\"-42.8\" font-family=\"Times,serif\" font-size=\"14.00\">grad &#45;2.0000</text>\n</g>\n<!-- 134189884459952&#45;&gt;134189884473296+ -->\n<g id=\"edge7\" class=\"edge\">\n<title>134189884459952&#45;&gt;134189884473296+</title>\n<path fill=\"none\" stroke=\"black\" d=\"M512.07,-62.98C521.42,-64.57 530.43,-66.1 538.55,-67.48\"/>\n<polygon fill=\"black\" stroke=\"black\" points=\"538.21,-70.97 548.65,-69.2 539.38,-64.07 538.21,-70.97\"/>\n</g>\n<!-- 134189884465088 -->\n<g id=\"node8\" class=\"node\">\n<title>134189884465088</title>\n<polygon fill=\"none\" stroke=\"black\" points=\"0,-56.5 0,-92.5 190,-92.5 190,-56.5 0,-56.5\"/>\n<text text-anchor=\"middle\" x=\"11.5\" y=\"-70.8\" font-family=\"Times,serif\" font-size=\"14.00\">b</text>\n<polyline fill=\"none\" stroke=\"black\" points=\"23,-56.5 23,-92.5 \"/>\n<text text-anchor=\"middle\" x=\"65.5\" y=\"-70.8\" font-family=\"Times,serif\" font-size=\"14.00\">data &#45;3.0000</text>\n<polyline fill=\"none\" stroke=\"black\" points=\"108,-56.5 108,-92.5 \"/>\n<text text-anchor=\"middle\" x=\"149\" y=\"-70.8\" font-family=\"Times,serif\" font-size=\"14.00\">grad 0.0000</text>\n</g>\n<!-- 134189884465088&#45;&gt;134189884471184* -->\n<g id=\"edge5\" class=\"edge\">\n<title>134189884465088&#45;&gt;134189884471184*</title>\n<path fill=\"none\" stroke=\"black\" d=\"M190.34,-90.83C199.62,-92.44 208.58,-93.99 216.66,-95.38\"/>\n<polygon fill=\"black\" stroke=\"black\" points=\"216.27,-98.87 226.72,-97.12 217.46,-91.97 216.27,-98.87\"/>\n</g>\n<!-- 134189884473296 -->\n<g id=\"node9\" class=\"node\">\n<title>134189884473296</title>\n<polygon fill=\"none\" stroke=\"black\" points=\"638,-55.5 638,-91.5 827,-91.5 827,-55.5 638,-55.5\"/>\n<text text-anchor=\"middle\" x=\"649.5\" y=\"-69.8\" font-family=\"Times,serif\" font-size=\"14.00\">d</text>\n<polyline fill=\"none\" stroke=\"black\" points=\"661,-55.5 661,-91.5 \"/>\n<text text-anchor=\"middle\" x=\"701\" y=\"-69.8\" font-family=\"Times,serif\" font-size=\"14.00\">data 4.0000</text>\n<polyline fill=\"none\" stroke=\"black\" points=\"741,-55.5 741,-91.5 \"/>\n<text text-anchor=\"middle\" x=\"784\" y=\"-69.8\" font-family=\"Times,serif\" font-size=\"14.00\">grad &#45;2.0000</text>\n</g>\n<!-- 134189884473296&#45;&gt;134189884457120* -->\n<g id=\"edge8\" class=\"edge\">\n<title>134189884473296&#45;&gt;134189884457120*</title>\n<path fill=\"none\" stroke=\"black\" d=\"M827.1,-56.65C836.4,-54.97 845.38,-53.35 853.49,-51.89\"/>\n<polygon fill=\"black\" stroke=\"black\" points=\"854.37,-55.29 863.59,-50.07 853.13,-48.4 854.37,-55.29\"/>\n</g>\n<!-- 134189884473296+&#45;&gt;134189884473296 -->\n<g id=\"edge3\" class=\"edge\">\n<title>134189884473296+&#45;&gt;134189884473296</title>\n<path fill=\"none\" stroke=\"black\" d=\"M602.03,-73.5C609.66,-73.5 618.52,-73.5 627.94,-73.5\"/>\n<polygon fill=\"black\" stroke=\"black\" points=\"627.94,-77 637.94,-73.5 627.94,-70 627.94,-77\"/>\n</g>\n</g>\n</svg>\n",
            "text/plain": [
              "<graphviz.graphs.Digraph at 0x7a0b84654280>"
            ]
          },
          "metadata": {},
          "execution_count": 13
        }
      ]
    },
    {
      "cell_type": "markdown",
      "source": [
        "---\n",
        "\n",
        "### Verifying the Local Derivative Using Numerical Estimation\n",
        "\n",
        "To bolster our understanding of the local derivative \\( $\\frac{dd}{dc}$ \\), we can turn to numerical estimation. By perturbing the value of \\( c \\) slightly and observing the resulting change in the loss \\( L \\), we can approximate the gradient \\( $\\frac{dL}{dc}$ \\).\n",
        "\n",
        "The provided function, `lol`, does precisely this:\n",
        "\n",
        "1. It first computes the loss \\( L \\) with the original value of \\( c \\), denoted as `L1`.\n",
        "2. It then adds a tiny value \\( h \\) to \\( c \\) and recalculates the loss, denoted as `L2`.\n",
        "3. The estimated gradient is computed as \\( $\\frac{L2 - L1}{h}$ \\) and printed.\n",
        "\n",
        "If our earlier understanding that \\( $\\frac{dd}{dc}$ = 1 \\) is correct, this numerical estimate should yield a value very close to the one obtained from the multiplication operation's backpropagation.\n",
        "\n",
        "Executing the `lol` function offers a practical way to verify our theoretical derivations with empirical results.\n",
        "\n",
        "---"
      ],
      "metadata": {
        "id": "p0OP3pnW7992"
      }
    },
    {
      "cell_type": "code",
      "source": [
        "def lol():\n",
        "\n",
        "  h = 0.001\n",
        "\n",
        "  a = Value(2.0, label='a')\n",
        "  b = Value(-3.0, label='b')\n",
        "  c = Value(10.0, label='c')\n",
        "  e = a*b; e.label = 'e'\n",
        "  d = e + c; d.label = 'd'\n",
        "  f = Value(-2.0, label='f')\n",
        "  L = d * f; L.label = 'L'\n",
        "  L1 = L.data\n",
        "\n",
        "  a = Value(2.0, label='a')\n",
        "  b = Value(-3.0, label='b')\n",
        "  c = Value(10.0, label='c')\n",
        "  c.data += h\n",
        "  e = a*b; e.label = 'e'\n",
        "  d = e + c; d.label = 'd'\n",
        "  f = Value(-2.0, label='f')\n",
        "  L = d * f; L.label = 'L'\n",
        "  L2 = L.data\n",
        "\n",
        "  print((L2 - L1)/h)\n",
        "\n",
        "lol()"
      ],
      "metadata": {
        "colab": {
          "base_uri": "https://localhost:8080/"
        },
        "id": "bYrQdQK45EDh",
        "outputId": "b10eb20a-724d-441a-da01-f98e0079f9ac"
      },
      "execution_count": null,
      "outputs": [
        {
          "output_type": "stream",
          "name": "stdout",
          "text": [
            "-1.9999999999988916\n"
          ]
        }
      ]
    },
    {
      "cell_type": "code",
      "source": [
        "def lol():\n",
        "\n",
        "  h = 0.001\n",
        "\n",
        "  a = Value(2.0, label='a')\n",
        "  b = Value(-3.0, label='b')\n",
        "  c = Value(10.0, label='c')\n",
        "  e = a*b; e.label = 'e'\n",
        "  d = e + c; d.label = 'd'\n",
        "  f = Value(-2.0, label='f')\n",
        "  L = d * f; L.label = 'L'\n",
        "  L1 = L.data\n",
        "\n",
        "  a = Value(2.0, label='a')\n",
        "  b = Value(-3.0, label='b')\n",
        "  c = Value(10.0, label='c')\n",
        "  e = a*b; e.label = 'e'\n",
        "  e.data += h\n",
        "  d = e + c; d.label = 'd'\n",
        "  f = Value(-2.0, label='f')\n",
        "  L = d * f; L.label = 'L'\n",
        "  L2 = L.data\n",
        "\n",
        "  print((L2 - L1)/h)\n",
        "\n",
        "lol()"
      ],
      "metadata": {
        "colab": {
          "base_uri": "https://localhost:8080/"
        },
        "id": "npyHnWOc7chR",
        "outputId": "eee8d6d3-351f-49d0-ae51-79a5389dbeea"
      },
      "execution_count": null,
      "outputs": [
        {
          "output_type": "stream",
          "name": "stdout",
          "text": [
            "-2.000000000000668\n"
          ]
        }
      ]
    },
    {
      "cell_type": "markdown",
      "source": [
        "---\n",
        "\n",
        "### Continuing Backward: Calculating the Gradient for Node \\( a \\)\n",
        "\n",
        "As we further traverse the computational graph backwards, our next stop is node \\( a \\). Given the relationship \\( e = a $\\times$ b \\), our goal is to compute the gradient \\( $\\frac{dL}{da}$ \\).\n",
        "\n",
        "#### Multiplication and the Chain Rule\n",
        "\n",
        "For the multiplication operation, the gradient of the output with respect to one of its inputs is equal to the value of the other input. This is because a small change in one input will cause the output to change by an amount proportional to the value of the other input.\n",
        "\n",
        "Formally, for \\( e = a \\times b \\):\n",
        "\n",
        "1. The local derivative \\( $\\frac{de}{da}$ \\) is \\( b \\). This captures the rate of change of \\( e \\) concerning changes in \\( a \\).\n",
        "2. The local derivative \\( $\\frac{de}{db}$ \\) is \\( a \\). This captures the rate of change of \\( e \\) concerning changes in \\( b \\).\n",
        "\n",
        "However, we're interested in how changes in \\( a \\) (or \\( b \\)) affect our final loss \\( L \\), not just the intermediate value \\( e \\). For this, we apply the chain rule of differentiation.\n",
        "\n",
        "Using the chain rule, the gradient of the loss \\( L \\) with respect to \\( a \\) is:\n",
        "\n",
        "$$\n",
        "\\frac{dL}{da} = \\frac{dL}{de} \\times \\frac{de}{da}\n",
        "$$\n",
        "\n",
        "Given:\n",
        "- \\( $\\frac{de}{da}$ = b \\) (from our multiplication operation)\n",
        "- \\( $\\frac{dL}{de}$ \\) (which we've already computed in previous steps)\n",
        "\n",
        "We can find \\( $\\frac{dL}{da}$ \\) by multiplying these two values.\n",
        "\n",
        "#### Intuition Behind the Chain Rule\n",
        "\n",
        "The chain rule can be thought of as a way to \"chain\" or link local effects (how \\( a \\) changes \\( e \\)) with global effects (how changing \\( e \\) impacts \\( L \\)). This chaining of local and global changes is the essence of backpropagation.\n",
        "\n",
        "---\n",
        "\n",
        "Alright, let's break down the calculation for the gradient \\( $\\frac{dL}{da}$ \\) given the computational graph.\n",
        "\n",
        "### Given:\n",
        "\n",
        "We have the following relationships:\n",
        "1. \\( e = a $\\times$ b \\)\n",
        "2. \\( d = e + c \\)\n",
        "3. \\( L = d $\\times$ f \\)\n",
        "\n",
        "We've already computed the gradients for \\( L, d, f, c, \\) and \\( e \\). Now, we'll compute the gradient for \\( a \\).\n",
        "\n",
        "### Computing \\( $\\frac{dL}{da}$ \\):\n",
        "\n",
        "Given that \\( e = a $\\times$ b \\):\n",
        "\n",
        "1. The local derivative \\( $\\frac{de}{da}$ \\) is \\( b \\) (from the multiplication operation). This represents the rate of change of \\( e \\) concerning changes in \\( a \\).\n",
        "\n",
        "Using the chain rule, the gradient of \\( L \\) with respect to \\( a \\) is:\n",
        "\n",
        "$$\n",
        "\\frac{dL}{da} = \\frac{dL}{de} \\times \\frac{de}{da}\n",
        "$$\n",
        "\n",
        "Given:\n",
        "- \\( $$\\frac{de}{da}$$ = b \\) (from our multiplication operation)\n",
        "- \\( $$\\frac{dL}{de}$$ \\) (which is already computed)\n",
        "\n",
        "Substitute the values in:\n",
        "\n",
        "$$\n",
        "\\frac{dL}{da} = \\frac{dL}{de} \\times b\n",
        "$$\n",
        "\n",
        "### In Code:\n",
        "\n",
        "You would update the gradient for `a` as:\n",
        "\n",
        "```python\n",
        "a.grad = e.grad * b.data\n",
        "```\n",
        "\n",
        "This line computes the gradient \\( $\\frac{dL}{da}$ \\) by multiplying the gradient of \\( e \\) (i.e., \\( $\\frac{dL}{de}$ \\)) with the value of \\( b \\).\n",
        "\n",
        "By following this process, you've successfully backpropagated the gradient through the node \\( a \\) in the computational graph.\n",
        "\n",
        "#### In Conclusion\n",
        "\n",
        "By understanding and applying the chain rule at each step, especially at multiplication nodes, we can efficiently compute the gradient of the loss with respect to any node in our computational graph. This step-by-step approach is foundational for updating weights in neural networks, leading to learning and model optimization.\n",
        "\n",
        "---"
      ],
      "metadata": {
        "id": "4XM2ysUs9sEk"
      }
    },
    {
      "cell_type": "code",
      "source": [
        "a.grad = e.grad * b.data\n",
        "b.grad = e.grad * a.data\n",
        "draw_dot(L)"
      ],
      "metadata": {
        "colab": {
          "base_uri": "https://localhost:8080/",
          "height": 229
        },
        "id": "KxScs7B4_SGs",
        "outputId": "be133428-9c7a-4cca-fdb2-50fcd3028873"
      },
      "execution_count": null,
      "outputs": [
        {
          "output_type": "execute_result",
          "data": {
            "image/svg+xml": "<?xml version=\"1.0\" encoding=\"UTF-8\" standalone=\"no\"?>\n<!DOCTYPE svg PUBLIC \"-//W3C//DTD SVG 1.1//EN\"\n \"http://www.w3.org/Graphics/SVG/1.1/DTD/svg11.dtd\">\n<!-- Generated by graphviz version 2.43.0 (0)\n -->\n<!-- Title: %3 Pages: 1 -->\n<svg width=\"1157pt\" height=\"156pt\"\n viewBox=\"0.00 0.00 1157.00 156.00\" xmlns=\"http://www.w3.org/2000/svg\" xmlns:xlink=\"http://www.w3.org/1999/xlink\">\n<g id=\"graph0\" class=\"graph\" transform=\"scale(1 1) rotate(0) translate(4 152)\">\n<title>%3</title>\n<polygon fill=\"white\" stroke=\"transparent\" points=\"-4,4 -4,-152 1153,-152 1153,4 -4,4\"/>\n<!-- 134189884465184 -->\n<g id=\"node1\" class=\"node\">\n<title>134189884465184</title>\n<polygon fill=\"none\" stroke=\"black\" points=\"4.5,-111.5 4.5,-147.5 189.5,-147.5 189.5,-111.5 4.5,-111.5\"/>\n<text text-anchor=\"middle\" x=\"16\" y=\"-125.8\" font-family=\"Times,serif\" font-size=\"14.00\">a</text>\n<polyline fill=\"none\" stroke=\"black\" points=\"27.5,-111.5 27.5,-147.5 \"/>\n<text text-anchor=\"middle\" x=\"67.5\" y=\"-125.8\" font-family=\"Times,serif\" font-size=\"14.00\">data 2.0000</text>\n<polyline fill=\"none\" stroke=\"black\" points=\"107.5,-111.5 107.5,-147.5 \"/>\n<text text-anchor=\"middle\" x=\"148.5\" y=\"-125.8\" font-family=\"Times,serif\" font-size=\"14.00\">grad 6.0000</text>\n</g>\n<!-- 134189884471184* -->\n<g id=\"node6\" class=\"node\">\n<title>134189884471184*</title>\n<ellipse fill=\"none\" stroke=\"black\" cx=\"257\" cy=\"-101.5\" rx=\"27\" ry=\"18\"/>\n<text text-anchor=\"middle\" x=\"257\" y=\"-97.8\" font-family=\"Times,serif\" font-size=\"14.00\">*</text>\n</g>\n<!-- 134189884465184&#45;&gt;134189884471184* -->\n<g id=\"edge6\" class=\"edge\">\n<title>134189884465184&#45;&gt;134189884471184*</title>\n<path fill=\"none\" stroke=\"black\" d=\"M189.91,-113.21C200.76,-111.29 211.28,-109.43 220.61,-107.77\"/>\n<polygon fill=\"black\" stroke=\"black\" points=\"221.37,-111.19 230.6,-106 220.15,-104.3 221.37,-111.19\"/>\n</g>\n<!-- 134189884457120 -->\n<g id=\"node2\" class=\"node\">\n<title>134189884457120</title>\n<polygon fill=\"none\" stroke=\"black\" points=\"957,-27.5 957,-63.5 1149,-63.5 1149,-27.5 957,-27.5\"/>\n<text text-anchor=\"middle\" x=\"969.5\" y=\"-41.8\" font-family=\"Times,serif\" font-size=\"14.00\">L</text>\n<polyline fill=\"none\" stroke=\"black\" points=\"982,-27.5 982,-63.5 \"/>\n<text text-anchor=\"middle\" x=\"1024.5\" y=\"-41.8\" font-family=\"Times,serif\" font-size=\"14.00\">data &#45;8.0000</text>\n<polyline fill=\"none\" stroke=\"black\" points=\"1067,-27.5 1067,-63.5 \"/>\n<text text-anchor=\"middle\" x=\"1108\" y=\"-41.8\" font-family=\"Times,serif\" font-size=\"14.00\">grad 1.0000</text>\n</g>\n<!-- 134189884457120* -->\n<g id=\"node3\" class=\"node\">\n<title>134189884457120*</title>\n<ellipse fill=\"none\" stroke=\"black\" cx=\"894\" cy=\"-45.5\" rx=\"27\" ry=\"18\"/>\n<text text-anchor=\"middle\" x=\"894\" y=\"-41.8\" font-family=\"Times,serif\" font-size=\"14.00\">*</text>\n</g>\n<!-- 134189884457120*&#45;&gt;134189884457120 -->\n<g id=\"edge1\" class=\"edge\">\n<title>134189884457120*&#45;&gt;134189884457120</title>\n<path fill=\"none\" stroke=\"black\" d=\"M921.28,-45.5C928.78,-45.5 937.44,-45.5 946.67,-45.5\"/>\n<polygon fill=\"black\" stroke=\"black\" points=\"946.87,-49 956.87,-45.5 946.87,-42 946.87,-49\"/>\n</g>\n<!-- 134189884467056 -->\n<g id=\"node4\" class=\"node\">\n<title>134189884467056</title>\n<polygon fill=\"none\" stroke=\"black\" points=\"642.5,-0.5 642.5,-36.5 830.5,-36.5 830.5,-0.5 642.5,-0.5\"/>\n<text text-anchor=\"middle\" x=\"653\" y=\"-14.8\" font-family=\"Times,serif\" font-size=\"14.00\">f</text>\n<polyline fill=\"none\" stroke=\"black\" points=\"663.5,-0.5 663.5,-36.5 \"/>\n<text text-anchor=\"middle\" x=\"706\" y=\"-14.8\" font-family=\"Times,serif\" font-size=\"14.00\">data &#45;2.0000</text>\n<polyline fill=\"none\" stroke=\"black\" points=\"748.5,-0.5 748.5,-36.5 \"/>\n<text text-anchor=\"middle\" x=\"789.5\" y=\"-14.8\" font-family=\"Times,serif\" font-size=\"14.00\">grad 4.0000</text>\n</g>\n<!-- 134189884467056&#45;&gt;134189884457120* -->\n<g id=\"edge9\" class=\"edge\">\n<title>134189884467056&#45;&gt;134189884457120*</title>\n<path fill=\"none\" stroke=\"black\" d=\"M830.65,-34.67C840.2,-36.33 849.43,-37.93 857.72,-39.37\"/>\n<polygon fill=\"black\" stroke=\"black\" points=\"857.24,-42.84 867.69,-41.11 858.44,-35.95 857.24,-42.84\"/>\n</g>\n<!-- 134189884471184 -->\n<g id=\"node5\" class=\"node\">\n<title>134189884471184</title>\n<polygon fill=\"none\" stroke=\"black\" points=\"321,-83.5 321,-119.5 515,-119.5 515,-83.5 321,-83.5\"/>\n<text text-anchor=\"middle\" x=\"332.5\" y=\"-97.8\" font-family=\"Times,serif\" font-size=\"14.00\">e</text>\n<polyline fill=\"none\" stroke=\"black\" points=\"344,-83.5 344,-119.5 \"/>\n<text text-anchor=\"middle\" x=\"386.5\" y=\"-97.8\" font-family=\"Times,serif\" font-size=\"14.00\">data &#45;6.0000</text>\n<polyline fill=\"none\" stroke=\"black\" points=\"429,-83.5 429,-119.5 \"/>\n<text text-anchor=\"middle\" x=\"472\" y=\"-97.8\" font-family=\"Times,serif\" font-size=\"14.00\">grad &#45;2.0000</text>\n</g>\n<!-- 134189884473296+ -->\n<g id=\"node10\" class=\"node\">\n<title>134189884473296+</title>\n<ellipse fill=\"none\" stroke=\"black\" cx=\"579\" cy=\"-73.5\" rx=\"27\" ry=\"18\"/>\n<text text-anchor=\"middle\" x=\"579\" y=\"-69.8\" font-family=\"Times,serif\" font-size=\"14.00\">+</text>\n</g>\n<!-- 134189884471184&#45;&gt;134189884473296+ -->\n<g id=\"edge4\" class=\"edge\">\n<title>134189884471184&#45;&gt;134189884473296+</title>\n<path fill=\"none\" stroke=\"black\" d=\"M515.16,-84.57C524.82,-82.87 534.13,-81.23 542.49,-79.75\"/>\n<polygon fill=\"black\" stroke=\"black\" points=\"543.3,-83.17 552.54,-77.98 542.08,-76.27 543.3,-83.17\"/>\n</g>\n<!-- 134189884471184*&#45;&gt;134189884471184 -->\n<g id=\"edge2\" class=\"edge\">\n<title>134189884471184*&#45;&gt;134189884471184</title>\n<path fill=\"none\" stroke=\"black\" d=\"M284.26,-101.5C292.05,-101.5 301.1,-101.5 310.75,-101.5\"/>\n<polygon fill=\"black\" stroke=\"black\" points=\"310.99,-105 320.99,-101.5 310.99,-98 310.99,-105\"/>\n</g>\n<!-- 134189884459952 -->\n<g id=\"node7\" class=\"node\">\n<title>134189884459952</title>\n<polygon fill=\"none\" stroke=\"black\" points=\"320,-28.5 320,-64.5 516,-64.5 516,-28.5 320,-28.5\"/>\n<text text-anchor=\"middle\" x=\"331.5\" y=\"-42.8\" font-family=\"Times,serif\" font-size=\"14.00\">c</text>\n<polyline fill=\"none\" stroke=\"black\" points=\"343,-28.5 343,-64.5 \"/>\n<text text-anchor=\"middle\" x=\"386.5\" y=\"-42.8\" font-family=\"Times,serif\" font-size=\"14.00\">data 10.0000</text>\n<polyline fill=\"none\" stroke=\"black\" points=\"430,-28.5 430,-64.5 \"/>\n<text text-anchor=\"middle\" x=\"473\" y=\"-42.8\" font-family=\"Times,serif\" font-size=\"14.00\">grad &#45;2.0000</text>\n</g>\n<!-- 134189884459952&#45;&gt;134189884473296+ -->\n<g id=\"edge7\" class=\"edge\">\n<title>134189884459952&#45;&gt;134189884473296+</title>\n<path fill=\"none\" stroke=\"black\" d=\"M516.07,-62.98C525.42,-64.57 534.43,-66.1 542.55,-67.48\"/>\n<polygon fill=\"black\" stroke=\"black\" points=\"542.21,-70.97 552.65,-69.2 543.38,-64.07 542.21,-70.97\"/>\n</g>\n<!-- 134189884465088 -->\n<g id=\"node8\" class=\"node\">\n<title>134189884465088</title>\n<polygon fill=\"none\" stroke=\"black\" points=\"0,-56.5 0,-92.5 194,-92.5 194,-56.5 0,-56.5\"/>\n<text text-anchor=\"middle\" x=\"11.5\" y=\"-70.8\" font-family=\"Times,serif\" font-size=\"14.00\">b</text>\n<polyline fill=\"none\" stroke=\"black\" points=\"23,-56.5 23,-92.5 \"/>\n<text text-anchor=\"middle\" x=\"65.5\" y=\"-70.8\" font-family=\"Times,serif\" font-size=\"14.00\">data &#45;3.0000</text>\n<polyline fill=\"none\" stroke=\"black\" points=\"108,-56.5 108,-92.5 \"/>\n<text text-anchor=\"middle\" x=\"151\" y=\"-70.8\" font-family=\"Times,serif\" font-size=\"14.00\">grad &#45;4.0000</text>\n</g>\n<!-- 134189884465088&#45;&gt;134189884471184* -->\n<g id=\"edge5\" class=\"edge\">\n<title>134189884465088&#45;&gt;134189884471184*</title>\n<path fill=\"none\" stroke=\"black\" d=\"M194.01,-90.91C203.35,-92.5 212.37,-94.04 220.49,-95.43\"/>\n<polygon fill=\"black\" stroke=\"black\" points=\"220.16,-98.93 230.6,-97.16 221.34,-92.03 220.16,-98.93\"/>\n</g>\n<!-- 134189884473296 -->\n<g id=\"node9\" class=\"node\">\n<title>134189884473296</title>\n<polygon fill=\"none\" stroke=\"black\" points=\"642,-55.5 642,-91.5 831,-91.5 831,-55.5 642,-55.5\"/>\n<text text-anchor=\"middle\" x=\"653.5\" y=\"-69.8\" font-family=\"Times,serif\" font-size=\"14.00\">d</text>\n<polyline fill=\"none\" stroke=\"black\" points=\"665,-55.5 665,-91.5 \"/>\n<text text-anchor=\"middle\" x=\"705\" y=\"-69.8\" font-family=\"Times,serif\" font-size=\"14.00\">data 4.0000</text>\n<polyline fill=\"none\" stroke=\"black\" points=\"745,-55.5 745,-91.5 \"/>\n<text text-anchor=\"middle\" x=\"788\" y=\"-69.8\" font-family=\"Times,serif\" font-size=\"14.00\">grad &#45;2.0000</text>\n</g>\n<!-- 134189884473296&#45;&gt;134189884457120* -->\n<g id=\"edge8\" class=\"edge\">\n<title>134189884473296&#45;&gt;134189884457120*</title>\n<path fill=\"none\" stroke=\"black\" d=\"M831.1,-56.65C840.4,-54.97 849.38,-53.35 857.49,-51.89\"/>\n<polygon fill=\"black\" stroke=\"black\" points=\"858.37,-55.29 867.59,-50.07 857.13,-48.4 858.37,-55.29\"/>\n</g>\n<!-- 134189884473296+&#45;&gt;134189884473296 -->\n<g id=\"edge3\" class=\"edge\">\n<title>134189884473296+&#45;&gt;134189884473296</title>\n<path fill=\"none\" stroke=\"black\" d=\"M606.03,-73.5C613.66,-73.5 622.52,-73.5 631.94,-73.5\"/>\n<polygon fill=\"black\" stroke=\"black\" points=\"631.94,-77 641.94,-73.5 631.94,-70 631.94,-77\"/>\n</g>\n</g>\n</svg>\n",
            "text/plain": [
              "<graphviz.graphs.Digraph at 0x7a0b4a2afb20>"
            ]
          },
          "metadata": {},
          "execution_count": 25
        }
      ]
    },
    {
      "cell_type": "markdown",
      "source": [
        "---\n",
        "\n",
        "### Verifying the Local Derivative Using Numerical Estimation\n",
        "\n",
        "For a and b"
      ],
      "metadata": {
        "id": "uZuPe4BT_oIX"
      }
    },
    {
      "cell_type": "code",
      "source": [
        "def lol():\n",
        "\n",
        "  h = 0.001\n",
        "\n",
        "  a = Value(2.0, label='a')\n",
        "  b = Value(-3.0, label='b')\n",
        "  c = Value(10.0, label='c')\n",
        "  e = a*b; e.label = 'e'\n",
        "  d = e + c; d.label = 'd'\n",
        "  f = Value(-2.0, label='f')\n",
        "  L = d * f; L.label = 'L'\n",
        "  L1 = L.data\n",
        "\n",
        "  a = Value(2.0, label='a')\n",
        "  a.data += h\n",
        "  b = Value(-3.0, label='b')\n",
        "  c = Value(10.0, label='c')\n",
        "  e = a*b; e.label = 'e'\n",
        "  d = e + c; d.label = 'd'\n",
        "  f = Value(-2.0, label='f')\n",
        "  L = d * f; L.label = 'L'\n",
        "  L2 = L.data\n",
        "\n",
        "  print((L2 - L1)/h)\n",
        "\n",
        "lol()"
      ],
      "metadata": {
        "colab": {
          "base_uri": "https://localhost:8080/"
        },
        "id": "pDgDmDsf_smc",
        "outputId": "ae26e79b-8641-4286-c021-8df26985ff90"
      },
      "execution_count": null,
      "outputs": [
        {
          "output_type": "stream",
          "name": "stdout",
          "text": [
            "6.000000000000227\n"
          ]
        }
      ]
    },
    {
      "cell_type": "code",
      "source": [
        "def lol():\n",
        "\n",
        "  h = 0.001\n",
        "\n",
        "  a = Value(2.0, label='a')\n",
        "  b = Value(-3.0, label='b')\n",
        "  c = Value(10.0, label='c')\n",
        "  e = a*b; e.label = 'e'\n",
        "  d = e + c; d.label = 'd'\n",
        "  f = Value(-2.0, label='f')\n",
        "  L = d * f; L.label = 'L'\n",
        "  L1 = L.data\n",
        "\n",
        "  a = Value(2.0, label='a')\n",
        "  b = Value(-3.0, label='b')\n",
        "  b.data += h\n",
        "  c = Value(10.0, label='c')\n",
        "  e = a*b; e.label = 'e'\n",
        "  d = e + c; d.label = 'd'\n",
        "  f = Value(-2.0, label='f')\n",
        "  L = d * f; L.label = 'L'\n",
        "  L2 = L.data\n",
        "\n",
        "  print((L2 - L1)/h)\n",
        "\n",
        "lol()"
      ],
      "metadata": {
        "colab": {
          "base_uri": "https://localhost:8080/"
        },
        "id": "_JI_7WY-_0Mu",
        "outputId": "17aff19e-e0d1-4404-e9ce-30dab8fba3c6"
      },
      "execution_count": null,
      "outputs": [
        {
          "output_type": "stream",
          "name": "stdout",
          "text": [
            "-3.9999999999995595\n"
          ]
        }
      ]
    },
    {
      "cell_type": "markdown",
      "source": [
        "Certainly! Let's embark on a comprehensive walkthrough of the manual backpropagation process that has been implemented so far.\n",
        "\n",
        "---\n",
        "\n",
        "### Manual Backpropagation: A Journey from \\( L \\) to the Leaf Nodes\n",
        "\n",
        "Backpropagation is the cornerstone technique that allows neural networks to learn from errors. It revolves around calculating the gradient of a loss function with respect to each weight by the chain rule, and then adjusting the weights in the direction that decreases the loss.\n",
        "\n",
        "#### Starting Point: The Loss \\( L \\)\n",
        "\n",
        "We began at the end of the computational graph with the Loss \\( L \\). The gradient of the loss with respect to itself, \\( $\\frac{dL}{dL}$ \\), is always \\( 1 \\), because any quantity differentiated with respect to itself is unity.\n",
        "\n",
        "#### Moving Backward: The Multiplication Node \\( $L = d \\times f$ \\)\n",
        "\n",
        "From \\( L \\), we moved to its immediate predecessors, \\( d \\) and \\( f \\). We observed that:\n",
        "- The gradient of \\( L \\) with respect to \\( d \\) is \\( f \\), and vice versa. This is because multiplication is commutative, and a tiny change in \\( d \\) will result in a change in \\( L \\) proportional to \\( f \\).\n",
        "\n",
        "This step was a local application of the chain rule.\n",
        "\n",
        "#### Further Back: The Addition Node \\( $d = e + c$ \\)\n",
        "\n",
        "Next, we tackled the node \\( d \\). Here, \\( d \\) is a result of adding \\( e \\) and \\( c \\). The local derivatives are straightforward for addition:\n",
        "- \\( $\\frac{dd}{de}$ = 1 \\) and \\( $\\frac{dd}{dc}$ = 1 \\).\n",
        "\n",
        "Using these, we computed:\n",
        "- \\( $\\frac{dL}{de}$ = $\\frac{dL}{dd} \\times \\frac{dd}{de}$ \\)\n",
        "\n",
        "- \\( $\\frac{dL}{dc} = \\frac{dL}{dd} \\times \\frac{dd}{dc}$ \\)\n",
        "\n",
        "This step again showcased a local application of the chain rule.\n",
        "\n",
        "#### Delving Deeper: The Multiplication Node \\( $e = a \\times b$ \\)\n",
        "\n",
        "At this point, we backpropagated further to node \\( e \\) and its predecessors \\( a \\) and \\( b \\). For multiplication:\n",
        "- The gradient of \\( e \\) with respect to \\( a \\) is \\( b \\), and vice versa.\n",
        "\n",
        "With the local derivatives and previously computed gradient for \\( e \\), we found:\n",
        "- \\( $\\frac{dL}{da} = \\frac{dL}{de} \\times b$ \\)\n",
        "\n",
        "This step, like the previous ones, is a local application of the chain rule.\n",
        "\n",
        "#### The Recursive Nature of Backpropagation\n",
        "\n",
        "Throughout this journey, there’s an evident pattern:\n",
        "\n",
        "1. **Understanding the Operation:** At each node, we understand the operation that produced the node's value (be it addition, multiplication, etc.).\n",
        "2. **Computing Local Derivatives:** We compute the local derivatives at that node, representing how the node's value changes with respect to its immediate inputs.\n",
        "3. **Applying the Chain Rule:** Using the chain rule, we combine these local derivatives with the gradients we have already computed from subsequent nodes to get the gradients for the current node's inputs.\n",
        "4. **Using Pointers to Traverse:** We use the pointers to the children nodes to move backward recursively through the graph.\n",
        "\n",
        "This approach is a piece-by-piece, local-to-global, recursive application of the chain rule. It ensures that every node in the computation graph receives the gradient information it needs, which in turn is used to adjust the model's parameters and reduce the loss.\n",
        "\n",
        "---\n",
        "\n",
        "In essence, our manual backpropagation is a systematic walk backward through the computational graph, recursively applying the chain rule to propagate gradients from the output all the way to the leaf nodes. This step-by-step process illuminates the inner workings of backpropagation, which, in more complex systems, gets automated but fundamentally remains the same."
      ],
      "metadata": {
        "id": "ChqyHfMPCDWQ"
      }
    },
    {
      "cell_type": "code",
      "source": [
        "a = Value(2.0, label='a')\n",
        "b = Value(-3.0, label='b')\n",
        "c = Value(10.0, label='c')\n",
        "e = a*b; e.label = 'e'\n",
        "d = e + c; d.label = 'd'\n",
        "f = Value(-2.0, label='f')\n",
        "L = d * f; L.label = 'L'\n",
        "\n",
        "# Compute gradients using backpropagation\n",
        "L.grad = 1.0\n",
        "d.grad = f.data\n",
        "f.grad = d.data\n",
        "c.grad = d.grad * 1\n",
        "e.grad = d.grad * 1\n",
        "a.grad = e.grad * b.data\n",
        "b.grad = e.grad * a.data\n",
        "\n",
        "L"
      ],
      "metadata": {
        "colab": {
          "base_uri": "https://localhost:8080/"
        },
        "id": "2cj96K10Hd_4",
        "outputId": "b75236a7-f4e9-4bec-87d8-248489a70240"
      },
      "execution_count": null,
      "outputs": [
        {
          "output_type": "execute_result",
          "data": {
            "text/plain": [
              "Value(data=-8.0)"
            ]
          },
          "metadata": {},
          "execution_count": 52
        }
      ]
    },
    {
      "cell_type": "code",
      "source": [
        "a = Value(2.0, label='a')\n",
        "b = Value(-3.0, label='b')\n",
        "c = Value(10.0, label='c')\n",
        "e = a*b; e.label = 'e'\n",
        "d = e + c; d.label = 'd'\n",
        "f = Value(-2.0, label='f')\n",
        "L = d * f; L.label = 'L'\n",
        "\n",
        "# Compute gradients using backpropagation\n",
        "L.grad = 1.0\n",
        "d.grad = f.data\n",
        "f.grad = d.data\n",
        "c.grad = d.grad * 1\n",
        "e.grad = d.grad * 1\n",
        "a.grad = e.grad * b.data\n",
        "b.grad = e.grad * a.data\n",
        "\n",
        "# Update a.data using gradient descent\n",
        "a.data += 0.01 * a.grad\n",
        "\n",
        "# Recompute the forward pass to get the new value of L with the updated a.data\n",
        "e = a*b\n",
        "d = e + c\n",
        "L = d * f\n",
        "\n",
        "L\n"
      ],
      "metadata": {
        "colab": {
          "base_uri": "https://localhost:8080/"
        },
        "id": "_9vE_o4vHDkB",
        "outputId": "16964d2c-c4ea-4f54-9375-b98d0fe6469b"
      },
      "execution_count": null,
      "outputs": [
        {
          "output_type": "execute_result",
          "data": {
            "text/plain": [
              "Value(data=-7.640000000000001)"
            ]
          },
          "metadata": {},
          "execution_count": 53
        }
      ]
    },
    {
      "cell_type": "code",
      "source": [
        "draw_dot(L)"
      ],
      "metadata": {
        "colab": {
          "base_uri": "https://localhost:8080/",
          "height": 229
        },
        "id": "AfBruptSMku8",
        "outputId": "59a70cb6-4430-4ec0-c28c-183903fa44ad"
      },
      "execution_count": null,
      "outputs": [
        {
          "output_type": "execute_result",
          "data": {
            "image/svg+xml": "<?xml version=\"1.0\" encoding=\"UTF-8\" standalone=\"no\"?>\n<!DOCTYPE svg PUBLIC \"-//W3C//DTD SVG 1.1//EN\"\n \"http://www.w3.org/Graphics/SVG/1.1/DTD/svg11.dtd\">\n<!-- Generated by graphviz version 2.43.0 (0)\n -->\n<!-- Title: %3 Pages: 1 -->\n<svg width=\"1151pt\" height=\"156pt\"\n viewBox=\"0.00 0.00 1151.00 156.00\" xmlns=\"http://www.w3.org/2000/svg\" xmlns:xlink=\"http://www.w3.org/1999/xlink\">\n<g id=\"graph0\" class=\"graph\" transform=\"scale(1 1) rotate(0) translate(4 152)\">\n<title>%3</title>\n<polygon fill=\"white\" stroke=\"transparent\" points=\"-4,4 -4,-152 1147,-152 1147,4 -4,4\"/>\n<!-- 134188906692720 -->\n<g id=\"node1\" class=\"node\">\n<title>134188906692720</title>\n<polygon fill=\"none\" stroke=\"black\" points=\"4.5,-111.5 4.5,-147.5 189.5,-147.5 189.5,-111.5 4.5,-111.5\"/>\n<text text-anchor=\"middle\" x=\"16\" y=\"-125.8\" font-family=\"Times,serif\" font-size=\"14.00\">a</text>\n<polyline fill=\"none\" stroke=\"black\" points=\"27.5,-111.5 27.5,-147.5 \"/>\n<text text-anchor=\"middle\" x=\"67.5\" y=\"-125.8\" font-family=\"Times,serif\" font-size=\"14.00\">data 2.0600</text>\n<polyline fill=\"none\" stroke=\"black\" points=\"107.5,-111.5 107.5,-147.5 \"/>\n<text text-anchor=\"middle\" x=\"148.5\" y=\"-125.8\" font-family=\"Times,serif\" font-size=\"14.00\">grad 6.0000</text>\n</g>\n<!-- 134188906692768* -->\n<g id=\"node3\" class=\"node\">\n<title>134188906692768*</title>\n<ellipse fill=\"none\" stroke=\"black\" cx=\"257\" cy=\"-101.5\" rx=\"27\" ry=\"18\"/>\n<text text-anchor=\"middle\" x=\"257\" y=\"-97.8\" font-family=\"Times,serif\" font-size=\"14.00\">*</text>\n</g>\n<!-- 134188906692720&#45;&gt;134188906692768* -->\n<g id=\"edge5\" class=\"edge\">\n<title>134188906692720&#45;&gt;134188906692768*</title>\n<path fill=\"none\" stroke=\"black\" d=\"M189.91,-113.21C200.76,-111.29 211.28,-109.43 220.61,-107.77\"/>\n<polygon fill=\"black\" stroke=\"black\" points=\"221.37,-111.19 230.6,-106 220.15,-104.3 221.37,-111.19\"/>\n</g>\n<!-- 134188906692768 -->\n<g id=\"node2\" class=\"node\">\n<title>134188906692768</title>\n<polygon fill=\"none\" stroke=\"black\" points=\"324.5,-83.5 324.5,-119.5 511.5,-119.5 511.5,-83.5 324.5,-83.5\"/>\n<text text-anchor=\"middle\" x=\"334.5\" y=\"-97.8\" font-family=\"Times,serif\" font-size=\"14.00\"> </text>\n<polyline fill=\"none\" stroke=\"black\" points=\"344.5,-83.5 344.5,-119.5 \"/>\n<text text-anchor=\"middle\" x=\"387\" y=\"-97.8\" font-family=\"Times,serif\" font-size=\"14.00\">data &#45;6.1800</text>\n<polyline fill=\"none\" stroke=\"black\" points=\"429.5,-83.5 429.5,-119.5 \"/>\n<text text-anchor=\"middle\" x=\"470.5\" y=\"-97.8\" font-family=\"Times,serif\" font-size=\"14.00\">grad 0.0000</text>\n</g>\n<!-- 134188906695600+ -->\n<g id=\"node10\" class=\"node\">\n<title>134188906695600+</title>\n<ellipse fill=\"none\" stroke=\"black\" cx=\"579\" cy=\"-73.5\" rx=\"27\" ry=\"18\"/>\n<text text-anchor=\"middle\" x=\"579\" y=\"-69.8\" font-family=\"Times,serif\" font-size=\"14.00\">+</text>\n</g>\n<!-- 134188906692768&#45;&gt;134188906695600+ -->\n<g id=\"edge8\" class=\"edge\">\n<title>134188906692768&#45;&gt;134188906695600+</title>\n<path fill=\"none\" stroke=\"black\" d=\"M511.95,-85.13C522.81,-83.22 533.33,-81.37 542.66,-79.72\"/>\n<polygon fill=\"black\" stroke=\"black\" points=\"543.4,-83.15 552.64,-77.97 542.19,-76.25 543.4,-83.15\"/>\n</g>\n<!-- 134188906692768*&#45;&gt;134188906692768 -->\n<g id=\"edge1\" class=\"edge\">\n<title>134188906692768*&#45;&gt;134188906692768</title>\n<path fill=\"none\" stroke=\"black\" d=\"M284.26,-101.5C292.97,-101.5 303.26,-101.5 314.19,-101.5\"/>\n<polygon fill=\"black\" stroke=\"black\" points=\"314.39,-105 324.39,-101.5 314.39,-98 314.39,-105\"/>\n</g>\n<!-- 134188906698912 -->\n<g id=\"node4\" class=\"node\">\n<title>134188906698912</title>\n<polygon fill=\"none\" stroke=\"black\" points=\"0,-56.5 0,-92.5 194,-92.5 194,-56.5 0,-56.5\"/>\n<text text-anchor=\"middle\" x=\"11.5\" y=\"-70.8\" font-family=\"Times,serif\" font-size=\"14.00\">b</text>\n<polyline fill=\"none\" stroke=\"black\" points=\"23,-56.5 23,-92.5 \"/>\n<text text-anchor=\"middle\" x=\"65.5\" y=\"-70.8\" font-family=\"Times,serif\" font-size=\"14.00\">data &#45;3.0000</text>\n<polyline fill=\"none\" stroke=\"black\" points=\"108,-56.5 108,-92.5 \"/>\n<text text-anchor=\"middle\" x=\"151\" y=\"-70.8\" font-family=\"Times,serif\" font-size=\"14.00\">grad &#45;4.0000</text>\n</g>\n<!-- 134188906698912&#45;&gt;134188906692768* -->\n<g id=\"edge7\" class=\"edge\">\n<title>134188906698912&#45;&gt;134188906692768*</title>\n<path fill=\"none\" stroke=\"black\" d=\"M194.01,-90.91C203.35,-92.5 212.37,-94.04 220.49,-95.43\"/>\n<polygon fill=\"black\" stroke=\"black\" points=\"220.16,-98.93 230.6,-97.16 221.34,-92.03 220.16,-98.93\"/>\n</g>\n<!-- 134188906701552 -->\n<g id=\"node5\" class=\"node\">\n<title>134188906701552</title>\n<polygon fill=\"none\" stroke=\"black\" points=\"642,-0.5 642,-36.5 830,-36.5 830,-0.5 642,-0.5\"/>\n<text text-anchor=\"middle\" x=\"652.5\" y=\"-14.8\" font-family=\"Times,serif\" font-size=\"14.00\">f</text>\n<polyline fill=\"none\" stroke=\"black\" points=\"663,-0.5 663,-36.5 \"/>\n<text text-anchor=\"middle\" x=\"705.5\" y=\"-14.8\" font-family=\"Times,serif\" font-size=\"14.00\">data &#45;2.0000</text>\n<polyline fill=\"none\" stroke=\"black\" points=\"748,-0.5 748,-36.5 \"/>\n<text text-anchor=\"middle\" x=\"789\" y=\"-14.8\" font-family=\"Times,serif\" font-size=\"14.00\">grad 4.0000</text>\n</g>\n<!-- 134188906692912* -->\n<g id=\"node7\" class=\"node\">\n<title>134188906692912*</title>\n<ellipse fill=\"none\" stroke=\"black\" cx=\"893\" cy=\"-45.5\" rx=\"27\" ry=\"18\"/>\n<text text-anchor=\"middle\" x=\"893\" y=\"-41.8\" font-family=\"Times,serif\" font-size=\"14.00\">*</text>\n</g>\n<!-- 134188906701552&#45;&gt;134188906692912* -->\n<g id=\"edge6\" class=\"edge\">\n<title>134188906701552&#45;&gt;134188906692912*</title>\n<path fill=\"none\" stroke=\"black\" d=\"M830.29,-34.75C839.57,-36.37 848.52,-37.93 856.61,-39.33\"/>\n<polygon fill=\"black\" stroke=\"black\" points=\"856.22,-42.82 866.68,-41.09 857.42,-35.92 856.22,-42.82\"/>\n</g>\n<!-- 134188906692912 -->\n<g id=\"node6\" class=\"node\">\n<title>134188906692912</title>\n<polygon fill=\"none\" stroke=\"black\" points=\"956,-27.5 956,-63.5 1143,-63.5 1143,-27.5 956,-27.5\"/>\n<text text-anchor=\"middle\" x=\"966\" y=\"-41.8\" font-family=\"Times,serif\" font-size=\"14.00\"> </text>\n<polyline fill=\"none\" stroke=\"black\" points=\"976,-27.5 976,-63.5 \"/>\n<text text-anchor=\"middle\" x=\"1018.5\" y=\"-41.8\" font-family=\"Times,serif\" font-size=\"14.00\">data &#45;7.6400</text>\n<polyline fill=\"none\" stroke=\"black\" points=\"1061,-27.5 1061,-63.5 \"/>\n<text text-anchor=\"middle\" x=\"1102\" y=\"-41.8\" font-family=\"Times,serif\" font-size=\"14.00\">grad 0.0000</text>\n</g>\n<!-- 134188906692912*&#45;&gt;134188906692912 -->\n<g id=\"edge2\" class=\"edge\">\n<title>134188906692912*&#45;&gt;134188906692912</title>\n<path fill=\"none\" stroke=\"black\" d=\"M920.21,-45.5C927.73,-45.5 936.43,-45.5 945.67,-45.5\"/>\n<polygon fill=\"black\" stroke=\"black\" points=\"945.89,-49 955.89,-45.5 945.89,-42 945.89,-49\"/>\n</g>\n<!-- 134188906697568 -->\n<g id=\"node8\" class=\"node\">\n<title>134188906697568</title>\n<polygon fill=\"none\" stroke=\"black\" points=\"320,-28.5 320,-64.5 516,-64.5 516,-28.5 320,-28.5\"/>\n<text text-anchor=\"middle\" x=\"331.5\" y=\"-42.8\" font-family=\"Times,serif\" font-size=\"14.00\">c</text>\n<polyline fill=\"none\" stroke=\"black\" points=\"343,-28.5 343,-64.5 \"/>\n<text text-anchor=\"middle\" x=\"386.5\" y=\"-42.8\" font-family=\"Times,serif\" font-size=\"14.00\">data 10.0000</text>\n<polyline fill=\"none\" stroke=\"black\" points=\"430,-28.5 430,-64.5 \"/>\n<text text-anchor=\"middle\" x=\"473\" y=\"-42.8\" font-family=\"Times,serif\" font-size=\"14.00\">grad &#45;2.0000</text>\n</g>\n<!-- 134188906697568&#45;&gt;134188906695600+ -->\n<g id=\"edge4\" class=\"edge\">\n<title>134188906697568&#45;&gt;134188906695600+</title>\n<path fill=\"none\" stroke=\"black\" d=\"M516.07,-62.98C525.42,-64.57 534.43,-66.1 542.55,-67.48\"/>\n<polygon fill=\"black\" stroke=\"black\" points=\"542.21,-70.97 552.65,-69.2 543.38,-64.07 542.21,-70.97\"/>\n</g>\n<!-- 134188906695600 -->\n<g id=\"node9\" class=\"node\">\n<title>134188906695600</title>\n<polygon fill=\"none\" stroke=\"black\" points=\"645,-55.5 645,-91.5 827,-91.5 827,-55.5 645,-55.5\"/>\n<text text-anchor=\"middle\" x=\"655\" y=\"-69.8\" font-family=\"Times,serif\" font-size=\"14.00\"> </text>\n<polyline fill=\"none\" stroke=\"black\" points=\"665,-55.5 665,-91.5 \"/>\n<text text-anchor=\"middle\" x=\"705\" y=\"-69.8\" font-family=\"Times,serif\" font-size=\"14.00\">data 3.8200</text>\n<polyline fill=\"none\" stroke=\"black\" points=\"745,-55.5 745,-91.5 \"/>\n<text text-anchor=\"middle\" x=\"786\" y=\"-69.8\" font-family=\"Times,serif\" font-size=\"14.00\">grad 0.0000</text>\n</g>\n<!-- 134188906695600&#45;&gt;134188906692912* -->\n<g id=\"edge9\" class=\"edge\">\n<title>134188906695600&#45;&gt;134188906692912*</title>\n<path fill=\"none\" stroke=\"black\" d=\"M827.16,-57.21C837.6,-55.33 847.72,-53.5 856.74,-51.87\"/>\n<polygon fill=\"black\" stroke=\"black\" points=\"857.56,-55.28 866.78,-50.06 856.32,-48.39 857.56,-55.28\"/>\n</g>\n<!-- 134188906695600+&#45;&gt;134188906695600 -->\n<g id=\"edge3\" class=\"edge\">\n<title>134188906695600+&#45;&gt;134188906695600</title>\n<path fill=\"none\" stroke=\"black\" d=\"M606.29,-73.5C614.61,-73.5 624.34,-73.5 634.67,-73.5\"/>\n<polygon fill=\"black\" stroke=\"black\" points=\"634.73,-77 644.73,-73.5 634.73,-70 634.73,-77\"/>\n</g>\n</g>\n</svg>\n",
            "text/plain": [
              "<graphviz.graphs.Digraph at 0x7a0b4a1de0e0>"
            ]
          },
          "metadata": {},
          "execution_count": 54
        }
      ]
    },
    {
      "cell_type": "markdown",
      "source": [
        "The code `a.data += 0.01 * a.grad` is performing a gradient descent update on the value of `a.data` based on its gradient `a.grad`.\n",
        "\n",
        "Let's break it down:\n",
        "\n",
        "1. **`a.grad`**: This represents the gradient (or derivative) of the loss with respect to `a.data`. In other words, it indicates how much the loss function will change if `a.data` is changed by a tiny amount. A positive gradient means increasing `a.data` will increase the loss, while a negative gradient means increasing `a.data` will decrease the loss.\n",
        "2. **`0.01`**: This is known as the learning rate. It determines the step size during the gradient descent update. By multiplying the gradient with this value, we scale down the update to avoid making too large a change to `a.data` which might overshoot the optimal value.\n",
        "3. **`a.data +=`**: This is updating the value of `a.data` by adding the computed adjustment (i.e., the product of the learning rate and the gradient). The goal of this update is to reduce the loss.\n",
        "\n",
        "\n",
        "```\n",
        "Starting Value of 'a': a.data\n",
        "Gradient of Loss with respect to 'a': a.grad\n",
        "Learning Rate: 0.01\n",
        "\n",
        "Gradient Update: Adjustment = 0.01 * a.grad\n",
        "New Value of 'a': a.data = a.data + Adjustment\n",
        "```\n",
        "\n",
        "The statement `a.data += 0.01 * a.grad` is a shorthand that combines multiplication and addition. Here's the long form in Python:\n",
        "\n",
        "```python\n",
        "# Step 1: Compute the product of the learning rate (0.01) and the gradient\n",
        "gradient_update = 0.01 * a.grad\n",
        "\n",
        "# Step 2: Add the computed product to the current value of a.data\n",
        "a.data = a.data + gradient_update\n",
        "```\n",
        "\n",
        "In Python, the multiplication (`*`) operator has higher precedence than the addition (`+`) operator, so in the original shorthand, `0.01 * a.grad` gets computed first, and then its result gets added to `a.data`. Breaking it down into multiple steps, as shown above, can make the operations more explicit and clear.\n",
        "\n",
        "---\n",
        "\n",
        "Essentially, the code is adjusting the value of `a.data` in the direction that decreases the loss, with the magnitude of the adjustment being controlled by the learning rate and the gradient. This is a basic step in the gradient descent optimization algorithm used in training neural networks and other machine learning models.\n"
      ],
      "metadata": {
        "id": "mmKRpUsPGZRS"
      }
    },
    {
      "cell_type": "code",
      "source": [
        "\n",
        "a = Value(2.0, label='a')\n",
        "b = Value(-3.0, label='b')\n",
        "c = Value(10.0, label='c')\n",
        "e = a*b; e.label = 'e'\n",
        "d = e + c; d.label = 'd'\n",
        "f = Value(-2.0, label='f')\n",
        "L = d * f; L.label = 'L'\n",
        "\n",
        "# Compute gradients using backpropagation\n",
        "L.grad = 1.0\n",
        "d.grad = f.data\n",
        "f.grad = d.data\n",
        "c.grad = d.grad * 1\n",
        "e.grad = d.grad * 1\n",
        "a.grad = e.grad * b.data\n",
        "b.grad = e.grad * a.data\n",
        "\n",
        "L\n"
      ],
      "metadata": {
        "colab": {
          "base_uri": "https://localhost:8080/"
        },
        "id": "LQYEqKbiHGyS",
        "outputId": "047658f1-46f7-4938-ae82-19ba6bcb8b65"
      },
      "execution_count": null,
      "outputs": [
        {
          "output_type": "execute_result",
          "data": {
            "text/plain": [
              "Value(data=-8.0)"
            ]
          },
          "metadata": {},
          "execution_count": 49
        }
      ]
    },
    {
      "cell_type": "code",
      "source": [
        "a = Value(2.0, label='a')\n",
        "b = Value(-3.0, label='b')\n",
        "c = Value(10.0, label='c')\n",
        "e = a*b; e.label = 'e'\n",
        "d = e + c; d.label = 'd'\n",
        "f = Value(-2.0, label='f')\n",
        "L = d * f; L.label = 'L'\n",
        "\n",
        "# Compute gradients using backpropagation\n",
        "L.grad = 1.0\n",
        "d.grad = f.data\n",
        "f.grad = d.data\n",
        "c.grad = d.grad * 1\n",
        "e.grad = d.grad * 1\n",
        "a.grad = e.grad * b.data\n",
        "b.grad = e.grad * a.data\n",
        "\n",
        "# Update a.data using gradient descent\n",
        "b.data += 0.01 * a.grad\n",
        "\n",
        "# Recompute the forward pass to get the new value of L with the updated a.data\n",
        "e = a*b\n",
        "d = e + c\n",
        "L = d * f\n",
        "\n",
        "L"
      ],
      "metadata": {
        "colab": {
          "base_uri": "https://localhost:8080/"
        },
        "id": "-gZmBK33JuER",
        "outputId": "c812760f-81dd-40b7-bd92-5c0dfc60d153"
      },
      "execution_count": null,
      "outputs": [
        {
          "output_type": "execute_result",
          "data": {
            "text/plain": [
              "Value(data=-8.24)"
            ]
          },
          "metadata": {},
          "execution_count": 50
        }
      ]
    },
    {
      "cell_type": "code",
      "source": [
        "draw_dot(L)"
      ],
      "metadata": {
        "colab": {
          "base_uri": "https://localhost:8080/",
          "height": 229
        },
        "id": "X-ZS40P9MWsZ",
        "outputId": "f50a3317-cb3a-4002-eec1-6b0464763e0c"
      },
      "execution_count": null,
      "outputs": [
        {
          "output_type": "execute_result",
          "data": {
            "image/svg+xml": "<?xml version=\"1.0\" encoding=\"UTF-8\" standalone=\"no\"?>\n<!DOCTYPE svg PUBLIC \"-//W3C//DTD SVG 1.1//EN\"\n \"http://www.w3.org/Graphics/SVG/1.1/DTD/svg11.dtd\">\n<!-- Generated by graphviz version 2.43.0 (0)\n -->\n<!-- Title: %3 Pages: 1 -->\n<svg width=\"1151pt\" height=\"156pt\"\n viewBox=\"0.00 0.00 1151.00 156.00\" xmlns=\"http://www.w3.org/2000/svg\" xmlns:xlink=\"http://www.w3.org/1999/xlink\">\n<g id=\"graph0\" class=\"graph\" transform=\"scale(1 1) rotate(0) translate(4 152)\">\n<title>%3</title>\n<polygon fill=\"white\" stroke=\"transparent\" points=\"-4,4 -4,-152 1147,-152 1147,4 -4,4\"/>\n<!-- 134188907560048 -->\n<g id=\"node1\" class=\"node\">\n<title>134188907560048</title>\n<polygon fill=\"none\" stroke=\"black\" points=\"4.5,-111.5 4.5,-147.5 189.5,-147.5 189.5,-111.5 4.5,-111.5\"/>\n<text text-anchor=\"middle\" x=\"16\" y=\"-125.8\" font-family=\"Times,serif\" font-size=\"14.00\">a</text>\n<polyline fill=\"none\" stroke=\"black\" points=\"27.5,-111.5 27.5,-147.5 \"/>\n<text text-anchor=\"middle\" x=\"67.5\" y=\"-125.8\" font-family=\"Times,serif\" font-size=\"14.00\">data 2.0000</text>\n<polyline fill=\"none\" stroke=\"black\" points=\"107.5,-111.5 107.5,-147.5 \"/>\n<text text-anchor=\"middle\" x=\"148.5\" y=\"-125.8\" font-family=\"Times,serif\" font-size=\"14.00\">grad 6.0000</text>\n</g>\n<!-- 134188906701600* -->\n<g id=\"node4\" class=\"node\">\n<title>134188906701600*</title>\n<ellipse fill=\"none\" stroke=\"black\" cx=\"257\" cy=\"-101.5\" rx=\"27\" ry=\"18\"/>\n<text text-anchor=\"middle\" x=\"257\" y=\"-97.8\" font-family=\"Times,serif\" font-size=\"14.00\">*</text>\n</g>\n<!-- 134188907560048&#45;&gt;134188906701600* -->\n<g id=\"edge6\" class=\"edge\">\n<title>134188907560048&#45;&gt;134188906701600*</title>\n<path fill=\"none\" stroke=\"black\" d=\"M189.91,-113.21C200.76,-111.29 211.28,-109.43 220.61,-107.77\"/>\n<polygon fill=\"black\" stroke=\"black\" points=\"221.37,-111.19 230.6,-106 220.15,-104.3 221.37,-111.19\"/>\n</g>\n<!-- 134188906693296 -->\n<g id=\"node2\" class=\"node\">\n<title>134188906693296</title>\n<polygon fill=\"none\" stroke=\"black\" points=\"642,-0.5 642,-36.5 830,-36.5 830,-0.5 642,-0.5\"/>\n<text text-anchor=\"middle\" x=\"652.5\" y=\"-14.8\" font-family=\"Times,serif\" font-size=\"14.00\">f</text>\n<polyline fill=\"none\" stroke=\"black\" points=\"663,-0.5 663,-36.5 \"/>\n<text text-anchor=\"middle\" x=\"705.5\" y=\"-14.8\" font-family=\"Times,serif\" font-size=\"14.00\">data &#45;2.0000</text>\n<polyline fill=\"none\" stroke=\"black\" points=\"748,-0.5 748,-36.5 \"/>\n<text text-anchor=\"middle\" x=\"789\" y=\"-14.8\" font-family=\"Times,serif\" font-size=\"14.00\">grad 4.0000</text>\n</g>\n<!-- 134188906702272* -->\n<g id=\"node10\" class=\"node\">\n<title>134188906702272*</title>\n<ellipse fill=\"none\" stroke=\"black\" cx=\"893\" cy=\"-45.5\" rx=\"27\" ry=\"18\"/>\n<text text-anchor=\"middle\" x=\"893\" y=\"-41.8\" font-family=\"Times,serif\" font-size=\"14.00\">*</text>\n</g>\n<!-- 134188906693296&#45;&gt;134188906702272* -->\n<g id=\"edge8\" class=\"edge\">\n<title>134188906693296&#45;&gt;134188906702272*</title>\n<path fill=\"none\" stroke=\"black\" d=\"M830.29,-34.75C839.57,-36.37 848.52,-37.93 856.61,-39.33\"/>\n<polygon fill=\"black\" stroke=\"black\" points=\"856.22,-42.82 866.68,-41.09 857.42,-35.92 856.22,-42.82\"/>\n</g>\n<!-- 134188906701600 -->\n<g id=\"node3\" class=\"node\">\n<title>134188906701600</title>\n<polygon fill=\"none\" stroke=\"black\" points=\"324.5,-83.5 324.5,-119.5 511.5,-119.5 511.5,-83.5 324.5,-83.5\"/>\n<text text-anchor=\"middle\" x=\"334.5\" y=\"-97.8\" font-family=\"Times,serif\" font-size=\"14.00\"> </text>\n<polyline fill=\"none\" stroke=\"black\" points=\"344.5,-83.5 344.5,-119.5 \"/>\n<text text-anchor=\"middle\" x=\"387\" y=\"-97.8\" font-family=\"Times,serif\" font-size=\"14.00\">data &#45;5.8800</text>\n<polyline fill=\"none\" stroke=\"black\" points=\"429.5,-83.5 429.5,-119.5 \"/>\n<text text-anchor=\"middle\" x=\"470.5\" y=\"-97.8\" font-family=\"Times,serif\" font-size=\"14.00\">grad 0.0000</text>\n</g>\n<!-- 134188906694592+ -->\n<g id=\"node8\" class=\"node\">\n<title>134188906694592+</title>\n<ellipse fill=\"none\" stroke=\"black\" cx=\"579\" cy=\"-73.5\" rx=\"27\" ry=\"18\"/>\n<text text-anchor=\"middle\" x=\"579\" y=\"-69.8\" font-family=\"Times,serif\" font-size=\"14.00\">+</text>\n</g>\n<!-- 134188906701600&#45;&gt;134188906694592+ -->\n<g id=\"edge9\" class=\"edge\">\n<title>134188906701600&#45;&gt;134188906694592+</title>\n<path fill=\"none\" stroke=\"black\" d=\"M511.95,-85.13C522.81,-83.22 533.33,-81.37 542.66,-79.72\"/>\n<polygon fill=\"black\" stroke=\"black\" points=\"543.4,-83.15 552.64,-77.97 542.19,-76.25 543.4,-83.15\"/>\n</g>\n<!-- 134188906701600*&#45;&gt;134188906701600 -->\n<g id=\"edge1\" class=\"edge\">\n<title>134188906701600*&#45;&gt;134188906701600</title>\n<path fill=\"none\" stroke=\"black\" d=\"M284.26,-101.5C292.97,-101.5 303.26,-101.5 314.19,-101.5\"/>\n<polygon fill=\"black\" stroke=\"black\" points=\"314.39,-105 324.39,-101.5 314.39,-98 314.39,-105\"/>\n</g>\n<!-- 134188907558224 -->\n<g id=\"node5\" class=\"node\">\n<title>134188907558224</title>\n<polygon fill=\"none\" stroke=\"black\" points=\"0,-56.5 0,-92.5 194,-92.5 194,-56.5 0,-56.5\"/>\n<text text-anchor=\"middle\" x=\"11.5\" y=\"-70.8\" font-family=\"Times,serif\" font-size=\"14.00\">b</text>\n<polyline fill=\"none\" stroke=\"black\" points=\"23,-56.5 23,-92.5 \"/>\n<text text-anchor=\"middle\" x=\"65.5\" y=\"-70.8\" font-family=\"Times,serif\" font-size=\"14.00\">data &#45;2.9400</text>\n<polyline fill=\"none\" stroke=\"black\" points=\"108,-56.5 108,-92.5 \"/>\n<text text-anchor=\"middle\" x=\"151\" y=\"-70.8\" font-family=\"Times,serif\" font-size=\"14.00\">grad &#45;4.0000</text>\n</g>\n<!-- 134188907558224&#45;&gt;134188906701600* -->\n<g id=\"edge5\" class=\"edge\">\n<title>134188907558224&#45;&gt;134188906701600*</title>\n<path fill=\"none\" stroke=\"black\" d=\"M194.01,-90.91C203.35,-92.5 212.37,-94.04 220.49,-95.43\"/>\n<polygon fill=\"black\" stroke=\"black\" points=\"220.16,-98.93 230.6,-97.16 221.34,-92.03 220.16,-98.93\"/>\n</g>\n<!-- 134188907554720 -->\n<g id=\"node6\" class=\"node\">\n<title>134188907554720</title>\n<polygon fill=\"none\" stroke=\"black\" points=\"320,-28.5 320,-64.5 516,-64.5 516,-28.5 320,-28.5\"/>\n<text text-anchor=\"middle\" x=\"331.5\" y=\"-42.8\" font-family=\"Times,serif\" font-size=\"14.00\">c</text>\n<polyline fill=\"none\" stroke=\"black\" points=\"343,-28.5 343,-64.5 \"/>\n<text text-anchor=\"middle\" x=\"386.5\" y=\"-42.8\" font-family=\"Times,serif\" font-size=\"14.00\">data 10.0000</text>\n<polyline fill=\"none\" stroke=\"black\" points=\"430,-28.5 430,-64.5 \"/>\n<text text-anchor=\"middle\" x=\"473\" y=\"-42.8\" font-family=\"Times,serif\" font-size=\"14.00\">grad &#45;2.0000</text>\n</g>\n<!-- 134188907554720&#45;&gt;134188906694592+ -->\n<g id=\"edge4\" class=\"edge\">\n<title>134188907554720&#45;&gt;134188906694592+</title>\n<path fill=\"none\" stroke=\"black\" d=\"M516.07,-62.98C525.42,-64.57 534.43,-66.1 542.55,-67.48\"/>\n<polygon fill=\"black\" stroke=\"black\" points=\"542.21,-70.97 552.65,-69.2 543.38,-64.07 542.21,-70.97\"/>\n</g>\n<!-- 134188906694592 -->\n<g id=\"node7\" class=\"node\">\n<title>134188906694592</title>\n<polygon fill=\"none\" stroke=\"black\" points=\"645,-55.5 645,-91.5 827,-91.5 827,-55.5 645,-55.5\"/>\n<text text-anchor=\"middle\" x=\"655\" y=\"-69.8\" font-family=\"Times,serif\" font-size=\"14.00\"> </text>\n<polyline fill=\"none\" stroke=\"black\" points=\"665,-55.5 665,-91.5 \"/>\n<text text-anchor=\"middle\" x=\"705\" y=\"-69.8\" font-family=\"Times,serif\" font-size=\"14.00\">data 4.1200</text>\n<polyline fill=\"none\" stroke=\"black\" points=\"745,-55.5 745,-91.5 \"/>\n<text text-anchor=\"middle\" x=\"786\" y=\"-69.8\" font-family=\"Times,serif\" font-size=\"14.00\">grad 0.0000</text>\n</g>\n<!-- 134188906694592&#45;&gt;134188906702272* -->\n<g id=\"edge7\" class=\"edge\">\n<title>134188906694592&#45;&gt;134188906702272*</title>\n<path fill=\"none\" stroke=\"black\" d=\"M827.16,-57.21C837.6,-55.33 847.72,-53.5 856.74,-51.87\"/>\n<polygon fill=\"black\" stroke=\"black\" points=\"857.56,-55.28 866.78,-50.06 856.32,-48.39 857.56,-55.28\"/>\n</g>\n<!-- 134188906694592+&#45;&gt;134188906694592 -->\n<g id=\"edge2\" class=\"edge\">\n<title>134188906694592+&#45;&gt;134188906694592</title>\n<path fill=\"none\" stroke=\"black\" d=\"M606.29,-73.5C614.61,-73.5 624.34,-73.5 634.67,-73.5\"/>\n<polygon fill=\"black\" stroke=\"black\" points=\"634.73,-77 644.73,-73.5 634.73,-70 634.73,-77\"/>\n</g>\n<!-- 134188906702272 -->\n<g id=\"node9\" class=\"node\">\n<title>134188906702272</title>\n<polygon fill=\"none\" stroke=\"black\" points=\"956,-27.5 956,-63.5 1143,-63.5 1143,-27.5 956,-27.5\"/>\n<text text-anchor=\"middle\" x=\"966\" y=\"-41.8\" font-family=\"Times,serif\" font-size=\"14.00\"> </text>\n<polyline fill=\"none\" stroke=\"black\" points=\"976,-27.5 976,-63.5 \"/>\n<text text-anchor=\"middle\" x=\"1018.5\" y=\"-41.8\" font-family=\"Times,serif\" font-size=\"14.00\">data &#45;8.2400</text>\n<polyline fill=\"none\" stroke=\"black\" points=\"1061,-27.5 1061,-63.5 \"/>\n<text text-anchor=\"middle\" x=\"1102\" y=\"-41.8\" font-family=\"Times,serif\" font-size=\"14.00\">grad 0.0000</text>\n</g>\n<!-- 134188906702272*&#45;&gt;134188906702272 -->\n<g id=\"edge3\" class=\"edge\">\n<title>134188906702272*&#45;&gt;134188906702272</title>\n<path fill=\"none\" stroke=\"black\" d=\"M920.21,-45.5C927.73,-45.5 936.43,-45.5 945.67,-45.5\"/>\n<polygon fill=\"black\" stroke=\"black\" points=\"945.89,-49 955.89,-45.5 945.89,-42 945.89,-49\"/>\n</g>\n</g>\n</svg>\n",
            "text/plain": [
              "<graphviz.graphs.Digraph at 0x7a0b4a1dc520>"
            ]
          },
          "metadata": {},
          "execution_count": 51
        }
      ]
    },
    {
      "cell_type": "markdown",
      "source": [
        "---\n",
        "\n",
        "### Exploring the Effects of Parameter Updates on \\( L \\)\n",
        "\n",
        "In our computational graph, we observed two distinct effects when updating parameters \\( a \\) and \\( b \\) with respect to the loss \\( L \\):\n",
        "\n",
        "1. **Updating Parameter \\( a \\):**\n",
        "    - **Action:** An increase in the value of \\( a \\).\n",
        "    - **Outcome:** A corresponding decrease in \\( L \\).\n",
        "    - **Interpretation:** This suggests that, at the current value of \\( a \\), the parameter is inversely related to \\( L \\). Meaning, as \\( a \\) increases, \\( L \\) decreases. This relationship could be due to the specific structure and operations in our computational graph. When optimizing, it may be beneficial to increase \\( a \\) to minimize \\( L \\), given the current context.\n",
        "\n",
        "2. **Updating Parameter \\( b \\):**\n",
        "    - **Action:** An increase in the value of \\( b \\).\n",
        "    - **Outcome:** A corresponding increase in \\( L \\).\n",
        "    - **Interpretation:** Contrary to \\( a \\), increasing \\( b \\) leads to an increase in \\( L \\), indicating a direct relationship between \\( b \\) and \\( L \\). In the context of optimization, it suggests that to reduce \\( L \\), we might need to decrease the value of \\( b \\).\n",
        "\n",
        "### Reflecting on the Observations:\n",
        "\n",
        "The contrasting effects of updates on \\( a \\) and \\( b \\) emphasize the intricate relationships that parameters can have with the loss in a computational graph. It underscores the importance of understanding the gradient (or direction) in which each parameter should be adjusted to achieve the desired change in the loss. Such insights can be especially valuable when manually tuning or debugging a model, providing guidance on how parameter adjustments might influence the overall outcome.\n",
        "\n",
        "---\n",
        "\n",
        "### Exploring the Effects of Parameter Updates on \\( L \\) Through Gradients\n",
        "\n",
        "In our computational graph, the gradients of the loss \\( L \\) with respect to the parameters provide crucial insights into how adjustments to each parameter will influence \\( L \\). Here's what the gradients tell us:\n",
        "\n",
        "1. **Updating Parameter \\( a \\):**\n",
        "    - **Action:** An increase in the value of \\( a \\).\n",
        "    - **Outcome:** A corresponding decrease in \\( L \\).\n",
        "    - **Interpretation:** The negative gradient of \\( L \\) with respect to \\( a \\) indicates that increasing \\( a \\) will reduce \\( L \\). In essence, the gradient acts as a compass, pointing in the direction of the steepest ascent (or increase) for the function. Therefore, a negative gradient suggests that to minimize \\( L \\), we should move in the positive direction of \\( a \\).\n",
        "\n",
        "2. **Updating Parameter \\( b \\):**\n",
        "    - **Action:** An increase in the value of \\( b \\).\n",
        "    - **Outcome:** A corresponding increase in \\( L \\).\n",
        "    - **Interpretation:** A positive gradient of \\( L \\) with respect to \\( b \\) suggests that increasing \\( b \\) will also increase \\( L \\). This direct relationship, indicated by the gradient, signifies that if our objective is to reduce \\( L \\), we might need to move in the opposite direction of the gradient, i.e., decrease \\( b \\).\n",
        "\n",
        "### Reflecting on the Role of Gradients:\n",
        "\n",
        "Gradients play a pivotal role in understanding and predicting the effects of parameter adjustments on the loss. They quantify the rate of change of the loss with respect to each parameter. In optimization, especially in gradient descent, these gradients guide the updates, ensuring that parameters are adjusted in a manner that moves towards minimizing (or maximizing) the objective function, which in this context, is \\( L \\).\n",
        "\n",
        "By observing the sign and magnitude of these gradients, we gain insights into the relationship between parameters and the loss, guiding our decisions on how to adjust parameters to achieve the desired outcome.\n",
        "\n",
        "---\n"
      ],
      "metadata": {
        "id": "UzEHTfn9L1oH"
      }
    },
    {
      "cell_type": "markdown",
      "source": [
        "---\n",
        "\n",
        "Let's clarify the scenarios when trying to minimize the absolute value of the loss.\n",
        "\n",
        "In the context of gradient descent optimization, the gradient provides direction. A positive gradient indicates that increasing the parameter will increase the function value, and vice versa. The action we take (increase or decrease the parameter) depends on the current value of the loss and our objective.\n",
        "\n",
        "Given that we want to minimize the absolute value of the loss (bring it closer to zero), here are the scenarios:\n",
        "\n",
        "### Scenario Table\n",
        "\n",
        "| Current Loss Value | Gradient Sign | Node Value Sign | Desired Action on Node Value | Explanation |\n",
        "|--------------------|---------------|-----------------|-----------------------------|-------------|\n",
        "| Positive           | Positive      | Positive        | Decrease                    | Increasing a positive node with a positive gradient will increase the positive loss further. To minimize, we decrease the node. |\n",
        "| Positive           | Positive      | Negative        | Increase                    | Increasing a negative node with a positive gradient will decrease the positive loss, moving it closer to zero. |\n",
        "| Positive           | Negative      | Positive        | Increase                    | Increasing a positive node with a negative gradient will decrease the positive loss. |\n",
        "| Positive           | Negative      | Negative        | Decrease                    | Decreasing a negative node with a negative gradient will reduce the positive loss. |\n",
        "| Negative           | Positive      | Positive        | Increase                    | Increasing a positive node with a positive gradient will decrease the magnitude of the negative loss, moving it closer to zero. |\n",
        "| Negative           | Positive      | Negative        | Decrease                    | Decreasing a negative node with a positive gradient will push the negative loss further from zero. To minimize, we increase the node value. |\n",
        "| Negative           | Negative      | Positive        | Decrease                    | Decreasing a positive node with a negative gradient will push the negative loss further from zero. To minimize, we increase the node value. |\n",
        "| Negative           | Negative      | Negative        | Increase                    | Increasing a negative node with a negative gradient will decrease the magnitude of the negative loss. |\n",
        "\n",
        "### Explanation:\n",
        "\n",
        "- When the loss is positive, we aim to decrease it. If the gradient is also positive, increasing the parameter will increase the loss, so we should decrease the parameter. However, if the gradient is negative, increasing the parameter will decrease the loss.\n",
        "- Conversely, when the loss is negative, we want to increase it to move it closer to zero. If the gradient is positive, increasing the parameter will do just that. However, if the gradient is negative, increasing the parameter will push the loss further into the negative range, so we should decrease the parameter.\n",
        "\n",
        "This table provides a comprehensive guide for making decisions on adjusting node values based on the current loss value and gradient sign."
      ],
      "metadata": {
        "id": "H6GlUSLBObZ3"
      }
    },
    {
      "cell_type": "markdown",
      "source": [
        "Yes, that's a concise and accurate way to summarize the table's information!\n",
        "\n",
        "Given that the objective is to minimize the absolute value of the loss (i.e., bring it closer to zero), your observation essentially captures the underlying logic. By multiplying the signs of the Loss value, gradient, and node value, we effectively determine the action to be taken on the node value to move the loss towards zero.\n",
        "\n",
        "Here's the breakdown:\n",
        "\n",
        "1. If the result of multiplying the signs is positive:\n",
        "   - Increase the node value.\n",
        "   \n",
        "2. If the result of multiplying the signs is negative:\n",
        "   - Decrease the node value.\n",
        "\n",
        "This is a handy rule of thumb to quickly determine the direction of the update for a given node, based on its current value, its gradient, and the current loss value."
      ],
      "metadata": {
        "id": "9c38QGK2QVnO"
      }
    },
    {
      "cell_type": "markdown",
      "source": [
        "---\n",
        "\n",
        "## Transitioning to a Simple Multi-Layer Perceptron (MLP)\n",
        "\n",
        "Having laid down the foundational concepts in the introductory section, we now embark on our journey towards constructing a simple Multi-Layer Perceptron (MLP). The MLP, a type of feedforward artificial neural network, consists of multiple layers of nodes in a directed graph, with each layer fully connected to the next one.\n",
        "\n",
        "### The Hyperbolic Tangent Activation Function\n",
        "\n",
        "Before diving deep into the architecture and training of our MLP, it's crucial to understand the role of activation functions and their impact on the network's behavior. Activation functions introduce non-linear properties to the network, enabling it to learn from the error and make adjustments, which is essential for learning complex patterns.\n",
        "\n",
        "One such activation function is the **Hyperbolic Tangent** function, often abbreviated as **tanh**. The tanh function outputs values in the range \\([-1, 1]\\), making it zero-centered and thus, in certain scenarios, leading to easier training and convergence.\n",
        "\n",
        "Let's visualize the tanh function:\n",
        "\n",
        "```python\n",
        "plt.plot(np.arange(-5,5,0.2), np.tanh(np.arange(-5,5,0.2)))\n",
        "plt.grid()\n",
        "plt.title(\"Graph of tanh Function\")\n",
        "plt.xlabel(\"Input Value\")\n",
        "plt.ylabel(\"Output Value\")\n",
        "```\n",
        "\n",
        "The above graph showcases how the tanh function behaves across different input values. Notice how it smoothly transitions from -1 to 1, capturing the essence of its S-shaped curve.\n",
        "\n",
        "As we progress, we'll see how the tanh function fits into the broader framework of our MLP and aids in its learning process.\n",
        "\n",
        "---\n",
        "\n",
        "This text cell provides a smooth transition from the introductory part to the core content, setting the context for the upcoming discussions and implementations related to the MLP."
      ],
      "metadata": {
        "id": "P449HVnrS-y8"
      }
    },
    {
      "cell_type": "code",
      "source": [
        "plt.plot(np.arange(-5,5,0.2), np.tanh(np.arange(-5,5,0.2)))\n",
        "plt.grid()\n",
        "plt.title(\"Graph of tanh Function\")\n",
        "plt.xlabel(\"Input Value\")\n",
        "plt.ylabel(\"Output Value\")"
      ],
      "metadata": {
        "colab": {
          "base_uri": "https://localhost:8080/",
          "height": 490
        },
        "id": "dFT7iGNmTMiL",
        "outputId": "fde09c36-0204-478c-e33e-cd0333926d92"
      },
      "execution_count": null,
      "outputs": [
        {
          "output_type": "execute_result",
          "data": {
            "text/plain": [
              "Text(0, 0.5, 'Output Value')"
            ]
          },
          "metadata": {},
          "execution_count": 55
        },
        {
          "output_type": "display_data",
          "data": {
            "text/plain": [
              "<Figure size 640x480 with 1 Axes>"
            ],
            "image/png": "[encoded data removed]"
          },
          "metadata": {}
        }
      ]
    },
    {
      "cell_type": "markdown",
      "source": [
        "# Activation Function"
      ],
      "metadata": {
        "id": "oLeLAAdnGhso"
      }
    },
    {
      "cell_type": "markdown",
      "source": [
        "The role of activation functions in neural networks is fundamental, and their introduction of non-linearities is central to the power of deep learning models. Let's break down the statement for a more in-depth understanding.\n",
        "\n",
        "---\n",
        "\n",
        "### The Role of Activation Functions in Neural Networks\n",
        "\n",
        "**1. Introduction of Non-linear Properties:**  \n",
        "Neural networks, at their core, involve a series of linear transformations. These are matrix multiplications by weights followed by additions of biases. If we were to stack multiple layers of just these linear operations, no matter how many, the entire network would still behave like a single-layer linear model. This is because the composition of linear functions is always linear.\n",
        "\n",
        "Activation functions introduce non-linearities after each linear transformation. When you sandwich a non-linear activation function between two linear layers, the entire composition becomes non-linear. This allows the model to break away from the confines of linearity and enables it to approximate virtually any function, given enough parameters and data.\n",
        "\n",
        "**2. Learning from Errors and Making Adjustments:**  \n",
        "The backpropagation algorithm, which is used to train neural networks, relies on gradients or derivatives. These gradients, calculated using the chain rule of calculus, indicate the direction and magnitude to adjust the weights and biases. Activation functions play a vital role in this gradient calculation.\n",
        "\n",
        "The non-linear nature of activation functions ensures that small changes in weights can result in significant changes in the output, allowing the model to adjust and correct errors. Without non-linearity, the gradients would either be too uniform or flat, making learning from errors challenging.\n",
        "\n",
        "**3. Essential for Capturing Complex Patterns:**  \n",
        "Real-world data is rarely linear. Think about images, texts, or intricate patterns and relationships in numerical data. These complexities cannot be captured or represented accurately with just linear transformations. Activation functions, by introducing non-linearities, enable neural networks to learn hierarchical features from data.\n",
        "\n",
        "For instance, in image recognition, lower layers might learn edges, the next layers might learn shapes by combining edges, and even higher layers might recognize complex structures by combining shapes. This hierarchical feature learning is made possible due to the non-linear transformations introduced by activation functions.\n",
        "\n",
        "---\n",
        "\n",
        "In summary, activation functions are pivotal in transforming a neural network from a simple linear regressor to a powerful function approximator capable of learning and representing intricate patterns in data."
      ],
      "metadata": {
        "id": "yDKrTZhfCh_I"
      }
    },
    {
      "cell_type": "markdown",
      "source": [
        "The concept of an activation function has its roots in the earliest models of artificial neurons and has evolved alongside the development of artificial neural networks. Let's trace its historical journey:\n",
        "\n",
        "1. **Biological Inspiration (1940s-1950s):**  \n",
        "   The idea of artificial neurons was inspired by biological neurons. In biological systems, a neuron fires (or activates) in response to a sufficient amount of input signal. This firing can be seen as an \"all-or-nothing\" activation function. The first artificial neuron model, the McCulloch-Pitts neuron (1943), had a binary threshold activation, mimicking this biological firing.\n",
        "\n",
        "2. **Perceptron and Threshold Activation (1957):**  \n",
        "   The Perceptron, introduced by Frank Rosenblatt in 1957, utilized a threshold-based activation. If the weighted sum of the inputs exceeded a threshold, the perceptron would output one value (often +1), and if not, it would output another (often -1 or 0). This is a linear classification mechanism.\n",
        "\n",
        "3. **Backpropagation and the Sigmoid (1980s):**  \n",
        "   The backpropagation algorithm, introduced in the 1980s, required differentiable activation functions to compute the gradient used in weight updates. The sigmoid (logistic) function, which is S-shaped and maps any input to a value between 0 and 1, became popular. Its differentiable nature and resemblance to the firing rate of biological neurons made it a suitable choice.\n",
        "\n",
        "4. **Tanh and Other Functions (Late 1980s-1990s):**  \n",
        "   The hyperbolic tangent (tanh) function, which maps inputs to values between -1 and 1, emerged as an alternative to the sigmoid. Being zero-centered, it sometimes led to faster convergence during training.\n",
        "\n",
        "5. **ReLUs and Modern Activation Functions (2010s):**  \n",
        "   The Rectified Linear Unit (ReLU) and its variants became popular in the 2010s. ReLU, which outputs the input if it's positive and zero otherwise, helped mitigate some of the problems associated with sigmoid and tanh, like the vanishing gradient problem. It also made training deep networks more feasible and efficient.\n",
        "\n",
        "Over the years, as our understanding of neural network dynamics improved and the challenges of training deep networks became evident, the need for better activation functions led to the discovery and adoption of various other functions like Leaky ReLU, Parametric ReLU, Exponential Linear Units (ELUs), and more.\n",
        "\n",
        "In essence, the concept of activation functions has been around since the inception of artificial neurons. Still, the specific functions we use and their properties have evolved considerably as the field of neural networks has matured."
      ],
      "metadata": {
        "id": "M02bT6fxDfRK"
      }
    },
    {
      "cell_type": "code",
      "source": [
        "class Value:\n",
        "\n",
        "  def __init__(self, data, _children=(), _op='', label=''):\n",
        "    self.data = data\n",
        "    self._prev = set(_children)\n",
        "    self._op = _op\n",
        "    self.label = label\n",
        "    self.grad = 0.0\n",
        "\n",
        "  def __repr__(self):\n",
        "    return f\"Value(data={self.data})\"\n",
        "\n",
        "  def __add__(self, other):\n",
        "    out = Value(self.data + other.data, (self, other), '+')\n",
        "    return out\n",
        "\n",
        "  def __mul__(self, other):\n",
        "    out = Value(self.data * other.data, (self, other), '*')\n",
        "    return out\n",
        "\n",
        "  def tanh(self):\n",
        "    x = self.data\n",
        "    t = (math.exp(2*x) - 1)/(math.exp(2*x) + 1)\n",
        "    out = Value(t, (self, ), 'tanh')\n",
        "    return out\n"
      ],
      "metadata": {
        "id": "7ejl1VJPFTP8"
      },
      "execution_count": null,
      "outputs": []
    },
    {
      "cell_type": "code",
      "source": [
        "# inputs x1,x2\n",
        "x1 = Value(2.0, label='x1')\n",
        "x2 = Value(0.0, label='x2')\n",
        "# weights w1,w2\n",
        "w1 = Value(-3.0, label='w1')\n",
        "w2 = Value(1.0, label='w2')\n",
        "# bias of the neuron, the 6.88 values means our back propagation will have good numbers!\n",
        "b = Value(6.8813735870195432, label='b')\n",
        "# x1*w1 + x2*w2 + b\n",
        "x1w1 = x1*w1; x1w1.label = 'x1*w1'\n",
        "x2w2 = x2*w2; x2w2.label = 'x2*w2'\n",
        "x1w1x2w2 = x1w1 + x2w2; x1w1x2w2.label = 'x1*w1 + x2*w2'\n",
        "n = x1w1x2w2 + b; n.label = 'n'"
      ],
      "metadata": {
        "id": "3BqvcjvaDv_7"
      },
      "execution_count": null,
      "outputs": []
    },
    {
      "cell_type": "code",
      "source": [
        "draw_dot(n)"
      ],
      "metadata": {
        "colab": {
          "base_uri": "https://localhost:8080/",
          "height": 321
        },
        "id": "jMjbyuLsDzmr",
        "outputId": "f4932a84-4eba-4632-e3b9-bcca180637a5"
      },
      "execution_count": null,
      "outputs": [
        {
          "output_type": "execute_result",
          "data": {
            "image/svg+xml": "<?xml version=\"1.0\" encoding=\"UTF-8\" standalone=\"no\"?>\n<!DOCTYPE svg PUBLIC \"-//W3C//DTD SVG 1.1//EN\"\n \"http://www.w3.org/Graphics/SVG/1.1/DTD/svg11.dtd\">\n<!-- Generated by graphviz version 2.43.0 (0)\n -->\n<!-- Title: %3 Pages: 1 -->\n<svg width=\"1264pt\" height=\"210pt\"\n viewBox=\"0.00 0.00 1264.00 210.00\" xmlns=\"http://www.w3.org/2000/svg\" xmlns:xlink=\"http://www.w3.org/1999/xlink\">\n<g id=\"graph0\" class=\"graph\" transform=\"scale(1 1) rotate(0) translate(4 206)\">\n<title>%3</title>\n<polygon fill=\"white\" stroke=\"transparent\" points=\"-4,4 -4,-206 1260,-206 1260,4 -4,4\"/>\n<!-- 134188872411136 -->\n<g id=\"node1\" class=\"node\">\n<title>134188872411136</title>\n<polygon fill=\"none\" stroke=\"black\" points=\"4,-165.5 4,-201.5 196,-201.5 196,-165.5 4,-165.5\"/>\n<text text-anchor=\"middle\" x=\"19\" y=\"-179.8\" font-family=\"Times,serif\" font-size=\"14.00\">x1</text>\n<polyline fill=\"none\" stroke=\"black\" points=\"34,-165.5 34,-201.5 \"/>\n<text text-anchor=\"middle\" x=\"74\" y=\"-179.8\" font-family=\"Times,serif\" font-size=\"14.00\">data 2.0000</text>\n<polyline fill=\"none\" stroke=\"black\" points=\"114,-165.5 114,-201.5 \"/>\n<text text-anchor=\"middle\" x=\"155\" y=\"-179.8\" font-family=\"Times,serif\" font-size=\"14.00\">grad 0.0000</text>\n</g>\n<!-- 134188872406240* -->\n<g id=\"node7\" class=\"node\">\n<title>134188872406240*</title>\n<ellipse fill=\"none\" stroke=\"black\" cx=\"263\" cy=\"-128.5\" rx=\"27\" ry=\"18\"/>\n<text text-anchor=\"middle\" x=\"263\" y=\"-124.8\" font-family=\"Times,serif\" font-size=\"14.00\">*</text>\n</g>\n<!-- 134188872411136&#45;&gt;134188872406240* -->\n<g id=\"edge8\" class=\"edge\">\n<title>134188872411136&#45;&gt;134188872406240*</title>\n<path fill=\"none\" stroke=\"black\" d=\"M172.53,-165.44C181.84,-162.67 191.2,-159.67 200,-156.5 210.53,-152.71 221.75,-147.9 231.72,-143.33\"/>\n<polygon fill=\"black\" stroke=\"black\" points=\"233.25,-146.48 240.82,-139.07 230.28,-140.14 233.25,-146.48\"/>\n</g>\n<!-- 134188872405520 -->\n<g id=\"node2\" class=\"node\">\n<title>134188872405520</title>\n<polygon fill=\"none\" stroke=\"black\" points=\"4,-55.5 4,-91.5 196,-91.5 196,-55.5 4,-55.5\"/>\n<text text-anchor=\"middle\" x=\"19\" y=\"-69.8\" font-family=\"Times,serif\" font-size=\"14.00\">x2</text>\n<polyline fill=\"none\" stroke=\"black\" points=\"34,-55.5 34,-91.5 \"/>\n<text text-anchor=\"middle\" x=\"74\" y=\"-69.8\" font-family=\"Times,serif\" font-size=\"14.00\">data 0.0000</text>\n<polyline fill=\"none\" stroke=\"black\" points=\"114,-55.5 114,-91.5 \"/>\n<text text-anchor=\"middle\" x=\"155\" y=\"-69.8\" font-family=\"Times,serif\" font-size=\"14.00\">grad 0.0000</text>\n</g>\n<!-- 134188872404896* -->\n<g id=\"node13\" class=\"node\">\n<title>134188872404896*</title>\n<ellipse fill=\"none\" stroke=\"black\" cx=\"263\" cy=\"-73.5\" rx=\"27\" ry=\"18\"/>\n<text text-anchor=\"middle\" x=\"263\" y=\"-69.8\" font-family=\"Times,serif\" font-size=\"14.00\">*</text>\n</g>\n<!-- 134188872405520&#45;&gt;134188872404896* -->\n<g id=\"edge11\" class=\"edge\">\n<title>134188872405520&#45;&gt;134188872404896*</title>\n<path fill=\"none\" stroke=\"black\" d=\"M196.05,-73.5C206.52,-73.5 216.65,-73.5 225.71,-73.5\"/>\n<polygon fill=\"black\" stroke=\"black\" points=\"225.79,-77 235.79,-73.5 225.79,-70 225.79,-77\"/>\n</g>\n<!-- 134188872409648 -->\n<g id=\"node3\" class=\"node\">\n<title>134188872409648</title>\n<polygon fill=\"none\" stroke=\"black\" points=\"716,-27.5 716,-63.5 901,-63.5 901,-27.5 716,-27.5\"/>\n<text text-anchor=\"middle\" x=\"727.5\" y=\"-41.8\" font-family=\"Times,serif\" font-size=\"14.00\">b</text>\n<polyline fill=\"none\" stroke=\"black\" points=\"739,-27.5 739,-63.5 \"/>\n<text text-anchor=\"middle\" x=\"779\" y=\"-41.8\" font-family=\"Times,serif\" font-size=\"14.00\">data 6.8814</text>\n<polyline fill=\"none\" stroke=\"black\" points=\"819,-27.5 819,-63.5 \"/>\n<text text-anchor=\"middle\" x=\"860\" y=\"-41.8\" font-family=\"Times,serif\" font-size=\"14.00\">grad 0.0000</text>\n</g>\n<!-- 134188872406912+ -->\n<g id=\"node11\" class=\"node\">\n<title>134188872406912+</title>\n<ellipse fill=\"none\" stroke=\"black\" cx=\"1008\" cy=\"-72.5\" rx=\"27\" ry=\"18\"/>\n<text text-anchor=\"middle\" x=\"1008\" y=\"-68.8\" font-family=\"Times,serif\" font-size=\"14.00\">+</text>\n</g>\n<!-- 134188872409648&#45;&gt;134188872406912+ -->\n<g id=\"edge9\" class=\"edge\">\n<title>134188872409648&#45;&gt;134188872406912+</title>\n<path fill=\"none\" stroke=\"black\" d=\"M901.02,-58.01C926,-61.43 951.59,-64.93 971.37,-67.63\"/>\n<polygon fill=\"black\" stroke=\"black\" points=\"971.05,-71.12 981.43,-69.01 972,-64.18 971.05,-71.12\"/>\n</g>\n<!-- 134188872416992 -->\n<g id=\"node4\" class=\"node\">\n<title>134188872416992</title>\n<polygon fill=\"none\" stroke=\"black\" points=\"672,-82.5 672,-118.5 945,-118.5 945,-82.5 672,-82.5\"/>\n<text text-anchor=\"middle\" x=\"725\" y=\"-96.8\" font-family=\"Times,serif\" font-size=\"14.00\">x1*w1 + x2*w2</text>\n<polyline fill=\"none\" stroke=\"black\" points=\"778,-82.5 778,-118.5 \"/>\n<text text-anchor=\"middle\" x=\"820.5\" y=\"-96.8\" font-family=\"Times,serif\" font-size=\"14.00\">data &#45;6.0000</text>\n<polyline fill=\"none\" stroke=\"black\" points=\"863,-82.5 863,-118.5 \"/>\n<text text-anchor=\"middle\" x=\"904\" y=\"-96.8\" font-family=\"Times,serif\" font-size=\"14.00\">grad 0.0000</text>\n</g>\n<!-- 134188872416992&#45;&gt;134188872406912+ -->\n<g id=\"edge5\" class=\"edge\">\n<title>134188872416992&#45;&gt;134188872406912+</title>\n<path fill=\"none\" stroke=\"black\" d=\"M936.53,-82.49C949.09,-80.71 960.99,-79.02 971.3,-77.56\"/>\n<polygon fill=\"black\" stroke=\"black\" points=\"972.03,-80.99 981.44,-76.12 971.05,-74.06 972.03,-80.99\"/>\n</g>\n<!-- 134188872416992+ -->\n<g id=\"node5\" class=\"node\">\n<title>134188872416992+</title>\n<ellipse fill=\"none\" stroke=\"black\" cx=\"609\" cy=\"-100.5\" rx=\"27\" ry=\"18\"/>\n<text text-anchor=\"middle\" x=\"609\" y=\"-96.8\" font-family=\"Times,serif\" font-size=\"14.00\">+</text>\n</g>\n<!-- 134188872416992+&#45;&gt;134188872416992 -->\n<g id=\"edge1\" class=\"edge\">\n<title>134188872416992+&#45;&gt;134188872416992</title>\n<path fill=\"none\" stroke=\"black\" d=\"M636.23,-100.5C643.7,-100.5 652.41,-100.5 661.87,-100.5\"/>\n<polygon fill=\"black\" stroke=\"black\" points=\"661.98,-104 671.98,-100.5 661.98,-97 661.98,-104\"/>\n</g>\n<!-- 134188872406240 -->\n<g id=\"node6\" class=\"node\">\n<title>134188872406240</title>\n<polygon fill=\"none\" stroke=\"black\" points=\"326,-110.5 326,-146.5 546,-146.5 546,-110.5 326,-110.5\"/>\n<text text-anchor=\"middle\" x=\"352.5\" y=\"-124.8\" font-family=\"Times,serif\" font-size=\"14.00\">x1*w1</text>\n<polyline fill=\"none\" stroke=\"black\" points=\"379,-110.5 379,-146.5 \"/>\n<text text-anchor=\"middle\" x=\"421.5\" y=\"-124.8\" font-family=\"Times,serif\" font-size=\"14.00\">data &#45;6.0000</text>\n<polyline fill=\"none\" stroke=\"black\" points=\"464,-110.5 464,-146.5 \"/>\n<text text-anchor=\"middle\" x=\"505\" y=\"-124.8\" font-family=\"Times,serif\" font-size=\"14.00\">grad 0.0000</text>\n</g>\n<!-- 134188872406240&#45;&gt;134188872416992+ -->\n<g id=\"edge7\" class=\"edge\">\n<title>134188872406240&#45;&gt;134188872416992+</title>\n<path fill=\"none\" stroke=\"black\" d=\"M546.27,-110.61C555.64,-109.07 564.6,-107.61 572.65,-106.29\"/>\n<polygon fill=\"black\" stroke=\"black\" points=\"573.35,-109.72 582.65,-104.65 572.22,-102.81 573.35,-109.72\"/>\n</g>\n<!-- 134188872406240*&#45;&gt;134188872406240 -->\n<g id=\"edge2\" class=\"edge\">\n<title>134188872406240*&#45;&gt;134188872406240</title>\n<path fill=\"none\" stroke=\"black\" d=\"M290.34,-128.5C297.77,-128.5 306.37,-128.5 315.6,-128.5\"/>\n<polygon fill=\"black\" stroke=\"black\" points=\"315.84,-132 325.84,-128.5 315.84,-125 315.84,-132\"/>\n</g>\n<!-- 134188872410368 -->\n<g id=\"node8\" class=\"node\">\n<title>134188872410368</title>\n<polygon fill=\"none\" stroke=\"black\" points=\"2.5,-0.5 2.5,-36.5 197.5,-36.5 197.5,-0.5 2.5,-0.5\"/>\n<text text-anchor=\"middle\" x=\"19\" y=\"-14.8\" font-family=\"Times,serif\" font-size=\"14.00\">w2</text>\n<polyline fill=\"none\" stroke=\"black\" points=\"35.5,-0.5 35.5,-36.5 \"/>\n<text text-anchor=\"middle\" x=\"75.5\" y=\"-14.8\" font-family=\"Times,serif\" font-size=\"14.00\">data 1.0000</text>\n<polyline fill=\"none\" stroke=\"black\" points=\"115.5,-0.5 115.5,-36.5 \"/>\n<text text-anchor=\"middle\" x=\"156.5\" y=\"-14.8\" font-family=\"Times,serif\" font-size=\"14.00\">grad 0.0000</text>\n</g>\n<!-- 134188872410368&#45;&gt;134188872404896* -->\n<g id=\"edge12\" class=\"edge\">\n<title>134188872410368&#45;&gt;134188872404896*</title>\n<path fill=\"none\" stroke=\"black\" d=\"M169.28,-36.5C179.65,-39.61 190.16,-42.98 200,-46.5 210.28,-50.17 221.28,-54.74 231.11,-59.07\"/>\n<polygon fill=\"black\" stroke=\"black\" points=\"229.93,-62.37 240.48,-63.27 232.79,-55.99 229.93,-62.37\"/>\n</g>\n<!-- 134188872407296 -->\n<g id=\"node9\" class=\"node\">\n<title>134188872407296</title>\n<polygon fill=\"none\" stroke=\"black\" points=\"0,-110.5 0,-146.5 200,-146.5 200,-110.5 0,-110.5\"/>\n<text text-anchor=\"middle\" x=\"16.5\" y=\"-124.8\" font-family=\"Times,serif\" font-size=\"14.00\">w1</text>\n<polyline fill=\"none\" stroke=\"black\" points=\"33,-110.5 33,-146.5 \"/>\n<text text-anchor=\"middle\" x=\"75.5\" y=\"-124.8\" font-family=\"Times,serif\" font-size=\"14.00\">data &#45;3.0000</text>\n<polyline fill=\"none\" stroke=\"black\" points=\"118,-110.5 118,-146.5 \"/>\n<text text-anchor=\"middle\" x=\"159\" y=\"-124.8\" font-family=\"Times,serif\" font-size=\"14.00\">grad 0.0000</text>\n</g>\n<!-- 134188872407296&#45;&gt;134188872406240* -->\n<g id=\"edge10\" class=\"edge\">\n<title>134188872407296&#45;&gt;134188872406240*</title>\n<path fill=\"none\" stroke=\"black\" d=\"M200.21,-128.5C209.2,-128.5 217.86,-128.5 225.7,-128.5\"/>\n<polygon fill=\"black\" stroke=\"black\" points=\"225.85,-132 235.85,-128.5 225.85,-125 225.85,-132\"/>\n</g>\n<!-- 134188872406912 -->\n<g id=\"node10\" class=\"node\">\n<title>134188872406912</title>\n<polygon fill=\"none\" stroke=\"black\" points=\"1071,-54.5 1071,-90.5 1256,-90.5 1256,-54.5 1071,-54.5\"/>\n<text text-anchor=\"middle\" x=\"1082.5\" y=\"-68.8\" font-family=\"Times,serif\" font-size=\"14.00\">n</text>\n<polyline fill=\"none\" stroke=\"black\" points=\"1094,-54.5 1094,-90.5 \"/>\n<text text-anchor=\"middle\" x=\"1134\" y=\"-68.8\" font-family=\"Times,serif\" font-size=\"14.00\">data 0.8814</text>\n<polyline fill=\"none\" stroke=\"black\" points=\"1174,-54.5 1174,-90.5 \"/>\n<text text-anchor=\"middle\" x=\"1215\" y=\"-68.8\" font-family=\"Times,serif\" font-size=\"14.00\">grad 0.0000</text>\n</g>\n<!-- 134188872406912+&#45;&gt;134188872406912 -->\n<g id=\"edge3\" class=\"edge\">\n<title>134188872406912+&#45;&gt;134188872406912</title>\n<path fill=\"none\" stroke=\"black\" d=\"M1035.04,-72.5C1042.58,-72.5 1051.3,-72.5 1060.57,-72.5\"/>\n<polygon fill=\"black\" stroke=\"black\" points=\"1060.81,-76 1070.81,-72.5 1060.81,-69 1060.81,-76\"/>\n</g>\n<!-- 134188872404896 -->\n<g id=\"node12\" class=\"node\">\n<title>134188872404896</title>\n<polygon fill=\"none\" stroke=\"black\" points=\"328.5,-55.5 328.5,-91.5 543.5,-91.5 543.5,-55.5 328.5,-55.5\"/>\n<text text-anchor=\"middle\" x=\"355\" y=\"-69.8\" font-family=\"Times,serif\" font-size=\"14.00\">x2*w2</text>\n<polyline fill=\"none\" stroke=\"black\" points=\"381.5,-55.5 381.5,-91.5 \"/>\n<text text-anchor=\"middle\" x=\"421.5\" y=\"-69.8\" font-family=\"Times,serif\" font-size=\"14.00\">data 0.0000</text>\n<polyline fill=\"none\" stroke=\"black\" points=\"461.5,-55.5 461.5,-91.5 \"/>\n<text text-anchor=\"middle\" x=\"502.5\" y=\"-69.8\" font-family=\"Times,serif\" font-size=\"14.00\">grad 0.0000</text>\n</g>\n<!-- 134188872404896&#45;&gt;134188872416992+ -->\n<g id=\"edge6\" class=\"edge\">\n<title>134188872404896&#45;&gt;134188872416992+</title>\n<path fill=\"none\" stroke=\"black\" d=\"M543.84,-90.37C554.01,-91.98 563.76,-93.51 572.44,-94.89\"/>\n<polygon fill=\"black\" stroke=\"black\" points=\"572.05,-98.37 582.47,-96.47 573.14,-91.45 572.05,-98.37\"/>\n</g>\n<!-- 134188872404896*&#45;&gt;134188872404896 -->\n<g id=\"edge4\" class=\"edge\">\n<title>134188872404896*&#45;&gt;134188872404896</title>\n<path fill=\"none\" stroke=\"black\" d=\"M290.34,-73.5C298.51,-73.5 308.08,-73.5 318.36,-73.5\"/>\n<polygon fill=\"black\" stroke=\"black\" points=\"318.39,-77 328.39,-73.5 318.39,-70 318.39,-77\"/>\n</g>\n</g>\n</svg>\n",
            "text/plain": [
              "<graphviz.graphs.Digraph at 0x7a0b4812b940>"
            ]
          },
          "metadata": {},
          "execution_count": 73
        }
      ]
    },
    {
      "cell_type": "code",
      "source": [
        "o = n.tanh();\n",
        "o.label = 'o';"
      ],
      "metadata": {
        "id": "31qAqfGYFfVD"
      },
      "execution_count": null,
      "outputs": []
    },
    {
      "cell_type": "code",
      "source": [
        "draw_dot(o)"
      ],
      "metadata": {
        "colab": {
          "base_uri": "https://localhost:8080/",
          "height": 321
        },
        "id": "kqfcrzO8Fglr",
        "outputId": "74c643e4-f147-4c45-93b1-3ba61d29d787"
      },
      "execution_count": null,
      "outputs": [
        {
          "output_type": "execute_result",
          "data": {
            "image/svg+xml": "<?xml version=\"1.0\" encoding=\"UTF-8\" standalone=\"no\"?>\n<!DOCTYPE svg PUBLIC \"-//W3C//DTD SVG 1.1//EN\"\n \"http://www.w3.org/Graphics/SVG/1.1/DTD/svg11.dtd\">\n<!-- Generated by graphviz version 2.43.0 (0)\n -->\n<!-- Title: %3 Pages: 1 -->\n<svg width=\"1575pt\" height=\"210pt\"\n viewBox=\"0.00 0.00 1575.00 210.00\" xmlns=\"http://www.w3.org/2000/svg\" xmlns:xlink=\"http://www.w3.org/1999/xlink\">\n<g id=\"graph0\" class=\"graph\" transform=\"scale(1 1) rotate(0) translate(4 206)\">\n<title>%3</title>\n<polygon fill=\"white\" stroke=\"transparent\" points=\"-4,4 -4,-206 1571,-206 1571,4 -4,4\"/>\n<!-- 134188872411136 -->\n<g id=\"node1\" class=\"node\">\n<title>134188872411136</title>\n<polygon fill=\"none\" stroke=\"black\" points=\"4,-165.5 4,-201.5 196,-201.5 196,-165.5 4,-165.5\"/>\n<text text-anchor=\"middle\" x=\"19\" y=\"-179.8\" font-family=\"Times,serif\" font-size=\"14.00\">x1</text>\n<polyline fill=\"none\" stroke=\"black\" points=\"34,-165.5 34,-201.5 \"/>\n<text text-anchor=\"middle\" x=\"74\" y=\"-179.8\" font-family=\"Times,serif\" font-size=\"14.00\">data 2.0000</text>\n<polyline fill=\"none\" stroke=\"black\" points=\"114,-165.5 114,-201.5 \"/>\n<text text-anchor=\"middle\" x=\"155\" y=\"-179.8\" font-family=\"Times,serif\" font-size=\"14.00\">grad 0.0000</text>\n</g>\n<!-- 134188872406240* -->\n<g id=\"node7\" class=\"node\">\n<title>134188872406240*</title>\n<ellipse fill=\"none\" stroke=\"black\" cx=\"263\" cy=\"-128.5\" rx=\"27\" ry=\"18\"/>\n<text text-anchor=\"middle\" x=\"263\" y=\"-124.8\" font-family=\"Times,serif\" font-size=\"14.00\">*</text>\n</g>\n<!-- 134188872411136&#45;&gt;134188872406240* -->\n<g id=\"edge10\" class=\"edge\">\n<title>134188872411136&#45;&gt;134188872406240*</title>\n<path fill=\"none\" stroke=\"black\" d=\"M172.53,-165.44C181.84,-162.67 191.2,-159.67 200,-156.5 210.53,-152.71 221.75,-147.9 231.72,-143.33\"/>\n<polygon fill=\"black\" stroke=\"black\" points=\"233.25,-146.48 240.82,-139.07 230.28,-140.14 233.25,-146.48\"/>\n</g>\n<!-- 134188872405520 -->\n<g id=\"node2\" class=\"node\">\n<title>134188872405520</title>\n<polygon fill=\"none\" stroke=\"black\" points=\"4,-55.5 4,-91.5 196,-91.5 196,-55.5 4,-55.5\"/>\n<text text-anchor=\"middle\" x=\"19\" y=\"-69.8\" font-family=\"Times,serif\" font-size=\"14.00\">x2</text>\n<polyline fill=\"none\" stroke=\"black\" points=\"34,-55.5 34,-91.5 \"/>\n<text text-anchor=\"middle\" x=\"74\" y=\"-69.8\" font-family=\"Times,serif\" font-size=\"14.00\">data 0.0000</text>\n<polyline fill=\"none\" stroke=\"black\" points=\"114,-55.5 114,-91.5 \"/>\n<text text-anchor=\"middle\" x=\"155\" y=\"-69.8\" font-family=\"Times,serif\" font-size=\"14.00\">grad 0.0000</text>\n</g>\n<!-- 134188872404896* -->\n<g id=\"node15\" class=\"node\">\n<title>134188872404896*</title>\n<ellipse fill=\"none\" stroke=\"black\" cx=\"263\" cy=\"-73.5\" rx=\"27\" ry=\"18\"/>\n<text text-anchor=\"middle\" x=\"263\" y=\"-69.8\" font-family=\"Times,serif\" font-size=\"14.00\">*</text>\n</g>\n<!-- 134188872405520&#45;&gt;134188872404896* -->\n<g id=\"edge13\" class=\"edge\">\n<title>134188872405520&#45;&gt;134188872404896*</title>\n<path fill=\"none\" stroke=\"black\" d=\"M196.05,-73.5C206.52,-73.5 216.65,-73.5 225.71,-73.5\"/>\n<polygon fill=\"black\" stroke=\"black\" points=\"225.79,-77 235.79,-73.5 225.79,-70 225.79,-77\"/>\n</g>\n<!-- 134188872409648 -->\n<g id=\"node3\" class=\"node\">\n<title>134188872409648</title>\n<polygon fill=\"none\" stroke=\"black\" points=\"716,-27.5 716,-63.5 901,-63.5 901,-27.5 716,-27.5\"/>\n<text text-anchor=\"middle\" x=\"727.5\" y=\"-41.8\" font-family=\"Times,serif\" font-size=\"14.00\">b</text>\n<polyline fill=\"none\" stroke=\"black\" points=\"739,-27.5 739,-63.5 \"/>\n<text text-anchor=\"middle\" x=\"779\" y=\"-41.8\" font-family=\"Times,serif\" font-size=\"14.00\">data 6.8814</text>\n<polyline fill=\"none\" stroke=\"black\" points=\"819,-27.5 819,-63.5 \"/>\n<text text-anchor=\"middle\" x=\"860\" y=\"-41.8\" font-family=\"Times,serif\" font-size=\"14.00\">grad 0.0000</text>\n</g>\n<!-- 134188872406912+ -->\n<g id=\"node13\" class=\"node\">\n<title>134188872406912+</title>\n<ellipse fill=\"none\" stroke=\"black\" cx=\"1008\" cy=\"-72.5\" rx=\"27\" ry=\"18\"/>\n<text text-anchor=\"middle\" x=\"1008\" y=\"-68.8\" font-family=\"Times,serif\" font-size=\"14.00\">+</text>\n</g>\n<!-- 134188872409648&#45;&gt;134188872406912+ -->\n<g id=\"edge11\" class=\"edge\">\n<title>134188872409648&#45;&gt;134188872406912+</title>\n<path fill=\"none\" stroke=\"black\" d=\"M901.02,-58.01C926,-61.43 951.59,-64.93 971.37,-67.63\"/>\n<polygon fill=\"black\" stroke=\"black\" points=\"971.05,-71.12 981.43,-69.01 972,-64.18 971.05,-71.12\"/>\n</g>\n<!-- 134188872416992 -->\n<g id=\"node4\" class=\"node\">\n<title>134188872416992</title>\n<polygon fill=\"none\" stroke=\"black\" points=\"672,-82.5 672,-118.5 945,-118.5 945,-82.5 672,-82.5\"/>\n<text text-anchor=\"middle\" x=\"725\" y=\"-96.8\" font-family=\"Times,serif\" font-size=\"14.00\">x1*w1 + x2*w2</text>\n<polyline fill=\"none\" stroke=\"black\" points=\"778,-82.5 778,-118.5 \"/>\n<text text-anchor=\"middle\" x=\"820.5\" y=\"-96.8\" font-family=\"Times,serif\" font-size=\"14.00\">data &#45;6.0000</text>\n<polyline fill=\"none\" stroke=\"black\" points=\"863,-82.5 863,-118.5 \"/>\n<text text-anchor=\"middle\" x=\"904\" y=\"-96.8\" font-family=\"Times,serif\" font-size=\"14.00\">grad 0.0000</text>\n</g>\n<!-- 134188872416992&#45;&gt;134188872406912+ -->\n<g id=\"edge6\" class=\"edge\">\n<title>134188872416992&#45;&gt;134188872406912+</title>\n<path fill=\"none\" stroke=\"black\" d=\"M936.53,-82.49C949.09,-80.71 960.99,-79.02 971.3,-77.56\"/>\n<polygon fill=\"black\" stroke=\"black\" points=\"972.03,-80.99 981.44,-76.12 971.05,-74.06 972.03,-80.99\"/>\n</g>\n<!-- 134188872416992+ -->\n<g id=\"node5\" class=\"node\">\n<title>134188872416992+</title>\n<ellipse fill=\"none\" stroke=\"black\" cx=\"609\" cy=\"-100.5\" rx=\"27\" ry=\"18\"/>\n<text text-anchor=\"middle\" x=\"609\" y=\"-96.8\" font-family=\"Times,serif\" font-size=\"14.00\">+</text>\n</g>\n<!-- 134188872416992+&#45;&gt;134188872416992 -->\n<g id=\"edge1\" class=\"edge\">\n<title>134188872416992+&#45;&gt;134188872416992</title>\n<path fill=\"none\" stroke=\"black\" d=\"M636.23,-100.5C643.7,-100.5 652.41,-100.5 661.87,-100.5\"/>\n<polygon fill=\"black\" stroke=\"black\" points=\"661.98,-104 671.98,-100.5 661.98,-97 661.98,-104\"/>\n</g>\n<!-- 134188872406240 -->\n<g id=\"node6\" class=\"node\">\n<title>134188872406240</title>\n<polygon fill=\"none\" stroke=\"black\" points=\"326,-110.5 326,-146.5 546,-146.5 546,-110.5 326,-110.5\"/>\n<text text-anchor=\"middle\" x=\"352.5\" y=\"-124.8\" font-family=\"Times,serif\" font-size=\"14.00\">x1*w1</text>\n<polyline fill=\"none\" stroke=\"black\" points=\"379,-110.5 379,-146.5 \"/>\n<text text-anchor=\"middle\" x=\"421.5\" y=\"-124.8\" font-family=\"Times,serif\" font-size=\"14.00\">data &#45;6.0000</text>\n<polyline fill=\"none\" stroke=\"black\" points=\"464,-110.5 464,-146.5 \"/>\n<text text-anchor=\"middle\" x=\"505\" y=\"-124.8\" font-family=\"Times,serif\" font-size=\"14.00\">grad 0.0000</text>\n</g>\n<!-- 134188872406240&#45;&gt;134188872416992+ -->\n<g id=\"edge9\" class=\"edge\">\n<title>134188872406240&#45;&gt;134188872416992+</title>\n<path fill=\"none\" stroke=\"black\" d=\"M546.27,-110.61C555.64,-109.07 564.6,-107.61 572.65,-106.29\"/>\n<polygon fill=\"black\" stroke=\"black\" points=\"573.35,-109.72 582.65,-104.65 572.22,-102.81 573.35,-109.72\"/>\n</g>\n<!-- 134188872406240*&#45;&gt;134188872406240 -->\n<g id=\"edge2\" class=\"edge\">\n<title>134188872406240*&#45;&gt;134188872406240</title>\n<path fill=\"none\" stroke=\"black\" d=\"M290.34,-128.5C297.77,-128.5 306.37,-128.5 315.6,-128.5\"/>\n<polygon fill=\"black\" stroke=\"black\" points=\"315.84,-132 325.84,-128.5 315.84,-125 315.84,-132\"/>\n</g>\n<!-- 134188872410368 -->\n<g id=\"node8\" class=\"node\">\n<title>134188872410368</title>\n<polygon fill=\"none\" stroke=\"black\" points=\"2.5,-0.5 2.5,-36.5 197.5,-36.5 197.5,-0.5 2.5,-0.5\"/>\n<text text-anchor=\"middle\" x=\"19\" y=\"-14.8\" font-family=\"Times,serif\" font-size=\"14.00\">w2</text>\n<polyline fill=\"none\" stroke=\"black\" points=\"35.5,-0.5 35.5,-36.5 \"/>\n<text text-anchor=\"middle\" x=\"75.5\" y=\"-14.8\" font-family=\"Times,serif\" font-size=\"14.00\">data 1.0000</text>\n<polyline fill=\"none\" stroke=\"black\" points=\"115.5,-0.5 115.5,-36.5 \"/>\n<text text-anchor=\"middle\" x=\"156.5\" y=\"-14.8\" font-family=\"Times,serif\" font-size=\"14.00\">grad 0.0000</text>\n</g>\n<!-- 134188872410368&#45;&gt;134188872404896* -->\n<g id=\"edge14\" class=\"edge\">\n<title>134188872410368&#45;&gt;134188872404896*</title>\n<path fill=\"none\" stroke=\"black\" d=\"M169.28,-36.5C179.65,-39.61 190.16,-42.98 200,-46.5 210.28,-50.17 221.28,-54.74 231.11,-59.07\"/>\n<polygon fill=\"black\" stroke=\"black\" points=\"229.93,-62.37 240.48,-63.27 232.79,-55.99 229.93,-62.37\"/>\n</g>\n<!-- 134188872407296 -->\n<g id=\"node9\" class=\"node\">\n<title>134188872407296</title>\n<polygon fill=\"none\" stroke=\"black\" points=\"0,-110.5 0,-146.5 200,-146.5 200,-110.5 0,-110.5\"/>\n<text text-anchor=\"middle\" x=\"16.5\" y=\"-124.8\" font-family=\"Times,serif\" font-size=\"14.00\">w1</text>\n<polyline fill=\"none\" stroke=\"black\" points=\"33,-110.5 33,-146.5 \"/>\n<text text-anchor=\"middle\" x=\"75.5\" y=\"-124.8\" font-family=\"Times,serif\" font-size=\"14.00\">data &#45;3.0000</text>\n<polyline fill=\"none\" stroke=\"black\" points=\"118,-110.5 118,-146.5 \"/>\n<text text-anchor=\"middle\" x=\"159\" y=\"-124.8\" font-family=\"Times,serif\" font-size=\"14.00\">grad 0.0000</text>\n</g>\n<!-- 134188872407296&#45;&gt;134188872406240* -->\n<g id=\"edge12\" class=\"edge\">\n<title>134188872407296&#45;&gt;134188872406240*</title>\n<path fill=\"none\" stroke=\"black\" d=\"M200.21,-128.5C209.2,-128.5 217.86,-128.5 225.7,-128.5\"/>\n<polygon fill=\"black\" stroke=\"black\" points=\"225.85,-132 235.85,-128.5 225.85,-125 225.85,-132\"/>\n</g>\n<!-- 134188872403264 -->\n<g id=\"node10\" class=\"node\">\n<title>134188872403264</title>\n<polygon fill=\"none\" stroke=\"black\" points=\"1382,-54.5 1382,-90.5 1567,-90.5 1567,-54.5 1382,-54.5\"/>\n<text text-anchor=\"middle\" x=\"1393.5\" y=\"-68.8\" font-family=\"Times,serif\" font-size=\"14.00\">o</text>\n<polyline fill=\"none\" stroke=\"black\" points=\"1405,-54.5 1405,-90.5 \"/>\n<text text-anchor=\"middle\" x=\"1445\" y=\"-68.8\" font-family=\"Times,serif\" font-size=\"14.00\">data 0.7071</text>\n<polyline fill=\"none\" stroke=\"black\" points=\"1485,-54.5 1485,-90.5 \"/>\n<text text-anchor=\"middle\" x=\"1526\" y=\"-68.8\" font-family=\"Times,serif\" font-size=\"14.00\">grad 0.0000</text>\n</g>\n<!-- 134188872403264tanh -->\n<g id=\"node11\" class=\"node\">\n<title>134188872403264tanh</title>\n<ellipse fill=\"none\" stroke=\"black\" cx=\"1319\" cy=\"-72.5\" rx=\"27\" ry=\"18\"/>\n<text text-anchor=\"middle\" x=\"1319\" y=\"-68.8\" font-family=\"Times,serif\" font-size=\"14.00\">tanh</text>\n</g>\n<!-- 134188872403264tanh&#45;&gt;134188872403264 -->\n<g id=\"edge3\" class=\"edge\">\n<title>134188872403264tanh&#45;&gt;134188872403264</title>\n<path fill=\"none\" stroke=\"black\" d=\"M1346.04,-72.5C1353.58,-72.5 1362.3,-72.5 1371.57,-72.5\"/>\n<polygon fill=\"black\" stroke=\"black\" points=\"1371.81,-76 1381.81,-72.5 1371.81,-69 1371.81,-76\"/>\n</g>\n<!-- 134188872406912 -->\n<g id=\"node12\" class=\"node\">\n<title>134188872406912</title>\n<polygon fill=\"none\" stroke=\"black\" points=\"1071,-54.5 1071,-90.5 1256,-90.5 1256,-54.5 1071,-54.5\"/>\n<text text-anchor=\"middle\" x=\"1082.5\" y=\"-68.8\" font-family=\"Times,serif\" font-size=\"14.00\">n</text>\n<polyline fill=\"none\" stroke=\"black\" points=\"1094,-54.5 1094,-90.5 \"/>\n<text text-anchor=\"middle\" x=\"1134\" y=\"-68.8\" font-family=\"Times,serif\" font-size=\"14.00\">data 0.8814</text>\n<polyline fill=\"none\" stroke=\"black\" points=\"1174,-54.5 1174,-90.5 \"/>\n<text text-anchor=\"middle\" x=\"1215\" y=\"-68.8\" font-family=\"Times,serif\" font-size=\"14.00\">grad 0.0000</text>\n</g>\n<!-- 134188872406912&#45;&gt;134188872403264tanh -->\n<g id=\"edge7\" class=\"edge\">\n<title>134188872406912&#45;&gt;134188872403264tanh</title>\n<path fill=\"none\" stroke=\"black\" d=\"M1256.01,-72.5C1265.01,-72.5 1273.74,-72.5 1281.66,-72.5\"/>\n<polygon fill=\"black\" stroke=\"black\" points=\"1281.91,-76 1291.91,-72.5 1281.91,-69 1281.91,-76\"/>\n</g>\n<!-- 134188872406912+&#45;&gt;134188872406912 -->\n<g id=\"edge4\" class=\"edge\">\n<title>134188872406912+&#45;&gt;134188872406912</title>\n<path fill=\"none\" stroke=\"black\" d=\"M1035.04,-72.5C1042.58,-72.5 1051.3,-72.5 1060.57,-72.5\"/>\n<polygon fill=\"black\" stroke=\"black\" points=\"1060.81,-76 1070.81,-72.5 1060.81,-69 1060.81,-76\"/>\n</g>\n<!-- 134188872404896 -->\n<g id=\"node14\" class=\"node\">\n<title>134188872404896</title>\n<polygon fill=\"none\" stroke=\"black\" points=\"328.5,-55.5 328.5,-91.5 543.5,-91.5 543.5,-55.5 328.5,-55.5\"/>\n<text text-anchor=\"middle\" x=\"355\" y=\"-69.8\" font-family=\"Times,serif\" font-size=\"14.00\">x2*w2</text>\n<polyline fill=\"none\" stroke=\"black\" points=\"381.5,-55.5 381.5,-91.5 \"/>\n<text text-anchor=\"middle\" x=\"421.5\" y=\"-69.8\" font-family=\"Times,serif\" font-size=\"14.00\">data 0.0000</text>\n<polyline fill=\"none\" stroke=\"black\" points=\"461.5,-55.5 461.5,-91.5 \"/>\n<text text-anchor=\"middle\" x=\"502.5\" y=\"-69.8\" font-family=\"Times,serif\" font-size=\"14.00\">grad 0.0000</text>\n</g>\n<!-- 134188872404896&#45;&gt;134188872416992+ -->\n<g id=\"edge8\" class=\"edge\">\n<title>134188872404896&#45;&gt;134188872416992+</title>\n<path fill=\"none\" stroke=\"black\" d=\"M543.84,-90.37C554.01,-91.98 563.76,-93.51 572.44,-94.89\"/>\n<polygon fill=\"black\" stroke=\"black\" points=\"572.05,-98.37 582.47,-96.47 573.14,-91.45 572.05,-98.37\"/>\n</g>\n<!-- 134188872404896*&#45;&gt;134188872404896 -->\n<g id=\"edge5\" class=\"edge\">\n<title>134188872404896*&#45;&gt;134188872404896</title>\n<path fill=\"none\" stroke=\"black\" d=\"M290.34,-73.5C298.51,-73.5 308.08,-73.5 318.36,-73.5\"/>\n<polygon fill=\"black\" stroke=\"black\" points=\"318.39,-77 328.39,-73.5 318.39,-70 318.39,-77\"/>\n</g>\n</g>\n</svg>\n",
            "text/plain": [
              "<graphviz.graphs.Digraph at 0x7a0b4812ae00>"
            ]
          },
          "metadata": {},
          "execution_count": 75
        }
      ]
    },
    {
      "cell_type": "markdown",
      "source": [
        "The code represents a simplified model of a single artificial neuron. Let's break down the components and their analogies in neural networks:\n",
        "\n",
        "1. **Inputs \\((x1, x2)\\)**: These represent the input features to the neuron. In a neural network, these would correspond to either the raw input data (for input layer neurons) or the outputs of neurons from the previous layer.\n",
        "\n",
        "2. **Weights \\((w1, w2)\\)**: These are the parameters the model learns during training. They represent the strength or importance of the respective input values. In a biological neuron, these can be thought of as analogous to synaptic strengths.\n",
        "\n",
        "3. **Bias \\((b)\\)**: The bias allows the neuron to shift the activation function to the left or right, which can be crucial for successful learning. It's a kind of offset for a neuron.\n",
        "\n",
        "4. **Linear Combination \\((x1 \\times w1 + x2 \\times w2 + b)\\)**: Before applying the activation function, the neuron computes a weighted sum of its inputs. This is the linear combination of inputs, weights, and bias.\n",
        "\n",
        "5. **Activation Function (tanh in this case)**: Once the neuron computes the linear combination, it's passed through an activation function. The `tanh` function is used here, which introduces non-linearity to the neuron's output. This non-linearity allows neural networks to model more complex relationships in the data.\n",
        "\n",
        "The output \\(o\\) is the final activated value from the neuron, which can be passed to subsequent layers in a neural network or used as a final output in the case of a single-layer network.\n",
        "\n",
        "In essence, this code captures the fundamental operations of a neuron: weighted input summation followed by an activation. It's a foundational building block of neural networks."
      ],
      "metadata": {
        "id": "SWj_KYPLIoN1"
      }
    },
    {
      "cell_type": "markdown",
      "source": [
        "---\n",
        "\n",
        "## Weights and gradients\n",
        "\n",
        "Weights and gradients serve different roles in the context of neural networks, though they are both crucial to the learning process. Let's distinguish between them:\n",
        "\n",
        "1. **Weights**:\n",
        "   - The weights in a neural network represent the strength or importance of particular nodes or connections.\n",
        "   - They are parameters that the model learns during training. Initially, they might be set randomly or using some initialization technique.\n",
        "   - The goal of training a neural network is to adjust these weights to minimize the difference between the predicted output and the actual target values.\n",
        "   - In the context of your neuron example, weights (\\( w1, w2 \\)) determine how much influence each input (\\( x1, x2 \\)) has on the neuron's output.\n",
        "\n",
        "2. **Gradients**:\n",
        "   - Gradients are essentially derivatives. They represent the rate of change of the loss with respect to the weights (or other parameters).\n",
        "   - During training, we compute the gradients to understand how to adjust the weights to improve the model's performance. If a weight's gradient is positive, increasing that weight will increase the loss, and decreasing it will decrease the loss (and vice-versa for a negative gradient).\n",
        "   - Gradients guide the optimization process, helping determine the direction and magnitude of changes to be made to the weights during each iteration.\n",
        "   - In the context of backpropagation, gradients are propagated backward through the network to adjust weights and biases.\n",
        "\n",
        "While weights are the parameters we aim to optimize, gradients provide the direction and magnitude to adjust those weights during training. In the previous examples, gradients were computed using backpropagation and the chain rule to determine how to update weights to minimize the loss."
      ],
      "metadata": {
        "id": "lMUBKXZXKIlj"
      }
    },
    {
      "cell_type": "markdown",
      "source": [
        "In the previous examples, the `Value` class was used to represent any value (or node) in the computational graph, not just weights. The `.data` attribute of the `Value` class held the actual numeric value of that node.\n",
        "\n",
        "When you constructed the simple neural network:\n",
        "\n",
        "1. The `Value.data` attributes for \\( x1 \\), \\( x2 \\) represented input values.\n",
        "2. The `Value.data` attributes for \\( w1 \\), \\( w2 \\) represented weights.\n",
        "3. The `Value.data` attribute for \\( b \\) represented the bias.\n",
        "4. Intermediate computations like \\( $x1 \\times w1$ \\) also had their results stored in `Value.data`.\n",
        "\n",
        "So, while weights were represented using `Value.data` (in the case of \\( w1 \\) and \\( w2 \\)), not all `Value.data` values were weights. The `Value` class was a general structure to hold any value in the computational graph, and its purpose was to facilitate building and manipulating the graph, as well as to enable backpropagation through it."
      ],
      "metadata": {
        "id": "kbFbFSMwKqbf"
      }
    },
    {
      "cell_type": "markdown",
      "source": [
        "## Slow-motion backpropagation\n",
        "\n",
        "### Loss function\n",
        "\n",
        "We know $\\frac{do}{do} = 1$\n",
        "\n",
        "### Tanh activation function.\n",
        "\n",
        "\n",
        "Let's break down the backpropagation process for the tanh activation function.\n",
        "\n",
        "Given:\n",
        "\n",
        "$ o = \\tanh(n) $\n",
        "\n",
        "The derivative of the hyperbolic tangent function, \\($\\tanh(x)$\\), with respect to its input \\(x\\) is:\n",
        "\n",
        "$$ \\frac{d\\tanh(x)}{dx} = 1 - \\tanh^2(x) $$\n",
        "\n",
        "This is the local gradient for the tanh activation function.\n",
        "\n",
        "Now, for our specific node \\( o \\), which is the result of \\($\\tanh(n)$\\), the local derivative (or local gradient) would be:\n",
        "\n",
        "$$ \\frac{do}{dn} = 1 - \\tanh^2(n) $$\n",
        "\n",
        "This local derivative represents how much the output \\( o \\) changes for a small change in its input \\( n \\).\n",
        "\n"
      ],
      "metadata": {
        "id": "XQZnY55JMpZ0"
      }
    },
    {
      "cell_type": "code",
      "source": [
        "o.grad = 1.0"
      ],
      "metadata": {
        "id": "XYsNkxySRXXa"
      },
      "execution_count": null,
      "outputs": []
    },
    {
      "cell_type": "code",
      "source": [
        "# o = tanh(n)\n",
        "# do/dn = 1 - tanh(n)**2\n",
        "# do/dn = 1 - o**2\n",
        "# n.grad = 1 - o.data**2\n",
        "n.grad = 1 - o.data**2\n",
        "n.grad"
      ],
      "metadata": {
        "colab": {
          "base_uri": "https://localhost:8080/"
        },
        "id": "7eAkktRcRa3j",
        "outputId": "7217bf23-88da-432f-b671-a3555af5a9f3"
      },
      "execution_count": null,
      "outputs": [
        {
          "output_type": "execute_result",
          "data": {
            "text/plain": [
              "0.4999999999999999"
            ]
          },
          "metadata": {},
          "execution_count": 77
        }
      ]
    },
    {
      "cell_type": "code",
      "source": [
        "draw_dot(o)"
      ],
      "metadata": {
        "colab": {
          "base_uri": "https://localhost:8080/",
          "height": 321
        },
        "id": "XSX8ncRQTh3F",
        "outputId": "2588bb86-29c9-44ed-a93c-91ea03e2524b"
      },
      "execution_count": null,
      "outputs": [
        {
          "output_type": "execute_result",
          "data": {
            "image/svg+xml": "<?xml version=\"1.0\" encoding=\"UTF-8\" standalone=\"no\"?>\n<!DOCTYPE svg PUBLIC \"-//W3C//DTD SVG 1.1//EN\"\n \"http://www.w3.org/Graphics/SVG/1.1/DTD/svg11.dtd\">\n<!-- Generated by graphviz version 2.43.0 (0)\n -->\n<!-- Title: %3 Pages: 1 -->\n<svg width=\"1575pt\" height=\"210pt\"\n viewBox=\"0.00 0.00 1575.00 210.00\" xmlns=\"http://www.w3.org/2000/svg\" xmlns:xlink=\"http://www.w3.org/1999/xlink\">\n<g id=\"graph0\" class=\"graph\" transform=\"scale(1 1) rotate(0) translate(4 206)\">\n<title>%3</title>\n<polygon fill=\"white\" stroke=\"transparent\" points=\"-4,4 -4,-206 1571,-206 1571,4 -4,4\"/>\n<!-- 134188872411136 -->\n<g id=\"node1\" class=\"node\">\n<title>134188872411136</title>\n<polygon fill=\"none\" stroke=\"black\" points=\"4,-165.5 4,-201.5 196,-201.5 196,-165.5 4,-165.5\"/>\n<text text-anchor=\"middle\" x=\"19\" y=\"-179.8\" font-family=\"Times,serif\" font-size=\"14.00\">x1</text>\n<polyline fill=\"none\" stroke=\"black\" points=\"34,-165.5 34,-201.5 \"/>\n<text text-anchor=\"middle\" x=\"74\" y=\"-179.8\" font-family=\"Times,serif\" font-size=\"14.00\">data 2.0000</text>\n<polyline fill=\"none\" stroke=\"black\" points=\"114,-165.5 114,-201.5 \"/>\n<text text-anchor=\"middle\" x=\"155\" y=\"-179.8\" font-family=\"Times,serif\" font-size=\"14.00\">grad 0.0000</text>\n</g>\n<!-- 134188872406240* -->\n<g id=\"node7\" class=\"node\">\n<title>134188872406240*</title>\n<ellipse fill=\"none\" stroke=\"black\" cx=\"263\" cy=\"-128.5\" rx=\"27\" ry=\"18\"/>\n<text text-anchor=\"middle\" x=\"263\" y=\"-124.8\" font-family=\"Times,serif\" font-size=\"14.00\">*</text>\n</g>\n<!-- 134188872411136&#45;&gt;134188872406240* -->\n<g id=\"edge10\" class=\"edge\">\n<title>134188872411136&#45;&gt;134188872406240*</title>\n<path fill=\"none\" stroke=\"black\" d=\"M172.53,-165.44C181.84,-162.67 191.2,-159.67 200,-156.5 210.53,-152.71 221.75,-147.9 231.72,-143.33\"/>\n<polygon fill=\"black\" stroke=\"black\" points=\"233.25,-146.48 240.82,-139.07 230.28,-140.14 233.25,-146.48\"/>\n</g>\n<!-- 134188872405520 -->\n<g id=\"node2\" class=\"node\">\n<title>134188872405520</title>\n<polygon fill=\"none\" stroke=\"black\" points=\"4,-55.5 4,-91.5 196,-91.5 196,-55.5 4,-55.5\"/>\n<text text-anchor=\"middle\" x=\"19\" y=\"-69.8\" font-family=\"Times,serif\" font-size=\"14.00\">x2</text>\n<polyline fill=\"none\" stroke=\"black\" points=\"34,-55.5 34,-91.5 \"/>\n<text text-anchor=\"middle\" x=\"74\" y=\"-69.8\" font-family=\"Times,serif\" font-size=\"14.00\">data 0.0000</text>\n<polyline fill=\"none\" stroke=\"black\" points=\"114,-55.5 114,-91.5 \"/>\n<text text-anchor=\"middle\" x=\"155\" y=\"-69.8\" font-family=\"Times,serif\" font-size=\"14.00\">grad 0.0000</text>\n</g>\n<!-- 134188872404896* -->\n<g id=\"node15\" class=\"node\">\n<title>134188872404896*</title>\n<ellipse fill=\"none\" stroke=\"black\" cx=\"263\" cy=\"-73.5\" rx=\"27\" ry=\"18\"/>\n<text text-anchor=\"middle\" x=\"263\" y=\"-69.8\" font-family=\"Times,serif\" font-size=\"14.00\">*</text>\n</g>\n<!-- 134188872405520&#45;&gt;134188872404896* -->\n<g id=\"edge13\" class=\"edge\">\n<title>134188872405520&#45;&gt;134188872404896*</title>\n<path fill=\"none\" stroke=\"black\" d=\"M196.05,-73.5C206.52,-73.5 216.65,-73.5 225.71,-73.5\"/>\n<polygon fill=\"black\" stroke=\"black\" points=\"225.79,-77 235.79,-73.5 225.79,-70 225.79,-77\"/>\n</g>\n<!-- 134188872409648 -->\n<g id=\"node3\" class=\"node\">\n<title>134188872409648</title>\n<polygon fill=\"none\" stroke=\"black\" points=\"716,-27.5 716,-63.5 901,-63.5 901,-27.5 716,-27.5\"/>\n<text text-anchor=\"middle\" x=\"727.5\" y=\"-41.8\" font-family=\"Times,serif\" font-size=\"14.00\">b</text>\n<polyline fill=\"none\" stroke=\"black\" points=\"739,-27.5 739,-63.5 \"/>\n<text text-anchor=\"middle\" x=\"779\" y=\"-41.8\" font-family=\"Times,serif\" font-size=\"14.00\">data 6.8814</text>\n<polyline fill=\"none\" stroke=\"black\" points=\"819,-27.5 819,-63.5 \"/>\n<text text-anchor=\"middle\" x=\"860\" y=\"-41.8\" font-family=\"Times,serif\" font-size=\"14.00\">grad 0.0000</text>\n</g>\n<!-- 134188872406912+ -->\n<g id=\"node13\" class=\"node\">\n<title>134188872406912+</title>\n<ellipse fill=\"none\" stroke=\"black\" cx=\"1008\" cy=\"-72.5\" rx=\"27\" ry=\"18\"/>\n<text text-anchor=\"middle\" x=\"1008\" y=\"-68.8\" font-family=\"Times,serif\" font-size=\"14.00\">+</text>\n</g>\n<!-- 134188872409648&#45;&gt;134188872406912+ -->\n<g id=\"edge11\" class=\"edge\">\n<title>134188872409648&#45;&gt;134188872406912+</title>\n<path fill=\"none\" stroke=\"black\" d=\"M901.02,-58.01C926,-61.43 951.59,-64.93 971.37,-67.63\"/>\n<polygon fill=\"black\" stroke=\"black\" points=\"971.05,-71.12 981.43,-69.01 972,-64.18 971.05,-71.12\"/>\n</g>\n<!-- 134188872416992 -->\n<g id=\"node4\" class=\"node\">\n<title>134188872416992</title>\n<polygon fill=\"none\" stroke=\"black\" points=\"672,-82.5 672,-118.5 945,-118.5 945,-82.5 672,-82.5\"/>\n<text text-anchor=\"middle\" x=\"725\" y=\"-96.8\" font-family=\"Times,serif\" font-size=\"14.00\">x1*w1 + x2*w2</text>\n<polyline fill=\"none\" stroke=\"black\" points=\"778,-82.5 778,-118.5 \"/>\n<text text-anchor=\"middle\" x=\"820.5\" y=\"-96.8\" font-family=\"Times,serif\" font-size=\"14.00\">data &#45;6.0000</text>\n<polyline fill=\"none\" stroke=\"black\" points=\"863,-82.5 863,-118.5 \"/>\n<text text-anchor=\"middle\" x=\"904\" y=\"-96.8\" font-family=\"Times,serif\" font-size=\"14.00\">grad 0.0000</text>\n</g>\n<!-- 134188872416992&#45;&gt;134188872406912+ -->\n<g id=\"edge6\" class=\"edge\">\n<title>134188872416992&#45;&gt;134188872406912+</title>\n<path fill=\"none\" stroke=\"black\" d=\"M936.53,-82.49C949.09,-80.71 960.99,-79.02 971.3,-77.56\"/>\n<polygon fill=\"black\" stroke=\"black\" points=\"972.03,-80.99 981.44,-76.12 971.05,-74.06 972.03,-80.99\"/>\n</g>\n<!-- 134188872416992+ -->\n<g id=\"node5\" class=\"node\">\n<title>134188872416992+</title>\n<ellipse fill=\"none\" stroke=\"black\" cx=\"609\" cy=\"-100.5\" rx=\"27\" ry=\"18\"/>\n<text text-anchor=\"middle\" x=\"609\" y=\"-96.8\" font-family=\"Times,serif\" font-size=\"14.00\">+</text>\n</g>\n<!-- 134188872416992+&#45;&gt;134188872416992 -->\n<g id=\"edge1\" class=\"edge\">\n<title>134188872416992+&#45;&gt;134188872416992</title>\n<path fill=\"none\" stroke=\"black\" d=\"M636.23,-100.5C643.7,-100.5 652.41,-100.5 661.87,-100.5\"/>\n<polygon fill=\"black\" stroke=\"black\" points=\"661.98,-104 671.98,-100.5 661.98,-97 661.98,-104\"/>\n</g>\n<!-- 134188872406240 -->\n<g id=\"node6\" class=\"node\">\n<title>134188872406240</title>\n<polygon fill=\"none\" stroke=\"black\" points=\"326,-110.5 326,-146.5 546,-146.5 546,-110.5 326,-110.5\"/>\n<text text-anchor=\"middle\" x=\"352.5\" y=\"-124.8\" font-family=\"Times,serif\" font-size=\"14.00\">x1*w1</text>\n<polyline fill=\"none\" stroke=\"black\" points=\"379,-110.5 379,-146.5 \"/>\n<text text-anchor=\"middle\" x=\"421.5\" y=\"-124.8\" font-family=\"Times,serif\" font-size=\"14.00\">data &#45;6.0000</text>\n<polyline fill=\"none\" stroke=\"black\" points=\"464,-110.5 464,-146.5 \"/>\n<text text-anchor=\"middle\" x=\"505\" y=\"-124.8\" font-family=\"Times,serif\" font-size=\"14.00\">grad 0.0000</text>\n</g>\n<!-- 134188872406240&#45;&gt;134188872416992+ -->\n<g id=\"edge9\" class=\"edge\">\n<title>134188872406240&#45;&gt;134188872416992+</title>\n<path fill=\"none\" stroke=\"black\" d=\"M546.27,-110.61C555.64,-109.07 564.6,-107.61 572.65,-106.29\"/>\n<polygon fill=\"black\" stroke=\"black\" points=\"573.35,-109.72 582.65,-104.65 572.22,-102.81 573.35,-109.72\"/>\n</g>\n<!-- 134188872406240*&#45;&gt;134188872406240 -->\n<g id=\"edge2\" class=\"edge\">\n<title>134188872406240*&#45;&gt;134188872406240</title>\n<path fill=\"none\" stroke=\"black\" d=\"M290.34,-128.5C297.77,-128.5 306.37,-128.5 315.6,-128.5\"/>\n<polygon fill=\"black\" stroke=\"black\" points=\"315.84,-132 325.84,-128.5 315.84,-125 315.84,-132\"/>\n</g>\n<!-- 134188872410368 -->\n<g id=\"node8\" class=\"node\">\n<title>134188872410368</title>\n<polygon fill=\"none\" stroke=\"black\" points=\"2.5,-0.5 2.5,-36.5 197.5,-36.5 197.5,-0.5 2.5,-0.5\"/>\n<text text-anchor=\"middle\" x=\"19\" y=\"-14.8\" font-family=\"Times,serif\" font-size=\"14.00\">w2</text>\n<polyline fill=\"none\" stroke=\"black\" points=\"35.5,-0.5 35.5,-36.5 \"/>\n<text text-anchor=\"middle\" x=\"75.5\" y=\"-14.8\" font-family=\"Times,serif\" font-size=\"14.00\">data 1.0000</text>\n<polyline fill=\"none\" stroke=\"black\" points=\"115.5,-0.5 115.5,-36.5 \"/>\n<text text-anchor=\"middle\" x=\"156.5\" y=\"-14.8\" font-family=\"Times,serif\" font-size=\"14.00\">grad 0.0000</text>\n</g>\n<!-- 134188872410368&#45;&gt;134188872404896* -->\n<g id=\"edge14\" class=\"edge\">\n<title>134188872410368&#45;&gt;134188872404896*</title>\n<path fill=\"none\" stroke=\"black\" d=\"M169.28,-36.5C179.65,-39.61 190.16,-42.98 200,-46.5 210.28,-50.17 221.28,-54.74 231.11,-59.07\"/>\n<polygon fill=\"black\" stroke=\"black\" points=\"229.93,-62.37 240.48,-63.27 232.79,-55.99 229.93,-62.37\"/>\n</g>\n<!-- 134188872407296 -->\n<g id=\"node9\" class=\"node\">\n<title>134188872407296</title>\n<polygon fill=\"none\" stroke=\"black\" points=\"0,-110.5 0,-146.5 200,-146.5 200,-110.5 0,-110.5\"/>\n<text text-anchor=\"middle\" x=\"16.5\" y=\"-124.8\" font-family=\"Times,serif\" font-size=\"14.00\">w1</text>\n<polyline fill=\"none\" stroke=\"black\" points=\"33,-110.5 33,-146.5 \"/>\n<text text-anchor=\"middle\" x=\"75.5\" y=\"-124.8\" font-family=\"Times,serif\" font-size=\"14.00\">data &#45;3.0000</text>\n<polyline fill=\"none\" stroke=\"black\" points=\"118,-110.5 118,-146.5 \"/>\n<text text-anchor=\"middle\" x=\"159\" y=\"-124.8\" font-family=\"Times,serif\" font-size=\"14.00\">grad 0.0000</text>\n</g>\n<!-- 134188872407296&#45;&gt;134188872406240* -->\n<g id=\"edge12\" class=\"edge\">\n<title>134188872407296&#45;&gt;134188872406240*</title>\n<path fill=\"none\" stroke=\"black\" d=\"M200.21,-128.5C209.2,-128.5 217.86,-128.5 225.7,-128.5\"/>\n<polygon fill=\"black\" stroke=\"black\" points=\"225.85,-132 235.85,-128.5 225.85,-125 225.85,-132\"/>\n</g>\n<!-- 134188872403264 -->\n<g id=\"node10\" class=\"node\">\n<title>134188872403264</title>\n<polygon fill=\"none\" stroke=\"black\" points=\"1382,-54.5 1382,-90.5 1567,-90.5 1567,-54.5 1382,-54.5\"/>\n<text text-anchor=\"middle\" x=\"1393.5\" y=\"-68.8\" font-family=\"Times,serif\" font-size=\"14.00\">o</text>\n<polyline fill=\"none\" stroke=\"black\" points=\"1405,-54.5 1405,-90.5 \"/>\n<text text-anchor=\"middle\" x=\"1445\" y=\"-68.8\" font-family=\"Times,serif\" font-size=\"14.00\">data 0.7071</text>\n<polyline fill=\"none\" stroke=\"black\" points=\"1485,-54.5 1485,-90.5 \"/>\n<text text-anchor=\"middle\" x=\"1526\" y=\"-68.8\" font-family=\"Times,serif\" font-size=\"14.00\">grad 1.0000</text>\n</g>\n<!-- 134188872403264tanh -->\n<g id=\"node11\" class=\"node\">\n<title>134188872403264tanh</title>\n<ellipse fill=\"none\" stroke=\"black\" cx=\"1319\" cy=\"-72.5\" rx=\"27\" ry=\"18\"/>\n<text text-anchor=\"middle\" x=\"1319\" y=\"-68.8\" font-family=\"Times,serif\" font-size=\"14.00\">tanh</text>\n</g>\n<!-- 134188872403264tanh&#45;&gt;134188872403264 -->\n<g id=\"edge3\" class=\"edge\">\n<title>134188872403264tanh&#45;&gt;134188872403264</title>\n<path fill=\"none\" stroke=\"black\" d=\"M1346.04,-72.5C1353.58,-72.5 1362.3,-72.5 1371.57,-72.5\"/>\n<polygon fill=\"black\" stroke=\"black\" points=\"1371.81,-76 1381.81,-72.5 1371.81,-69 1371.81,-76\"/>\n</g>\n<!-- 134188872406912 -->\n<g id=\"node12\" class=\"node\">\n<title>134188872406912</title>\n<polygon fill=\"none\" stroke=\"black\" points=\"1071,-54.5 1071,-90.5 1256,-90.5 1256,-54.5 1071,-54.5\"/>\n<text text-anchor=\"middle\" x=\"1082.5\" y=\"-68.8\" font-family=\"Times,serif\" font-size=\"14.00\">n</text>\n<polyline fill=\"none\" stroke=\"black\" points=\"1094,-54.5 1094,-90.5 \"/>\n<text text-anchor=\"middle\" x=\"1134\" y=\"-68.8\" font-family=\"Times,serif\" font-size=\"14.00\">data 0.8814</text>\n<polyline fill=\"none\" stroke=\"black\" points=\"1174,-54.5 1174,-90.5 \"/>\n<text text-anchor=\"middle\" x=\"1215\" y=\"-68.8\" font-family=\"Times,serif\" font-size=\"14.00\">grad 0.5000</text>\n</g>\n<!-- 134188872406912&#45;&gt;134188872403264tanh -->\n<g id=\"edge7\" class=\"edge\">\n<title>134188872406912&#45;&gt;134188872403264tanh</title>\n<path fill=\"none\" stroke=\"black\" d=\"M1256.01,-72.5C1265.01,-72.5 1273.74,-72.5 1281.66,-72.5\"/>\n<polygon fill=\"black\" stroke=\"black\" points=\"1281.91,-76 1291.91,-72.5 1281.91,-69 1281.91,-76\"/>\n</g>\n<!-- 134188872406912+&#45;&gt;134188872406912 -->\n<g id=\"edge4\" class=\"edge\">\n<title>134188872406912+&#45;&gt;134188872406912</title>\n<path fill=\"none\" stroke=\"black\" d=\"M1035.04,-72.5C1042.58,-72.5 1051.3,-72.5 1060.57,-72.5\"/>\n<polygon fill=\"black\" stroke=\"black\" points=\"1060.81,-76 1070.81,-72.5 1060.81,-69 1060.81,-76\"/>\n</g>\n<!-- 134188872404896 -->\n<g id=\"node14\" class=\"node\">\n<title>134188872404896</title>\n<polygon fill=\"none\" stroke=\"black\" points=\"328.5,-55.5 328.5,-91.5 543.5,-91.5 543.5,-55.5 328.5,-55.5\"/>\n<text text-anchor=\"middle\" x=\"355\" y=\"-69.8\" font-family=\"Times,serif\" font-size=\"14.00\">x2*w2</text>\n<polyline fill=\"none\" stroke=\"black\" points=\"381.5,-55.5 381.5,-91.5 \"/>\n<text text-anchor=\"middle\" x=\"421.5\" y=\"-69.8\" font-family=\"Times,serif\" font-size=\"14.00\">data 0.0000</text>\n<polyline fill=\"none\" stroke=\"black\" points=\"461.5,-55.5 461.5,-91.5 \"/>\n<text text-anchor=\"middle\" x=\"502.5\" y=\"-69.8\" font-family=\"Times,serif\" font-size=\"14.00\">grad 0.0000</text>\n</g>\n<!-- 134188872404896&#45;&gt;134188872416992+ -->\n<g id=\"edge8\" class=\"edge\">\n<title>134188872404896&#45;&gt;134188872416992+</title>\n<path fill=\"none\" stroke=\"black\" d=\"M543.84,-90.37C554.01,-91.98 563.76,-93.51 572.44,-94.89\"/>\n<polygon fill=\"black\" stroke=\"black\" points=\"572.05,-98.37 582.47,-96.47 573.14,-91.45 572.05,-98.37\"/>\n</g>\n<!-- 134188872404896*&#45;&gt;134188872404896 -->\n<g id=\"edge5\" class=\"edge\">\n<title>134188872404896*&#45;&gt;134188872404896</title>\n<path fill=\"none\" stroke=\"black\" d=\"M290.34,-73.5C298.51,-73.5 308.08,-73.5 318.36,-73.5\"/>\n<polygon fill=\"black\" stroke=\"black\" points=\"318.39,-77 328.39,-73.5 318.39,-70 318.39,-77\"/>\n</g>\n</g>\n</svg>\n",
            "text/plain": [
              "<graphviz.graphs.Digraph at 0x7a0b48129c90>"
            ]
          },
          "metadata": {},
          "execution_count": 78
        }
      ]
    },
    {
      "cell_type": "markdown",
      "source": [
        "## The \"+\" node (again)\n",
        "\n",
        "Now, let's move one step back in the computational graph to understand how the gradient flows through the \"+\" node, \\( $x1w1*x2w2 + b$\\).\n",
        "\n",
        "For a \"+\" node, the operation is element-wise addition. The important property of addition in terms of differentiation is that its derivative with respect to any of its operands is 1. Essentially, a unit of change in any operand of the addition results in a unit change in the result of the addition. Therefore, when you backpropagate through an addition node, the gradient doesn't change.\n",
        "\n",
        "\n",
        "Given that you've already computed \\( n.grad \\), you can directly assign this value to the gradients of both \\( $x1w1*x2w2$ \\) and \\( $b$ \\). This means the gradient simply \"flows backward\" through the \"+\" node without any change:\n",
        "\n",
        "```\n",
        "x1w1x2w2.grad = n.grad\n",
        "b.grad = n.grad\n",
        "```\n",
        "\n",
        "In summary, when backpropagating through an addition node, the gradient is distributed equally to all its inputs.\n"
      ],
      "metadata": {
        "id": "MsnCWhy8TQb7"
      }
    },
    {
      "cell_type": "code",
      "source": [
        "x1w1x2w2.grad = n.grad\n",
        "b.grad = n.grad"
      ],
      "metadata": {
        "id": "d3MejJWcVSAx"
      },
      "execution_count": null,
      "outputs": []
    },
    {
      "cell_type": "code",
      "source": [
        "draw_dot(o)"
      ],
      "metadata": {
        "colab": {
          "base_uri": "https://localhost:8080/",
          "height": 321
        },
        "id": "zdO45pMAVTmx",
        "outputId": "6e29c67b-938d-44d0-8937-2f3fdee14eda"
      },
      "execution_count": null,
      "outputs": [
        {
          "output_type": "execute_result",
          "data": {
            "image/svg+xml": "<?xml version=\"1.0\" encoding=\"UTF-8\" standalone=\"no\"?>\n<!DOCTYPE svg PUBLIC \"-//W3C//DTD SVG 1.1//EN\"\n \"http://www.w3.org/Graphics/SVG/1.1/DTD/svg11.dtd\">\n<!-- Generated by graphviz version 2.43.0 (0)\n -->\n<!-- Title: %3 Pages: 1 -->\n<svg width=\"1575pt\" height=\"210pt\"\n viewBox=\"0.00 0.00 1575.00 210.00\" xmlns=\"http://www.w3.org/2000/svg\" xmlns:xlink=\"http://www.w3.org/1999/xlink\">\n<g id=\"graph0\" class=\"graph\" transform=\"scale(1 1) rotate(0) translate(4 206)\">\n<title>%3</title>\n<polygon fill=\"white\" stroke=\"transparent\" points=\"-4,4 -4,-206 1571,-206 1571,4 -4,4\"/>\n<!-- 134188872411136 -->\n<g id=\"node1\" class=\"node\">\n<title>134188872411136</title>\n<polygon fill=\"none\" stroke=\"black\" points=\"4,-165.5 4,-201.5 196,-201.5 196,-165.5 4,-165.5\"/>\n<text text-anchor=\"middle\" x=\"19\" y=\"-179.8\" font-family=\"Times,serif\" font-size=\"14.00\">x1</text>\n<polyline fill=\"none\" stroke=\"black\" points=\"34,-165.5 34,-201.5 \"/>\n<text text-anchor=\"middle\" x=\"74\" y=\"-179.8\" font-family=\"Times,serif\" font-size=\"14.00\">data 2.0000</text>\n<polyline fill=\"none\" stroke=\"black\" points=\"114,-165.5 114,-201.5 \"/>\n<text text-anchor=\"middle\" x=\"155\" y=\"-179.8\" font-family=\"Times,serif\" font-size=\"14.00\">grad 0.0000</text>\n</g>\n<!-- 134188872406240* -->\n<g id=\"node7\" class=\"node\">\n<title>134188872406240*</title>\n<ellipse fill=\"none\" stroke=\"black\" cx=\"263\" cy=\"-128.5\" rx=\"27\" ry=\"18\"/>\n<text text-anchor=\"middle\" x=\"263\" y=\"-124.8\" font-family=\"Times,serif\" font-size=\"14.00\">*</text>\n</g>\n<!-- 134188872411136&#45;&gt;134188872406240* -->\n<g id=\"edge10\" class=\"edge\">\n<title>134188872411136&#45;&gt;134188872406240*</title>\n<path fill=\"none\" stroke=\"black\" d=\"M172.53,-165.44C181.84,-162.67 191.2,-159.67 200,-156.5 210.53,-152.71 221.75,-147.9 231.72,-143.33\"/>\n<polygon fill=\"black\" stroke=\"black\" points=\"233.25,-146.48 240.82,-139.07 230.28,-140.14 233.25,-146.48\"/>\n</g>\n<!-- 134188872405520 -->\n<g id=\"node2\" class=\"node\">\n<title>134188872405520</title>\n<polygon fill=\"none\" stroke=\"black\" points=\"4,-55.5 4,-91.5 196,-91.5 196,-55.5 4,-55.5\"/>\n<text text-anchor=\"middle\" x=\"19\" y=\"-69.8\" font-family=\"Times,serif\" font-size=\"14.00\">x2</text>\n<polyline fill=\"none\" stroke=\"black\" points=\"34,-55.5 34,-91.5 \"/>\n<text text-anchor=\"middle\" x=\"74\" y=\"-69.8\" font-family=\"Times,serif\" font-size=\"14.00\">data 0.0000</text>\n<polyline fill=\"none\" stroke=\"black\" points=\"114,-55.5 114,-91.5 \"/>\n<text text-anchor=\"middle\" x=\"155\" y=\"-69.8\" font-family=\"Times,serif\" font-size=\"14.00\">grad 0.0000</text>\n</g>\n<!-- 134188872404896* -->\n<g id=\"node15\" class=\"node\">\n<title>134188872404896*</title>\n<ellipse fill=\"none\" stroke=\"black\" cx=\"263\" cy=\"-73.5\" rx=\"27\" ry=\"18\"/>\n<text text-anchor=\"middle\" x=\"263\" y=\"-69.8\" font-family=\"Times,serif\" font-size=\"14.00\">*</text>\n</g>\n<!-- 134188872405520&#45;&gt;134188872404896* -->\n<g id=\"edge13\" class=\"edge\">\n<title>134188872405520&#45;&gt;134188872404896*</title>\n<path fill=\"none\" stroke=\"black\" d=\"M196.05,-73.5C206.52,-73.5 216.65,-73.5 225.71,-73.5\"/>\n<polygon fill=\"black\" stroke=\"black\" points=\"225.79,-77 235.79,-73.5 225.79,-70 225.79,-77\"/>\n</g>\n<!-- 134188872409648 -->\n<g id=\"node3\" class=\"node\">\n<title>134188872409648</title>\n<polygon fill=\"none\" stroke=\"black\" points=\"716,-27.5 716,-63.5 901,-63.5 901,-27.5 716,-27.5\"/>\n<text text-anchor=\"middle\" x=\"727.5\" y=\"-41.8\" font-family=\"Times,serif\" font-size=\"14.00\">b</text>\n<polyline fill=\"none\" stroke=\"black\" points=\"739,-27.5 739,-63.5 \"/>\n<text text-anchor=\"middle\" x=\"779\" y=\"-41.8\" font-family=\"Times,serif\" font-size=\"14.00\">data 6.8814</text>\n<polyline fill=\"none\" stroke=\"black\" points=\"819,-27.5 819,-63.5 \"/>\n<text text-anchor=\"middle\" x=\"860\" y=\"-41.8\" font-family=\"Times,serif\" font-size=\"14.00\">grad 0.5000</text>\n</g>\n<!-- 134188872406912+ -->\n<g id=\"node13\" class=\"node\">\n<title>134188872406912+</title>\n<ellipse fill=\"none\" stroke=\"black\" cx=\"1008\" cy=\"-72.5\" rx=\"27\" ry=\"18\"/>\n<text text-anchor=\"middle\" x=\"1008\" y=\"-68.8\" font-family=\"Times,serif\" font-size=\"14.00\">+</text>\n</g>\n<!-- 134188872409648&#45;&gt;134188872406912+ -->\n<g id=\"edge11\" class=\"edge\">\n<title>134188872409648&#45;&gt;134188872406912+</title>\n<path fill=\"none\" stroke=\"black\" d=\"M901.02,-58.01C926,-61.43 951.59,-64.93 971.37,-67.63\"/>\n<polygon fill=\"black\" stroke=\"black\" points=\"971.05,-71.12 981.43,-69.01 972,-64.18 971.05,-71.12\"/>\n</g>\n<!-- 134188872416992 -->\n<g id=\"node4\" class=\"node\">\n<title>134188872416992</title>\n<polygon fill=\"none\" stroke=\"black\" points=\"672,-82.5 672,-118.5 945,-118.5 945,-82.5 672,-82.5\"/>\n<text text-anchor=\"middle\" x=\"725\" y=\"-96.8\" font-family=\"Times,serif\" font-size=\"14.00\">x1*w1 + x2*w2</text>\n<polyline fill=\"none\" stroke=\"black\" points=\"778,-82.5 778,-118.5 \"/>\n<text text-anchor=\"middle\" x=\"820.5\" y=\"-96.8\" font-family=\"Times,serif\" font-size=\"14.00\">data &#45;6.0000</text>\n<polyline fill=\"none\" stroke=\"black\" points=\"863,-82.5 863,-118.5 \"/>\n<text text-anchor=\"middle\" x=\"904\" y=\"-96.8\" font-family=\"Times,serif\" font-size=\"14.00\">grad 0.5000</text>\n</g>\n<!-- 134188872416992&#45;&gt;134188872406912+ -->\n<g id=\"edge6\" class=\"edge\">\n<title>134188872416992&#45;&gt;134188872406912+</title>\n<path fill=\"none\" stroke=\"black\" d=\"M936.53,-82.49C949.09,-80.71 960.99,-79.02 971.3,-77.56\"/>\n<polygon fill=\"black\" stroke=\"black\" points=\"972.03,-80.99 981.44,-76.12 971.05,-74.06 972.03,-80.99\"/>\n</g>\n<!-- 134188872416992+ -->\n<g id=\"node5\" class=\"node\">\n<title>134188872416992+</title>\n<ellipse fill=\"none\" stroke=\"black\" cx=\"609\" cy=\"-100.5\" rx=\"27\" ry=\"18\"/>\n<text text-anchor=\"middle\" x=\"609\" y=\"-96.8\" font-family=\"Times,serif\" font-size=\"14.00\">+</text>\n</g>\n<!-- 134188872416992+&#45;&gt;134188872416992 -->\n<g id=\"edge1\" class=\"edge\">\n<title>134188872416992+&#45;&gt;134188872416992</title>\n<path fill=\"none\" stroke=\"black\" d=\"M636.23,-100.5C643.7,-100.5 652.41,-100.5 661.87,-100.5\"/>\n<polygon fill=\"black\" stroke=\"black\" points=\"661.98,-104 671.98,-100.5 661.98,-97 661.98,-104\"/>\n</g>\n<!-- 134188872406240 -->\n<g id=\"node6\" class=\"node\">\n<title>134188872406240</title>\n<polygon fill=\"none\" stroke=\"black\" points=\"326,-110.5 326,-146.5 546,-146.5 546,-110.5 326,-110.5\"/>\n<text text-anchor=\"middle\" x=\"352.5\" y=\"-124.8\" font-family=\"Times,serif\" font-size=\"14.00\">x1*w1</text>\n<polyline fill=\"none\" stroke=\"black\" points=\"379,-110.5 379,-146.5 \"/>\n<text text-anchor=\"middle\" x=\"421.5\" y=\"-124.8\" font-family=\"Times,serif\" font-size=\"14.00\">data &#45;6.0000</text>\n<polyline fill=\"none\" stroke=\"black\" points=\"464,-110.5 464,-146.5 \"/>\n<text text-anchor=\"middle\" x=\"505\" y=\"-124.8\" font-family=\"Times,serif\" font-size=\"14.00\">grad 0.0000</text>\n</g>\n<!-- 134188872406240&#45;&gt;134188872416992+ -->\n<g id=\"edge9\" class=\"edge\">\n<title>134188872406240&#45;&gt;134188872416992+</title>\n<path fill=\"none\" stroke=\"black\" d=\"M546.27,-110.61C555.64,-109.07 564.6,-107.61 572.65,-106.29\"/>\n<polygon fill=\"black\" stroke=\"black\" points=\"573.35,-109.72 582.65,-104.65 572.22,-102.81 573.35,-109.72\"/>\n</g>\n<!-- 134188872406240*&#45;&gt;134188872406240 -->\n<g id=\"edge2\" class=\"edge\">\n<title>134188872406240*&#45;&gt;134188872406240</title>\n<path fill=\"none\" stroke=\"black\" d=\"M290.34,-128.5C297.77,-128.5 306.37,-128.5 315.6,-128.5\"/>\n<polygon fill=\"black\" stroke=\"black\" points=\"315.84,-132 325.84,-128.5 315.84,-125 315.84,-132\"/>\n</g>\n<!-- 134188872410368 -->\n<g id=\"node8\" class=\"node\">\n<title>134188872410368</title>\n<polygon fill=\"none\" stroke=\"black\" points=\"2.5,-0.5 2.5,-36.5 197.5,-36.5 197.5,-0.5 2.5,-0.5\"/>\n<text text-anchor=\"middle\" x=\"19\" y=\"-14.8\" font-family=\"Times,serif\" font-size=\"14.00\">w2</text>\n<polyline fill=\"none\" stroke=\"black\" points=\"35.5,-0.5 35.5,-36.5 \"/>\n<text text-anchor=\"middle\" x=\"75.5\" y=\"-14.8\" font-family=\"Times,serif\" font-size=\"14.00\">data 1.0000</text>\n<polyline fill=\"none\" stroke=\"black\" points=\"115.5,-0.5 115.5,-36.5 \"/>\n<text text-anchor=\"middle\" x=\"156.5\" y=\"-14.8\" font-family=\"Times,serif\" font-size=\"14.00\">grad 0.0000</text>\n</g>\n<!-- 134188872410368&#45;&gt;134188872404896* -->\n<g id=\"edge14\" class=\"edge\">\n<title>134188872410368&#45;&gt;134188872404896*</title>\n<path fill=\"none\" stroke=\"black\" d=\"M169.28,-36.5C179.65,-39.61 190.16,-42.98 200,-46.5 210.28,-50.17 221.28,-54.74 231.11,-59.07\"/>\n<polygon fill=\"black\" stroke=\"black\" points=\"229.93,-62.37 240.48,-63.27 232.79,-55.99 229.93,-62.37\"/>\n</g>\n<!-- 134188872407296 -->\n<g id=\"node9\" class=\"node\">\n<title>134188872407296</title>\n<polygon fill=\"none\" stroke=\"black\" points=\"0,-110.5 0,-146.5 200,-146.5 200,-110.5 0,-110.5\"/>\n<text text-anchor=\"middle\" x=\"16.5\" y=\"-124.8\" font-family=\"Times,serif\" font-size=\"14.00\">w1</text>\n<polyline fill=\"none\" stroke=\"black\" points=\"33,-110.5 33,-146.5 \"/>\n<text text-anchor=\"middle\" x=\"75.5\" y=\"-124.8\" font-family=\"Times,serif\" font-size=\"14.00\">data &#45;3.0000</text>\n<polyline fill=\"none\" stroke=\"black\" points=\"118,-110.5 118,-146.5 \"/>\n<text text-anchor=\"middle\" x=\"159\" y=\"-124.8\" font-family=\"Times,serif\" font-size=\"14.00\">grad 0.0000</text>\n</g>\n<!-- 134188872407296&#45;&gt;134188872406240* -->\n<g id=\"edge12\" class=\"edge\">\n<title>134188872407296&#45;&gt;134188872406240*</title>\n<path fill=\"none\" stroke=\"black\" d=\"M200.21,-128.5C209.2,-128.5 217.86,-128.5 225.7,-128.5\"/>\n<polygon fill=\"black\" stroke=\"black\" points=\"225.85,-132 235.85,-128.5 225.85,-125 225.85,-132\"/>\n</g>\n<!-- 134188872403264 -->\n<g id=\"node10\" class=\"node\">\n<title>134188872403264</title>\n<polygon fill=\"none\" stroke=\"black\" points=\"1382,-54.5 1382,-90.5 1567,-90.5 1567,-54.5 1382,-54.5\"/>\n<text text-anchor=\"middle\" x=\"1393.5\" y=\"-68.8\" font-family=\"Times,serif\" font-size=\"14.00\">o</text>\n<polyline fill=\"none\" stroke=\"black\" points=\"1405,-54.5 1405,-90.5 \"/>\n<text text-anchor=\"middle\" x=\"1445\" y=\"-68.8\" font-family=\"Times,serif\" font-size=\"14.00\">data 0.7071</text>\n<polyline fill=\"none\" stroke=\"black\" points=\"1485,-54.5 1485,-90.5 \"/>\n<text text-anchor=\"middle\" x=\"1526\" y=\"-68.8\" font-family=\"Times,serif\" font-size=\"14.00\">grad 1.0000</text>\n</g>\n<!-- 134188872403264tanh -->\n<g id=\"node11\" class=\"node\">\n<title>134188872403264tanh</title>\n<ellipse fill=\"none\" stroke=\"black\" cx=\"1319\" cy=\"-72.5\" rx=\"27\" ry=\"18\"/>\n<text text-anchor=\"middle\" x=\"1319\" y=\"-68.8\" font-family=\"Times,serif\" font-size=\"14.00\">tanh</text>\n</g>\n<!-- 134188872403264tanh&#45;&gt;134188872403264 -->\n<g id=\"edge3\" class=\"edge\">\n<title>134188872403264tanh&#45;&gt;134188872403264</title>\n<path fill=\"none\" stroke=\"black\" d=\"M1346.04,-72.5C1353.58,-72.5 1362.3,-72.5 1371.57,-72.5\"/>\n<polygon fill=\"black\" stroke=\"black\" points=\"1371.81,-76 1381.81,-72.5 1371.81,-69 1371.81,-76\"/>\n</g>\n<!-- 134188872406912 -->\n<g id=\"node12\" class=\"node\">\n<title>134188872406912</title>\n<polygon fill=\"none\" stroke=\"black\" points=\"1071,-54.5 1071,-90.5 1256,-90.5 1256,-54.5 1071,-54.5\"/>\n<text text-anchor=\"middle\" x=\"1082.5\" y=\"-68.8\" font-family=\"Times,serif\" font-size=\"14.00\">n</text>\n<polyline fill=\"none\" stroke=\"black\" points=\"1094,-54.5 1094,-90.5 \"/>\n<text text-anchor=\"middle\" x=\"1134\" y=\"-68.8\" font-family=\"Times,serif\" font-size=\"14.00\">data 0.8814</text>\n<polyline fill=\"none\" stroke=\"black\" points=\"1174,-54.5 1174,-90.5 \"/>\n<text text-anchor=\"middle\" x=\"1215\" y=\"-68.8\" font-family=\"Times,serif\" font-size=\"14.00\">grad 0.5000</text>\n</g>\n<!-- 134188872406912&#45;&gt;134188872403264tanh -->\n<g id=\"edge7\" class=\"edge\">\n<title>134188872406912&#45;&gt;134188872403264tanh</title>\n<path fill=\"none\" stroke=\"black\" d=\"M1256.01,-72.5C1265.01,-72.5 1273.74,-72.5 1281.66,-72.5\"/>\n<polygon fill=\"black\" stroke=\"black\" points=\"1281.91,-76 1291.91,-72.5 1281.91,-69 1281.91,-76\"/>\n</g>\n<!-- 134188872406912+&#45;&gt;134188872406912 -->\n<g id=\"edge4\" class=\"edge\">\n<title>134188872406912+&#45;&gt;134188872406912</title>\n<path fill=\"none\" stroke=\"black\" d=\"M1035.04,-72.5C1042.58,-72.5 1051.3,-72.5 1060.57,-72.5\"/>\n<polygon fill=\"black\" stroke=\"black\" points=\"1060.81,-76 1070.81,-72.5 1060.81,-69 1060.81,-76\"/>\n</g>\n<!-- 134188872404896 -->\n<g id=\"node14\" class=\"node\">\n<title>134188872404896</title>\n<polygon fill=\"none\" stroke=\"black\" points=\"328.5,-55.5 328.5,-91.5 543.5,-91.5 543.5,-55.5 328.5,-55.5\"/>\n<text text-anchor=\"middle\" x=\"355\" y=\"-69.8\" font-family=\"Times,serif\" font-size=\"14.00\">x2*w2</text>\n<polyline fill=\"none\" stroke=\"black\" points=\"381.5,-55.5 381.5,-91.5 \"/>\n<text text-anchor=\"middle\" x=\"421.5\" y=\"-69.8\" font-family=\"Times,serif\" font-size=\"14.00\">data 0.0000</text>\n<polyline fill=\"none\" stroke=\"black\" points=\"461.5,-55.5 461.5,-91.5 \"/>\n<text text-anchor=\"middle\" x=\"502.5\" y=\"-69.8\" font-family=\"Times,serif\" font-size=\"14.00\">grad 0.0000</text>\n</g>\n<!-- 134188872404896&#45;&gt;134188872416992+ -->\n<g id=\"edge8\" class=\"edge\">\n<title>134188872404896&#45;&gt;134188872416992+</title>\n<path fill=\"none\" stroke=\"black\" d=\"M543.84,-90.37C554.01,-91.98 563.76,-93.51 572.44,-94.89\"/>\n<polygon fill=\"black\" stroke=\"black\" points=\"572.05,-98.37 582.47,-96.47 573.14,-91.45 572.05,-98.37\"/>\n</g>\n<!-- 134188872404896*&#45;&gt;134188872404896 -->\n<g id=\"edge5\" class=\"edge\">\n<title>134188872404896*&#45;&gt;134188872404896</title>\n<path fill=\"none\" stroke=\"black\" d=\"M290.34,-73.5C298.51,-73.5 308.08,-73.5 318.36,-73.5\"/>\n<polygon fill=\"black\" stroke=\"black\" points=\"318.39,-77 328.39,-73.5 318.39,-70 318.39,-77\"/>\n</g>\n</g>\n</svg>\n",
            "text/plain": [
              "<graphviz.graphs.Digraph at 0x7a0b4812b970>"
            ]
          },
          "metadata": {},
          "execution_count": 84
        }
      ]
    },
    {
      "cell_type": "code",
      "source": [
        "# Another \"+\" node\n",
        "x1w1.grad = x1w1x2w2.grad\n",
        "x2w2.grad = x1w1x2w2.grad"
      ],
      "metadata": {
        "id": "-M_ryDKEWbbt"
      },
      "execution_count": null,
      "outputs": []
    },
    {
      "cell_type": "code",
      "source": [
        "draw_dot(o)"
      ],
      "metadata": {
        "colab": {
          "base_uri": "https://localhost:8080/",
          "height": 321
        },
        "id": "TMutc4bjWrol",
        "outputId": "e75e517a-0928-4ef0-ad65-e96728aeed49"
      },
      "execution_count": null,
      "outputs": [
        {
          "output_type": "execute_result",
          "data": {
            "image/svg+xml": "<?xml version=\"1.0\" encoding=\"UTF-8\" standalone=\"no\"?>\n<!DOCTYPE svg PUBLIC \"-//W3C//DTD SVG 1.1//EN\"\n \"http://www.w3.org/Graphics/SVG/1.1/DTD/svg11.dtd\">\n<!-- Generated by graphviz version 2.43.0 (0)\n -->\n<!-- Title: %3 Pages: 1 -->\n<svg width=\"1575pt\" height=\"210pt\"\n viewBox=\"0.00 0.00 1575.00 210.00\" xmlns=\"http://www.w3.org/2000/svg\" xmlns:xlink=\"http://www.w3.org/1999/xlink\">\n<g id=\"graph0\" class=\"graph\" transform=\"scale(1 1) rotate(0) translate(4 206)\">\n<title>%3</title>\n<polygon fill=\"white\" stroke=\"transparent\" points=\"-4,4 -4,-206 1571,-206 1571,4 -4,4\"/>\n<!-- 134188872411136 -->\n<g id=\"node1\" class=\"node\">\n<title>134188872411136</title>\n<polygon fill=\"none\" stroke=\"black\" points=\"4,-165.5 4,-201.5 196,-201.5 196,-165.5 4,-165.5\"/>\n<text text-anchor=\"middle\" x=\"19\" y=\"-179.8\" font-family=\"Times,serif\" font-size=\"14.00\">x1</text>\n<polyline fill=\"none\" stroke=\"black\" points=\"34,-165.5 34,-201.5 \"/>\n<text text-anchor=\"middle\" x=\"74\" y=\"-179.8\" font-family=\"Times,serif\" font-size=\"14.00\">data 2.0000</text>\n<polyline fill=\"none\" stroke=\"black\" points=\"114,-165.5 114,-201.5 \"/>\n<text text-anchor=\"middle\" x=\"155\" y=\"-179.8\" font-family=\"Times,serif\" font-size=\"14.00\">grad 0.0000</text>\n</g>\n<!-- 134188872406240* -->\n<g id=\"node7\" class=\"node\">\n<title>134188872406240*</title>\n<ellipse fill=\"none\" stroke=\"black\" cx=\"263\" cy=\"-128.5\" rx=\"27\" ry=\"18\"/>\n<text text-anchor=\"middle\" x=\"263\" y=\"-124.8\" font-family=\"Times,serif\" font-size=\"14.00\">*</text>\n</g>\n<!-- 134188872411136&#45;&gt;134188872406240* -->\n<g id=\"edge10\" class=\"edge\">\n<title>134188872411136&#45;&gt;134188872406240*</title>\n<path fill=\"none\" stroke=\"black\" d=\"M172.53,-165.44C181.84,-162.67 191.2,-159.67 200,-156.5 210.53,-152.71 221.75,-147.9 231.72,-143.33\"/>\n<polygon fill=\"black\" stroke=\"black\" points=\"233.25,-146.48 240.82,-139.07 230.28,-140.14 233.25,-146.48\"/>\n</g>\n<!-- 134188872405520 -->\n<g id=\"node2\" class=\"node\">\n<title>134188872405520</title>\n<polygon fill=\"none\" stroke=\"black\" points=\"4,-55.5 4,-91.5 196,-91.5 196,-55.5 4,-55.5\"/>\n<text text-anchor=\"middle\" x=\"19\" y=\"-69.8\" font-family=\"Times,serif\" font-size=\"14.00\">x2</text>\n<polyline fill=\"none\" stroke=\"black\" points=\"34,-55.5 34,-91.5 \"/>\n<text text-anchor=\"middle\" x=\"74\" y=\"-69.8\" font-family=\"Times,serif\" font-size=\"14.00\">data 0.0000</text>\n<polyline fill=\"none\" stroke=\"black\" points=\"114,-55.5 114,-91.5 \"/>\n<text text-anchor=\"middle\" x=\"155\" y=\"-69.8\" font-family=\"Times,serif\" font-size=\"14.00\">grad 0.0000</text>\n</g>\n<!-- 134188872404896* -->\n<g id=\"node15\" class=\"node\">\n<title>134188872404896*</title>\n<ellipse fill=\"none\" stroke=\"black\" cx=\"263\" cy=\"-73.5\" rx=\"27\" ry=\"18\"/>\n<text text-anchor=\"middle\" x=\"263\" y=\"-69.8\" font-family=\"Times,serif\" font-size=\"14.00\">*</text>\n</g>\n<!-- 134188872405520&#45;&gt;134188872404896* -->\n<g id=\"edge13\" class=\"edge\">\n<title>134188872405520&#45;&gt;134188872404896*</title>\n<path fill=\"none\" stroke=\"black\" d=\"M196.05,-73.5C206.52,-73.5 216.65,-73.5 225.71,-73.5\"/>\n<polygon fill=\"black\" stroke=\"black\" points=\"225.79,-77 235.79,-73.5 225.79,-70 225.79,-77\"/>\n</g>\n<!-- 134188872409648 -->\n<g id=\"node3\" class=\"node\">\n<title>134188872409648</title>\n<polygon fill=\"none\" stroke=\"black\" points=\"716,-27.5 716,-63.5 901,-63.5 901,-27.5 716,-27.5\"/>\n<text text-anchor=\"middle\" x=\"727.5\" y=\"-41.8\" font-family=\"Times,serif\" font-size=\"14.00\">b</text>\n<polyline fill=\"none\" stroke=\"black\" points=\"739,-27.5 739,-63.5 \"/>\n<text text-anchor=\"middle\" x=\"779\" y=\"-41.8\" font-family=\"Times,serif\" font-size=\"14.00\">data 6.8814</text>\n<polyline fill=\"none\" stroke=\"black\" points=\"819,-27.5 819,-63.5 \"/>\n<text text-anchor=\"middle\" x=\"860\" y=\"-41.8\" font-family=\"Times,serif\" font-size=\"14.00\">grad 0.5000</text>\n</g>\n<!-- 134188872406912+ -->\n<g id=\"node13\" class=\"node\">\n<title>134188872406912+</title>\n<ellipse fill=\"none\" stroke=\"black\" cx=\"1008\" cy=\"-72.5\" rx=\"27\" ry=\"18\"/>\n<text text-anchor=\"middle\" x=\"1008\" y=\"-68.8\" font-family=\"Times,serif\" font-size=\"14.00\">+</text>\n</g>\n<!-- 134188872409648&#45;&gt;134188872406912+ -->\n<g id=\"edge11\" class=\"edge\">\n<title>134188872409648&#45;&gt;134188872406912+</title>\n<path fill=\"none\" stroke=\"black\" d=\"M901.02,-58.01C926,-61.43 951.59,-64.93 971.37,-67.63\"/>\n<polygon fill=\"black\" stroke=\"black\" points=\"971.05,-71.12 981.43,-69.01 972,-64.18 971.05,-71.12\"/>\n</g>\n<!-- 134188872416992 -->\n<g id=\"node4\" class=\"node\">\n<title>134188872416992</title>\n<polygon fill=\"none\" stroke=\"black\" points=\"672,-82.5 672,-118.5 945,-118.5 945,-82.5 672,-82.5\"/>\n<text text-anchor=\"middle\" x=\"725\" y=\"-96.8\" font-family=\"Times,serif\" font-size=\"14.00\">x1*w1 + x2*w2</text>\n<polyline fill=\"none\" stroke=\"black\" points=\"778,-82.5 778,-118.5 \"/>\n<text text-anchor=\"middle\" x=\"820.5\" y=\"-96.8\" font-family=\"Times,serif\" font-size=\"14.00\">data &#45;6.0000</text>\n<polyline fill=\"none\" stroke=\"black\" points=\"863,-82.5 863,-118.5 \"/>\n<text text-anchor=\"middle\" x=\"904\" y=\"-96.8\" font-family=\"Times,serif\" font-size=\"14.00\">grad 0.5000</text>\n</g>\n<!-- 134188872416992&#45;&gt;134188872406912+ -->\n<g id=\"edge6\" class=\"edge\">\n<title>134188872416992&#45;&gt;134188872406912+</title>\n<path fill=\"none\" stroke=\"black\" d=\"M936.53,-82.49C949.09,-80.71 960.99,-79.02 971.3,-77.56\"/>\n<polygon fill=\"black\" stroke=\"black\" points=\"972.03,-80.99 981.44,-76.12 971.05,-74.06 972.03,-80.99\"/>\n</g>\n<!-- 134188872416992+ -->\n<g id=\"node5\" class=\"node\">\n<title>134188872416992+</title>\n<ellipse fill=\"none\" stroke=\"black\" cx=\"609\" cy=\"-100.5\" rx=\"27\" ry=\"18\"/>\n<text text-anchor=\"middle\" x=\"609\" y=\"-96.8\" font-family=\"Times,serif\" font-size=\"14.00\">+</text>\n</g>\n<!-- 134188872416992+&#45;&gt;134188872416992 -->\n<g id=\"edge1\" class=\"edge\">\n<title>134188872416992+&#45;&gt;134188872416992</title>\n<path fill=\"none\" stroke=\"black\" d=\"M636.23,-100.5C643.7,-100.5 652.41,-100.5 661.87,-100.5\"/>\n<polygon fill=\"black\" stroke=\"black\" points=\"661.98,-104 671.98,-100.5 661.98,-97 661.98,-104\"/>\n</g>\n<!-- 134188872406240 -->\n<g id=\"node6\" class=\"node\">\n<title>134188872406240</title>\n<polygon fill=\"none\" stroke=\"black\" points=\"326,-110.5 326,-146.5 546,-146.5 546,-110.5 326,-110.5\"/>\n<text text-anchor=\"middle\" x=\"352.5\" y=\"-124.8\" font-family=\"Times,serif\" font-size=\"14.00\">x1*w1</text>\n<polyline fill=\"none\" stroke=\"black\" points=\"379,-110.5 379,-146.5 \"/>\n<text text-anchor=\"middle\" x=\"421.5\" y=\"-124.8\" font-family=\"Times,serif\" font-size=\"14.00\">data &#45;6.0000</text>\n<polyline fill=\"none\" stroke=\"black\" points=\"464,-110.5 464,-146.5 \"/>\n<text text-anchor=\"middle\" x=\"505\" y=\"-124.8\" font-family=\"Times,serif\" font-size=\"14.00\">grad 0.5000</text>\n</g>\n<!-- 134188872406240&#45;&gt;134188872416992+ -->\n<g id=\"edge9\" class=\"edge\">\n<title>134188872406240&#45;&gt;134188872416992+</title>\n<path fill=\"none\" stroke=\"black\" d=\"M546.27,-110.61C555.64,-109.07 564.6,-107.61 572.65,-106.29\"/>\n<polygon fill=\"black\" stroke=\"black\" points=\"573.35,-109.72 582.65,-104.65 572.22,-102.81 573.35,-109.72\"/>\n</g>\n<!-- 134188872406240*&#45;&gt;134188872406240 -->\n<g id=\"edge2\" class=\"edge\">\n<title>134188872406240*&#45;&gt;134188872406240</title>\n<path fill=\"none\" stroke=\"black\" d=\"M290.34,-128.5C297.77,-128.5 306.37,-128.5 315.6,-128.5\"/>\n<polygon fill=\"black\" stroke=\"black\" points=\"315.84,-132 325.84,-128.5 315.84,-125 315.84,-132\"/>\n</g>\n<!-- 134188872410368 -->\n<g id=\"node8\" class=\"node\">\n<title>134188872410368</title>\n<polygon fill=\"none\" stroke=\"black\" points=\"2.5,-0.5 2.5,-36.5 197.5,-36.5 197.5,-0.5 2.5,-0.5\"/>\n<text text-anchor=\"middle\" x=\"19\" y=\"-14.8\" font-family=\"Times,serif\" font-size=\"14.00\">w2</text>\n<polyline fill=\"none\" stroke=\"black\" points=\"35.5,-0.5 35.5,-36.5 \"/>\n<text text-anchor=\"middle\" x=\"75.5\" y=\"-14.8\" font-family=\"Times,serif\" font-size=\"14.00\">data 1.0000</text>\n<polyline fill=\"none\" stroke=\"black\" points=\"115.5,-0.5 115.5,-36.5 \"/>\n<text text-anchor=\"middle\" x=\"156.5\" y=\"-14.8\" font-family=\"Times,serif\" font-size=\"14.00\">grad 0.0000</text>\n</g>\n<!-- 134188872410368&#45;&gt;134188872404896* -->\n<g id=\"edge14\" class=\"edge\">\n<title>134188872410368&#45;&gt;134188872404896*</title>\n<path fill=\"none\" stroke=\"black\" d=\"M169.28,-36.5C179.65,-39.61 190.16,-42.98 200,-46.5 210.28,-50.17 221.28,-54.74 231.11,-59.07\"/>\n<polygon fill=\"black\" stroke=\"black\" points=\"229.93,-62.37 240.48,-63.27 232.79,-55.99 229.93,-62.37\"/>\n</g>\n<!-- 134188872407296 -->\n<g id=\"node9\" class=\"node\">\n<title>134188872407296</title>\n<polygon fill=\"none\" stroke=\"black\" points=\"0,-110.5 0,-146.5 200,-146.5 200,-110.5 0,-110.5\"/>\n<text text-anchor=\"middle\" x=\"16.5\" y=\"-124.8\" font-family=\"Times,serif\" font-size=\"14.00\">w1</text>\n<polyline fill=\"none\" stroke=\"black\" points=\"33,-110.5 33,-146.5 \"/>\n<text text-anchor=\"middle\" x=\"75.5\" y=\"-124.8\" font-family=\"Times,serif\" font-size=\"14.00\">data &#45;3.0000</text>\n<polyline fill=\"none\" stroke=\"black\" points=\"118,-110.5 118,-146.5 \"/>\n<text text-anchor=\"middle\" x=\"159\" y=\"-124.8\" font-family=\"Times,serif\" font-size=\"14.00\">grad 0.0000</text>\n</g>\n<!-- 134188872407296&#45;&gt;134188872406240* -->\n<g id=\"edge12\" class=\"edge\">\n<title>134188872407296&#45;&gt;134188872406240*</title>\n<path fill=\"none\" stroke=\"black\" d=\"M200.21,-128.5C209.2,-128.5 217.86,-128.5 225.7,-128.5\"/>\n<polygon fill=\"black\" stroke=\"black\" points=\"225.85,-132 235.85,-128.5 225.85,-125 225.85,-132\"/>\n</g>\n<!-- 134188872403264 -->\n<g id=\"node10\" class=\"node\">\n<title>134188872403264</title>\n<polygon fill=\"none\" stroke=\"black\" points=\"1382,-54.5 1382,-90.5 1567,-90.5 1567,-54.5 1382,-54.5\"/>\n<text text-anchor=\"middle\" x=\"1393.5\" y=\"-68.8\" font-family=\"Times,serif\" font-size=\"14.00\">o</text>\n<polyline fill=\"none\" stroke=\"black\" points=\"1405,-54.5 1405,-90.5 \"/>\n<text text-anchor=\"middle\" x=\"1445\" y=\"-68.8\" font-family=\"Times,serif\" font-size=\"14.00\">data 0.7071</text>\n<polyline fill=\"none\" stroke=\"black\" points=\"1485,-54.5 1485,-90.5 \"/>\n<text text-anchor=\"middle\" x=\"1526\" y=\"-68.8\" font-family=\"Times,serif\" font-size=\"14.00\">grad 1.0000</text>\n</g>\n<!-- 134188872403264tanh -->\n<g id=\"node11\" class=\"node\">\n<title>134188872403264tanh</title>\n<ellipse fill=\"none\" stroke=\"black\" cx=\"1319\" cy=\"-72.5\" rx=\"27\" ry=\"18\"/>\n<text text-anchor=\"middle\" x=\"1319\" y=\"-68.8\" font-family=\"Times,serif\" font-size=\"14.00\">tanh</text>\n</g>\n<!-- 134188872403264tanh&#45;&gt;134188872403264 -->\n<g id=\"edge3\" class=\"edge\">\n<title>134188872403264tanh&#45;&gt;134188872403264</title>\n<path fill=\"none\" stroke=\"black\" d=\"M1346.04,-72.5C1353.58,-72.5 1362.3,-72.5 1371.57,-72.5\"/>\n<polygon fill=\"black\" stroke=\"black\" points=\"1371.81,-76 1381.81,-72.5 1371.81,-69 1371.81,-76\"/>\n</g>\n<!-- 134188872406912 -->\n<g id=\"node12\" class=\"node\">\n<title>134188872406912</title>\n<polygon fill=\"none\" stroke=\"black\" points=\"1071,-54.5 1071,-90.5 1256,-90.5 1256,-54.5 1071,-54.5\"/>\n<text text-anchor=\"middle\" x=\"1082.5\" y=\"-68.8\" font-family=\"Times,serif\" font-size=\"14.00\">n</text>\n<polyline fill=\"none\" stroke=\"black\" points=\"1094,-54.5 1094,-90.5 \"/>\n<text text-anchor=\"middle\" x=\"1134\" y=\"-68.8\" font-family=\"Times,serif\" font-size=\"14.00\">data 0.8814</text>\n<polyline fill=\"none\" stroke=\"black\" points=\"1174,-54.5 1174,-90.5 \"/>\n<text text-anchor=\"middle\" x=\"1215\" y=\"-68.8\" font-family=\"Times,serif\" font-size=\"14.00\">grad 0.5000</text>\n</g>\n<!-- 134188872406912&#45;&gt;134188872403264tanh -->\n<g id=\"edge7\" class=\"edge\">\n<title>134188872406912&#45;&gt;134188872403264tanh</title>\n<path fill=\"none\" stroke=\"black\" d=\"M1256.01,-72.5C1265.01,-72.5 1273.74,-72.5 1281.66,-72.5\"/>\n<polygon fill=\"black\" stroke=\"black\" points=\"1281.91,-76 1291.91,-72.5 1281.91,-69 1281.91,-76\"/>\n</g>\n<!-- 134188872406912+&#45;&gt;134188872406912 -->\n<g id=\"edge4\" class=\"edge\">\n<title>134188872406912+&#45;&gt;134188872406912</title>\n<path fill=\"none\" stroke=\"black\" d=\"M1035.04,-72.5C1042.58,-72.5 1051.3,-72.5 1060.57,-72.5\"/>\n<polygon fill=\"black\" stroke=\"black\" points=\"1060.81,-76 1070.81,-72.5 1060.81,-69 1060.81,-76\"/>\n</g>\n<!-- 134188872404896 -->\n<g id=\"node14\" class=\"node\">\n<title>134188872404896</title>\n<polygon fill=\"none\" stroke=\"black\" points=\"328.5,-55.5 328.5,-91.5 543.5,-91.5 543.5,-55.5 328.5,-55.5\"/>\n<text text-anchor=\"middle\" x=\"355\" y=\"-69.8\" font-family=\"Times,serif\" font-size=\"14.00\">x2*w2</text>\n<polyline fill=\"none\" stroke=\"black\" points=\"381.5,-55.5 381.5,-91.5 \"/>\n<text text-anchor=\"middle\" x=\"421.5\" y=\"-69.8\" font-family=\"Times,serif\" font-size=\"14.00\">data 0.0000</text>\n<polyline fill=\"none\" stroke=\"black\" points=\"461.5,-55.5 461.5,-91.5 \"/>\n<text text-anchor=\"middle\" x=\"502.5\" y=\"-69.8\" font-family=\"Times,serif\" font-size=\"14.00\">grad 0.5000</text>\n</g>\n<!-- 134188872404896&#45;&gt;134188872416992+ -->\n<g id=\"edge8\" class=\"edge\">\n<title>134188872404896&#45;&gt;134188872416992+</title>\n<path fill=\"none\" stroke=\"black\" d=\"M543.84,-90.37C554.01,-91.98 563.76,-93.51 572.44,-94.89\"/>\n<polygon fill=\"black\" stroke=\"black\" points=\"572.05,-98.37 582.47,-96.47 573.14,-91.45 572.05,-98.37\"/>\n</g>\n<!-- 134188872404896*&#45;&gt;134188872404896 -->\n<g id=\"edge5\" class=\"edge\">\n<title>134188872404896*&#45;&gt;134188872404896</title>\n<path fill=\"none\" stroke=\"black\" d=\"M290.34,-73.5C298.51,-73.5 308.08,-73.5 318.36,-73.5\"/>\n<polygon fill=\"black\" stroke=\"black\" points=\"318.39,-77 328.39,-73.5 318.39,-70 318.39,-77\"/>\n</g>\n</g>\n</svg>\n",
            "text/plain": [
              "<graphviz.graphs.Digraph at 0x7a0b48129d20>"
            ]
          },
          "metadata": {},
          "execution_count": 86
        }
      ]
    },
    {
      "cell_type": "code",
      "source": [
        "# Multiplication node\n",
        "x1.grad = w1.data * x1w1.grad\n",
        "w1.grad = x1.data * x1w1.grad"
      ],
      "metadata": {
        "id": "y_6rMXSDXRSh"
      },
      "execution_count": null,
      "outputs": []
    },
    {
      "cell_type": "code",
      "source": [
        "draw_dot(o)"
      ],
      "metadata": {
        "colab": {
          "base_uri": "https://localhost:8080/",
          "height": 321
        },
        "id": "P2aNOZAnXbYO",
        "outputId": "8dd7c02b-9705-47fd-ce93-aba4d4b7c477"
      },
      "execution_count": null,
      "outputs": [
        {
          "output_type": "execute_result",
          "data": {
            "image/svg+xml": "<?xml version=\"1.0\" encoding=\"UTF-8\" standalone=\"no\"?>\n<!DOCTYPE svg PUBLIC \"-//W3C//DTD SVG 1.1//EN\"\n \"http://www.w3.org/Graphics/SVG/1.1/DTD/svg11.dtd\">\n<!-- Generated by graphviz version 2.43.0 (0)\n -->\n<!-- Title: %3 Pages: 1 -->\n<svg width=\"1575pt\" height=\"210pt\"\n viewBox=\"0.00 0.00 1575.00 210.00\" xmlns=\"http://www.w3.org/2000/svg\" xmlns:xlink=\"http://www.w3.org/1999/xlink\">\n<g id=\"graph0\" class=\"graph\" transform=\"scale(1 1) rotate(0) translate(4 206)\">\n<title>%3</title>\n<polygon fill=\"white\" stroke=\"transparent\" points=\"-4,4 -4,-206 1571,-206 1571,4 -4,4\"/>\n<!-- 134188872411136 -->\n<g id=\"node1\" class=\"node\">\n<title>134188872411136</title>\n<polygon fill=\"none\" stroke=\"black\" points=\"2,-165.5 2,-201.5 198,-201.5 198,-165.5 2,-165.5\"/>\n<text text-anchor=\"middle\" x=\"17\" y=\"-179.8\" font-family=\"Times,serif\" font-size=\"14.00\">x1</text>\n<polyline fill=\"none\" stroke=\"black\" points=\"32,-165.5 32,-201.5 \"/>\n<text text-anchor=\"middle\" x=\"72\" y=\"-179.8\" font-family=\"Times,serif\" font-size=\"14.00\">data 2.0000</text>\n<polyline fill=\"none\" stroke=\"black\" points=\"112,-165.5 112,-201.5 \"/>\n<text text-anchor=\"middle\" x=\"155\" y=\"-179.8\" font-family=\"Times,serif\" font-size=\"14.00\">grad &#45;1.5000</text>\n</g>\n<!-- 134188872406240* -->\n<g id=\"node7\" class=\"node\">\n<title>134188872406240*</title>\n<ellipse fill=\"none\" stroke=\"black\" cx=\"263\" cy=\"-128.5\" rx=\"27\" ry=\"18\"/>\n<text text-anchor=\"middle\" x=\"263\" y=\"-124.8\" font-family=\"Times,serif\" font-size=\"14.00\">*</text>\n</g>\n<!-- 134188872411136&#45;&gt;134188872406240* -->\n<g id=\"edge10\" class=\"edge\">\n<title>134188872411136&#45;&gt;134188872406240*</title>\n<path fill=\"none\" stroke=\"black\" d=\"M172.53,-165.44C181.84,-162.67 191.2,-159.67 200,-156.5 210.53,-152.71 221.75,-147.9 231.72,-143.33\"/>\n<polygon fill=\"black\" stroke=\"black\" points=\"233.25,-146.48 240.82,-139.07 230.28,-140.14 233.25,-146.48\"/>\n</g>\n<!-- 134188872405520 -->\n<g id=\"node2\" class=\"node\">\n<title>134188872405520</title>\n<polygon fill=\"none\" stroke=\"black\" points=\"4,-55.5 4,-91.5 196,-91.5 196,-55.5 4,-55.5\"/>\n<text text-anchor=\"middle\" x=\"19\" y=\"-69.8\" font-family=\"Times,serif\" font-size=\"14.00\">x2</text>\n<polyline fill=\"none\" stroke=\"black\" points=\"34,-55.5 34,-91.5 \"/>\n<text text-anchor=\"middle\" x=\"74\" y=\"-69.8\" font-family=\"Times,serif\" font-size=\"14.00\">data 0.0000</text>\n<polyline fill=\"none\" stroke=\"black\" points=\"114,-55.5 114,-91.5 \"/>\n<text text-anchor=\"middle\" x=\"155\" y=\"-69.8\" font-family=\"Times,serif\" font-size=\"14.00\">grad 0.0000</text>\n</g>\n<!-- 134188872404896* -->\n<g id=\"node15\" class=\"node\">\n<title>134188872404896*</title>\n<ellipse fill=\"none\" stroke=\"black\" cx=\"263\" cy=\"-73.5\" rx=\"27\" ry=\"18\"/>\n<text text-anchor=\"middle\" x=\"263\" y=\"-69.8\" font-family=\"Times,serif\" font-size=\"14.00\">*</text>\n</g>\n<!-- 134188872405520&#45;&gt;134188872404896* -->\n<g id=\"edge13\" class=\"edge\">\n<title>134188872405520&#45;&gt;134188872404896*</title>\n<path fill=\"none\" stroke=\"black\" d=\"M196.05,-73.5C206.52,-73.5 216.65,-73.5 225.71,-73.5\"/>\n<polygon fill=\"black\" stroke=\"black\" points=\"225.79,-77 235.79,-73.5 225.79,-70 225.79,-77\"/>\n</g>\n<!-- 134188872409648 -->\n<g id=\"node3\" class=\"node\">\n<title>134188872409648</title>\n<polygon fill=\"none\" stroke=\"black\" points=\"716,-27.5 716,-63.5 901,-63.5 901,-27.5 716,-27.5\"/>\n<text text-anchor=\"middle\" x=\"727.5\" y=\"-41.8\" font-family=\"Times,serif\" font-size=\"14.00\">b</text>\n<polyline fill=\"none\" stroke=\"black\" points=\"739,-27.5 739,-63.5 \"/>\n<text text-anchor=\"middle\" x=\"779\" y=\"-41.8\" font-family=\"Times,serif\" font-size=\"14.00\">data 6.8814</text>\n<polyline fill=\"none\" stroke=\"black\" points=\"819,-27.5 819,-63.5 \"/>\n<text text-anchor=\"middle\" x=\"860\" y=\"-41.8\" font-family=\"Times,serif\" font-size=\"14.00\">grad 0.5000</text>\n</g>\n<!-- 134188872406912+ -->\n<g id=\"node13\" class=\"node\">\n<title>134188872406912+</title>\n<ellipse fill=\"none\" stroke=\"black\" cx=\"1008\" cy=\"-72.5\" rx=\"27\" ry=\"18\"/>\n<text text-anchor=\"middle\" x=\"1008\" y=\"-68.8\" font-family=\"Times,serif\" font-size=\"14.00\">+</text>\n</g>\n<!-- 134188872409648&#45;&gt;134188872406912+ -->\n<g id=\"edge11\" class=\"edge\">\n<title>134188872409648&#45;&gt;134188872406912+</title>\n<path fill=\"none\" stroke=\"black\" d=\"M901.02,-58.01C926,-61.43 951.59,-64.93 971.37,-67.63\"/>\n<polygon fill=\"black\" stroke=\"black\" points=\"971.05,-71.12 981.43,-69.01 972,-64.18 971.05,-71.12\"/>\n</g>\n<!-- 134188872416992 -->\n<g id=\"node4\" class=\"node\">\n<title>134188872416992</title>\n<polygon fill=\"none\" stroke=\"black\" points=\"672,-82.5 672,-118.5 945,-118.5 945,-82.5 672,-82.5\"/>\n<text text-anchor=\"middle\" x=\"725\" y=\"-96.8\" font-family=\"Times,serif\" font-size=\"14.00\">x1*w1 + x2*w2</text>\n<polyline fill=\"none\" stroke=\"black\" points=\"778,-82.5 778,-118.5 \"/>\n<text text-anchor=\"middle\" x=\"820.5\" y=\"-96.8\" font-family=\"Times,serif\" font-size=\"14.00\">data &#45;6.0000</text>\n<polyline fill=\"none\" stroke=\"black\" points=\"863,-82.5 863,-118.5 \"/>\n<text text-anchor=\"middle\" x=\"904\" y=\"-96.8\" font-family=\"Times,serif\" font-size=\"14.00\">grad 0.5000</text>\n</g>\n<!-- 134188872416992&#45;&gt;134188872406912+ -->\n<g id=\"edge6\" class=\"edge\">\n<title>134188872416992&#45;&gt;134188872406912+</title>\n<path fill=\"none\" stroke=\"black\" d=\"M936.53,-82.49C949.09,-80.71 960.99,-79.02 971.3,-77.56\"/>\n<polygon fill=\"black\" stroke=\"black\" points=\"972.03,-80.99 981.44,-76.12 971.05,-74.06 972.03,-80.99\"/>\n</g>\n<!-- 134188872416992+ -->\n<g id=\"node5\" class=\"node\">\n<title>134188872416992+</title>\n<ellipse fill=\"none\" stroke=\"black\" cx=\"609\" cy=\"-100.5\" rx=\"27\" ry=\"18\"/>\n<text text-anchor=\"middle\" x=\"609\" y=\"-96.8\" font-family=\"Times,serif\" font-size=\"14.00\">+</text>\n</g>\n<!-- 134188872416992+&#45;&gt;134188872416992 -->\n<g id=\"edge1\" class=\"edge\">\n<title>134188872416992+&#45;&gt;134188872416992</title>\n<path fill=\"none\" stroke=\"black\" d=\"M636.23,-100.5C643.7,-100.5 652.41,-100.5 661.87,-100.5\"/>\n<polygon fill=\"black\" stroke=\"black\" points=\"661.98,-104 671.98,-100.5 661.98,-97 661.98,-104\"/>\n</g>\n<!-- 134188872406240 -->\n<g id=\"node6\" class=\"node\">\n<title>134188872406240</title>\n<polygon fill=\"none\" stroke=\"black\" points=\"326,-110.5 326,-146.5 546,-146.5 546,-110.5 326,-110.5\"/>\n<text text-anchor=\"middle\" x=\"352.5\" y=\"-124.8\" font-family=\"Times,serif\" font-size=\"14.00\">x1*w1</text>\n<polyline fill=\"none\" stroke=\"black\" points=\"379,-110.5 379,-146.5 \"/>\n<text text-anchor=\"middle\" x=\"421.5\" y=\"-124.8\" font-family=\"Times,serif\" font-size=\"14.00\">data &#45;6.0000</text>\n<polyline fill=\"none\" stroke=\"black\" points=\"464,-110.5 464,-146.5 \"/>\n<text text-anchor=\"middle\" x=\"505\" y=\"-124.8\" font-family=\"Times,serif\" font-size=\"14.00\">grad 0.5000</text>\n</g>\n<!-- 134188872406240&#45;&gt;134188872416992+ -->\n<g id=\"edge9\" class=\"edge\">\n<title>134188872406240&#45;&gt;134188872416992+</title>\n<path fill=\"none\" stroke=\"black\" d=\"M546.27,-110.61C555.64,-109.07 564.6,-107.61 572.65,-106.29\"/>\n<polygon fill=\"black\" stroke=\"black\" points=\"573.35,-109.72 582.65,-104.65 572.22,-102.81 573.35,-109.72\"/>\n</g>\n<!-- 134188872406240*&#45;&gt;134188872406240 -->\n<g id=\"edge2\" class=\"edge\">\n<title>134188872406240*&#45;&gt;134188872406240</title>\n<path fill=\"none\" stroke=\"black\" d=\"M290.34,-128.5C297.77,-128.5 306.37,-128.5 315.6,-128.5\"/>\n<polygon fill=\"black\" stroke=\"black\" points=\"315.84,-132 325.84,-128.5 315.84,-125 315.84,-132\"/>\n</g>\n<!-- 134188872410368 -->\n<g id=\"node8\" class=\"node\">\n<title>134188872410368</title>\n<polygon fill=\"none\" stroke=\"black\" points=\"2.5,-0.5 2.5,-36.5 197.5,-36.5 197.5,-0.5 2.5,-0.5\"/>\n<text text-anchor=\"middle\" x=\"19\" y=\"-14.8\" font-family=\"Times,serif\" font-size=\"14.00\">w2</text>\n<polyline fill=\"none\" stroke=\"black\" points=\"35.5,-0.5 35.5,-36.5 \"/>\n<text text-anchor=\"middle\" x=\"75.5\" y=\"-14.8\" font-family=\"Times,serif\" font-size=\"14.00\">data 1.0000</text>\n<polyline fill=\"none\" stroke=\"black\" points=\"115.5,-0.5 115.5,-36.5 \"/>\n<text text-anchor=\"middle\" x=\"156.5\" y=\"-14.8\" font-family=\"Times,serif\" font-size=\"14.00\">grad 0.0000</text>\n</g>\n<!-- 134188872410368&#45;&gt;134188872404896* -->\n<g id=\"edge14\" class=\"edge\">\n<title>134188872410368&#45;&gt;134188872404896*</title>\n<path fill=\"none\" stroke=\"black\" d=\"M169.28,-36.5C179.65,-39.61 190.16,-42.98 200,-46.5 210.28,-50.17 221.28,-54.74 231.11,-59.07\"/>\n<polygon fill=\"black\" stroke=\"black\" points=\"229.93,-62.37 240.48,-63.27 232.79,-55.99 229.93,-62.37\"/>\n</g>\n<!-- 134188872407296 -->\n<g id=\"node9\" class=\"node\">\n<title>134188872407296</title>\n<polygon fill=\"none\" stroke=\"black\" points=\"0,-110.5 0,-146.5 200,-146.5 200,-110.5 0,-110.5\"/>\n<text text-anchor=\"middle\" x=\"16.5\" y=\"-124.8\" font-family=\"Times,serif\" font-size=\"14.00\">w1</text>\n<polyline fill=\"none\" stroke=\"black\" points=\"33,-110.5 33,-146.5 \"/>\n<text text-anchor=\"middle\" x=\"75.5\" y=\"-124.8\" font-family=\"Times,serif\" font-size=\"14.00\">data &#45;3.0000</text>\n<polyline fill=\"none\" stroke=\"black\" points=\"118,-110.5 118,-146.5 \"/>\n<text text-anchor=\"middle\" x=\"159\" y=\"-124.8\" font-family=\"Times,serif\" font-size=\"14.00\">grad 1.0000</text>\n</g>\n<!-- 134188872407296&#45;&gt;134188872406240* -->\n<g id=\"edge12\" class=\"edge\">\n<title>134188872407296&#45;&gt;134188872406240*</title>\n<path fill=\"none\" stroke=\"black\" d=\"M200.21,-128.5C209.2,-128.5 217.86,-128.5 225.7,-128.5\"/>\n<polygon fill=\"black\" stroke=\"black\" points=\"225.85,-132 235.85,-128.5 225.85,-125 225.85,-132\"/>\n</g>\n<!-- 134188872403264 -->\n<g id=\"node10\" class=\"node\">\n<title>134188872403264</title>\n<polygon fill=\"none\" stroke=\"black\" points=\"1382,-54.5 1382,-90.5 1567,-90.5 1567,-54.5 1382,-54.5\"/>\n<text text-anchor=\"middle\" x=\"1393.5\" y=\"-68.8\" font-family=\"Times,serif\" font-size=\"14.00\">o</text>\n<polyline fill=\"none\" stroke=\"black\" points=\"1405,-54.5 1405,-90.5 \"/>\n<text text-anchor=\"middle\" x=\"1445\" y=\"-68.8\" font-family=\"Times,serif\" font-size=\"14.00\">data 0.7071</text>\n<polyline fill=\"none\" stroke=\"black\" points=\"1485,-54.5 1485,-90.5 \"/>\n<text text-anchor=\"middle\" x=\"1526\" y=\"-68.8\" font-family=\"Times,serif\" font-size=\"14.00\">grad 1.0000</text>\n</g>\n<!-- 134188872403264tanh -->\n<g id=\"node11\" class=\"node\">\n<title>134188872403264tanh</title>\n<ellipse fill=\"none\" stroke=\"black\" cx=\"1319\" cy=\"-72.5\" rx=\"27\" ry=\"18\"/>\n<text text-anchor=\"middle\" x=\"1319\" y=\"-68.8\" font-family=\"Times,serif\" font-size=\"14.00\">tanh</text>\n</g>\n<!-- 134188872403264tanh&#45;&gt;134188872403264 -->\n<g id=\"edge3\" class=\"edge\">\n<title>134188872403264tanh&#45;&gt;134188872403264</title>\n<path fill=\"none\" stroke=\"black\" d=\"M1346.04,-72.5C1353.58,-72.5 1362.3,-72.5 1371.57,-72.5\"/>\n<polygon fill=\"black\" stroke=\"black\" points=\"1371.81,-76 1381.81,-72.5 1371.81,-69 1371.81,-76\"/>\n</g>\n<!-- 134188872406912 -->\n<g id=\"node12\" class=\"node\">\n<title>134188872406912</title>\n<polygon fill=\"none\" stroke=\"black\" points=\"1071,-54.5 1071,-90.5 1256,-90.5 1256,-54.5 1071,-54.5\"/>\n<text text-anchor=\"middle\" x=\"1082.5\" y=\"-68.8\" font-family=\"Times,serif\" font-size=\"14.00\">n</text>\n<polyline fill=\"none\" stroke=\"black\" points=\"1094,-54.5 1094,-90.5 \"/>\n<text text-anchor=\"middle\" x=\"1134\" y=\"-68.8\" font-family=\"Times,serif\" font-size=\"14.00\">data 0.8814</text>\n<polyline fill=\"none\" stroke=\"black\" points=\"1174,-54.5 1174,-90.5 \"/>\n<text text-anchor=\"middle\" x=\"1215\" y=\"-68.8\" font-family=\"Times,serif\" font-size=\"14.00\">grad 0.5000</text>\n</g>\n<!-- 134188872406912&#45;&gt;134188872403264tanh -->\n<g id=\"edge7\" class=\"edge\">\n<title>134188872406912&#45;&gt;134188872403264tanh</title>\n<path fill=\"none\" stroke=\"black\" d=\"M1256.01,-72.5C1265.01,-72.5 1273.74,-72.5 1281.66,-72.5\"/>\n<polygon fill=\"black\" stroke=\"black\" points=\"1281.91,-76 1291.91,-72.5 1281.91,-69 1281.91,-76\"/>\n</g>\n<!-- 134188872406912+&#45;&gt;134188872406912 -->\n<g id=\"edge4\" class=\"edge\">\n<title>134188872406912+&#45;&gt;134188872406912</title>\n<path fill=\"none\" stroke=\"black\" d=\"M1035.04,-72.5C1042.58,-72.5 1051.3,-72.5 1060.57,-72.5\"/>\n<polygon fill=\"black\" stroke=\"black\" points=\"1060.81,-76 1070.81,-72.5 1060.81,-69 1060.81,-76\"/>\n</g>\n<!-- 134188872404896 -->\n<g id=\"node14\" class=\"node\">\n<title>134188872404896</title>\n<polygon fill=\"none\" stroke=\"black\" points=\"328.5,-55.5 328.5,-91.5 543.5,-91.5 543.5,-55.5 328.5,-55.5\"/>\n<text text-anchor=\"middle\" x=\"355\" y=\"-69.8\" font-family=\"Times,serif\" font-size=\"14.00\">x2*w2</text>\n<polyline fill=\"none\" stroke=\"black\" points=\"381.5,-55.5 381.5,-91.5 \"/>\n<text text-anchor=\"middle\" x=\"421.5\" y=\"-69.8\" font-family=\"Times,serif\" font-size=\"14.00\">data 0.0000</text>\n<polyline fill=\"none\" stroke=\"black\" points=\"461.5,-55.5 461.5,-91.5 \"/>\n<text text-anchor=\"middle\" x=\"502.5\" y=\"-69.8\" font-family=\"Times,serif\" font-size=\"14.00\">grad 0.5000</text>\n</g>\n<!-- 134188872404896&#45;&gt;134188872416992+ -->\n<g id=\"edge8\" class=\"edge\">\n<title>134188872404896&#45;&gt;134188872416992+</title>\n<path fill=\"none\" stroke=\"black\" d=\"M543.84,-90.37C554.01,-91.98 563.76,-93.51 572.44,-94.89\"/>\n<polygon fill=\"black\" stroke=\"black\" points=\"572.05,-98.37 582.47,-96.47 573.14,-91.45 572.05,-98.37\"/>\n</g>\n<!-- 134188872404896*&#45;&gt;134188872404896 -->\n<g id=\"edge5\" class=\"edge\">\n<title>134188872404896*&#45;&gt;134188872404896</title>\n<path fill=\"none\" stroke=\"black\" d=\"M290.34,-73.5C298.51,-73.5 308.08,-73.5 318.36,-73.5\"/>\n<polygon fill=\"black\" stroke=\"black\" points=\"318.39,-77 328.39,-73.5 318.39,-70 318.39,-77\"/>\n</g>\n</g>\n</svg>\n",
            "text/plain": [
              "<graphviz.graphs.Digraph at 0x7a0b4812be20>"
            ]
          },
          "metadata": {},
          "execution_count": 88
        }
      ]
    },
    {
      "cell_type": "code",
      "source": [
        "# Multiplication node\n",
        "x2.grad = w2.data * x2w2.grad\n",
        "w2.grad = x2.data * x2w2.grad"
      ],
      "metadata": {
        "id": "xHGqWAm1Xe8U"
      },
      "execution_count": null,
      "outputs": []
    },
    {
      "cell_type": "code",
      "source": [
        "draw_dot(o)"
      ],
      "metadata": {
        "colab": {
          "base_uri": "https://localhost:8080/",
          "height": 321
        },
        "id": "fMU41ccaXmYW",
        "outputId": "19bda843-8084-4dc0-939d-4e5feb24d230"
      },
      "execution_count": null,
      "outputs": [
        {
          "output_type": "execute_result",
          "data": {
            "image/svg+xml": "<?xml version=\"1.0\" encoding=\"UTF-8\" standalone=\"no\"?>\n<!DOCTYPE svg PUBLIC \"-//W3C//DTD SVG 1.1//EN\"\n \"http://www.w3.org/Graphics/SVG/1.1/DTD/svg11.dtd\">\n<!-- Generated by graphviz version 2.43.0 (0)\n -->\n<!-- Title: %3 Pages: 1 -->\n<svg width=\"1575pt\" height=\"210pt\"\n viewBox=\"0.00 0.00 1575.00 210.00\" xmlns=\"http://www.w3.org/2000/svg\" xmlns:xlink=\"http://www.w3.org/1999/xlink\">\n<g id=\"graph0\" class=\"graph\" transform=\"scale(1 1) rotate(0) translate(4 206)\">\n<title>%3</title>\n<polygon fill=\"white\" stroke=\"transparent\" points=\"-4,4 -4,-206 1571,-206 1571,4 -4,4\"/>\n<!-- 134188872411136 -->\n<g id=\"node1\" class=\"node\">\n<title>134188872411136</title>\n<polygon fill=\"none\" stroke=\"black\" points=\"2,-165.5 2,-201.5 198,-201.5 198,-165.5 2,-165.5\"/>\n<text text-anchor=\"middle\" x=\"17\" y=\"-179.8\" font-family=\"Times,serif\" font-size=\"14.00\">x1</text>\n<polyline fill=\"none\" stroke=\"black\" points=\"32,-165.5 32,-201.5 \"/>\n<text text-anchor=\"middle\" x=\"72\" y=\"-179.8\" font-family=\"Times,serif\" font-size=\"14.00\">data 2.0000</text>\n<polyline fill=\"none\" stroke=\"black\" points=\"112,-165.5 112,-201.5 \"/>\n<text text-anchor=\"middle\" x=\"155\" y=\"-179.8\" font-family=\"Times,serif\" font-size=\"14.00\">grad &#45;1.5000</text>\n</g>\n<!-- 134188872406240* -->\n<g id=\"node7\" class=\"node\">\n<title>134188872406240*</title>\n<ellipse fill=\"none\" stroke=\"black\" cx=\"263\" cy=\"-128.5\" rx=\"27\" ry=\"18\"/>\n<text text-anchor=\"middle\" x=\"263\" y=\"-124.8\" font-family=\"Times,serif\" font-size=\"14.00\">*</text>\n</g>\n<!-- 134188872411136&#45;&gt;134188872406240* -->\n<g id=\"edge10\" class=\"edge\">\n<title>134188872411136&#45;&gt;134188872406240*</title>\n<path fill=\"none\" stroke=\"black\" d=\"M172.53,-165.44C181.84,-162.67 191.2,-159.67 200,-156.5 210.53,-152.71 221.75,-147.9 231.72,-143.33\"/>\n<polygon fill=\"black\" stroke=\"black\" points=\"233.25,-146.48 240.82,-139.07 230.28,-140.14 233.25,-146.48\"/>\n</g>\n<!-- 134188872405520 -->\n<g id=\"node2\" class=\"node\">\n<title>134188872405520</title>\n<polygon fill=\"none\" stroke=\"black\" points=\"4,-55.5 4,-91.5 196,-91.5 196,-55.5 4,-55.5\"/>\n<text text-anchor=\"middle\" x=\"19\" y=\"-69.8\" font-family=\"Times,serif\" font-size=\"14.00\">x2</text>\n<polyline fill=\"none\" stroke=\"black\" points=\"34,-55.5 34,-91.5 \"/>\n<text text-anchor=\"middle\" x=\"74\" y=\"-69.8\" font-family=\"Times,serif\" font-size=\"14.00\">data 0.0000</text>\n<polyline fill=\"none\" stroke=\"black\" points=\"114,-55.5 114,-91.5 \"/>\n<text text-anchor=\"middle\" x=\"155\" y=\"-69.8\" font-family=\"Times,serif\" font-size=\"14.00\">grad 0.5000</text>\n</g>\n<!-- 134188872404896* -->\n<g id=\"node15\" class=\"node\">\n<title>134188872404896*</title>\n<ellipse fill=\"none\" stroke=\"black\" cx=\"263\" cy=\"-73.5\" rx=\"27\" ry=\"18\"/>\n<text text-anchor=\"middle\" x=\"263\" y=\"-69.8\" font-family=\"Times,serif\" font-size=\"14.00\">*</text>\n</g>\n<!-- 134188872405520&#45;&gt;134188872404896* -->\n<g id=\"edge13\" class=\"edge\">\n<title>134188872405520&#45;&gt;134188872404896*</title>\n<path fill=\"none\" stroke=\"black\" d=\"M196.05,-73.5C206.52,-73.5 216.65,-73.5 225.71,-73.5\"/>\n<polygon fill=\"black\" stroke=\"black\" points=\"225.79,-77 235.79,-73.5 225.79,-70 225.79,-77\"/>\n</g>\n<!-- 134188872409648 -->\n<g id=\"node3\" class=\"node\">\n<title>134188872409648</title>\n<polygon fill=\"none\" stroke=\"black\" points=\"716,-27.5 716,-63.5 901,-63.5 901,-27.5 716,-27.5\"/>\n<text text-anchor=\"middle\" x=\"727.5\" y=\"-41.8\" font-family=\"Times,serif\" font-size=\"14.00\">b</text>\n<polyline fill=\"none\" stroke=\"black\" points=\"739,-27.5 739,-63.5 \"/>\n<text text-anchor=\"middle\" x=\"779\" y=\"-41.8\" font-family=\"Times,serif\" font-size=\"14.00\">data 6.8814</text>\n<polyline fill=\"none\" stroke=\"black\" points=\"819,-27.5 819,-63.5 \"/>\n<text text-anchor=\"middle\" x=\"860\" y=\"-41.8\" font-family=\"Times,serif\" font-size=\"14.00\">grad 0.5000</text>\n</g>\n<!-- 134188872406912+ -->\n<g id=\"node13\" class=\"node\">\n<title>134188872406912+</title>\n<ellipse fill=\"none\" stroke=\"black\" cx=\"1008\" cy=\"-72.5\" rx=\"27\" ry=\"18\"/>\n<text text-anchor=\"middle\" x=\"1008\" y=\"-68.8\" font-family=\"Times,serif\" font-size=\"14.00\">+</text>\n</g>\n<!-- 134188872409648&#45;&gt;134188872406912+ -->\n<g id=\"edge11\" class=\"edge\">\n<title>134188872409648&#45;&gt;134188872406912+</title>\n<path fill=\"none\" stroke=\"black\" d=\"M901.02,-58.01C926,-61.43 951.59,-64.93 971.37,-67.63\"/>\n<polygon fill=\"black\" stroke=\"black\" points=\"971.05,-71.12 981.43,-69.01 972,-64.18 971.05,-71.12\"/>\n</g>\n<!-- 134188872416992 -->\n<g id=\"node4\" class=\"node\">\n<title>134188872416992</title>\n<polygon fill=\"none\" stroke=\"black\" points=\"672,-82.5 672,-118.5 945,-118.5 945,-82.5 672,-82.5\"/>\n<text text-anchor=\"middle\" x=\"725\" y=\"-96.8\" font-family=\"Times,serif\" font-size=\"14.00\">x1*w1 + x2*w2</text>\n<polyline fill=\"none\" stroke=\"black\" points=\"778,-82.5 778,-118.5 \"/>\n<text text-anchor=\"middle\" x=\"820.5\" y=\"-96.8\" font-family=\"Times,serif\" font-size=\"14.00\">data &#45;6.0000</text>\n<polyline fill=\"none\" stroke=\"black\" points=\"863,-82.5 863,-118.5 \"/>\n<text text-anchor=\"middle\" x=\"904\" y=\"-96.8\" font-family=\"Times,serif\" font-size=\"14.00\">grad 0.5000</text>\n</g>\n<!-- 134188872416992&#45;&gt;134188872406912+ -->\n<g id=\"edge6\" class=\"edge\">\n<title>134188872416992&#45;&gt;134188872406912+</title>\n<path fill=\"none\" stroke=\"black\" d=\"M936.53,-82.49C949.09,-80.71 960.99,-79.02 971.3,-77.56\"/>\n<polygon fill=\"black\" stroke=\"black\" points=\"972.03,-80.99 981.44,-76.12 971.05,-74.06 972.03,-80.99\"/>\n</g>\n<!-- 134188872416992+ -->\n<g id=\"node5\" class=\"node\">\n<title>134188872416992+</title>\n<ellipse fill=\"none\" stroke=\"black\" cx=\"609\" cy=\"-100.5\" rx=\"27\" ry=\"18\"/>\n<text text-anchor=\"middle\" x=\"609\" y=\"-96.8\" font-family=\"Times,serif\" font-size=\"14.00\">+</text>\n</g>\n<!-- 134188872416992+&#45;&gt;134188872416992 -->\n<g id=\"edge1\" class=\"edge\">\n<title>134188872416992+&#45;&gt;134188872416992</title>\n<path fill=\"none\" stroke=\"black\" d=\"M636.23,-100.5C643.7,-100.5 652.41,-100.5 661.87,-100.5\"/>\n<polygon fill=\"black\" stroke=\"black\" points=\"661.98,-104 671.98,-100.5 661.98,-97 661.98,-104\"/>\n</g>\n<!-- 134188872406240 -->\n<g id=\"node6\" class=\"node\">\n<title>134188872406240</title>\n<polygon fill=\"none\" stroke=\"black\" points=\"326,-110.5 326,-146.5 546,-146.5 546,-110.5 326,-110.5\"/>\n<text text-anchor=\"middle\" x=\"352.5\" y=\"-124.8\" font-family=\"Times,serif\" font-size=\"14.00\">x1*w1</text>\n<polyline fill=\"none\" stroke=\"black\" points=\"379,-110.5 379,-146.5 \"/>\n<text text-anchor=\"middle\" x=\"421.5\" y=\"-124.8\" font-family=\"Times,serif\" font-size=\"14.00\">data &#45;6.0000</text>\n<polyline fill=\"none\" stroke=\"black\" points=\"464,-110.5 464,-146.5 \"/>\n<text text-anchor=\"middle\" x=\"505\" y=\"-124.8\" font-family=\"Times,serif\" font-size=\"14.00\">grad 0.5000</text>\n</g>\n<!-- 134188872406240&#45;&gt;134188872416992+ -->\n<g id=\"edge9\" class=\"edge\">\n<title>134188872406240&#45;&gt;134188872416992+</title>\n<path fill=\"none\" stroke=\"black\" d=\"M546.27,-110.61C555.64,-109.07 564.6,-107.61 572.65,-106.29\"/>\n<polygon fill=\"black\" stroke=\"black\" points=\"573.35,-109.72 582.65,-104.65 572.22,-102.81 573.35,-109.72\"/>\n</g>\n<!-- 134188872406240*&#45;&gt;134188872406240 -->\n<g id=\"edge2\" class=\"edge\">\n<title>134188872406240*&#45;&gt;134188872406240</title>\n<path fill=\"none\" stroke=\"black\" d=\"M290.34,-128.5C297.77,-128.5 306.37,-128.5 315.6,-128.5\"/>\n<polygon fill=\"black\" stroke=\"black\" points=\"315.84,-132 325.84,-128.5 315.84,-125 315.84,-132\"/>\n</g>\n<!-- 134188872410368 -->\n<g id=\"node8\" class=\"node\">\n<title>134188872410368</title>\n<polygon fill=\"none\" stroke=\"black\" points=\"2.5,-0.5 2.5,-36.5 197.5,-36.5 197.5,-0.5 2.5,-0.5\"/>\n<text text-anchor=\"middle\" x=\"19\" y=\"-14.8\" font-family=\"Times,serif\" font-size=\"14.00\">w2</text>\n<polyline fill=\"none\" stroke=\"black\" points=\"35.5,-0.5 35.5,-36.5 \"/>\n<text text-anchor=\"middle\" x=\"75.5\" y=\"-14.8\" font-family=\"Times,serif\" font-size=\"14.00\">data 1.0000</text>\n<polyline fill=\"none\" stroke=\"black\" points=\"115.5,-0.5 115.5,-36.5 \"/>\n<text text-anchor=\"middle\" x=\"156.5\" y=\"-14.8\" font-family=\"Times,serif\" font-size=\"14.00\">grad 0.0000</text>\n</g>\n<!-- 134188872410368&#45;&gt;134188872404896* -->\n<g id=\"edge14\" class=\"edge\">\n<title>134188872410368&#45;&gt;134188872404896*</title>\n<path fill=\"none\" stroke=\"black\" d=\"M169.28,-36.5C179.65,-39.61 190.16,-42.98 200,-46.5 210.28,-50.17 221.28,-54.74 231.11,-59.07\"/>\n<polygon fill=\"black\" stroke=\"black\" points=\"229.93,-62.37 240.48,-63.27 232.79,-55.99 229.93,-62.37\"/>\n</g>\n<!-- 134188872407296 -->\n<g id=\"node9\" class=\"node\">\n<title>134188872407296</title>\n<polygon fill=\"none\" stroke=\"black\" points=\"0,-110.5 0,-146.5 200,-146.5 200,-110.5 0,-110.5\"/>\n<text text-anchor=\"middle\" x=\"16.5\" y=\"-124.8\" font-family=\"Times,serif\" font-size=\"14.00\">w1</text>\n<polyline fill=\"none\" stroke=\"black\" points=\"33,-110.5 33,-146.5 \"/>\n<text text-anchor=\"middle\" x=\"75.5\" y=\"-124.8\" font-family=\"Times,serif\" font-size=\"14.00\">data &#45;3.0000</text>\n<polyline fill=\"none\" stroke=\"black\" points=\"118,-110.5 118,-146.5 \"/>\n<text text-anchor=\"middle\" x=\"159\" y=\"-124.8\" font-family=\"Times,serif\" font-size=\"14.00\">grad 1.0000</text>\n</g>\n<!-- 134188872407296&#45;&gt;134188872406240* -->\n<g id=\"edge12\" class=\"edge\">\n<title>134188872407296&#45;&gt;134188872406240*</title>\n<path fill=\"none\" stroke=\"black\" d=\"M200.21,-128.5C209.2,-128.5 217.86,-128.5 225.7,-128.5\"/>\n<polygon fill=\"black\" stroke=\"black\" points=\"225.85,-132 235.85,-128.5 225.85,-125 225.85,-132\"/>\n</g>\n<!-- 134188872403264 -->\n<g id=\"node10\" class=\"node\">\n<title>134188872403264</title>\n<polygon fill=\"none\" stroke=\"black\" points=\"1382,-54.5 1382,-90.5 1567,-90.5 1567,-54.5 1382,-54.5\"/>\n<text text-anchor=\"middle\" x=\"1393.5\" y=\"-68.8\" font-family=\"Times,serif\" font-size=\"14.00\">o</text>\n<polyline fill=\"none\" stroke=\"black\" points=\"1405,-54.5 1405,-90.5 \"/>\n<text text-anchor=\"middle\" x=\"1445\" y=\"-68.8\" font-family=\"Times,serif\" font-size=\"14.00\">data 0.7071</text>\n<polyline fill=\"none\" stroke=\"black\" points=\"1485,-54.5 1485,-90.5 \"/>\n<text text-anchor=\"middle\" x=\"1526\" y=\"-68.8\" font-family=\"Times,serif\" font-size=\"14.00\">grad 1.0000</text>\n</g>\n<!-- 134188872403264tanh -->\n<g id=\"node11\" class=\"node\">\n<title>134188872403264tanh</title>\n<ellipse fill=\"none\" stroke=\"black\" cx=\"1319\" cy=\"-72.5\" rx=\"27\" ry=\"18\"/>\n<text text-anchor=\"middle\" x=\"1319\" y=\"-68.8\" font-family=\"Times,serif\" font-size=\"14.00\">tanh</text>\n</g>\n<!-- 134188872403264tanh&#45;&gt;134188872403264 -->\n<g id=\"edge3\" class=\"edge\">\n<title>134188872403264tanh&#45;&gt;134188872403264</title>\n<path fill=\"none\" stroke=\"black\" d=\"M1346.04,-72.5C1353.58,-72.5 1362.3,-72.5 1371.57,-72.5\"/>\n<polygon fill=\"black\" stroke=\"black\" points=\"1371.81,-76 1381.81,-72.5 1371.81,-69 1371.81,-76\"/>\n</g>\n<!-- 134188872406912 -->\n<g id=\"node12\" class=\"node\">\n<title>134188872406912</title>\n<polygon fill=\"none\" stroke=\"black\" points=\"1071,-54.5 1071,-90.5 1256,-90.5 1256,-54.5 1071,-54.5\"/>\n<text text-anchor=\"middle\" x=\"1082.5\" y=\"-68.8\" font-family=\"Times,serif\" font-size=\"14.00\">n</text>\n<polyline fill=\"none\" stroke=\"black\" points=\"1094,-54.5 1094,-90.5 \"/>\n<text text-anchor=\"middle\" x=\"1134\" y=\"-68.8\" font-family=\"Times,serif\" font-size=\"14.00\">data 0.8814</text>\n<polyline fill=\"none\" stroke=\"black\" points=\"1174,-54.5 1174,-90.5 \"/>\n<text text-anchor=\"middle\" x=\"1215\" y=\"-68.8\" font-family=\"Times,serif\" font-size=\"14.00\">grad 0.5000</text>\n</g>\n<!-- 134188872406912&#45;&gt;134188872403264tanh -->\n<g id=\"edge7\" class=\"edge\">\n<title>134188872406912&#45;&gt;134188872403264tanh</title>\n<path fill=\"none\" stroke=\"black\" d=\"M1256.01,-72.5C1265.01,-72.5 1273.74,-72.5 1281.66,-72.5\"/>\n<polygon fill=\"black\" stroke=\"black\" points=\"1281.91,-76 1291.91,-72.5 1281.91,-69 1281.91,-76\"/>\n</g>\n<!-- 134188872406912+&#45;&gt;134188872406912 -->\n<g id=\"edge4\" class=\"edge\">\n<title>134188872406912+&#45;&gt;134188872406912</title>\n<path fill=\"none\" stroke=\"black\" d=\"M1035.04,-72.5C1042.58,-72.5 1051.3,-72.5 1060.57,-72.5\"/>\n<polygon fill=\"black\" stroke=\"black\" points=\"1060.81,-76 1070.81,-72.5 1060.81,-69 1060.81,-76\"/>\n</g>\n<!-- 134188872404896 -->\n<g id=\"node14\" class=\"node\">\n<title>134188872404896</title>\n<polygon fill=\"none\" stroke=\"black\" points=\"328.5,-55.5 328.5,-91.5 543.5,-91.5 543.5,-55.5 328.5,-55.5\"/>\n<text text-anchor=\"middle\" x=\"355\" y=\"-69.8\" font-family=\"Times,serif\" font-size=\"14.00\">x2*w2</text>\n<polyline fill=\"none\" stroke=\"black\" points=\"381.5,-55.5 381.5,-91.5 \"/>\n<text text-anchor=\"middle\" x=\"421.5\" y=\"-69.8\" font-family=\"Times,serif\" font-size=\"14.00\">data 0.0000</text>\n<polyline fill=\"none\" stroke=\"black\" points=\"461.5,-55.5 461.5,-91.5 \"/>\n<text text-anchor=\"middle\" x=\"502.5\" y=\"-69.8\" font-family=\"Times,serif\" font-size=\"14.00\">grad 0.5000</text>\n</g>\n<!-- 134188872404896&#45;&gt;134188872416992+ -->\n<g id=\"edge8\" class=\"edge\">\n<title>134188872404896&#45;&gt;134188872416992+</title>\n<path fill=\"none\" stroke=\"black\" d=\"M543.84,-90.37C554.01,-91.98 563.76,-93.51 572.44,-94.89\"/>\n<polygon fill=\"black\" stroke=\"black\" points=\"572.05,-98.37 582.47,-96.47 573.14,-91.45 572.05,-98.37\"/>\n</g>\n<!-- 134188872404896*&#45;&gt;134188872404896 -->\n<g id=\"edge5\" class=\"edge\">\n<title>134188872404896*&#45;&gt;134188872404896</title>\n<path fill=\"none\" stroke=\"black\" d=\"M290.34,-73.5C298.51,-73.5 308.08,-73.5 318.36,-73.5\"/>\n<polygon fill=\"black\" stroke=\"black\" points=\"318.39,-77 328.39,-73.5 318.39,-70 318.39,-77\"/>\n</g>\n</g>\n</svg>\n",
            "text/plain": [
              "<graphviz.graphs.Digraph at 0x7a0b481284c0>"
            ]
          },
          "metadata": {},
          "execution_count": 90
        }
      ]
    },
    {
      "cell_type": "markdown",
      "source": [
        "# Adding backward()"
      ],
      "metadata": {
        "id": "D7zuVbSyG9Hc"
      }
    },
    {
      "cell_type": "markdown",
      "source": [
        "## Manual Backpropagation with the Enhanced `Value` Class\n",
        "\n",
        "In this section, we're enhancing our basic computational graph structure to more seamlessly handle the process of backpropagation. The `Value` class, which represents nodes in our computational graph, will now have built-in functionality to propagate gradients backward, allowing for a more intuitive and direct calculation of derivatives. Here's a brief outline of the modifications and the reasoning behind them:\n",
        "\n",
        "1. **Adding Backward Functionality**:\n",
        "    - Each `Value` instance now has a `_backward` method. This method contains the logic to compute the gradient of that particular operation and pass it backward to its inputs.\n",
        "    - The `_backward` method gets defined during each operation (like addition or multiplication) and is based on the derivative of that operation.\n",
        "\n",
        "2. **Enhanced Operations**:\n",
        "    - Operations like addition (`__add__`), multiplication (`__mul__`), and the activation function `tanh` now not only compute the output but also define how to compute the gradient for their respective inputs during backpropagation.\n",
        "    - For instance, in the multiplication operation, the gradient is distributed to its operands based on the value of the other operand.\n",
        "\n",
        "3. **Backpropagation in Action**:\n",
        "    - After constructing the computational graph and computing the forward pass (resulting in some output or loss), we set the gradient of the final output node (typically representing the loss) to 1.\n",
        "    - We then invoke the `_backward` method of the output node, which will recursively call the `_backward` methods of its input nodes, distributing gradients based on the operation's derivative. This continues until all nodes in the graph have received their gradient.\n",
        "    - This design encapsulates the logic for gradient computation within each operation, making the process modular and intuitive.\n",
        "\n",
        "In the upcoming steps, by creating a computational graph using this enhanced `Value` class and then invoking the backward functionality, we will witness the gradients flow backward through the graph, solidifying our understanding of backpropagation."
      ],
      "metadata": {
        "id": "CtnMM093dTGB"
      }
    },
    {
      "cell_type": "code",
      "source": [
        "class Value:\n",
        "\n",
        "  def __init__(self, data, _children=(), _op='', label=''):\n",
        "    self.data = data\n",
        "    self.grad = 0.0\n",
        "    self._backward = lambda: None\n",
        "    self._prev = set(_children)\n",
        "    self._op = _op\n",
        "    self.label = label\n",
        "\n",
        "  def __repr__(self):\n",
        "    return f\"Value(data={self.data})\"\n",
        "\n",
        "  def __add__(self, other):\n",
        "    out = Value(self.data + other.data, (self, other), '+')\n",
        "\n",
        "    def _backward():\n",
        "      self.grad += 1.0 * out.grad\n",
        "      other.grad += 1.0 * out.grad\n",
        "    out._backward = _backward\n",
        "\n",
        "    return out\n",
        "\n",
        "  def __mul__(self, other):\n",
        "    out = Value(self.data * other.data, (self, other), '*')\n",
        "\n",
        "    def _backward():\n",
        "      self.grad += other.data * out.grad\n",
        "      other.grad += self.data * out.grad\n",
        "    out._backward = _backward\n",
        "\n",
        "    return out\n",
        "\n",
        "  def tanh(self):\n",
        "    x = self.data\n",
        "    t = (math.exp(2*x) - 1)/(math.exp(2*x) + 1)\n",
        "    out = Value(t, (self, ), 'tanh')\n",
        "\n",
        "    def _backward():\n",
        "      self.grad += (1 - t**2) * out.grad\n",
        "    out._backward = _backward\n",
        "\n",
        "    return out\n"
      ],
      "metadata": {
        "id": "CzAP2mYVdWFM"
      },
      "execution_count": null,
      "outputs": []
    },
    {
      "cell_type": "code",
      "source": [
        "# inputs x1,x2\n",
        "x1 = Value(2.0, label='x1')\n",
        "x2 = Value(0.0, label='x2')\n",
        "# weights w1,w2\n",
        "w1 = Value(-3.0, label='w1')\n",
        "w2 = Value(1.0, label='w2')\n",
        "# bias of the neuron, the 6.88 values means our back propagation will have good numbers!\n",
        "b = Value(6.8813735870195432, label='b')\n",
        "# x1*w1 + x2*w2 + b\n",
        "x1w1 = x1*w1; x1w1.label = 'x1*w1'\n",
        "x2w2 = x2*w2; x2w2.label = 'x2*w2'\n",
        "x1w1x2w2 = x1w1 + x2w2; x1w1x2w2.label = 'x1*w1 + x2*w2'\n",
        "n = x1w1x2w2 + b; n.label = 'n'\n",
        "o = n.tanh(); o.label = 'o'"
      ],
      "metadata": {
        "id": "S5P0Oh5ZdniZ"
      },
      "execution_count": null,
      "outputs": []
    },
    {
      "cell_type": "code",
      "source": [
        "draw_dot(o)"
      ],
      "metadata": {
        "colab": {
          "base_uri": "https://localhost:8080/",
          "height": 321
        },
        "id": "Ka9ZSPZ0dufK",
        "outputId": "809d90db-1834-4bab-ce5d-36374296a6da"
      },
      "execution_count": null,
      "outputs": [
        {
          "output_type": "execute_result",
          "data": {
            "image/svg+xml": "<?xml version=\"1.0\" encoding=\"UTF-8\" standalone=\"no\"?>\n<!DOCTYPE svg PUBLIC \"-//W3C//DTD SVG 1.1//EN\"\n \"http://www.w3.org/Graphics/SVG/1.1/DTD/svg11.dtd\">\n<!-- Generated by graphviz version 2.43.0 (0)\n -->\n<!-- Title: %3 Pages: 1 -->\n<svg width=\"1575pt\" height=\"210pt\"\n viewBox=\"0.00 0.00 1575.00 210.00\" xmlns=\"http://www.w3.org/2000/svg\" xmlns:xlink=\"http://www.w3.org/1999/xlink\">\n<g id=\"graph0\" class=\"graph\" transform=\"scale(1 1) rotate(0) translate(4 206)\">\n<title>%3</title>\n<polygon fill=\"white\" stroke=\"transparent\" points=\"-4,4 -4,-206 1571,-206 1571,4 -4,4\"/>\n<!-- 134188872411136 -->\n<g id=\"node1\" class=\"node\">\n<title>134188872411136</title>\n<polygon fill=\"none\" stroke=\"black\" points=\"2,-165.5 2,-201.5 198,-201.5 198,-165.5 2,-165.5\"/>\n<text text-anchor=\"middle\" x=\"17\" y=\"-179.8\" font-family=\"Times,serif\" font-size=\"14.00\">x1</text>\n<polyline fill=\"none\" stroke=\"black\" points=\"32,-165.5 32,-201.5 \"/>\n<text text-anchor=\"middle\" x=\"72\" y=\"-179.8\" font-family=\"Times,serif\" font-size=\"14.00\">data 2.0000</text>\n<polyline fill=\"none\" stroke=\"black\" points=\"112,-165.5 112,-201.5 \"/>\n<text text-anchor=\"middle\" x=\"155\" y=\"-179.8\" font-family=\"Times,serif\" font-size=\"14.00\">grad &#45;1.5000</text>\n</g>\n<!-- 134188872406240* -->\n<g id=\"node7\" class=\"node\">\n<title>134188872406240*</title>\n<ellipse fill=\"none\" stroke=\"black\" cx=\"263\" cy=\"-128.5\" rx=\"27\" ry=\"18\"/>\n<text text-anchor=\"middle\" x=\"263\" y=\"-124.8\" font-family=\"Times,serif\" font-size=\"14.00\">*</text>\n</g>\n<!-- 134188872411136&#45;&gt;134188872406240* -->\n<g id=\"edge10\" class=\"edge\">\n<title>134188872411136&#45;&gt;134188872406240*</title>\n<path fill=\"none\" stroke=\"black\" d=\"M172.53,-165.44C181.84,-162.67 191.2,-159.67 200,-156.5 210.53,-152.71 221.75,-147.9 231.72,-143.33\"/>\n<polygon fill=\"black\" stroke=\"black\" points=\"233.25,-146.48 240.82,-139.07 230.28,-140.14 233.25,-146.48\"/>\n</g>\n<!-- 134188872405520 -->\n<g id=\"node2\" class=\"node\">\n<title>134188872405520</title>\n<polygon fill=\"none\" stroke=\"black\" points=\"4,-55.5 4,-91.5 196,-91.5 196,-55.5 4,-55.5\"/>\n<text text-anchor=\"middle\" x=\"19\" y=\"-69.8\" font-family=\"Times,serif\" font-size=\"14.00\">x2</text>\n<polyline fill=\"none\" stroke=\"black\" points=\"34,-55.5 34,-91.5 \"/>\n<text text-anchor=\"middle\" x=\"74\" y=\"-69.8\" font-family=\"Times,serif\" font-size=\"14.00\">data 0.0000</text>\n<polyline fill=\"none\" stroke=\"black\" points=\"114,-55.5 114,-91.5 \"/>\n<text text-anchor=\"middle\" x=\"155\" y=\"-69.8\" font-family=\"Times,serif\" font-size=\"14.00\">grad 0.5000</text>\n</g>\n<!-- 134188872404896* -->\n<g id=\"node15\" class=\"node\">\n<title>134188872404896*</title>\n<ellipse fill=\"none\" stroke=\"black\" cx=\"263\" cy=\"-73.5\" rx=\"27\" ry=\"18\"/>\n<text text-anchor=\"middle\" x=\"263\" y=\"-69.8\" font-family=\"Times,serif\" font-size=\"14.00\">*</text>\n</g>\n<!-- 134188872405520&#45;&gt;134188872404896* -->\n<g id=\"edge13\" class=\"edge\">\n<title>134188872405520&#45;&gt;134188872404896*</title>\n<path fill=\"none\" stroke=\"black\" d=\"M196.05,-73.5C206.52,-73.5 216.65,-73.5 225.71,-73.5\"/>\n<polygon fill=\"black\" stroke=\"black\" points=\"225.79,-77 235.79,-73.5 225.79,-70 225.79,-77\"/>\n</g>\n<!-- 134188872409648 -->\n<g id=\"node3\" class=\"node\">\n<title>134188872409648</title>\n<polygon fill=\"none\" stroke=\"black\" points=\"716,-27.5 716,-63.5 901,-63.5 901,-27.5 716,-27.5\"/>\n<text text-anchor=\"middle\" x=\"727.5\" y=\"-41.8\" font-family=\"Times,serif\" font-size=\"14.00\">b</text>\n<polyline fill=\"none\" stroke=\"black\" points=\"739,-27.5 739,-63.5 \"/>\n<text text-anchor=\"middle\" x=\"779\" y=\"-41.8\" font-family=\"Times,serif\" font-size=\"14.00\">data 6.8814</text>\n<polyline fill=\"none\" stroke=\"black\" points=\"819,-27.5 819,-63.5 \"/>\n<text text-anchor=\"middle\" x=\"860\" y=\"-41.8\" font-family=\"Times,serif\" font-size=\"14.00\">grad 0.5000</text>\n</g>\n<!-- 134188872406912+ -->\n<g id=\"node13\" class=\"node\">\n<title>134188872406912+</title>\n<ellipse fill=\"none\" stroke=\"black\" cx=\"1008\" cy=\"-72.5\" rx=\"27\" ry=\"18\"/>\n<text text-anchor=\"middle\" x=\"1008\" y=\"-68.8\" font-family=\"Times,serif\" font-size=\"14.00\">+</text>\n</g>\n<!-- 134188872409648&#45;&gt;134188872406912+ -->\n<g id=\"edge11\" class=\"edge\">\n<title>134188872409648&#45;&gt;134188872406912+</title>\n<path fill=\"none\" stroke=\"black\" d=\"M901.02,-58.01C926,-61.43 951.59,-64.93 971.37,-67.63\"/>\n<polygon fill=\"black\" stroke=\"black\" points=\"971.05,-71.12 981.43,-69.01 972,-64.18 971.05,-71.12\"/>\n</g>\n<!-- 134188872416992 -->\n<g id=\"node4\" class=\"node\">\n<title>134188872416992</title>\n<polygon fill=\"none\" stroke=\"black\" points=\"672,-82.5 672,-118.5 945,-118.5 945,-82.5 672,-82.5\"/>\n<text text-anchor=\"middle\" x=\"725\" y=\"-96.8\" font-family=\"Times,serif\" font-size=\"14.00\">x1*w1 + x2*w2</text>\n<polyline fill=\"none\" stroke=\"black\" points=\"778,-82.5 778,-118.5 \"/>\n<text text-anchor=\"middle\" x=\"820.5\" y=\"-96.8\" font-family=\"Times,serif\" font-size=\"14.00\">data &#45;6.0000</text>\n<polyline fill=\"none\" stroke=\"black\" points=\"863,-82.5 863,-118.5 \"/>\n<text text-anchor=\"middle\" x=\"904\" y=\"-96.8\" font-family=\"Times,serif\" font-size=\"14.00\">grad 0.5000</text>\n</g>\n<!-- 134188872416992&#45;&gt;134188872406912+ -->\n<g id=\"edge6\" class=\"edge\">\n<title>134188872416992&#45;&gt;134188872406912+</title>\n<path fill=\"none\" stroke=\"black\" d=\"M936.53,-82.49C949.09,-80.71 960.99,-79.02 971.3,-77.56\"/>\n<polygon fill=\"black\" stroke=\"black\" points=\"972.03,-80.99 981.44,-76.12 971.05,-74.06 972.03,-80.99\"/>\n</g>\n<!-- 134188872416992+ -->\n<g id=\"node5\" class=\"node\">\n<title>134188872416992+</title>\n<ellipse fill=\"none\" stroke=\"black\" cx=\"609\" cy=\"-100.5\" rx=\"27\" ry=\"18\"/>\n<text text-anchor=\"middle\" x=\"609\" y=\"-96.8\" font-family=\"Times,serif\" font-size=\"14.00\">+</text>\n</g>\n<!-- 134188872416992+&#45;&gt;134188872416992 -->\n<g id=\"edge1\" class=\"edge\">\n<title>134188872416992+&#45;&gt;134188872416992</title>\n<path fill=\"none\" stroke=\"black\" d=\"M636.23,-100.5C643.7,-100.5 652.41,-100.5 661.87,-100.5\"/>\n<polygon fill=\"black\" stroke=\"black\" points=\"661.98,-104 671.98,-100.5 661.98,-97 661.98,-104\"/>\n</g>\n<!-- 134188872406240 -->\n<g id=\"node6\" class=\"node\">\n<title>134188872406240</title>\n<polygon fill=\"none\" stroke=\"black\" points=\"326,-110.5 326,-146.5 546,-146.5 546,-110.5 326,-110.5\"/>\n<text text-anchor=\"middle\" x=\"352.5\" y=\"-124.8\" font-family=\"Times,serif\" font-size=\"14.00\">x1*w1</text>\n<polyline fill=\"none\" stroke=\"black\" points=\"379,-110.5 379,-146.5 \"/>\n<text text-anchor=\"middle\" x=\"421.5\" y=\"-124.8\" font-family=\"Times,serif\" font-size=\"14.00\">data &#45;6.0000</text>\n<polyline fill=\"none\" stroke=\"black\" points=\"464,-110.5 464,-146.5 \"/>\n<text text-anchor=\"middle\" x=\"505\" y=\"-124.8\" font-family=\"Times,serif\" font-size=\"14.00\">grad 0.5000</text>\n</g>\n<!-- 134188872406240&#45;&gt;134188872416992+ -->\n<g id=\"edge9\" class=\"edge\">\n<title>134188872406240&#45;&gt;134188872416992+</title>\n<path fill=\"none\" stroke=\"black\" d=\"M546.27,-110.61C555.64,-109.07 564.6,-107.61 572.65,-106.29\"/>\n<polygon fill=\"black\" stroke=\"black\" points=\"573.35,-109.72 582.65,-104.65 572.22,-102.81 573.35,-109.72\"/>\n</g>\n<!-- 134188872406240*&#45;&gt;134188872406240 -->\n<g id=\"edge2\" class=\"edge\">\n<title>134188872406240*&#45;&gt;134188872406240</title>\n<path fill=\"none\" stroke=\"black\" d=\"M290.34,-128.5C297.77,-128.5 306.37,-128.5 315.6,-128.5\"/>\n<polygon fill=\"black\" stroke=\"black\" points=\"315.84,-132 325.84,-128.5 315.84,-125 315.84,-132\"/>\n</g>\n<!-- 134188872410368 -->\n<g id=\"node8\" class=\"node\">\n<title>134188872410368</title>\n<polygon fill=\"none\" stroke=\"black\" points=\"2.5,-0.5 2.5,-36.5 197.5,-36.5 197.5,-0.5 2.5,-0.5\"/>\n<text text-anchor=\"middle\" x=\"19\" y=\"-14.8\" font-family=\"Times,serif\" font-size=\"14.00\">w2</text>\n<polyline fill=\"none\" stroke=\"black\" points=\"35.5,-0.5 35.5,-36.5 \"/>\n<text text-anchor=\"middle\" x=\"75.5\" y=\"-14.8\" font-family=\"Times,serif\" font-size=\"14.00\">data 1.0000</text>\n<polyline fill=\"none\" stroke=\"black\" points=\"115.5,-0.5 115.5,-36.5 \"/>\n<text text-anchor=\"middle\" x=\"156.5\" y=\"-14.8\" font-family=\"Times,serif\" font-size=\"14.00\">grad 0.0000</text>\n</g>\n<!-- 134188872410368&#45;&gt;134188872404896* -->\n<g id=\"edge14\" class=\"edge\">\n<title>134188872410368&#45;&gt;134188872404896*</title>\n<path fill=\"none\" stroke=\"black\" d=\"M169.28,-36.5C179.65,-39.61 190.16,-42.98 200,-46.5 210.28,-50.17 221.28,-54.74 231.11,-59.07\"/>\n<polygon fill=\"black\" stroke=\"black\" points=\"229.93,-62.37 240.48,-63.27 232.79,-55.99 229.93,-62.37\"/>\n</g>\n<!-- 134188872407296 -->\n<g id=\"node9\" class=\"node\">\n<title>134188872407296</title>\n<polygon fill=\"none\" stroke=\"black\" points=\"0,-110.5 0,-146.5 200,-146.5 200,-110.5 0,-110.5\"/>\n<text text-anchor=\"middle\" x=\"16.5\" y=\"-124.8\" font-family=\"Times,serif\" font-size=\"14.00\">w1</text>\n<polyline fill=\"none\" stroke=\"black\" points=\"33,-110.5 33,-146.5 \"/>\n<text text-anchor=\"middle\" x=\"75.5\" y=\"-124.8\" font-family=\"Times,serif\" font-size=\"14.00\">data &#45;3.0000</text>\n<polyline fill=\"none\" stroke=\"black\" points=\"118,-110.5 118,-146.5 \"/>\n<text text-anchor=\"middle\" x=\"159\" y=\"-124.8\" font-family=\"Times,serif\" font-size=\"14.00\">grad 1.0000</text>\n</g>\n<!-- 134188872407296&#45;&gt;134188872406240* -->\n<g id=\"edge12\" class=\"edge\">\n<title>134188872407296&#45;&gt;134188872406240*</title>\n<path fill=\"none\" stroke=\"black\" d=\"M200.21,-128.5C209.2,-128.5 217.86,-128.5 225.7,-128.5\"/>\n<polygon fill=\"black\" stroke=\"black\" points=\"225.85,-132 235.85,-128.5 225.85,-125 225.85,-132\"/>\n</g>\n<!-- 134188872403264 -->\n<g id=\"node10\" class=\"node\">\n<title>134188872403264</title>\n<polygon fill=\"none\" stroke=\"black\" points=\"1382,-54.5 1382,-90.5 1567,-90.5 1567,-54.5 1382,-54.5\"/>\n<text text-anchor=\"middle\" x=\"1393.5\" y=\"-68.8\" font-family=\"Times,serif\" font-size=\"14.00\">o</text>\n<polyline fill=\"none\" stroke=\"black\" points=\"1405,-54.5 1405,-90.5 \"/>\n<text text-anchor=\"middle\" x=\"1445\" y=\"-68.8\" font-family=\"Times,serif\" font-size=\"14.00\">data 0.7071</text>\n<polyline fill=\"none\" stroke=\"black\" points=\"1485,-54.5 1485,-90.5 \"/>\n<text text-anchor=\"middle\" x=\"1526\" y=\"-68.8\" font-family=\"Times,serif\" font-size=\"14.00\">grad 1.0000</text>\n</g>\n<!-- 134188872403264tanh -->\n<g id=\"node11\" class=\"node\">\n<title>134188872403264tanh</title>\n<ellipse fill=\"none\" stroke=\"black\" cx=\"1319\" cy=\"-72.5\" rx=\"27\" ry=\"18\"/>\n<text text-anchor=\"middle\" x=\"1319\" y=\"-68.8\" font-family=\"Times,serif\" font-size=\"14.00\">tanh</text>\n</g>\n<!-- 134188872403264tanh&#45;&gt;134188872403264 -->\n<g id=\"edge3\" class=\"edge\">\n<title>134188872403264tanh&#45;&gt;134188872403264</title>\n<path fill=\"none\" stroke=\"black\" d=\"M1346.04,-72.5C1353.58,-72.5 1362.3,-72.5 1371.57,-72.5\"/>\n<polygon fill=\"black\" stroke=\"black\" points=\"1371.81,-76 1381.81,-72.5 1371.81,-69 1371.81,-76\"/>\n</g>\n<!-- 134188872406912 -->\n<g id=\"node12\" class=\"node\">\n<title>134188872406912</title>\n<polygon fill=\"none\" stroke=\"black\" points=\"1071,-54.5 1071,-90.5 1256,-90.5 1256,-54.5 1071,-54.5\"/>\n<text text-anchor=\"middle\" x=\"1082.5\" y=\"-68.8\" font-family=\"Times,serif\" font-size=\"14.00\">n</text>\n<polyline fill=\"none\" stroke=\"black\" points=\"1094,-54.5 1094,-90.5 \"/>\n<text text-anchor=\"middle\" x=\"1134\" y=\"-68.8\" font-family=\"Times,serif\" font-size=\"14.00\">data 0.8814</text>\n<polyline fill=\"none\" stroke=\"black\" points=\"1174,-54.5 1174,-90.5 \"/>\n<text text-anchor=\"middle\" x=\"1215\" y=\"-68.8\" font-family=\"Times,serif\" font-size=\"14.00\">grad 0.5000</text>\n</g>\n<!-- 134188872406912&#45;&gt;134188872403264tanh -->\n<g id=\"edge7\" class=\"edge\">\n<title>134188872406912&#45;&gt;134188872403264tanh</title>\n<path fill=\"none\" stroke=\"black\" d=\"M1256.01,-72.5C1265.01,-72.5 1273.74,-72.5 1281.66,-72.5\"/>\n<polygon fill=\"black\" stroke=\"black\" points=\"1281.91,-76 1291.91,-72.5 1281.91,-69 1281.91,-76\"/>\n</g>\n<!-- 134188872406912+&#45;&gt;134188872406912 -->\n<g id=\"edge4\" class=\"edge\">\n<title>134188872406912+&#45;&gt;134188872406912</title>\n<path fill=\"none\" stroke=\"black\" d=\"M1035.04,-72.5C1042.58,-72.5 1051.3,-72.5 1060.57,-72.5\"/>\n<polygon fill=\"black\" stroke=\"black\" points=\"1060.81,-76 1070.81,-72.5 1060.81,-69 1060.81,-76\"/>\n</g>\n<!-- 134188872404896 -->\n<g id=\"node14\" class=\"node\">\n<title>134188872404896</title>\n<polygon fill=\"none\" stroke=\"black\" points=\"328.5,-55.5 328.5,-91.5 543.5,-91.5 543.5,-55.5 328.5,-55.5\"/>\n<text text-anchor=\"middle\" x=\"355\" y=\"-69.8\" font-family=\"Times,serif\" font-size=\"14.00\">x2*w2</text>\n<polyline fill=\"none\" stroke=\"black\" points=\"381.5,-55.5 381.5,-91.5 \"/>\n<text text-anchor=\"middle\" x=\"421.5\" y=\"-69.8\" font-family=\"Times,serif\" font-size=\"14.00\">data 0.0000</text>\n<polyline fill=\"none\" stroke=\"black\" points=\"461.5,-55.5 461.5,-91.5 \"/>\n<text text-anchor=\"middle\" x=\"502.5\" y=\"-69.8\" font-family=\"Times,serif\" font-size=\"14.00\">grad 0.5000</text>\n</g>\n<!-- 134188872404896&#45;&gt;134188872416992+ -->\n<g id=\"edge8\" class=\"edge\">\n<title>134188872404896&#45;&gt;134188872416992+</title>\n<path fill=\"none\" stroke=\"black\" d=\"M543.84,-90.37C554.01,-91.98 563.76,-93.51 572.44,-94.89\"/>\n<polygon fill=\"black\" stroke=\"black\" points=\"572.05,-98.37 582.47,-96.47 573.14,-91.45 572.05,-98.37\"/>\n</g>\n<!-- 134188872404896*&#45;&gt;134188872404896 -->\n<g id=\"edge5\" class=\"edge\">\n<title>134188872404896*&#45;&gt;134188872404896</title>\n<path fill=\"none\" stroke=\"black\" d=\"M290.34,-73.5C298.51,-73.5 308.08,-73.5 318.36,-73.5\"/>\n<polygon fill=\"black\" stroke=\"black\" points=\"318.39,-77 328.39,-73.5 318.39,-70 318.39,-77\"/>\n</g>\n</g>\n</svg>\n",
            "text/plain": [
              "<graphviz.graphs.Digraph at 0x7a0b481297e0>"
            ]
          },
          "metadata": {},
          "execution_count": 92
        }
      ]
    },
    {
      "cell_type": "code",
      "source": [
        "o.grad = 1.0\n",
        "o._backward()"
      ],
      "metadata": {
        "id": "JfhCr29odym3"
      },
      "execution_count": null,
      "outputs": []
    },
    {
      "cell_type": "code",
      "source": [
        "draw_dot(o)"
      ],
      "metadata": {
        "colab": {
          "base_uri": "https://localhost:8080/",
          "height": 321
        },
        "id": "2v0QgncdePGh",
        "outputId": "49017ed2-e258-4dba-9055-3eb02dbf41f7"
      },
      "execution_count": null,
      "outputs": [
        {
          "output_type": "execute_result",
          "data": {
            "image/svg+xml": "<?xml version=\"1.0\" encoding=\"UTF-8\" standalone=\"no\"?>\n<!DOCTYPE svg PUBLIC \"-//W3C//DTD SVG 1.1//EN\"\n \"http://www.w3.org/Graphics/SVG/1.1/DTD/svg11.dtd\">\n<!-- Generated by graphviz version 2.43.0 (0)\n -->\n<!-- Title: %3 Pages: 1 -->\n<svg width=\"1575pt\" height=\"210pt\"\n viewBox=\"0.00 0.00 1575.00 210.00\" xmlns=\"http://www.w3.org/2000/svg\" xmlns:xlink=\"http://www.w3.org/1999/xlink\">\n<g id=\"graph0\" class=\"graph\" transform=\"scale(1 1) rotate(0) translate(4 206)\">\n<title>%3</title>\n<polygon fill=\"white\" stroke=\"transparent\" points=\"-4,4 -4,-206 1571,-206 1571,4 -4,4\"/>\n<!-- 134188872414736 -->\n<g id=\"node1\" class=\"node\">\n<title>134188872414736</title>\n<polygon fill=\"none\" stroke=\"black\" points=\"1382,-109.5 1382,-145.5 1567,-145.5 1567,-109.5 1382,-109.5\"/>\n<text text-anchor=\"middle\" x=\"1393.5\" y=\"-123.8\" font-family=\"Times,serif\" font-size=\"14.00\">o</text>\n<polyline fill=\"none\" stroke=\"black\" points=\"1405,-109.5 1405,-145.5 \"/>\n<text text-anchor=\"middle\" x=\"1445\" y=\"-123.8\" font-family=\"Times,serif\" font-size=\"14.00\">data 0.7071</text>\n<polyline fill=\"none\" stroke=\"black\" points=\"1485,-109.5 1485,-145.5 \"/>\n<text text-anchor=\"middle\" x=\"1526\" y=\"-123.8\" font-family=\"Times,serif\" font-size=\"14.00\">grad 1.0000</text>\n</g>\n<!-- 134188872414736tanh -->\n<g id=\"node2\" class=\"node\">\n<title>134188872414736tanh</title>\n<ellipse fill=\"none\" stroke=\"black\" cx=\"1319\" cy=\"-127.5\" rx=\"27\" ry=\"18\"/>\n<text text-anchor=\"middle\" x=\"1319\" y=\"-123.8\" font-family=\"Times,serif\" font-size=\"14.00\">tanh</text>\n</g>\n<!-- 134188872414736tanh&#45;&gt;134188872414736 -->\n<g id=\"edge1\" class=\"edge\">\n<title>134188872414736tanh&#45;&gt;134188872414736</title>\n<path fill=\"none\" stroke=\"black\" d=\"M1346.04,-127.5C1353.58,-127.5 1362.3,-127.5 1371.57,-127.5\"/>\n<polygon fill=\"black\" stroke=\"black\" points=\"1371.81,-131 1381.81,-127.5 1371.81,-124 1371.81,-131\"/>\n</g>\n<!-- 134188872417184 -->\n<g id=\"node3\" class=\"node\">\n<title>134188872417184</title>\n<polygon fill=\"none\" stroke=\"black\" points=\"2.5,-55.5 2.5,-91.5 197.5,-91.5 197.5,-55.5 2.5,-55.5\"/>\n<text text-anchor=\"middle\" x=\"19\" y=\"-69.8\" font-family=\"Times,serif\" font-size=\"14.00\">w2</text>\n<polyline fill=\"none\" stroke=\"black\" points=\"35.5,-55.5 35.5,-91.5 \"/>\n<text text-anchor=\"middle\" x=\"75.5\" y=\"-69.8\" font-family=\"Times,serif\" font-size=\"14.00\">data 1.0000</text>\n<polyline fill=\"none\" stroke=\"black\" points=\"115.5,-55.5 115.5,-91.5 \"/>\n<text text-anchor=\"middle\" x=\"156.5\" y=\"-69.8\" font-family=\"Times,serif\" font-size=\"14.00\">grad 0.0000</text>\n</g>\n<!-- 134188872409504* -->\n<g id=\"node13\" class=\"node\">\n<title>134188872409504*</title>\n<ellipse fill=\"none\" stroke=\"black\" cx=\"263\" cy=\"-73.5\" rx=\"27\" ry=\"18\"/>\n<text text-anchor=\"middle\" x=\"263\" y=\"-69.8\" font-family=\"Times,serif\" font-size=\"14.00\">*</text>\n</g>\n<!-- 134188872417184&#45;&gt;134188872409504* -->\n<g id=\"edge12\" class=\"edge\">\n<title>134188872417184&#45;&gt;134188872409504*</title>\n<path fill=\"none\" stroke=\"black\" d=\"M197.91,-73.5C207.65,-73.5 217.05,-73.5 225.52,-73.5\"/>\n<polygon fill=\"black\" stroke=\"black\" points=\"225.7,-77 235.7,-73.5 225.7,-70 225.7,-77\"/>\n</g>\n<!-- 134188872409168 -->\n<g id=\"node4\" class=\"node\">\n<title>134188872409168</title>\n<polygon fill=\"none\" stroke=\"black\" points=\"4,-0.5 4,-36.5 196,-36.5 196,-0.5 4,-0.5\"/>\n<text text-anchor=\"middle\" x=\"19\" y=\"-14.8\" font-family=\"Times,serif\" font-size=\"14.00\">x2</text>\n<polyline fill=\"none\" stroke=\"black\" points=\"34,-0.5 34,-36.5 \"/>\n<text text-anchor=\"middle\" x=\"74\" y=\"-14.8\" font-family=\"Times,serif\" font-size=\"14.00\">data 0.0000</text>\n<polyline fill=\"none\" stroke=\"black\" points=\"114,-0.5 114,-36.5 \"/>\n<text text-anchor=\"middle\" x=\"155\" y=\"-14.8\" font-family=\"Times,serif\" font-size=\"14.00\">grad 0.0000</text>\n</g>\n<!-- 134188872409168&#45;&gt;134188872409504* -->\n<g id=\"edge9\" class=\"edge\">\n<title>134188872409168&#45;&gt;134188872409504*</title>\n<path fill=\"none\" stroke=\"black\" d=\"M169.28,-36.5C179.65,-39.61 190.16,-42.98 200,-46.5 210.28,-50.17 221.28,-54.74 231.11,-59.07\"/>\n<polygon fill=\"black\" stroke=\"black\" points=\"229.93,-62.37 240.48,-63.27 232.79,-55.99 229.93,-62.37\"/>\n</g>\n<!-- 134188872415840 -->\n<g id=\"node5\" class=\"node\">\n<title>134188872415840</title>\n<polygon fill=\"none\" stroke=\"black\" points=\"716,-137.5 716,-173.5 901,-173.5 901,-137.5 716,-137.5\"/>\n<text text-anchor=\"middle\" x=\"727.5\" y=\"-151.8\" font-family=\"Times,serif\" font-size=\"14.00\">b</text>\n<polyline fill=\"none\" stroke=\"black\" points=\"739,-137.5 739,-173.5 \"/>\n<text text-anchor=\"middle\" x=\"779\" y=\"-151.8\" font-family=\"Times,serif\" font-size=\"14.00\">data 6.8814</text>\n<polyline fill=\"none\" stroke=\"black\" points=\"819,-137.5 819,-173.5 \"/>\n<text text-anchor=\"middle\" x=\"860\" y=\"-151.8\" font-family=\"Times,serif\" font-size=\"14.00\">grad 0.0000</text>\n</g>\n<!-- 134188872412576+ -->\n<g id=\"node15\" class=\"node\">\n<title>134188872412576+</title>\n<ellipse fill=\"none\" stroke=\"black\" cx=\"1008\" cy=\"-127.5\" rx=\"27\" ry=\"18\"/>\n<text text-anchor=\"middle\" x=\"1008\" y=\"-123.8\" font-family=\"Times,serif\" font-size=\"14.00\">+</text>\n</g>\n<!-- 134188872415840&#45;&gt;134188872412576+ -->\n<g id=\"edge14\" class=\"edge\">\n<title>134188872415840&#45;&gt;134188872412576+</title>\n<path fill=\"none\" stroke=\"black\" d=\"M901.02,-142.52C926,-138.98 951.59,-135.36 971.37,-132.55\"/>\n<polygon fill=\"black\" stroke=\"black\" points=\"972.03,-135.99 981.43,-131.12 971.04,-129.06 972.03,-135.99\"/>\n</g>\n<!-- 134188872401056 -->\n<g id=\"node6\" class=\"node\">\n<title>134188872401056</title>\n<polygon fill=\"none\" stroke=\"black\" points=\"4,-165.5 4,-201.5 196,-201.5 196,-165.5 4,-165.5\"/>\n<text text-anchor=\"middle\" x=\"19\" y=\"-179.8\" font-family=\"Times,serif\" font-size=\"14.00\">x1</text>\n<polyline fill=\"none\" stroke=\"black\" points=\"34,-165.5 34,-201.5 \"/>\n<text text-anchor=\"middle\" x=\"74\" y=\"-179.8\" font-family=\"Times,serif\" font-size=\"14.00\">data 2.0000</text>\n<polyline fill=\"none\" stroke=\"black\" points=\"114,-165.5 114,-201.5 \"/>\n<text text-anchor=\"middle\" x=\"155\" y=\"-179.8\" font-family=\"Times,serif\" font-size=\"14.00\">grad 0.0000</text>\n</g>\n<!-- 134188872408784* -->\n<g id=\"node8\" class=\"node\">\n<title>134188872408784*</title>\n<ellipse fill=\"none\" stroke=\"black\" cx=\"263\" cy=\"-128.5\" rx=\"27\" ry=\"18\"/>\n<text text-anchor=\"middle\" x=\"263\" y=\"-124.8\" font-family=\"Times,serif\" font-size=\"14.00\">*</text>\n</g>\n<!-- 134188872401056&#45;&gt;134188872408784* -->\n<g id=\"edge11\" class=\"edge\">\n<title>134188872401056&#45;&gt;134188872408784*</title>\n<path fill=\"none\" stroke=\"black\" d=\"M172.53,-165.44C181.84,-162.67 191.2,-159.67 200,-156.5 210.53,-152.71 221.75,-147.9 231.72,-143.33\"/>\n<polygon fill=\"black\" stroke=\"black\" points=\"233.25,-146.48 240.82,-139.07 230.28,-140.14 233.25,-146.48\"/>\n</g>\n<!-- 134188872408784 -->\n<g id=\"node7\" class=\"node\">\n<title>134188872408784</title>\n<polygon fill=\"none\" stroke=\"black\" points=\"326,-110.5 326,-146.5 546,-146.5 546,-110.5 326,-110.5\"/>\n<text text-anchor=\"middle\" x=\"352.5\" y=\"-124.8\" font-family=\"Times,serif\" font-size=\"14.00\">x1*w1</text>\n<polyline fill=\"none\" stroke=\"black\" points=\"379,-110.5 379,-146.5 \"/>\n<text text-anchor=\"middle\" x=\"421.5\" y=\"-124.8\" font-family=\"Times,serif\" font-size=\"14.00\">data &#45;6.0000</text>\n<polyline fill=\"none\" stroke=\"black\" points=\"464,-110.5 464,-146.5 \"/>\n<text text-anchor=\"middle\" x=\"505\" y=\"-124.8\" font-family=\"Times,serif\" font-size=\"14.00\">grad 0.0000</text>\n</g>\n<!-- 134188872414448+ -->\n<g id=\"node10\" class=\"node\">\n<title>134188872414448+</title>\n<ellipse fill=\"none\" stroke=\"black\" cx=\"609\" cy=\"-100.5\" rx=\"27\" ry=\"18\"/>\n<text text-anchor=\"middle\" x=\"609\" y=\"-96.8\" font-family=\"Times,serif\" font-size=\"14.00\">+</text>\n</g>\n<!-- 134188872408784&#45;&gt;134188872414448+ -->\n<g id=\"edge10\" class=\"edge\">\n<title>134188872408784&#45;&gt;134188872414448+</title>\n<path fill=\"none\" stroke=\"black\" d=\"M546.27,-110.61C555.64,-109.07 564.6,-107.61 572.65,-106.29\"/>\n<polygon fill=\"black\" stroke=\"black\" points=\"573.35,-109.72 582.65,-104.65 572.22,-102.81 573.35,-109.72\"/>\n</g>\n<!-- 134188872408784*&#45;&gt;134188872408784 -->\n<g id=\"edge2\" class=\"edge\">\n<title>134188872408784*&#45;&gt;134188872408784</title>\n<path fill=\"none\" stroke=\"black\" d=\"M290.34,-128.5C297.77,-128.5 306.37,-128.5 315.6,-128.5\"/>\n<polygon fill=\"black\" stroke=\"black\" points=\"315.84,-132 325.84,-128.5 315.84,-125 315.84,-132\"/>\n</g>\n<!-- 134188872414448 -->\n<g id=\"node9\" class=\"node\">\n<title>134188872414448</title>\n<polygon fill=\"none\" stroke=\"black\" points=\"672,-82.5 672,-118.5 945,-118.5 945,-82.5 672,-82.5\"/>\n<text text-anchor=\"middle\" x=\"725\" y=\"-96.8\" font-family=\"Times,serif\" font-size=\"14.00\">x1*w1 + x2*w2</text>\n<polyline fill=\"none\" stroke=\"black\" points=\"778,-82.5 778,-118.5 \"/>\n<text text-anchor=\"middle\" x=\"820.5\" y=\"-96.8\" font-family=\"Times,serif\" font-size=\"14.00\">data &#45;6.0000</text>\n<polyline fill=\"none\" stroke=\"black\" points=\"863,-82.5 863,-118.5 \"/>\n<text text-anchor=\"middle\" x=\"904\" y=\"-96.8\" font-family=\"Times,serif\" font-size=\"14.00\">grad 0.0000</text>\n</g>\n<!-- 134188872414448&#45;&gt;134188872412576+ -->\n<g id=\"edge7\" class=\"edge\">\n<title>134188872414448&#45;&gt;134188872412576+</title>\n<path fill=\"none\" stroke=\"black\" d=\"M941.24,-118.51C952.12,-120 962.4,-121.4 971.45,-122.64\"/>\n<polygon fill=\"black\" stroke=\"black\" points=\"971.11,-126.13 981.49,-124.01 972.05,-119.19 971.11,-126.13\"/>\n</g>\n<!-- 134188872414448+&#45;&gt;134188872414448 -->\n<g id=\"edge3\" class=\"edge\">\n<title>134188872414448+&#45;&gt;134188872414448</title>\n<path fill=\"none\" stroke=\"black\" d=\"M636.23,-100.5C643.7,-100.5 652.41,-100.5 661.87,-100.5\"/>\n<polygon fill=\"black\" stroke=\"black\" points=\"661.98,-104 671.98,-100.5 661.98,-97 661.98,-104\"/>\n</g>\n<!-- 134188872416032 -->\n<g id=\"node11\" class=\"node\">\n<title>134188872416032</title>\n<polygon fill=\"none\" stroke=\"black\" points=\"0,-110.5 0,-146.5 200,-146.5 200,-110.5 0,-110.5\"/>\n<text text-anchor=\"middle\" x=\"16.5\" y=\"-124.8\" font-family=\"Times,serif\" font-size=\"14.00\">w1</text>\n<polyline fill=\"none\" stroke=\"black\" points=\"33,-110.5 33,-146.5 \"/>\n<text text-anchor=\"middle\" x=\"75.5\" y=\"-124.8\" font-family=\"Times,serif\" font-size=\"14.00\">data &#45;3.0000</text>\n<polyline fill=\"none\" stroke=\"black\" points=\"118,-110.5 118,-146.5 \"/>\n<text text-anchor=\"middle\" x=\"159\" y=\"-124.8\" font-family=\"Times,serif\" font-size=\"14.00\">grad 0.0000</text>\n</g>\n<!-- 134188872416032&#45;&gt;134188872408784* -->\n<g id=\"edge8\" class=\"edge\">\n<title>134188872416032&#45;&gt;134188872408784*</title>\n<path fill=\"none\" stroke=\"black\" d=\"M200.21,-128.5C209.2,-128.5 217.86,-128.5 225.7,-128.5\"/>\n<polygon fill=\"black\" stroke=\"black\" points=\"225.85,-132 235.85,-128.5 225.85,-125 225.85,-132\"/>\n</g>\n<!-- 134188872409504 -->\n<g id=\"node12\" class=\"node\">\n<title>134188872409504</title>\n<polygon fill=\"none\" stroke=\"black\" points=\"328.5,-55.5 328.5,-91.5 543.5,-91.5 543.5,-55.5 328.5,-55.5\"/>\n<text text-anchor=\"middle\" x=\"355\" y=\"-69.8\" font-family=\"Times,serif\" font-size=\"14.00\">x2*w2</text>\n<polyline fill=\"none\" stroke=\"black\" points=\"381.5,-55.5 381.5,-91.5 \"/>\n<text text-anchor=\"middle\" x=\"421.5\" y=\"-69.8\" font-family=\"Times,serif\" font-size=\"14.00\">data 0.0000</text>\n<polyline fill=\"none\" stroke=\"black\" points=\"461.5,-55.5 461.5,-91.5 \"/>\n<text text-anchor=\"middle\" x=\"502.5\" y=\"-69.8\" font-family=\"Times,serif\" font-size=\"14.00\">grad 0.0000</text>\n</g>\n<!-- 134188872409504&#45;&gt;134188872414448+ -->\n<g id=\"edge13\" class=\"edge\">\n<title>134188872409504&#45;&gt;134188872414448+</title>\n<path fill=\"none\" stroke=\"black\" d=\"M543.84,-90.37C554.01,-91.98 563.76,-93.51 572.44,-94.89\"/>\n<polygon fill=\"black\" stroke=\"black\" points=\"572.05,-98.37 582.47,-96.47 573.14,-91.45 572.05,-98.37\"/>\n</g>\n<!-- 134188872409504*&#45;&gt;134188872409504 -->\n<g id=\"edge4\" class=\"edge\">\n<title>134188872409504*&#45;&gt;134188872409504</title>\n<path fill=\"none\" stroke=\"black\" d=\"M290.34,-73.5C298.51,-73.5 308.08,-73.5 318.36,-73.5\"/>\n<polygon fill=\"black\" stroke=\"black\" points=\"318.39,-77 328.39,-73.5 318.39,-70 318.39,-77\"/>\n</g>\n<!-- 134188872412576 -->\n<g id=\"node14\" class=\"node\">\n<title>134188872412576</title>\n<polygon fill=\"none\" stroke=\"black\" points=\"1071,-109.5 1071,-145.5 1256,-145.5 1256,-109.5 1071,-109.5\"/>\n<text text-anchor=\"middle\" x=\"1082.5\" y=\"-123.8\" font-family=\"Times,serif\" font-size=\"14.00\">n</text>\n<polyline fill=\"none\" stroke=\"black\" points=\"1094,-109.5 1094,-145.5 \"/>\n<text text-anchor=\"middle\" x=\"1134\" y=\"-123.8\" font-family=\"Times,serif\" font-size=\"14.00\">data 0.8814</text>\n<polyline fill=\"none\" stroke=\"black\" points=\"1174,-109.5 1174,-145.5 \"/>\n<text text-anchor=\"middle\" x=\"1215\" y=\"-123.8\" font-family=\"Times,serif\" font-size=\"14.00\">grad 0.5000</text>\n</g>\n<!-- 134188872412576&#45;&gt;134188872414736tanh -->\n<g id=\"edge6\" class=\"edge\">\n<title>134188872412576&#45;&gt;134188872414736tanh</title>\n<path fill=\"none\" stroke=\"black\" d=\"M1256.01,-127.5C1265.01,-127.5 1273.74,-127.5 1281.66,-127.5\"/>\n<polygon fill=\"black\" stroke=\"black\" points=\"1281.91,-131 1291.91,-127.5 1281.91,-124 1281.91,-131\"/>\n</g>\n<!-- 134188872412576+&#45;&gt;134188872412576 -->\n<g id=\"edge5\" class=\"edge\">\n<title>134188872412576+&#45;&gt;134188872412576</title>\n<path fill=\"none\" stroke=\"black\" d=\"M1035.04,-127.5C1042.58,-127.5 1051.3,-127.5 1060.57,-127.5\"/>\n<polygon fill=\"black\" stroke=\"black\" points=\"1060.81,-131 1070.81,-127.5 1060.81,-124 1060.81,-131\"/>\n</g>\n</g>\n</svg>\n",
            "text/plain": [
              "<graphviz.graphs.Digraph at 0x7a0b48129180>"
            ]
          },
          "metadata": {},
          "execution_count": 97
        }
      ]
    },
    {
      "cell_type": "code",
      "source": [
        "n._backward()\n",
        "x1w1x2w2._backward()\n",
        "x1w1._backward()\n",
        "x2w2._backward()"
      ],
      "metadata": {
        "id": "ymccRTnheTlC"
      },
      "execution_count": null,
      "outputs": []
    },
    {
      "cell_type": "code",
      "source": [
        "draw_dot(o)"
      ],
      "metadata": {
        "colab": {
          "base_uri": "https://localhost:8080/",
          "height": 321
        },
        "id": "EzJVP-zJeq54",
        "outputId": "57dadf8e-60dd-4998-d383-1ced34232390"
      },
      "execution_count": null,
      "outputs": [
        {
          "output_type": "execute_result",
          "data": {
            "image/svg+xml": "<?xml version=\"1.0\" encoding=\"UTF-8\" standalone=\"no\"?>\n<!DOCTYPE svg PUBLIC \"-//W3C//DTD SVG 1.1//EN\"\n \"http://www.w3.org/Graphics/SVG/1.1/DTD/svg11.dtd\">\n<!-- Generated by graphviz version 2.43.0 (0)\n -->\n<!-- Title: %3 Pages: 1 -->\n<svg width=\"1575pt\" height=\"210pt\"\n viewBox=\"0.00 0.00 1575.00 210.00\" xmlns=\"http://www.w3.org/2000/svg\" xmlns:xlink=\"http://www.w3.org/1999/xlink\">\n<g id=\"graph0\" class=\"graph\" transform=\"scale(1 1) rotate(0) translate(4 206)\">\n<title>%3</title>\n<polygon fill=\"white\" stroke=\"transparent\" points=\"-4,4 -4,-206 1571,-206 1571,4 -4,4\"/>\n<!-- 134188872414736 -->\n<g id=\"node1\" class=\"node\">\n<title>134188872414736</title>\n<polygon fill=\"none\" stroke=\"black\" points=\"1382,-109.5 1382,-145.5 1567,-145.5 1567,-109.5 1382,-109.5\"/>\n<text text-anchor=\"middle\" x=\"1393.5\" y=\"-123.8\" font-family=\"Times,serif\" font-size=\"14.00\">o</text>\n<polyline fill=\"none\" stroke=\"black\" points=\"1405,-109.5 1405,-145.5 \"/>\n<text text-anchor=\"middle\" x=\"1445\" y=\"-123.8\" font-family=\"Times,serif\" font-size=\"14.00\">data 0.7071</text>\n<polyline fill=\"none\" stroke=\"black\" points=\"1485,-109.5 1485,-145.5 \"/>\n<text text-anchor=\"middle\" x=\"1526\" y=\"-123.8\" font-family=\"Times,serif\" font-size=\"14.00\">grad 1.0000</text>\n</g>\n<!-- 134188872414736tanh -->\n<g id=\"node2\" class=\"node\">\n<title>134188872414736tanh</title>\n<ellipse fill=\"none\" stroke=\"black\" cx=\"1319\" cy=\"-127.5\" rx=\"27\" ry=\"18\"/>\n<text text-anchor=\"middle\" x=\"1319\" y=\"-123.8\" font-family=\"Times,serif\" font-size=\"14.00\">tanh</text>\n</g>\n<!-- 134188872414736tanh&#45;&gt;134188872414736 -->\n<g id=\"edge1\" class=\"edge\">\n<title>134188872414736tanh&#45;&gt;134188872414736</title>\n<path fill=\"none\" stroke=\"black\" d=\"M1346.04,-127.5C1353.58,-127.5 1362.3,-127.5 1371.57,-127.5\"/>\n<polygon fill=\"black\" stroke=\"black\" points=\"1371.81,-131 1381.81,-127.5 1371.81,-124 1371.81,-131\"/>\n</g>\n<!-- 134188872417184 -->\n<g id=\"node3\" class=\"node\">\n<title>134188872417184</title>\n<polygon fill=\"none\" stroke=\"black\" points=\"2.5,-55.5 2.5,-91.5 197.5,-91.5 197.5,-55.5 2.5,-55.5\"/>\n<text text-anchor=\"middle\" x=\"19\" y=\"-69.8\" font-family=\"Times,serif\" font-size=\"14.00\">w2</text>\n<polyline fill=\"none\" stroke=\"black\" points=\"35.5,-55.5 35.5,-91.5 \"/>\n<text text-anchor=\"middle\" x=\"75.5\" y=\"-69.8\" font-family=\"Times,serif\" font-size=\"14.00\">data 1.0000</text>\n<polyline fill=\"none\" stroke=\"black\" points=\"115.5,-55.5 115.5,-91.5 \"/>\n<text text-anchor=\"middle\" x=\"156.5\" y=\"-69.8\" font-family=\"Times,serif\" font-size=\"14.00\">grad 0.0000</text>\n</g>\n<!-- 134188872409504* -->\n<g id=\"node13\" class=\"node\">\n<title>134188872409504*</title>\n<ellipse fill=\"none\" stroke=\"black\" cx=\"263\" cy=\"-73.5\" rx=\"27\" ry=\"18\"/>\n<text text-anchor=\"middle\" x=\"263\" y=\"-69.8\" font-family=\"Times,serif\" font-size=\"14.00\">*</text>\n</g>\n<!-- 134188872417184&#45;&gt;134188872409504* -->\n<g id=\"edge12\" class=\"edge\">\n<title>134188872417184&#45;&gt;134188872409504*</title>\n<path fill=\"none\" stroke=\"black\" d=\"M197.91,-73.5C207.65,-73.5 217.05,-73.5 225.52,-73.5\"/>\n<polygon fill=\"black\" stroke=\"black\" points=\"225.7,-77 235.7,-73.5 225.7,-70 225.7,-77\"/>\n</g>\n<!-- 134188872409168 -->\n<g id=\"node4\" class=\"node\">\n<title>134188872409168</title>\n<polygon fill=\"none\" stroke=\"black\" points=\"4,-0.5 4,-36.5 196,-36.5 196,-0.5 4,-0.5\"/>\n<text text-anchor=\"middle\" x=\"19\" y=\"-14.8\" font-family=\"Times,serif\" font-size=\"14.00\">x2</text>\n<polyline fill=\"none\" stroke=\"black\" points=\"34,-0.5 34,-36.5 \"/>\n<text text-anchor=\"middle\" x=\"74\" y=\"-14.8\" font-family=\"Times,serif\" font-size=\"14.00\">data 0.0000</text>\n<polyline fill=\"none\" stroke=\"black\" points=\"114,-0.5 114,-36.5 \"/>\n<text text-anchor=\"middle\" x=\"155\" y=\"-14.8\" font-family=\"Times,serif\" font-size=\"14.00\">grad 1.5000</text>\n</g>\n<!-- 134188872409168&#45;&gt;134188872409504* -->\n<g id=\"edge9\" class=\"edge\">\n<title>134188872409168&#45;&gt;134188872409504*</title>\n<path fill=\"none\" stroke=\"black\" d=\"M169.28,-36.5C179.65,-39.61 190.16,-42.98 200,-46.5 210.28,-50.17 221.28,-54.74 231.11,-59.07\"/>\n<polygon fill=\"black\" stroke=\"black\" points=\"229.93,-62.37 240.48,-63.27 232.79,-55.99 229.93,-62.37\"/>\n</g>\n<!-- 134188872415840 -->\n<g id=\"node5\" class=\"node\">\n<title>134188872415840</title>\n<polygon fill=\"none\" stroke=\"black\" points=\"716,-137.5 716,-173.5 901,-173.5 901,-137.5 716,-137.5\"/>\n<text text-anchor=\"middle\" x=\"727.5\" y=\"-151.8\" font-family=\"Times,serif\" font-size=\"14.00\">b</text>\n<polyline fill=\"none\" stroke=\"black\" points=\"739,-137.5 739,-173.5 \"/>\n<text text-anchor=\"middle\" x=\"779\" y=\"-151.8\" font-family=\"Times,serif\" font-size=\"14.00\">data 6.8814</text>\n<polyline fill=\"none\" stroke=\"black\" points=\"819,-137.5 819,-173.5 \"/>\n<text text-anchor=\"middle\" x=\"860\" y=\"-151.8\" font-family=\"Times,serif\" font-size=\"14.00\">grad 1.0000</text>\n</g>\n<!-- 134188872412576+ -->\n<g id=\"node15\" class=\"node\">\n<title>134188872412576+</title>\n<ellipse fill=\"none\" stroke=\"black\" cx=\"1008\" cy=\"-127.5\" rx=\"27\" ry=\"18\"/>\n<text text-anchor=\"middle\" x=\"1008\" y=\"-123.8\" font-family=\"Times,serif\" font-size=\"14.00\">+</text>\n</g>\n<!-- 134188872415840&#45;&gt;134188872412576+ -->\n<g id=\"edge14\" class=\"edge\">\n<title>134188872415840&#45;&gt;134188872412576+</title>\n<path fill=\"none\" stroke=\"black\" d=\"M901.02,-142.52C926,-138.98 951.59,-135.36 971.37,-132.55\"/>\n<polygon fill=\"black\" stroke=\"black\" points=\"972.03,-135.99 981.43,-131.12 971.04,-129.06 972.03,-135.99\"/>\n</g>\n<!-- 134188872401056 -->\n<g id=\"node6\" class=\"node\">\n<title>134188872401056</title>\n<polygon fill=\"none\" stroke=\"black\" points=\"2,-165.5 2,-201.5 198,-201.5 198,-165.5 2,-165.5\"/>\n<text text-anchor=\"middle\" x=\"17\" y=\"-179.8\" font-family=\"Times,serif\" font-size=\"14.00\">x1</text>\n<polyline fill=\"none\" stroke=\"black\" points=\"32,-165.5 32,-201.5 \"/>\n<text text-anchor=\"middle\" x=\"72\" y=\"-179.8\" font-family=\"Times,serif\" font-size=\"14.00\">data 2.0000</text>\n<polyline fill=\"none\" stroke=\"black\" points=\"112,-165.5 112,-201.5 \"/>\n<text text-anchor=\"middle\" x=\"155\" y=\"-179.8\" font-family=\"Times,serif\" font-size=\"14.00\">grad &#45;6.0000</text>\n</g>\n<!-- 134188872408784* -->\n<g id=\"node8\" class=\"node\">\n<title>134188872408784*</title>\n<ellipse fill=\"none\" stroke=\"black\" cx=\"263\" cy=\"-128.5\" rx=\"27\" ry=\"18\"/>\n<text text-anchor=\"middle\" x=\"263\" y=\"-124.8\" font-family=\"Times,serif\" font-size=\"14.00\">*</text>\n</g>\n<!-- 134188872401056&#45;&gt;134188872408784* -->\n<g id=\"edge11\" class=\"edge\">\n<title>134188872401056&#45;&gt;134188872408784*</title>\n<path fill=\"none\" stroke=\"black\" d=\"M172.53,-165.44C181.84,-162.67 191.2,-159.67 200,-156.5 210.53,-152.71 221.75,-147.9 231.72,-143.33\"/>\n<polygon fill=\"black\" stroke=\"black\" points=\"233.25,-146.48 240.82,-139.07 230.28,-140.14 233.25,-146.48\"/>\n</g>\n<!-- 134188872408784 -->\n<g id=\"node7\" class=\"node\">\n<title>134188872408784</title>\n<polygon fill=\"none\" stroke=\"black\" points=\"326,-110.5 326,-146.5 546,-146.5 546,-110.5 326,-110.5\"/>\n<text text-anchor=\"middle\" x=\"352.5\" y=\"-124.8\" font-family=\"Times,serif\" font-size=\"14.00\">x1*w1</text>\n<polyline fill=\"none\" stroke=\"black\" points=\"379,-110.5 379,-146.5 \"/>\n<text text-anchor=\"middle\" x=\"421.5\" y=\"-124.8\" font-family=\"Times,serif\" font-size=\"14.00\">data &#45;6.0000</text>\n<polyline fill=\"none\" stroke=\"black\" points=\"464,-110.5 464,-146.5 \"/>\n<text text-anchor=\"middle\" x=\"505\" y=\"-124.8\" font-family=\"Times,serif\" font-size=\"14.00\">grad 1.5000</text>\n</g>\n<!-- 134188872414448+ -->\n<g id=\"node10\" class=\"node\">\n<title>134188872414448+</title>\n<ellipse fill=\"none\" stroke=\"black\" cx=\"609\" cy=\"-100.5\" rx=\"27\" ry=\"18\"/>\n<text text-anchor=\"middle\" x=\"609\" y=\"-96.8\" font-family=\"Times,serif\" font-size=\"14.00\">+</text>\n</g>\n<!-- 134188872408784&#45;&gt;134188872414448+ -->\n<g id=\"edge10\" class=\"edge\">\n<title>134188872408784&#45;&gt;134188872414448+</title>\n<path fill=\"none\" stroke=\"black\" d=\"M546.27,-110.61C555.64,-109.07 564.6,-107.61 572.65,-106.29\"/>\n<polygon fill=\"black\" stroke=\"black\" points=\"573.35,-109.72 582.65,-104.65 572.22,-102.81 573.35,-109.72\"/>\n</g>\n<!-- 134188872408784*&#45;&gt;134188872408784 -->\n<g id=\"edge2\" class=\"edge\">\n<title>134188872408784*&#45;&gt;134188872408784</title>\n<path fill=\"none\" stroke=\"black\" d=\"M290.34,-128.5C297.77,-128.5 306.37,-128.5 315.6,-128.5\"/>\n<polygon fill=\"black\" stroke=\"black\" points=\"315.84,-132 325.84,-128.5 315.84,-125 315.84,-132\"/>\n</g>\n<!-- 134188872414448 -->\n<g id=\"node9\" class=\"node\">\n<title>134188872414448</title>\n<polygon fill=\"none\" stroke=\"black\" points=\"672,-82.5 672,-118.5 945,-118.5 945,-82.5 672,-82.5\"/>\n<text text-anchor=\"middle\" x=\"725\" y=\"-96.8\" font-family=\"Times,serif\" font-size=\"14.00\">x1*w1 + x2*w2</text>\n<polyline fill=\"none\" stroke=\"black\" points=\"778,-82.5 778,-118.5 \"/>\n<text text-anchor=\"middle\" x=\"820.5\" y=\"-96.8\" font-family=\"Times,serif\" font-size=\"14.00\">data &#45;6.0000</text>\n<polyline fill=\"none\" stroke=\"black\" points=\"863,-82.5 863,-118.5 \"/>\n<text text-anchor=\"middle\" x=\"904\" y=\"-96.8\" font-family=\"Times,serif\" font-size=\"14.00\">grad 1.0000</text>\n</g>\n<!-- 134188872414448&#45;&gt;134188872412576+ -->\n<g id=\"edge7\" class=\"edge\">\n<title>134188872414448&#45;&gt;134188872412576+</title>\n<path fill=\"none\" stroke=\"black\" d=\"M941.24,-118.51C952.12,-120 962.4,-121.4 971.45,-122.64\"/>\n<polygon fill=\"black\" stroke=\"black\" points=\"971.11,-126.13 981.49,-124.01 972.05,-119.19 971.11,-126.13\"/>\n</g>\n<!-- 134188872414448+&#45;&gt;134188872414448 -->\n<g id=\"edge3\" class=\"edge\">\n<title>134188872414448+&#45;&gt;134188872414448</title>\n<path fill=\"none\" stroke=\"black\" d=\"M636.23,-100.5C643.7,-100.5 652.41,-100.5 661.87,-100.5\"/>\n<polygon fill=\"black\" stroke=\"black\" points=\"661.98,-104 671.98,-100.5 661.98,-97 661.98,-104\"/>\n</g>\n<!-- 134188872416032 -->\n<g id=\"node11\" class=\"node\">\n<title>134188872416032</title>\n<polygon fill=\"none\" stroke=\"black\" points=\"0,-110.5 0,-146.5 200,-146.5 200,-110.5 0,-110.5\"/>\n<text text-anchor=\"middle\" x=\"16.5\" y=\"-124.8\" font-family=\"Times,serif\" font-size=\"14.00\">w1</text>\n<polyline fill=\"none\" stroke=\"black\" points=\"33,-110.5 33,-146.5 \"/>\n<text text-anchor=\"middle\" x=\"75.5\" y=\"-124.8\" font-family=\"Times,serif\" font-size=\"14.00\">data &#45;3.0000</text>\n<polyline fill=\"none\" stroke=\"black\" points=\"118,-110.5 118,-146.5 \"/>\n<text text-anchor=\"middle\" x=\"159\" y=\"-124.8\" font-family=\"Times,serif\" font-size=\"14.00\">grad 4.0000</text>\n</g>\n<!-- 134188872416032&#45;&gt;134188872408784* -->\n<g id=\"edge8\" class=\"edge\">\n<title>134188872416032&#45;&gt;134188872408784*</title>\n<path fill=\"none\" stroke=\"black\" d=\"M200.21,-128.5C209.2,-128.5 217.86,-128.5 225.7,-128.5\"/>\n<polygon fill=\"black\" stroke=\"black\" points=\"225.85,-132 235.85,-128.5 225.85,-125 225.85,-132\"/>\n</g>\n<!-- 134188872409504 -->\n<g id=\"node12\" class=\"node\">\n<title>134188872409504</title>\n<polygon fill=\"none\" stroke=\"black\" points=\"328.5,-55.5 328.5,-91.5 543.5,-91.5 543.5,-55.5 328.5,-55.5\"/>\n<text text-anchor=\"middle\" x=\"355\" y=\"-69.8\" font-family=\"Times,serif\" font-size=\"14.00\">x2*w2</text>\n<polyline fill=\"none\" stroke=\"black\" points=\"381.5,-55.5 381.5,-91.5 \"/>\n<text text-anchor=\"middle\" x=\"421.5\" y=\"-69.8\" font-family=\"Times,serif\" font-size=\"14.00\">data 0.0000</text>\n<polyline fill=\"none\" stroke=\"black\" points=\"461.5,-55.5 461.5,-91.5 \"/>\n<text text-anchor=\"middle\" x=\"502.5\" y=\"-69.8\" font-family=\"Times,serif\" font-size=\"14.00\">grad 1.5000</text>\n</g>\n<!-- 134188872409504&#45;&gt;134188872414448+ -->\n<g id=\"edge13\" class=\"edge\">\n<title>134188872409504&#45;&gt;134188872414448+</title>\n<path fill=\"none\" stroke=\"black\" d=\"M543.84,-90.37C554.01,-91.98 563.76,-93.51 572.44,-94.89\"/>\n<polygon fill=\"black\" stroke=\"black\" points=\"572.05,-98.37 582.47,-96.47 573.14,-91.45 572.05,-98.37\"/>\n</g>\n<!-- 134188872409504*&#45;&gt;134188872409504 -->\n<g id=\"edge4\" class=\"edge\">\n<title>134188872409504*&#45;&gt;134188872409504</title>\n<path fill=\"none\" stroke=\"black\" d=\"M290.34,-73.5C298.51,-73.5 308.08,-73.5 318.36,-73.5\"/>\n<polygon fill=\"black\" stroke=\"black\" points=\"318.39,-77 328.39,-73.5 318.39,-70 318.39,-77\"/>\n</g>\n<!-- 134188872412576 -->\n<g id=\"node14\" class=\"node\">\n<title>134188872412576</title>\n<polygon fill=\"none\" stroke=\"black\" points=\"1071,-109.5 1071,-145.5 1256,-145.5 1256,-109.5 1071,-109.5\"/>\n<text text-anchor=\"middle\" x=\"1082.5\" y=\"-123.8\" font-family=\"Times,serif\" font-size=\"14.00\">n</text>\n<polyline fill=\"none\" stroke=\"black\" points=\"1094,-109.5 1094,-145.5 \"/>\n<text text-anchor=\"middle\" x=\"1134\" y=\"-123.8\" font-family=\"Times,serif\" font-size=\"14.00\">data 0.8814</text>\n<polyline fill=\"none\" stroke=\"black\" points=\"1174,-109.5 1174,-145.5 \"/>\n<text text-anchor=\"middle\" x=\"1215\" y=\"-123.8\" font-family=\"Times,serif\" font-size=\"14.00\">grad 0.5000</text>\n</g>\n<!-- 134188872412576&#45;&gt;134188872414736tanh -->\n<g id=\"edge6\" class=\"edge\">\n<title>134188872412576&#45;&gt;134188872414736tanh</title>\n<path fill=\"none\" stroke=\"black\" d=\"M1256.01,-127.5C1265.01,-127.5 1273.74,-127.5 1281.66,-127.5\"/>\n<polygon fill=\"black\" stroke=\"black\" points=\"1281.91,-131 1291.91,-127.5 1281.91,-124 1281.91,-131\"/>\n</g>\n<!-- 134188872412576+&#45;&gt;134188872412576 -->\n<g id=\"edge5\" class=\"edge\">\n<title>134188872412576+&#45;&gt;134188872412576</title>\n<path fill=\"none\" stroke=\"black\" d=\"M1035.04,-127.5C1042.58,-127.5 1051.3,-127.5 1060.57,-127.5\"/>\n<polygon fill=\"black\" stroke=\"black\" points=\"1060.81,-131 1070.81,-127.5 1060.81,-124 1060.81,-131\"/>\n</g>\n</g>\n</svg>\n",
            "text/plain": [
              "<graphviz.graphs.Digraph at 0x7a0b48129ff0>"
            ]
          },
          "metadata": {},
          "execution_count": 100
        }
      ]
    },
    {
      "cell_type": "markdown",
      "source": [
        "## Topological Sort and its Application in Backpropagation\n",
        "\n",
        "#### What is Topological Sort?\n",
        "\n",
        "Topological sort is an algorithm used to linearly order the vertices of a directed acyclic graph (DAG) such that for every directed edge \\( (u, v) \\), vertex \\( u \\) comes before vertex \\( v \\) in the ordering. Essentially, it provides a linear ordering of the vertices in a way that respects the directed edges of the graph. If the graph contains a cycle, then no linear ordering exists, and hence, topological sorting cannot be applied.\n",
        "\n",
        "#### How is it Relevant to Backpropagation?\n",
        "\n",
        "1. **Computational Graph as a DAG**: Neural networks, or more generally, any computational graph we build for differentiable programming, can be represented as a DAG. The nodes represent computations or variables, and the edges represent the flow of data.\n",
        "\n",
        "2. **Order of Computation**: Just as in the forward pass we need to compute values in a certain sequence (you can't compute the output of a neuron before computing its inputs), in the backward pass, gradients must be computed in a specific order. Topological sorting provides the correct order for these computations.\n",
        "\n",
        "3. **Efficiency**: Computing gradients using backpropagation involves propagating the gradient backward through the graph. By using a topological sort, we ensure that every node's gradients are computed only after the gradients of the nodes that depend on it have been computed. This eliminates redundant calculations and ensures that each node's backward method is called exactly once.\n",
        "\n",
        "#### Why Use Topological Sort in Backpropagation?\n",
        "\n",
        "1. **Systematic Gradient Calculation**: By processing nodes in topological order, we ensure that when we compute the gradient for a node, the gradients for all the nodes it depends on have already been computed. This ensures that the chain rule is applied systematically.\n",
        "\n",
        "2. **Avoid Redundancy**: Without a topological order, we might end up in situations where we compute the gradient for a node multiple times or in an incorrect order, leading to errors or inefficiencies.\n",
        "\n",
        "3. **Clarity and Structure**: Using topological sort provides a structured approach to backpropagation. It's clear which gradients need to be computed first, and this reduces the chance of errors.\n",
        "\n",
        "In conclusion, topological sort offers a systematic and efficient way to perform backpropagation on a computational graph, ensuring that each node's gradient is computed in the correct order and precisely once."
      ],
      "metadata": {
        "id": "wOcohrw1fnxt"
      }
    },
    {
      "cell_type": "code",
      "source": [
        "# inputs x1,x2\n",
        "x1 = Value(2.0, label='x1')\n",
        "x2 = Value(0.0, label='x2')\n",
        "# weights w1,w2\n",
        "w1 = Value(-3.0, label='w1')\n",
        "w2 = Value(1.0, label='w2')\n",
        "# bias of the neuron, the 6.88 values means our back propagation will have good numbers!\n",
        "b = Value(6.8813735870195432, label='b')\n",
        "# x1*w1 + x2*w2 + b\n",
        "x1w1 = x1*w1; x1w1.label = 'x1*w1'\n",
        "x2w2 = x2*w2; x2w2.label = 'x2*w2'\n",
        "x1w1x2w2 = x1w1 + x2w2; x1w1x2w2.label = 'x1*w1 + x2*w2'\n",
        "n = x1w1x2w2 + b; n.label = 'n'\n",
        "o = n.tanh(); o.label = 'o'"
      ],
      "metadata": {
        "id": "VTb4LtyGgfBJ"
      },
      "execution_count": null,
      "outputs": []
    },
    {
      "cell_type": "code",
      "source": [
        "o.grad = 1.0\n",
        "draw_dot(o)"
      ],
      "metadata": {
        "colab": {
          "base_uri": "https://localhost:8080/",
          "height": 321
        },
        "id": "Vo5ms3prgomP",
        "outputId": "d7fcbef2-cdf4-49e9-feae-42aa40f279a6"
      },
      "execution_count": null,
      "outputs": [
        {
          "output_type": "execute_result",
          "data": {
            "image/svg+xml": "<?xml version=\"1.0\" encoding=\"UTF-8\" standalone=\"no\"?>\n<!DOCTYPE svg PUBLIC \"-//W3C//DTD SVG 1.1//EN\"\n \"http://www.w3.org/Graphics/SVG/1.1/DTD/svg11.dtd\">\n<!-- Generated by graphviz version 2.43.0 (0)\n -->\n<!-- Title: %3 Pages: 1 -->\n<svg width=\"1575pt\" height=\"210pt\"\n viewBox=\"0.00 0.00 1575.00 210.00\" xmlns=\"http://www.w3.org/2000/svg\" xmlns:xlink=\"http://www.w3.org/1999/xlink\">\n<g id=\"graph0\" class=\"graph\" transform=\"scale(1 1) rotate(0) translate(4 206)\">\n<title>%3</title>\n<polygon fill=\"white\" stroke=\"transparent\" points=\"-4,4 -4,-206 1571,-206 1571,4 -4,4\"/>\n<!-- 134188872403984 -->\n<g id=\"node1\" class=\"node\">\n<title>134188872403984</title>\n<polygon fill=\"none\" stroke=\"black\" points=\"2.5,-165.5 2.5,-201.5 197.5,-201.5 197.5,-165.5 2.5,-165.5\"/>\n<text text-anchor=\"middle\" x=\"19\" y=\"-179.8\" font-family=\"Times,serif\" font-size=\"14.00\">w2</text>\n<polyline fill=\"none\" stroke=\"black\" points=\"35.5,-165.5 35.5,-201.5 \"/>\n<text text-anchor=\"middle\" x=\"75.5\" y=\"-179.8\" font-family=\"Times,serif\" font-size=\"14.00\">data 1.0000</text>\n<polyline fill=\"none\" stroke=\"black\" points=\"115.5,-165.5 115.5,-201.5 \"/>\n<text text-anchor=\"middle\" x=\"156.5\" y=\"-179.8\" font-family=\"Times,serif\" font-size=\"14.00\">grad 0.0000</text>\n</g>\n<!-- 134188872410704* -->\n<g id=\"node3\" class=\"node\">\n<title>134188872410704*</title>\n<ellipse fill=\"none\" stroke=\"black\" cx=\"263\" cy=\"-128.5\" rx=\"27\" ry=\"18\"/>\n<text text-anchor=\"middle\" x=\"263\" y=\"-124.8\" font-family=\"Times,serif\" font-size=\"14.00\">*</text>\n</g>\n<!-- 134188872403984&#45;&gt;134188872410704* -->\n<g id=\"edge8\" class=\"edge\">\n<title>134188872403984&#45;&gt;134188872410704*</title>\n<path fill=\"none\" stroke=\"black\" d=\"M172.53,-165.44C181.84,-162.67 191.2,-159.67 200,-156.5 210.53,-152.71 221.75,-147.9 231.72,-143.33\"/>\n<polygon fill=\"black\" stroke=\"black\" points=\"233.25,-146.48 240.82,-139.07 230.28,-140.14 233.25,-146.48\"/>\n</g>\n<!-- 134188872410704 -->\n<g id=\"node2\" class=\"node\">\n<title>134188872410704</title>\n<polygon fill=\"none\" stroke=\"black\" points=\"328.5,-110.5 328.5,-146.5 543.5,-146.5 543.5,-110.5 328.5,-110.5\"/>\n<text text-anchor=\"middle\" x=\"355\" y=\"-124.8\" font-family=\"Times,serif\" font-size=\"14.00\">x2*w2</text>\n<polyline fill=\"none\" stroke=\"black\" points=\"381.5,-110.5 381.5,-146.5 \"/>\n<text text-anchor=\"middle\" x=\"421.5\" y=\"-124.8\" font-family=\"Times,serif\" font-size=\"14.00\">data 0.0000</text>\n<polyline fill=\"none\" stroke=\"black\" points=\"461.5,-110.5 461.5,-146.5 \"/>\n<text text-anchor=\"middle\" x=\"502.5\" y=\"-124.8\" font-family=\"Times,serif\" font-size=\"14.00\">grad 0.0000</text>\n</g>\n<!-- 134188872416176+ -->\n<g id=\"node12\" class=\"node\">\n<title>134188872416176+</title>\n<ellipse fill=\"none\" stroke=\"black\" cx=\"609\" cy=\"-100.5\" rx=\"27\" ry=\"18\"/>\n<text text-anchor=\"middle\" x=\"609\" y=\"-96.8\" font-family=\"Times,serif\" font-size=\"14.00\">+</text>\n</g>\n<!-- 134188872410704&#45;&gt;134188872416176+ -->\n<g id=\"edge7\" class=\"edge\">\n<title>134188872410704&#45;&gt;134188872416176+</title>\n<path fill=\"none\" stroke=\"black\" d=\"M543.84,-111.01C554.01,-109.34 563.76,-107.74 572.44,-106.32\"/>\n<polygon fill=\"black\" stroke=\"black\" points=\"573.17,-109.75 582.47,-104.68 572.04,-102.84 573.17,-109.75\"/>\n</g>\n<!-- 134188872410704*&#45;&gt;134188872410704 -->\n<g id=\"edge1\" class=\"edge\">\n<title>134188872410704*&#45;&gt;134188872410704</title>\n<path fill=\"none\" stroke=\"black\" d=\"M290.34,-128.5C298.51,-128.5 308.08,-128.5 318.36,-128.5\"/>\n<polygon fill=\"black\" stroke=\"black\" points=\"318.39,-132 328.39,-128.5 318.39,-125 318.39,-132\"/>\n</g>\n<!-- 134188872403600 -->\n<g id=\"node4\" class=\"node\">\n<title>134188872403600</title>\n<polygon fill=\"none\" stroke=\"black\" points=\"4,-110.5 4,-146.5 196,-146.5 196,-110.5 4,-110.5\"/>\n<text text-anchor=\"middle\" x=\"19\" y=\"-124.8\" font-family=\"Times,serif\" font-size=\"14.00\">x2</text>\n<polyline fill=\"none\" stroke=\"black\" points=\"34,-110.5 34,-146.5 \"/>\n<text text-anchor=\"middle\" x=\"74\" y=\"-124.8\" font-family=\"Times,serif\" font-size=\"14.00\">data 0.0000</text>\n<polyline fill=\"none\" stroke=\"black\" points=\"114,-110.5 114,-146.5 \"/>\n<text text-anchor=\"middle\" x=\"155\" y=\"-124.8\" font-family=\"Times,serif\" font-size=\"14.00\">grad 0.0000</text>\n</g>\n<!-- 134188872403600&#45;&gt;134188872410704* -->\n<g id=\"edge6\" class=\"edge\">\n<title>134188872403600&#45;&gt;134188872410704*</title>\n<path fill=\"none\" stroke=\"black\" d=\"M196.05,-128.5C206.52,-128.5 216.65,-128.5 225.71,-128.5\"/>\n<polygon fill=\"black\" stroke=\"black\" points=\"225.79,-132 235.79,-128.5 225.79,-125 225.79,-132\"/>\n</g>\n<!-- 134188872412912 -->\n<g id=\"node5\" class=\"node\">\n<title>134188872412912</title>\n<polygon fill=\"none\" stroke=\"black\" points=\"716,-27.5 716,-63.5 901,-63.5 901,-27.5 716,-27.5\"/>\n<text text-anchor=\"middle\" x=\"727.5\" y=\"-41.8\" font-family=\"Times,serif\" font-size=\"14.00\">b</text>\n<polyline fill=\"none\" stroke=\"black\" points=\"739,-27.5 739,-63.5 \"/>\n<text text-anchor=\"middle\" x=\"779\" y=\"-41.8\" font-family=\"Times,serif\" font-size=\"14.00\">data 6.8814</text>\n<polyline fill=\"none\" stroke=\"black\" points=\"819,-27.5 819,-63.5 \"/>\n<text text-anchor=\"middle\" x=\"860\" y=\"-41.8\" font-family=\"Times,serif\" font-size=\"14.00\">grad 0.0000</text>\n</g>\n<!-- 134188872417088+ -->\n<g id=\"node8\" class=\"node\">\n<title>134188872417088+</title>\n<ellipse fill=\"none\" stroke=\"black\" cx=\"1008\" cy=\"-72.5\" rx=\"27\" ry=\"18\"/>\n<text text-anchor=\"middle\" x=\"1008\" y=\"-68.8\" font-family=\"Times,serif\" font-size=\"14.00\">+</text>\n</g>\n<!-- 134188872412912&#45;&gt;134188872417088+ -->\n<g id=\"edge11\" class=\"edge\">\n<title>134188872412912&#45;&gt;134188872417088+</title>\n<path fill=\"none\" stroke=\"black\" d=\"M901.02,-58.01C926,-61.43 951.59,-64.93 971.37,-67.63\"/>\n<polygon fill=\"black\" stroke=\"black\" points=\"971.05,-71.12 981.43,-69.01 972,-64.18 971.05,-71.12\"/>\n</g>\n<!-- 134188872402736 -->\n<g id=\"node6\" class=\"node\">\n<title>134188872402736</title>\n<polygon fill=\"none\" stroke=\"black\" points=\"4,-55.5 4,-91.5 196,-91.5 196,-55.5 4,-55.5\"/>\n<text text-anchor=\"middle\" x=\"19\" y=\"-69.8\" font-family=\"Times,serif\" font-size=\"14.00\">x1</text>\n<polyline fill=\"none\" stroke=\"black\" points=\"34,-55.5 34,-91.5 \"/>\n<text text-anchor=\"middle\" x=\"74\" y=\"-69.8\" font-family=\"Times,serif\" font-size=\"14.00\">data 2.0000</text>\n<polyline fill=\"none\" stroke=\"black\" points=\"114,-55.5 114,-91.5 \"/>\n<text text-anchor=\"middle\" x=\"155\" y=\"-69.8\" font-family=\"Times,serif\" font-size=\"14.00\">grad 0.0000</text>\n</g>\n<!-- 134188872416560* -->\n<g id=\"node10\" class=\"node\">\n<title>134188872416560*</title>\n<ellipse fill=\"none\" stroke=\"black\" cx=\"263\" cy=\"-73.5\" rx=\"27\" ry=\"18\"/>\n<text text-anchor=\"middle\" x=\"263\" y=\"-69.8\" font-family=\"Times,serif\" font-size=\"14.00\">*</text>\n</g>\n<!-- 134188872402736&#45;&gt;134188872416560* -->\n<g id=\"edge10\" class=\"edge\">\n<title>134188872402736&#45;&gt;134188872416560*</title>\n<path fill=\"none\" stroke=\"black\" d=\"M196.05,-73.5C206.52,-73.5 216.65,-73.5 225.71,-73.5\"/>\n<polygon fill=\"black\" stroke=\"black\" points=\"225.79,-77 235.79,-73.5 225.79,-70 225.79,-77\"/>\n</g>\n<!-- 134188872417088 -->\n<g id=\"node7\" class=\"node\">\n<title>134188872417088</title>\n<polygon fill=\"none\" stroke=\"black\" points=\"1071,-54.5 1071,-90.5 1256,-90.5 1256,-54.5 1071,-54.5\"/>\n<text text-anchor=\"middle\" x=\"1082.5\" y=\"-68.8\" font-family=\"Times,serif\" font-size=\"14.00\">n</text>\n<polyline fill=\"none\" stroke=\"black\" points=\"1094,-54.5 1094,-90.5 \"/>\n<text text-anchor=\"middle\" x=\"1134\" y=\"-68.8\" font-family=\"Times,serif\" font-size=\"14.00\">data 0.8814</text>\n<polyline fill=\"none\" stroke=\"black\" points=\"1174,-54.5 1174,-90.5 \"/>\n<text text-anchor=\"middle\" x=\"1215\" y=\"-68.8\" font-family=\"Times,serif\" font-size=\"14.00\">grad 0.0000</text>\n</g>\n<!-- 134188872404464tanh -->\n<g id=\"node15\" class=\"node\">\n<title>134188872404464tanh</title>\n<ellipse fill=\"none\" stroke=\"black\" cx=\"1319\" cy=\"-72.5\" rx=\"27\" ry=\"18\"/>\n<text text-anchor=\"middle\" x=\"1319\" y=\"-68.8\" font-family=\"Times,serif\" font-size=\"14.00\">tanh</text>\n</g>\n<!-- 134188872417088&#45;&gt;134188872404464tanh -->\n<g id=\"edge9\" class=\"edge\">\n<title>134188872417088&#45;&gt;134188872404464tanh</title>\n<path fill=\"none\" stroke=\"black\" d=\"M1256.01,-72.5C1265.01,-72.5 1273.74,-72.5 1281.66,-72.5\"/>\n<polygon fill=\"black\" stroke=\"black\" points=\"1281.91,-76 1291.91,-72.5 1281.91,-69 1281.91,-76\"/>\n</g>\n<!-- 134188872417088+&#45;&gt;134188872417088 -->\n<g id=\"edge2\" class=\"edge\">\n<title>134188872417088+&#45;&gt;134188872417088</title>\n<path fill=\"none\" stroke=\"black\" d=\"M1035.04,-72.5C1042.58,-72.5 1051.3,-72.5 1060.57,-72.5\"/>\n<polygon fill=\"black\" stroke=\"black\" points=\"1060.81,-76 1070.81,-72.5 1060.81,-69 1060.81,-76\"/>\n</g>\n<!-- 134188872416560 -->\n<g id=\"node9\" class=\"node\">\n<title>134188872416560</title>\n<polygon fill=\"none\" stroke=\"black\" points=\"326,-55.5 326,-91.5 546,-91.5 546,-55.5 326,-55.5\"/>\n<text text-anchor=\"middle\" x=\"352.5\" y=\"-69.8\" font-family=\"Times,serif\" font-size=\"14.00\">x1*w1</text>\n<polyline fill=\"none\" stroke=\"black\" points=\"379,-55.5 379,-91.5 \"/>\n<text text-anchor=\"middle\" x=\"421.5\" y=\"-69.8\" font-family=\"Times,serif\" font-size=\"14.00\">data &#45;6.0000</text>\n<polyline fill=\"none\" stroke=\"black\" points=\"464,-55.5 464,-91.5 \"/>\n<text text-anchor=\"middle\" x=\"505\" y=\"-69.8\" font-family=\"Times,serif\" font-size=\"14.00\">grad 0.0000</text>\n</g>\n<!-- 134188872416560&#45;&gt;134188872416176+ -->\n<g id=\"edge13\" class=\"edge\">\n<title>134188872416560&#45;&gt;134188872416176+</title>\n<path fill=\"none\" stroke=\"black\" d=\"M546.27,-90.75C555.64,-92.23 564.6,-93.65 572.65,-94.92\"/>\n<polygon fill=\"black\" stroke=\"black\" points=\"572.23,-98.4 582.65,-96.5 573.32,-91.48 572.23,-98.4\"/>\n</g>\n<!-- 134188872416560*&#45;&gt;134188872416560 -->\n<g id=\"edge3\" class=\"edge\">\n<title>134188872416560*&#45;&gt;134188872416560</title>\n<path fill=\"none\" stroke=\"black\" d=\"M290.34,-73.5C297.77,-73.5 306.37,-73.5 315.6,-73.5\"/>\n<polygon fill=\"black\" stroke=\"black\" points=\"315.84,-77 325.84,-73.5 315.84,-70 315.84,-77\"/>\n</g>\n<!-- 134188872416176 -->\n<g id=\"node11\" class=\"node\">\n<title>134188872416176</title>\n<polygon fill=\"none\" stroke=\"black\" points=\"672,-82.5 672,-118.5 945,-118.5 945,-82.5 672,-82.5\"/>\n<text text-anchor=\"middle\" x=\"725\" y=\"-96.8\" font-family=\"Times,serif\" font-size=\"14.00\">x1*w1 + x2*w2</text>\n<polyline fill=\"none\" stroke=\"black\" points=\"778,-82.5 778,-118.5 \"/>\n<text text-anchor=\"middle\" x=\"820.5\" y=\"-96.8\" font-family=\"Times,serif\" font-size=\"14.00\">data &#45;6.0000</text>\n<polyline fill=\"none\" stroke=\"black\" points=\"863,-82.5 863,-118.5 \"/>\n<text text-anchor=\"middle\" x=\"904\" y=\"-96.8\" font-family=\"Times,serif\" font-size=\"14.00\">grad 0.0000</text>\n</g>\n<!-- 134188872416176&#45;&gt;134188872417088+ -->\n<g id=\"edge14\" class=\"edge\">\n<title>134188872416176&#45;&gt;134188872417088+</title>\n<path fill=\"none\" stroke=\"black\" d=\"M936.53,-82.49C949.09,-80.71 960.99,-79.02 971.3,-77.56\"/>\n<polygon fill=\"black\" stroke=\"black\" points=\"972.03,-80.99 981.44,-76.12 971.05,-74.06 972.03,-80.99\"/>\n</g>\n<!-- 134188872416176+&#45;&gt;134188872416176 -->\n<g id=\"edge4\" class=\"edge\">\n<title>134188872416176+&#45;&gt;134188872416176</title>\n<path fill=\"none\" stroke=\"black\" d=\"M636.23,-100.5C643.7,-100.5 652.41,-100.5 661.87,-100.5\"/>\n<polygon fill=\"black\" stroke=\"black\" points=\"661.98,-104 671.98,-100.5 661.98,-97 661.98,-104\"/>\n</g>\n<!-- 134188872408016 -->\n<g id=\"node13\" class=\"node\">\n<title>134188872408016</title>\n<polygon fill=\"none\" stroke=\"black\" points=\"0,-0.5 0,-36.5 200,-36.5 200,-0.5 0,-0.5\"/>\n<text text-anchor=\"middle\" x=\"16.5\" y=\"-14.8\" font-family=\"Times,serif\" font-size=\"14.00\">w1</text>\n<polyline fill=\"none\" stroke=\"black\" points=\"33,-0.5 33,-36.5 \"/>\n<text text-anchor=\"middle\" x=\"75.5\" y=\"-14.8\" font-family=\"Times,serif\" font-size=\"14.00\">data &#45;3.0000</text>\n<polyline fill=\"none\" stroke=\"black\" points=\"118,-0.5 118,-36.5 \"/>\n<text text-anchor=\"middle\" x=\"159\" y=\"-14.8\" font-family=\"Times,serif\" font-size=\"14.00\">grad 0.0000</text>\n</g>\n<!-- 134188872408016&#45;&gt;134188872416560* -->\n<g id=\"edge12\" class=\"edge\">\n<title>134188872408016&#45;&gt;134188872416560*</title>\n<path fill=\"none\" stroke=\"black\" d=\"M169.28,-36.5C179.65,-39.61 190.16,-42.98 200,-46.5 210.28,-50.17 221.28,-54.74 231.11,-59.07\"/>\n<polygon fill=\"black\" stroke=\"black\" points=\"229.93,-62.37 240.48,-63.27 232.79,-55.99 229.93,-62.37\"/>\n</g>\n<!-- 134188872404464 -->\n<g id=\"node14\" class=\"node\">\n<title>134188872404464</title>\n<polygon fill=\"none\" stroke=\"black\" points=\"1382,-54.5 1382,-90.5 1567,-90.5 1567,-54.5 1382,-54.5\"/>\n<text text-anchor=\"middle\" x=\"1393.5\" y=\"-68.8\" font-family=\"Times,serif\" font-size=\"14.00\">o</text>\n<polyline fill=\"none\" stroke=\"black\" points=\"1405,-54.5 1405,-90.5 \"/>\n<text text-anchor=\"middle\" x=\"1445\" y=\"-68.8\" font-family=\"Times,serif\" font-size=\"14.00\">data 0.7071</text>\n<polyline fill=\"none\" stroke=\"black\" points=\"1485,-54.5 1485,-90.5 \"/>\n<text text-anchor=\"middle\" x=\"1526\" y=\"-68.8\" font-family=\"Times,serif\" font-size=\"14.00\">grad 1.0000</text>\n</g>\n<!-- 134188872404464tanh&#45;&gt;134188872404464 -->\n<g id=\"edge5\" class=\"edge\">\n<title>134188872404464tanh&#45;&gt;134188872404464</title>\n<path fill=\"none\" stroke=\"black\" d=\"M1346.04,-72.5C1353.58,-72.5 1362.3,-72.5 1371.57,-72.5\"/>\n<polygon fill=\"black\" stroke=\"black\" points=\"1371.81,-76 1381.81,-72.5 1371.81,-69 1371.81,-76\"/>\n</g>\n</g>\n</svg>\n",
            "text/plain": [
              "<graphviz.graphs.Digraph at 0x7a0b48129480>"
            ]
          },
          "metadata": {},
          "execution_count": 102
        }
      ]
    },
    {
      "cell_type": "code",
      "source": [
        "topo = []\n",
        "visited = set()\n",
        "def build_topo(v):\n",
        "  if v not in visited:\n",
        "    visited.add(v)\n",
        "    for child in v._prev:\n",
        "      build_topo(child)\n",
        "    topo.append(v)\n",
        "build_topo(o)\n",
        "topo\n",
        "\n",
        "for node in reversed(topo):\n",
        "  node._backward()"
      ],
      "metadata": {
        "id": "uCCtZyhIgsdk"
      },
      "execution_count": null,
      "outputs": []
    },
    {
      "cell_type": "code",
      "source": [
        "draw_dot(o)"
      ],
      "metadata": {
        "colab": {
          "base_uri": "https://localhost:8080/",
          "height": 321
        },
        "id": "rS7g6h4thIOa",
        "outputId": "7addb7a0-c7ad-4c72-d36d-ce79bbe9c022"
      },
      "execution_count": null,
      "outputs": [
        {
          "output_type": "execute_result",
          "data": {
            "image/svg+xml": "<?xml version=\"1.0\" encoding=\"UTF-8\" standalone=\"no\"?>\n<!DOCTYPE svg PUBLIC \"-//W3C//DTD SVG 1.1//EN\"\n \"http://www.w3.org/Graphics/SVG/1.1/DTD/svg11.dtd\">\n<!-- Generated by graphviz version 2.43.0 (0)\n -->\n<!-- Title: %3 Pages: 1 -->\n<svg width=\"1575pt\" height=\"210pt\"\n viewBox=\"0.00 0.00 1575.00 210.00\" xmlns=\"http://www.w3.org/2000/svg\" xmlns:xlink=\"http://www.w3.org/1999/xlink\">\n<g id=\"graph0\" class=\"graph\" transform=\"scale(1 1) rotate(0) translate(4 206)\">\n<title>%3</title>\n<polygon fill=\"white\" stroke=\"transparent\" points=\"-4,4 -4,-206 1571,-206 1571,4 -4,4\"/>\n<!-- 134188872403984 -->\n<g id=\"node1\" class=\"node\">\n<title>134188872403984</title>\n<polygon fill=\"none\" stroke=\"black\" points=\"2.5,-165.5 2.5,-201.5 197.5,-201.5 197.5,-165.5 2.5,-165.5\"/>\n<text text-anchor=\"middle\" x=\"19\" y=\"-179.8\" font-family=\"Times,serif\" font-size=\"14.00\">w2</text>\n<polyline fill=\"none\" stroke=\"black\" points=\"35.5,-165.5 35.5,-201.5 \"/>\n<text text-anchor=\"middle\" x=\"75.5\" y=\"-179.8\" font-family=\"Times,serif\" font-size=\"14.00\">data 1.0000</text>\n<polyline fill=\"none\" stroke=\"black\" points=\"115.5,-165.5 115.5,-201.5 \"/>\n<text text-anchor=\"middle\" x=\"156.5\" y=\"-179.8\" font-family=\"Times,serif\" font-size=\"14.00\">grad 0.0000</text>\n</g>\n<!-- 134188872410704* -->\n<g id=\"node3\" class=\"node\">\n<title>134188872410704*</title>\n<ellipse fill=\"none\" stroke=\"black\" cx=\"263\" cy=\"-128.5\" rx=\"27\" ry=\"18\"/>\n<text text-anchor=\"middle\" x=\"263\" y=\"-124.8\" font-family=\"Times,serif\" font-size=\"14.00\">*</text>\n</g>\n<!-- 134188872403984&#45;&gt;134188872410704* -->\n<g id=\"edge8\" class=\"edge\">\n<title>134188872403984&#45;&gt;134188872410704*</title>\n<path fill=\"none\" stroke=\"black\" d=\"M172.53,-165.44C181.84,-162.67 191.2,-159.67 200,-156.5 210.53,-152.71 221.75,-147.9 231.72,-143.33\"/>\n<polygon fill=\"black\" stroke=\"black\" points=\"233.25,-146.48 240.82,-139.07 230.28,-140.14 233.25,-146.48\"/>\n</g>\n<!-- 134188872410704 -->\n<g id=\"node2\" class=\"node\">\n<title>134188872410704</title>\n<polygon fill=\"none\" stroke=\"black\" points=\"328.5,-110.5 328.5,-146.5 543.5,-146.5 543.5,-110.5 328.5,-110.5\"/>\n<text text-anchor=\"middle\" x=\"355\" y=\"-124.8\" font-family=\"Times,serif\" font-size=\"14.00\">x2*w2</text>\n<polyline fill=\"none\" stroke=\"black\" points=\"381.5,-110.5 381.5,-146.5 \"/>\n<text text-anchor=\"middle\" x=\"421.5\" y=\"-124.8\" font-family=\"Times,serif\" font-size=\"14.00\">data 0.0000</text>\n<polyline fill=\"none\" stroke=\"black\" points=\"461.5,-110.5 461.5,-146.5 \"/>\n<text text-anchor=\"middle\" x=\"502.5\" y=\"-124.8\" font-family=\"Times,serif\" font-size=\"14.00\">grad 0.5000</text>\n</g>\n<!-- 134188872416176+ -->\n<g id=\"node12\" class=\"node\">\n<title>134188872416176+</title>\n<ellipse fill=\"none\" stroke=\"black\" cx=\"609\" cy=\"-100.5\" rx=\"27\" ry=\"18\"/>\n<text text-anchor=\"middle\" x=\"609\" y=\"-96.8\" font-family=\"Times,serif\" font-size=\"14.00\">+</text>\n</g>\n<!-- 134188872410704&#45;&gt;134188872416176+ -->\n<g id=\"edge7\" class=\"edge\">\n<title>134188872410704&#45;&gt;134188872416176+</title>\n<path fill=\"none\" stroke=\"black\" d=\"M543.84,-111.01C554.01,-109.34 563.76,-107.74 572.44,-106.32\"/>\n<polygon fill=\"black\" stroke=\"black\" points=\"573.17,-109.75 582.47,-104.68 572.04,-102.84 573.17,-109.75\"/>\n</g>\n<!-- 134188872410704*&#45;&gt;134188872410704 -->\n<g id=\"edge1\" class=\"edge\">\n<title>134188872410704*&#45;&gt;134188872410704</title>\n<path fill=\"none\" stroke=\"black\" d=\"M290.34,-128.5C298.51,-128.5 308.08,-128.5 318.36,-128.5\"/>\n<polygon fill=\"black\" stroke=\"black\" points=\"318.39,-132 328.39,-128.5 318.39,-125 318.39,-132\"/>\n</g>\n<!-- 134188872403600 -->\n<g id=\"node4\" class=\"node\">\n<title>134188872403600</title>\n<polygon fill=\"none\" stroke=\"black\" points=\"4,-110.5 4,-146.5 196,-146.5 196,-110.5 4,-110.5\"/>\n<text text-anchor=\"middle\" x=\"19\" y=\"-124.8\" font-family=\"Times,serif\" font-size=\"14.00\">x2</text>\n<polyline fill=\"none\" stroke=\"black\" points=\"34,-110.5 34,-146.5 \"/>\n<text text-anchor=\"middle\" x=\"74\" y=\"-124.8\" font-family=\"Times,serif\" font-size=\"14.00\">data 0.0000</text>\n<polyline fill=\"none\" stroke=\"black\" points=\"114,-110.5 114,-146.5 \"/>\n<text text-anchor=\"middle\" x=\"155\" y=\"-124.8\" font-family=\"Times,serif\" font-size=\"14.00\">grad 0.5000</text>\n</g>\n<!-- 134188872403600&#45;&gt;134188872410704* -->\n<g id=\"edge6\" class=\"edge\">\n<title>134188872403600&#45;&gt;134188872410704*</title>\n<path fill=\"none\" stroke=\"black\" d=\"M196.05,-128.5C206.52,-128.5 216.65,-128.5 225.71,-128.5\"/>\n<polygon fill=\"black\" stroke=\"black\" points=\"225.79,-132 235.79,-128.5 225.79,-125 225.79,-132\"/>\n</g>\n<!-- 134188872412912 -->\n<g id=\"node5\" class=\"node\">\n<title>134188872412912</title>\n<polygon fill=\"none\" stroke=\"black\" points=\"716,-27.5 716,-63.5 901,-63.5 901,-27.5 716,-27.5\"/>\n<text text-anchor=\"middle\" x=\"727.5\" y=\"-41.8\" font-family=\"Times,serif\" font-size=\"14.00\">b</text>\n<polyline fill=\"none\" stroke=\"black\" points=\"739,-27.5 739,-63.5 \"/>\n<text text-anchor=\"middle\" x=\"779\" y=\"-41.8\" font-family=\"Times,serif\" font-size=\"14.00\">data 6.8814</text>\n<polyline fill=\"none\" stroke=\"black\" points=\"819,-27.5 819,-63.5 \"/>\n<text text-anchor=\"middle\" x=\"860\" y=\"-41.8\" font-family=\"Times,serif\" font-size=\"14.00\">grad 0.5000</text>\n</g>\n<!-- 134188872417088+ -->\n<g id=\"node8\" class=\"node\">\n<title>134188872417088+</title>\n<ellipse fill=\"none\" stroke=\"black\" cx=\"1008\" cy=\"-72.5\" rx=\"27\" ry=\"18\"/>\n<text text-anchor=\"middle\" x=\"1008\" y=\"-68.8\" font-family=\"Times,serif\" font-size=\"14.00\">+</text>\n</g>\n<!-- 134188872412912&#45;&gt;134188872417088+ -->\n<g id=\"edge11\" class=\"edge\">\n<title>134188872412912&#45;&gt;134188872417088+</title>\n<path fill=\"none\" stroke=\"black\" d=\"M901.02,-58.01C926,-61.43 951.59,-64.93 971.37,-67.63\"/>\n<polygon fill=\"black\" stroke=\"black\" points=\"971.05,-71.12 981.43,-69.01 972,-64.18 971.05,-71.12\"/>\n</g>\n<!-- 134188872402736 -->\n<g id=\"node6\" class=\"node\">\n<title>134188872402736</title>\n<polygon fill=\"none\" stroke=\"black\" points=\"2,-55.5 2,-91.5 198,-91.5 198,-55.5 2,-55.5\"/>\n<text text-anchor=\"middle\" x=\"17\" y=\"-69.8\" font-family=\"Times,serif\" font-size=\"14.00\">x1</text>\n<polyline fill=\"none\" stroke=\"black\" points=\"32,-55.5 32,-91.5 \"/>\n<text text-anchor=\"middle\" x=\"72\" y=\"-69.8\" font-family=\"Times,serif\" font-size=\"14.00\">data 2.0000</text>\n<polyline fill=\"none\" stroke=\"black\" points=\"112,-55.5 112,-91.5 \"/>\n<text text-anchor=\"middle\" x=\"155\" y=\"-69.8\" font-family=\"Times,serif\" font-size=\"14.00\">grad &#45;1.5000</text>\n</g>\n<!-- 134188872416560* -->\n<g id=\"node10\" class=\"node\">\n<title>134188872416560*</title>\n<ellipse fill=\"none\" stroke=\"black\" cx=\"263\" cy=\"-73.5\" rx=\"27\" ry=\"18\"/>\n<text text-anchor=\"middle\" x=\"263\" y=\"-69.8\" font-family=\"Times,serif\" font-size=\"14.00\">*</text>\n</g>\n<!-- 134188872402736&#45;&gt;134188872416560* -->\n<g id=\"edge10\" class=\"edge\">\n<title>134188872402736&#45;&gt;134188872416560*</title>\n<path fill=\"none\" stroke=\"black\" d=\"M198.37,-73.5C208.05,-73.5 217.4,-73.5 225.8,-73.5\"/>\n<polygon fill=\"black\" stroke=\"black\" points=\"225.91,-77 235.91,-73.5 225.91,-70 225.91,-77\"/>\n</g>\n<!-- 134188872417088 -->\n<g id=\"node7\" class=\"node\">\n<title>134188872417088</title>\n<polygon fill=\"none\" stroke=\"black\" points=\"1071,-54.5 1071,-90.5 1256,-90.5 1256,-54.5 1071,-54.5\"/>\n<text text-anchor=\"middle\" x=\"1082.5\" y=\"-68.8\" font-family=\"Times,serif\" font-size=\"14.00\">n</text>\n<polyline fill=\"none\" stroke=\"black\" points=\"1094,-54.5 1094,-90.5 \"/>\n<text text-anchor=\"middle\" x=\"1134\" y=\"-68.8\" font-family=\"Times,serif\" font-size=\"14.00\">data 0.8814</text>\n<polyline fill=\"none\" stroke=\"black\" points=\"1174,-54.5 1174,-90.5 \"/>\n<text text-anchor=\"middle\" x=\"1215\" y=\"-68.8\" font-family=\"Times,serif\" font-size=\"14.00\">grad 0.5000</text>\n</g>\n<!-- 134188872404464tanh -->\n<g id=\"node15\" class=\"node\">\n<title>134188872404464tanh</title>\n<ellipse fill=\"none\" stroke=\"black\" cx=\"1319\" cy=\"-72.5\" rx=\"27\" ry=\"18\"/>\n<text text-anchor=\"middle\" x=\"1319\" y=\"-68.8\" font-family=\"Times,serif\" font-size=\"14.00\">tanh</text>\n</g>\n<!-- 134188872417088&#45;&gt;134188872404464tanh -->\n<g id=\"edge9\" class=\"edge\">\n<title>134188872417088&#45;&gt;134188872404464tanh</title>\n<path fill=\"none\" stroke=\"black\" d=\"M1256.01,-72.5C1265.01,-72.5 1273.74,-72.5 1281.66,-72.5\"/>\n<polygon fill=\"black\" stroke=\"black\" points=\"1281.91,-76 1291.91,-72.5 1281.91,-69 1281.91,-76\"/>\n</g>\n<!-- 134188872417088+&#45;&gt;134188872417088 -->\n<g id=\"edge2\" class=\"edge\">\n<title>134188872417088+&#45;&gt;134188872417088</title>\n<path fill=\"none\" stroke=\"black\" d=\"M1035.04,-72.5C1042.58,-72.5 1051.3,-72.5 1060.57,-72.5\"/>\n<polygon fill=\"black\" stroke=\"black\" points=\"1060.81,-76 1070.81,-72.5 1060.81,-69 1060.81,-76\"/>\n</g>\n<!-- 134188872416560 -->\n<g id=\"node9\" class=\"node\">\n<title>134188872416560</title>\n<polygon fill=\"none\" stroke=\"black\" points=\"326,-55.5 326,-91.5 546,-91.5 546,-55.5 326,-55.5\"/>\n<text text-anchor=\"middle\" x=\"352.5\" y=\"-69.8\" font-family=\"Times,serif\" font-size=\"14.00\">x1*w1</text>\n<polyline fill=\"none\" stroke=\"black\" points=\"379,-55.5 379,-91.5 \"/>\n<text text-anchor=\"middle\" x=\"421.5\" y=\"-69.8\" font-family=\"Times,serif\" font-size=\"14.00\">data &#45;6.0000</text>\n<polyline fill=\"none\" stroke=\"black\" points=\"464,-55.5 464,-91.5 \"/>\n<text text-anchor=\"middle\" x=\"505\" y=\"-69.8\" font-family=\"Times,serif\" font-size=\"14.00\">grad 0.5000</text>\n</g>\n<!-- 134188872416560&#45;&gt;134188872416176+ -->\n<g id=\"edge13\" class=\"edge\">\n<title>134188872416560&#45;&gt;134188872416176+</title>\n<path fill=\"none\" stroke=\"black\" d=\"M546.27,-90.75C555.64,-92.23 564.6,-93.65 572.65,-94.92\"/>\n<polygon fill=\"black\" stroke=\"black\" points=\"572.23,-98.4 582.65,-96.5 573.32,-91.48 572.23,-98.4\"/>\n</g>\n<!-- 134188872416560*&#45;&gt;134188872416560 -->\n<g id=\"edge3\" class=\"edge\">\n<title>134188872416560*&#45;&gt;134188872416560</title>\n<path fill=\"none\" stroke=\"black\" d=\"M290.34,-73.5C297.77,-73.5 306.37,-73.5 315.6,-73.5\"/>\n<polygon fill=\"black\" stroke=\"black\" points=\"315.84,-77 325.84,-73.5 315.84,-70 315.84,-77\"/>\n</g>\n<!-- 134188872416176 -->\n<g id=\"node11\" class=\"node\">\n<title>134188872416176</title>\n<polygon fill=\"none\" stroke=\"black\" points=\"672,-82.5 672,-118.5 945,-118.5 945,-82.5 672,-82.5\"/>\n<text text-anchor=\"middle\" x=\"725\" y=\"-96.8\" font-family=\"Times,serif\" font-size=\"14.00\">x1*w1 + x2*w2</text>\n<polyline fill=\"none\" stroke=\"black\" points=\"778,-82.5 778,-118.5 \"/>\n<text text-anchor=\"middle\" x=\"820.5\" y=\"-96.8\" font-family=\"Times,serif\" font-size=\"14.00\">data &#45;6.0000</text>\n<polyline fill=\"none\" stroke=\"black\" points=\"863,-82.5 863,-118.5 \"/>\n<text text-anchor=\"middle\" x=\"904\" y=\"-96.8\" font-family=\"Times,serif\" font-size=\"14.00\">grad 0.5000</text>\n</g>\n<!-- 134188872416176&#45;&gt;134188872417088+ -->\n<g id=\"edge14\" class=\"edge\">\n<title>134188872416176&#45;&gt;134188872417088+</title>\n<path fill=\"none\" stroke=\"black\" d=\"M936.53,-82.49C949.09,-80.71 960.99,-79.02 971.3,-77.56\"/>\n<polygon fill=\"black\" stroke=\"black\" points=\"972.03,-80.99 981.44,-76.12 971.05,-74.06 972.03,-80.99\"/>\n</g>\n<!-- 134188872416176+&#45;&gt;134188872416176 -->\n<g id=\"edge4\" class=\"edge\">\n<title>134188872416176+&#45;&gt;134188872416176</title>\n<path fill=\"none\" stroke=\"black\" d=\"M636.23,-100.5C643.7,-100.5 652.41,-100.5 661.87,-100.5\"/>\n<polygon fill=\"black\" stroke=\"black\" points=\"661.98,-104 671.98,-100.5 661.98,-97 661.98,-104\"/>\n</g>\n<!-- 134188872408016 -->\n<g id=\"node13\" class=\"node\">\n<title>134188872408016</title>\n<polygon fill=\"none\" stroke=\"black\" points=\"0,-0.5 0,-36.5 200,-36.5 200,-0.5 0,-0.5\"/>\n<text text-anchor=\"middle\" x=\"16.5\" y=\"-14.8\" font-family=\"Times,serif\" font-size=\"14.00\">w1</text>\n<polyline fill=\"none\" stroke=\"black\" points=\"33,-0.5 33,-36.5 \"/>\n<text text-anchor=\"middle\" x=\"75.5\" y=\"-14.8\" font-family=\"Times,serif\" font-size=\"14.00\">data &#45;3.0000</text>\n<polyline fill=\"none\" stroke=\"black\" points=\"118,-0.5 118,-36.5 \"/>\n<text text-anchor=\"middle\" x=\"159\" y=\"-14.8\" font-family=\"Times,serif\" font-size=\"14.00\">grad 1.0000</text>\n</g>\n<!-- 134188872408016&#45;&gt;134188872416560* -->\n<g id=\"edge12\" class=\"edge\">\n<title>134188872408016&#45;&gt;134188872416560*</title>\n<path fill=\"none\" stroke=\"black\" d=\"M169.28,-36.5C179.65,-39.61 190.16,-42.98 200,-46.5 210.28,-50.17 221.28,-54.74 231.11,-59.07\"/>\n<polygon fill=\"black\" stroke=\"black\" points=\"229.93,-62.37 240.48,-63.27 232.79,-55.99 229.93,-62.37\"/>\n</g>\n<!-- 134188872404464 -->\n<g id=\"node14\" class=\"node\">\n<title>134188872404464</title>\n<polygon fill=\"none\" stroke=\"black\" points=\"1382,-54.5 1382,-90.5 1567,-90.5 1567,-54.5 1382,-54.5\"/>\n<text text-anchor=\"middle\" x=\"1393.5\" y=\"-68.8\" font-family=\"Times,serif\" font-size=\"14.00\">o</text>\n<polyline fill=\"none\" stroke=\"black\" points=\"1405,-54.5 1405,-90.5 \"/>\n<text text-anchor=\"middle\" x=\"1445\" y=\"-68.8\" font-family=\"Times,serif\" font-size=\"14.00\">data 0.7071</text>\n<polyline fill=\"none\" stroke=\"black\" points=\"1485,-54.5 1485,-90.5 \"/>\n<text text-anchor=\"middle\" x=\"1526\" y=\"-68.8\" font-family=\"Times,serif\" font-size=\"14.00\">grad 1.0000</text>\n</g>\n<!-- 134188872404464tanh&#45;&gt;134188872404464 -->\n<g id=\"edge5\" class=\"edge\">\n<title>134188872404464tanh&#45;&gt;134188872404464</title>\n<path fill=\"none\" stroke=\"black\" d=\"M1346.04,-72.5C1353.58,-72.5 1362.3,-72.5 1371.57,-72.5\"/>\n<polygon fill=\"black\" stroke=\"black\" points=\"1371.81,-76 1381.81,-72.5 1371.81,-69 1371.81,-76\"/>\n</g>\n</g>\n</svg>\n",
            "text/plain": [
              "<graphviz.graphs.Digraph at 0x7a0b4812bc10>"
            ]
          },
          "metadata": {},
          "execution_count": 105
        }
      ]
    },
    {
      "cell_type": "code",
      "source": [
        "class Value:\n",
        "\n",
        "  def __init__(self, data, _children=(), _op='', label=''):\n",
        "    self.data = data\n",
        "    self.grad = 0.0\n",
        "    self._backward = lambda: None\n",
        "    self._prev = set(_children)\n",
        "    self._op = _op\n",
        "    self.label = label\n",
        "\n",
        "  def __repr__(self):\n",
        "    return f\"Value(data={self.data})\"\n",
        "\n",
        "  def __add__(self, other):\n",
        "    out = Value(self.data + other.data, (self, other), '+')\n",
        "\n",
        "    def _backward():\n",
        "      self.grad += 1.0 * out.grad\n",
        "      other.grad += 1.0 * out.grad\n",
        "    out._backward = _backward\n",
        "\n",
        "    return out\n",
        "\n",
        "  def __mul__(self, other):\n",
        "    out = Value(self.data * other.data, (self, other), '*')\n",
        "\n",
        "    def _backward():\n",
        "      self.grad += other.data * out.grad\n",
        "      other.grad += self.data * out.grad\n",
        "    out._backward = _backward\n",
        "\n",
        "    return out\n",
        "\n",
        "  def tanh(self):\n",
        "    x = self.data\n",
        "    t = (math.exp(2*x) - 1)/(math.exp(2*x) + 1)\n",
        "    out = Value(t, (self, ), 'tanh')\n",
        "\n",
        "    def _backward():\n",
        "      self.grad += (1 - t**2) * out.grad\n",
        "    out._backward = _backward\n",
        "\n",
        "    return out\n",
        "\n",
        "  def backward(self):\n",
        "\n",
        "    topo = []\n",
        "    visited = set()\n",
        "    def build_topo(v):\n",
        "      if v not in visited:\n",
        "        visited.add(v)\n",
        "        for child in v._prev:\n",
        "          build_topo(child)\n",
        "        topo.append(v)\n",
        "    build_topo(self)\n",
        "\n",
        "    self.grad = 1.0\n",
        "    for node in reversed(topo):\n",
        "      node._backward()"
      ],
      "metadata": {
        "id": "RhR1M65hhZwh"
      },
      "execution_count": null,
      "outputs": []
    },
    {
      "cell_type": "code",
      "source": [
        "# inputs x1,x2\n",
        "x1 = Value(2.0, label='x1')\n",
        "x2 = Value(0.0, label='x2')\n",
        "# weights w1,w2\n",
        "w1 = Value(-3.0, label='w1')\n",
        "w2 = Value(1.0, label='w2')\n",
        "# bias of the neuron, the 6.88 values means our back propagation will have good numbers!\n",
        "b = Value(6.8813735870195432, label='b')\n",
        "# x1*w1 + x2*w2 + b\n",
        "x1w1 = x1*w1; x1w1.label = 'x1*w1'\n",
        "x2w2 = x2*w2; x2w2.label = 'x2*w2'\n",
        "x1w1x2w2 = x1w1 + x2w2; x1w1x2w2.label = 'x1*w1 + x2*w2'\n",
        "n = x1w1x2w2 + b; n.label = 'n'\n",
        "o = n.tanh(); o.label = 'o'"
      ],
      "metadata": {
        "id": "lv29Rs0Bh-WR"
      },
      "execution_count": null,
      "outputs": []
    },
    {
      "cell_type": "code",
      "source": [
        "o.backward()"
      ],
      "metadata": {
        "id": "UWl8LcRxiKgQ"
      },
      "execution_count": null,
      "outputs": []
    },
    {
      "cell_type": "code",
      "source": [
        "draw_dot(o)"
      ],
      "metadata": {
        "colab": {
          "base_uri": "https://localhost:8080/",
          "height": 321
        },
        "id": "Bm_libGCiRyH",
        "outputId": "b2440c9a-708e-4bf9-f09d-15a0de79ca5b"
      },
      "execution_count": null,
      "outputs": [
        {
          "output_type": "execute_result",
          "data": {
            "image/svg+xml": "<?xml version=\"1.0\" encoding=\"UTF-8\" standalone=\"no\"?>\n<!DOCTYPE svg PUBLIC \"-//W3C//DTD SVG 1.1//EN\"\n \"http://www.w3.org/Graphics/SVG/1.1/DTD/svg11.dtd\">\n<!-- Generated by graphviz version 2.43.0 (0)\n -->\n<!-- Title: %3 Pages: 1 -->\n<svg width=\"1575pt\" height=\"210pt\"\n viewBox=\"0.00 0.00 1575.00 210.00\" xmlns=\"http://www.w3.org/2000/svg\" xmlns:xlink=\"http://www.w3.org/1999/xlink\">\n<g id=\"graph0\" class=\"graph\" transform=\"scale(1 1) rotate(0) translate(4 206)\">\n<title>%3</title>\n<polygon fill=\"white\" stroke=\"transparent\" points=\"-4,4 -4,-206 1571,-206 1571,4 -4,4\"/>\n<!-- 133111037880896 -->\n<g id=\"node1\" class=\"node\">\n<title>133111037880896</title>\n<polygon fill=\"none\" stroke=\"black\" points=\"2,-165.5 2,-201.5 198,-201.5 198,-165.5 2,-165.5\"/>\n<text text-anchor=\"middle\" x=\"17\" y=\"-179.8\" font-family=\"Times,serif\" font-size=\"14.00\">x1</text>\n<polyline fill=\"none\" stroke=\"black\" points=\"32,-165.5 32,-201.5 \"/>\n<text text-anchor=\"middle\" x=\"72\" y=\"-179.8\" font-family=\"Times,serif\" font-size=\"14.00\">data 2.0000</text>\n<polyline fill=\"none\" stroke=\"black\" points=\"112,-165.5 112,-201.5 \"/>\n<text text-anchor=\"middle\" x=\"155\" y=\"-179.8\" font-family=\"Times,serif\" font-size=\"14.00\">grad &#45;1.5000</text>\n</g>\n<!-- 133111037885888* -->\n<g id=\"node13\" class=\"node\">\n<title>133111037885888*</title>\n<ellipse fill=\"none\" stroke=\"black\" cx=\"263\" cy=\"-128.5\" rx=\"27\" ry=\"18\"/>\n<text text-anchor=\"middle\" x=\"263\" y=\"-124.8\" font-family=\"Times,serif\" font-size=\"14.00\">*</text>\n</g>\n<!-- 133111037880896&#45;&gt;133111037885888* -->\n<g id=\"edge10\" class=\"edge\">\n<title>133111037880896&#45;&gt;133111037885888*</title>\n<path fill=\"none\" stroke=\"black\" d=\"M172.53,-165.44C181.84,-162.67 191.2,-159.67 200,-156.5 210.53,-152.71 221.75,-147.9 231.72,-143.33\"/>\n<polygon fill=\"black\" stroke=\"black\" points=\"233.25,-146.48 240.82,-139.07 230.28,-140.14 233.25,-146.48\"/>\n</g>\n<!-- 133111037882000 -->\n<g id=\"node2\" class=\"node\">\n<title>133111037882000</title>\n<polygon fill=\"none\" stroke=\"black\" points=\"1382,-54.5 1382,-90.5 1567,-90.5 1567,-54.5 1382,-54.5\"/>\n<text text-anchor=\"middle\" x=\"1393.5\" y=\"-68.8\" font-family=\"Times,serif\" font-size=\"14.00\">o</text>\n<polyline fill=\"none\" stroke=\"black\" points=\"1405,-54.5 1405,-90.5 \"/>\n<text text-anchor=\"middle\" x=\"1445\" y=\"-68.8\" font-family=\"Times,serif\" font-size=\"14.00\">data 0.7071</text>\n<polyline fill=\"none\" stroke=\"black\" points=\"1485,-54.5 1485,-90.5 \"/>\n<text text-anchor=\"middle\" x=\"1526\" y=\"-68.8\" font-family=\"Times,serif\" font-size=\"14.00\">grad 1.0000</text>\n</g>\n<!-- 133111037882000tanh -->\n<g id=\"node3\" class=\"node\">\n<title>133111037882000tanh</title>\n<ellipse fill=\"none\" stroke=\"black\" cx=\"1319\" cy=\"-72.5\" rx=\"27\" ry=\"18\"/>\n<text text-anchor=\"middle\" x=\"1319\" y=\"-68.8\" font-family=\"Times,serif\" font-size=\"14.00\">tanh</text>\n</g>\n<!-- 133111037882000tanh&#45;&gt;133111037882000 -->\n<g id=\"edge1\" class=\"edge\">\n<title>133111037882000tanh&#45;&gt;133111037882000</title>\n<path fill=\"none\" stroke=\"black\" d=\"M1346.04,-72.5C1353.58,-72.5 1362.3,-72.5 1371.57,-72.5\"/>\n<polygon fill=\"black\" stroke=\"black\" points=\"1371.81,-76 1381.81,-72.5 1371.81,-69 1371.81,-76\"/>\n</g>\n<!-- 133111037880464 -->\n<g id=\"node4\" class=\"node\">\n<title>133111037880464</title>\n<polygon fill=\"none\" stroke=\"black\" points=\"716,-27.5 716,-63.5 901,-63.5 901,-27.5 716,-27.5\"/>\n<text text-anchor=\"middle\" x=\"727.5\" y=\"-41.8\" font-family=\"Times,serif\" font-size=\"14.00\">b</text>\n<polyline fill=\"none\" stroke=\"black\" points=\"739,-27.5 739,-63.5 \"/>\n<text text-anchor=\"middle\" x=\"779\" y=\"-41.8\" font-family=\"Times,serif\" font-size=\"14.00\">data 6.8814</text>\n<polyline fill=\"none\" stroke=\"black\" points=\"819,-27.5 819,-63.5 \"/>\n<text text-anchor=\"middle\" x=\"860\" y=\"-41.8\" font-family=\"Times,serif\" font-size=\"14.00\">grad 0.5000</text>\n</g>\n<!-- 133111037881568+ -->\n<g id=\"node8\" class=\"node\">\n<title>133111037881568+</title>\n<ellipse fill=\"none\" stroke=\"black\" cx=\"1008\" cy=\"-72.5\" rx=\"27\" ry=\"18\"/>\n<text text-anchor=\"middle\" x=\"1008\" y=\"-68.8\" font-family=\"Times,serif\" font-size=\"14.00\">+</text>\n</g>\n<!-- 133111037880464&#45;&gt;133111037881568+ -->\n<g id=\"edge9\" class=\"edge\">\n<title>133111037880464&#45;&gt;133111037881568+</title>\n<path fill=\"none\" stroke=\"black\" d=\"M901.02,-58.01C926,-61.43 951.59,-64.93 971.37,-67.63\"/>\n<polygon fill=\"black\" stroke=\"black\" points=\"971.05,-71.12 981.43,-69.01 972,-64.18 971.05,-71.12\"/>\n</g>\n<!-- 133111037882528 -->\n<g id=\"node5\" class=\"node\">\n<title>133111037882528</title>\n<polygon fill=\"none\" stroke=\"black\" points=\"328.5,-55.5 328.5,-91.5 543.5,-91.5 543.5,-55.5 328.5,-55.5\"/>\n<text text-anchor=\"middle\" x=\"355\" y=\"-69.8\" font-family=\"Times,serif\" font-size=\"14.00\">x2*w2</text>\n<polyline fill=\"none\" stroke=\"black\" points=\"381.5,-55.5 381.5,-91.5 \"/>\n<text text-anchor=\"middle\" x=\"421.5\" y=\"-69.8\" font-family=\"Times,serif\" font-size=\"14.00\">data 0.0000</text>\n<polyline fill=\"none\" stroke=\"black\" points=\"461.5,-55.5 461.5,-91.5 \"/>\n<text text-anchor=\"middle\" x=\"502.5\" y=\"-69.8\" font-family=\"Times,serif\" font-size=\"14.00\">grad 0.5000</text>\n</g>\n<!-- 133111037882336+ -->\n<g id=\"node15\" class=\"node\">\n<title>133111037882336+</title>\n<ellipse fill=\"none\" stroke=\"black\" cx=\"609\" cy=\"-100.5\" rx=\"27\" ry=\"18\"/>\n<text text-anchor=\"middle\" x=\"609\" y=\"-96.8\" font-family=\"Times,serif\" font-size=\"14.00\">+</text>\n</g>\n<!-- 133111037882528&#45;&gt;133111037882336+ -->\n<g id=\"edge13\" class=\"edge\">\n<title>133111037882528&#45;&gt;133111037882336+</title>\n<path fill=\"none\" stroke=\"black\" d=\"M543.84,-90.37C554.01,-91.98 563.76,-93.51 572.44,-94.89\"/>\n<polygon fill=\"black\" stroke=\"black\" points=\"572.05,-98.37 582.47,-96.47 573.14,-91.45 572.05,-98.37\"/>\n</g>\n<!-- 133111037882528* -->\n<g id=\"node6\" class=\"node\">\n<title>133111037882528*</title>\n<ellipse fill=\"none\" stroke=\"black\" cx=\"263\" cy=\"-73.5\" rx=\"27\" ry=\"18\"/>\n<text text-anchor=\"middle\" x=\"263\" y=\"-69.8\" font-family=\"Times,serif\" font-size=\"14.00\">*</text>\n</g>\n<!-- 133111037882528*&#45;&gt;133111037882528 -->\n<g id=\"edge2\" class=\"edge\">\n<title>133111037882528*&#45;&gt;133111037882528</title>\n<path fill=\"none\" stroke=\"black\" d=\"M290.34,-73.5C298.51,-73.5 308.08,-73.5 318.36,-73.5\"/>\n<polygon fill=\"black\" stroke=\"black\" points=\"318.39,-77 328.39,-73.5 318.39,-70 318.39,-77\"/>\n</g>\n<!-- 133111037881568 -->\n<g id=\"node7\" class=\"node\">\n<title>133111037881568</title>\n<polygon fill=\"none\" stroke=\"black\" points=\"1071,-54.5 1071,-90.5 1256,-90.5 1256,-54.5 1071,-54.5\"/>\n<text text-anchor=\"middle\" x=\"1082.5\" y=\"-68.8\" font-family=\"Times,serif\" font-size=\"14.00\">n</text>\n<polyline fill=\"none\" stroke=\"black\" points=\"1094,-54.5 1094,-90.5 \"/>\n<text text-anchor=\"middle\" x=\"1134\" y=\"-68.8\" font-family=\"Times,serif\" font-size=\"14.00\">data 0.8814</text>\n<polyline fill=\"none\" stroke=\"black\" points=\"1174,-54.5 1174,-90.5 \"/>\n<text text-anchor=\"middle\" x=\"1215\" y=\"-68.8\" font-family=\"Times,serif\" font-size=\"14.00\">grad 0.5000</text>\n</g>\n<!-- 133111037881568&#45;&gt;133111037882000tanh -->\n<g id=\"edge7\" class=\"edge\">\n<title>133111037881568&#45;&gt;133111037882000tanh</title>\n<path fill=\"none\" stroke=\"black\" d=\"M1256.01,-72.5C1265.01,-72.5 1273.74,-72.5 1281.66,-72.5\"/>\n<polygon fill=\"black\" stroke=\"black\" points=\"1281.91,-76 1291.91,-72.5 1281.91,-69 1281.91,-76\"/>\n</g>\n<!-- 133111037881568+&#45;&gt;133111037881568 -->\n<g id=\"edge3\" class=\"edge\">\n<title>133111037881568+&#45;&gt;133111037881568</title>\n<path fill=\"none\" stroke=\"black\" d=\"M1035.04,-72.5C1042.58,-72.5 1051.3,-72.5 1060.57,-72.5\"/>\n<polygon fill=\"black\" stroke=\"black\" points=\"1060.81,-76 1070.81,-72.5 1060.81,-69 1060.81,-76\"/>\n</g>\n<!-- 133111037876480 -->\n<g id=\"node9\" class=\"node\">\n<title>133111037876480</title>\n<polygon fill=\"none\" stroke=\"black\" points=\"4,-55.5 4,-91.5 196,-91.5 196,-55.5 4,-55.5\"/>\n<text text-anchor=\"middle\" x=\"19\" y=\"-69.8\" font-family=\"Times,serif\" font-size=\"14.00\">x2</text>\n<polyline fill=\"none\" stroke=\"black\" points=\"34,-55.5 34,-91.5 \"/>\n<text text-anchor=\"middle\" x=\"74\" y=\"-69.8\" font-family=\"Times,serif\" font-size=\"14.00\">data 0.0000</text>\n<polyline fill=\"none\" stroke=\"black\" points=\"114,-55.5 114,-91.5 \"/>\n<text text-anchor=\"middle\" x=\"155\" y=\"-69.8\" font-family=\"Times,serif\" font-size=\"14.00\">grad 0.5000</text>\n</g>\n<!-- 133111037876480&#45;&gt;133111037882528* -->\n<g id=\"edge6\" class=\"edge\">\n<title>133111037876480&#45;&gt;133111037882528*</title>\n<path fill=\"none\" stroke=\"black\" d=\"M196.05,-73.5C206.52,-73.5 216.65,-73.5 225.71,-73.5\"/>\n<polygon fill=\"black\" stroke=\"black\" points=\"225.79,-77 235.79,-73.5 225.79,-70 225.79,-77\"/>\n</g>\n<!-- 133111037880704 -->\n<g id=\"node10\" class=\"node\">\n<title>133111037880704</title>\n<polygon fill=\"none\" stroke=\"black\" points=\"2.5,-0.5 2.5,-36.5 197.5,-36.5 197.5,-0.5 2.5,-0.5\"/>\n<text text-anchor=\"middle\" x=\"19\" y=\"-14.8\" font-family=\"Times,serif\" font-size=\"14.00\">w2</text>\n<polyline fill=\"none\" stroke=\"black\" points=\"35.5,-0.5 35.5,-36.5 \"/>\n<text text-anchor=\"middle\" x=\"75.5\" y=\"-14.8\" font-family=\"Times,serif\" font-size=\"14.00\">data 1.0000</text>\n<polyline fill=\"none\" stroke=\"black\" points=\"115.5,-0.5 115.5,-36.5 \"/>\n<text text-anchor=\"middle\" x=\"156.5\" y=\"-14.8\" font-family=\"Times,serif\" font-size=\"14.00\">grad 0.0000</text>\n</g>\n<!-- 133111037880704&#45;&gt;133111037882528* -->\n<g id=\"edge14\" class=\"edge\">\n<title>133111037880704&#45;&gt;133111037882528*</title>\n<path fill=\"none\" stroke=\"black\" d=\"M169.28,-36.5C179.65,-39.61 190.16,-42.98 200,-46.5 210.28,-50.17 221.28,-54.74 231.11,-59.07\"/>\n<polygon fill=\"black\" stroke=\"black\" points=\"229.93,-62.37 240.48,-63.27 232.79,-55.99 229.93,-62.37\"/>\n</g>\n<!-- 133111037880752 -->\n<g id=\"node11\" class=\"node\">\n<title>133111037880752</title>\n<polygon fill=\"none\" stroke=\"black\" points=\"0,-110.5 0,-146.5 200,-146.5 200,-110.5 0,-110.5\"/>\n<text text-anchor=\"middle\" x=\"16.5\" y=\"-124.8\" font-family=\"Times,serif\" font-size=\"14.00\">w1</text>\n<polyline fill=\"none\" stroke=\"black\" points=\"33,-110.5 33,-146.5 \"/>\n<text text-anchor=\"middle\" x=\"75.5\" y=\"-124.8\" font-family=\"Times,serif\" font-size=\"14.00\">data &#45;3.0000</text>\n<polyline fill=\"none\" stroke=\"black\" points=\"118,-110.5 118,-146.5 \"/>\n<text text-anchor=\"middle\" x=\"159\" y=\"-124.8\" font-family=\"Times,serif\" font-size=\"14.00\">grad 1.0000</text>\n</g>\n<!-- 133111037880752&#45;&gt;133111037885888* -->\n<g id=\"edge12\" class=\"edge\">\n<title>133111037880752&#45;&gt;133111037885888*</title>\n<path fill=\"none\" stroke=\"black\" d=\"M200.21,-128.5C209.2,-128.5 217.86,-128.5 225.7,-128.5\"/>\n<polygon fill=\"black\" stroke=\"black\" points=\"225.85,-132 235.85,-128.5 225.85,-125 225.85,-132\"/>\n</g>\n<!-- 133111037885888 -->\n<g id=\"node12\" class=\"node\">\n<title>133111037885888</title>\n<polygon fill=\"none\" stroke=\"black\" points=\"326,-110.5 326,-146.5 546,-146.5 546,-110.5 326,-110.5\"/>\n<text text-anchor=\"middle\" x=\"352.5\" y=\"-124.8\" font-family=\"Times,serif\" font-size=\"14.00\">x1*w1</text>\n<polyline fill=\"none\" stroke=\"black\" points=\"379,-110.5 379,-146.5 \"/>\n<text text-anchor=\"middle\" x=\"421.5\" y=\"-124.8\" font-family=\"Times,serif\" font-size=\"14.00\">data &#45;6.0000</text>\n<polyline fill=\"none\" stroke=\"black\" points=\"464,-110.5 464,-146.5 \"/>\n<text text-anchor=\"middle\" x=\"505\" y=\"-124.8\" font-family=\"Times,serif\" font-size=\"14.00\">grad 0.5000</text>\n</g>\n<!-- 133111037885888&#45;&gt;133111037882336+ -->\n<g id=\"edge11\" class=\"edge\">\n<title>133111037885888&#45;&gt;133111037882336+</title>\n<path fill=\"none\" stroke=\"black\" d=\"M546.27,-110.61C555.64,-109.07 564.6,-107.61 572.65,-106.29\"/>\n<polygon fill=\"black\" stroke=\"black\" points=\"573.35,-109.72 582.65,-104.65 572.22,-102.81 573.35,-109.72\"/>\n</g>\n<!-- 133111037885888*&#45;&gt;133111037885888 -->\n<g id=\"edge4\" class=\"edge\">\n<title>133111037885888*&#45;&gt;133111037885888</title>\n<path fill=\"none\" stroke=\"black\" d=\"M290.34,-128.5C297.77,-128.5 306.37,-128.5 315.6,-128.5\"/>\n<polygon fill=\"black\" stroke=\"black\" points=\"315.84,-132 325.84,-128.5 315.84,-125 315.84,-132\"/>\n</g>\n<!-- 133111037882336 -->\n<g id=\"node14\" class=\"node\">\n<title>133111037882336</title>\n<polygon fill=\"none\" stroke=\"black\" points=\"672,-82.5 672,-118.5 945,-118.5 945,-82.5 672,-82.5\"/>\n<text text-anchor=\"middle\" x=\"725\" y=\"-96.8\" font-family=\"Times,serif\" font-size=\"14.00\">x1*w1 + x2*w2</text>\n<polyline fill=\"none\" stroke=\"black\" points=\"778,-82.5 778,-118.5 \"/>\n<text text-anchor=\"middle\" x=\"820.5\" y=\"-96.8\" font-family=\"Times,serif\" font-size=\"14.00\">data &#45;6.0000</text>\n<polyline fill=\"none\" stroke=\"black\" points=\"863,-82.5 863,-118.5 \"/>\n<text text-anchor=\"middle\" x=\"904\" y=\"-96.8\" font-family=\"Times,serif\" font-size=\"14.00\">grad 0.5000</text>\n</g>\n<!-- 133111037882336&#45;&gt;133111037881568+ -->\n<g id=\"edge8\" class=\"edge\">\n<title>133111037882336&#45;&gt;133111037881568+</title>\n<path fill=\"none\" stroke=\"black\" d=\"M936.53,-82.49C949.09,-80.71 960.99,-79.02 971.3,-77.56\"/>\n<polygon fill=\"black\" stroke=\"black\" points=\"972.03,-80.99 981.44,-76.12 971.05,-74.06 972.03,-80.99\"/>\n</g>\n<!-- 133111037882336+&#45;&gt;133111037882336 -->\n<g id=\"edge5\" class=\"edge\">\n<title>133111037882336+&#45;&gt;133111037882336</title>\n<path fill=\"none\" stroke=\"black\" d=\"M636.23,-100.5C643.7,-100.5 652.41,-100.5 661.87,-100.5\"/>\n<polygon fill=\"black\" stroke=\"black\" points=\"661.98,-104 671.98,-100.5 661.98,-97 661.98,-104\"/>\n</g>\n</g>\n</svg>\n",
            "text/plain": [
              "<graphviz.graphs.Digraph at 0x79105420e350>"
            ]
          },
          "metadata": {},
          "execution_count": 8
        }
      ]
    },
    {
      "cell_type": "markdown",
      "source": [
        "# Glossary"
      ],
      "metadata": {
        "id": "lE9iWf2p9Nnv"
      }
    },
    {
      "cell_type": "markdown",
      "source": [
        "## What is a Derivative?\n",
        "\n",
        "In its most basic form, the derivative measures how a function changes as its input changes. Imagine driving a car on a straight road. If you were to graph the distance you traveled over time, the speed of the car at any given moment would be the rate at which the distance is changing with respect to time. This rate of change is essentially what the derivative captures.\n",
        "\n",
        "### Intuitive Analogy\n",
        "\n",
        "Picture a curve representing a function on a graph. Now, choose a point on that curve. The derivative at that point is the slope of the tangent line to the curve at that point.\n",
        "\n",
        "- If the curve is rising, the derivative is positive (the function is increasing).\n",
        "- If the curve is flat, the derivative is zero (the function is not changing).\n",
        "- If the curve is falling, the derivative is negative (the function is decreasing).\n",
        "\n",
        "## Importance of the Derivative\n",
        "\n",
        "1. **Understanding Rate of Change**: At its core, calculus is about understanding change. The derivative provides a precise way to talk about how a function is changing at any given point.\n",
        "\n",
        "2. **Optimization Problems**: In many real-world problems, we want to find maximum or minimum values. For instance, businesses might want to maximize profit or minimize costs. The points where these maxima or minima occur often correspond to where the derivative is zero (or undefined).\n",
        "\n",
        "3. **Modeling and Predictions**: Derivatives are foundational in physics, economics, biology, and more. They can describe motion, rates of infection, or changes in market demand, among other things.\n",
        "\n",
        "4. **Neural Networks and Machine Learning**: In the context of your tutorial, derivatives are crucial in the training of neural networks. When training a neural network, we want to adjust its parameters (weights and biases) to minimize the error in its predictions. This process, called backpropagation, involves computing the gradient (a multi-dimensional derivative) of the error with respect to the parameters. By understanding how a small change in a parameter affects the error, we can adjust that parameter in the direction that reduces the error.\n",
        "\n",
        "5. **Numerical Methods**: Many algorithms, like the Newton-Raphson method for finding roots of functions, rely on derivatives to make approximations and converge to solutions.\n",
        "\n",
        "In summary, the derivative provides a tool to understand and quantify the instantaneous rate of change. This concept, while seemingly simple, has profound implications across various disciplines and is foundational in the field of calculus."
      ],
      "metadata": {
        "id": "ik0F__9d9d75"
      }
    },
    {
      "cell_type": "markdown",
      "source": [
        "## Tangent Line and Slope:\n",
        "\n",
        "Imagine you have a curve on a graph, and you pick a specific point on that curve. If you were to draw the straightest possible line that just \"touches\" the curve at that point (without cutting across it), you'd have what's called a \"tangent line\" to the curve at that point.\n",
        "\n",
        "The slope of this tangent line represents the rate at which the function is changing at that specific point. This is what we mean by \"the derivative of a function at a point is the slope of the tangent line to the curve at that point.\"\n",
        "\n",
        "### What Does a Slope of 15 Mean?\n",
        "\n",
        "The slope represents a ratio of the change in the vertical direction (often denoted as \\( $\\Delta y$ \\)) to the change in the horizontal direction (often denoted as \\( $\\Delta x$ \\)). If the slope of the tangent line at a point is 15, it means that for a tiny increase in the horizontal direction (input of the function), the vertical increase (output of the function) is 15 times that tiny increase. In more practical terms, for every unit increase in the x-direction, the function increases by 15 units in the y-direction at that point.\n",
        "\n",
        "Mathematically, if you have a slope \\( m \\) for a line, it can be represented as:\n",
        "\\[ m = $\\frac{\\Delta y}{\\Delta x}$ \\]\n",
        "So, for a slope of 15, \\( $\\Delta y$ \\) is 15 times \\( $\\Delta x$ \\).\n",
        "\n",
        "### Is Slope the Output of a Derivative?\n",
        "\n",
        "Yes, when you compute the derivative of a function at a specific point, the value you get is the slope of the tangent line to the curve at that point. If you were to compute the derivative for every point along a function and then plot these values, you'd get a new function: the derivative function. The values of this derivative function at any given point represent the slope of the original function at that point."
      ],
      "metadata": {
        "id": "XQRex72Y9lRC"
      }
    },
    {
      "cell_type": "markdown",
      "source": [
        "## Trigonometry Basics:\n",
        "\n",
        "The concept of the tangent line in calculus is related to the trigonometric function \"tangent\" (often abbreviated as \"tan\"), which in turn is related to sine and cosine. Here's the connection:\n",
        "\n",
        "In a right triangle:\n",
        "1. \\( $\\sin(\\theta)$ \\) is the ratio of the length of the side opposite the angle \\( $\\theta$ \\) to the length of the hypotenuse.\n",
        "2. \\( $\\cos(\\theta)$ \\) is the ratio of the length of the adjacent side (the side next to \\( $\\theta$ \\) but not the hypotenuse) to the length of the hypotenuse.\n",
        "3. \\( $\\tan(\\theta)$ \\) is defined as the ratio of \\( $\\sin(\\theta)$ \\) to \\( $\\cos(\\theta)$ \\). Thus:\n",
        "\n",
        "$$\n",
        "\\tan(\\theta) = \\frac{\\sin(\\theta)}{\\cos(\\theta)}\n",
        "$$\n"
      ],
      "metadata": {
        "id": "N2SuAzAO9qSX"
      }
    },
    {
      "cell_type": "markdown",
      "source": [
        "## Gradient and Backpropagation\n",
        "\n",
        "When training a neural network, one crucial step is to update the weights to minimize the loss. To determine how each weight should be adjusted, we compute the derivative (or gradient) of the loss with respect to each weight. This process is called backpropagation.\n",
        "\n",
        "In this tutorial, a foundation of a computational graph is built using the `Value` class. Each instance of this class represents a node in the graph, and these nodes can be combined through operations like addition and multiplication.\n",
        "\n",
        "---\n",
        "\n",
        "### Training a neural network\n",
        "\n",
        "When training a neural network, our primary objective is to minimize the loss or error. The weights and biases of the network are the adjustable parameters that determine the network's output and, consequently, the value of the loss. We want to know how a small change in a particular weight (or bias) will affect the overall loss. This understanding helps us adjust the weight in the direction that will reduce the loss.\n",
        "\n",
        "So, when we ask for the derivative of \\( L \\) with respect to a weight \\( w \\) (i.e., \\( $\\frac{dL}{dw}$ \\)), we're essentially asking: \"If I change \\( w \\) a tiny bit, how much will \\( L \\) change?\"\n",
        "\n",
        "1. If \\( $\\frac{dL}{dw}$ \\) is positive, it means that increasing \\( w \\) will increase \\( L \\). To reduce the loss, we should then decrease \\( w \\).\n",
        "2. If \\( $\\frac{dL}{dw}$ \\) is negative, it indicates that increasing \\( w \\) will decrease \\( L \\). In this case, to reduce the loss, we should increase \\( w \\).\n",
        "\n",
        "On the other hand, the derivative \\( $\\frac{dw}{dL}$ \\) would be answering a different, and less useful, question: \"If the loss changes by a tiny amount, how would the weight change?\" This isn't what we're looking for, as the loss is a result of the weights (and the input data), not the other way around. The weights are our adjustable parameters, and the loss is the metric we're trying to optimize.\n",
        "\n",
        "In summary, we use \\( $\\frac{dL}{dw}$ \\) because we want to understand how changes to our network's weights will impact the loss, so we can adjust the weights to minimize that loss.\n",
        "\n",
        "---\n",
        "\n",
        "### Derivatives in the Graph\n",
        "\n",
        "1. \\( L \\) is the final output (or Loss) that we want to minimize.\n",
        "2. The derivative of \\( L \\) with respect to itself, \\( $\\frac{\\partial L}{\\partial L}$ \\), is 1 since any quantity differentiated with respect to itself is 1.\n",
        "3. For other nodes (like \\( d, f, e, b, a \\)), the derivative with respect to \\( L \\) tells us how much a small change in that node's value will change \\( L \\). This information is crucial when updating weights in a neural network.\n",
        "\n",
        "---\n",
        "\n",
        "### The `.grad` Attribute\n",
        "\n",
        "In the `Value` class:\n",
        "- The `.grad` attribute stores the gradient, which is the derivative of \\( L \\) concerning the value of that specific node.\n",
        "- For instance, `d.grad` will store \\( $\\frac{\\partial L}{\\partial d}$ \\), representing how much the loss \\( L \\) will change for a small change in \\( d \\).\n",
        "\n",
        "---\n",
        "\n",
        "### Numerical Estimation\n",
        "\n",
        "While backpropagation provides an exact computation of the gradients using the chain rule from calculus, gradients can also be estimated using the difference quotient:\n",
        "\n",
        "$$\n",
        "\\frac{f(x+h) - f(x)}{h}\n",
        "$$\n",
        "\n",
        "By using a very small value for \\( h \\) (e.g., 0.0001), we can get a numerical approximation of the gradient. This method is often used to verify the correctness of backpropagation computations.\n",
        "\n",
        "---\n"
      ],
      "metadata": {
        "id": "rJvVlLyxFcyG"
      }
    },
    {
      "cell_type": "markdown",
      "source": [
        "## Numerical Gradient Estimation: The Difference Quotient\n",
        "\n",
        "Before diving into the more sophisticated method of backpropagation, it's useful to understand the fundamental concept of a gradient from a numerical perspective. One straightforward way to estimate the gradient is by using the difference quotient, which can be thought of as a numerical approximation of a derivative.\n",
        "\n",
        "The difference quotient for a function \\( f \\) at a point \\( x \\) is given by:\n",
        "\n",
        "$$\n",
        "\\frac{f(x + h) - f(x)}{h}\n",
        "$$\n",
        "\n",
        "Where \\( h \\) is a small number. This formula gives an approximation of the slope of the function \\( f \\) at the point \\( x \\).\n",
        "\n",
        "### Why Use Numerical Estimation?\n",
        "\n",
        "1. **Intuition:** Before delving into the complexities of backpropagation, understanding how gradients can be computed numerically offers a tangible sense of how weights affect the loss.\n",
        "2. **Verification:** Once you've computed gradients using backpropagation, it's common to verify the results using numerical gradient estimation to ensure everything is working correctly.\n",
        "\n",
        "### What the Code Demonstrates:\n",
        "\n",
        "The provided function `lol` is a practical implementation of the difference quotient for a small neural network-like computational graph. Specifically, it computes the gradient of the loss \\( L \\) with respect to the weight \\( a \\).\n",
        "\n",
        "Here's a step-by-step breakdown:\n",
        "\n",
        "1. **Setup:** The function first sets a small value for \\( h \\) (0.001 in this case).\n",
        "2. **Compute Original Loss:** It then constructs the computational graph and computes the value of \\( L \\) (denoted as `L1`).\n",
        "3. **Perturb the Weight:** Next, it slightly perturbs the weight \\( a \\) by adding \\( h \\) to it.\n",
        "4. **Compute New Loss:** With the perturbed weight, the function computes the new value of \\( L \\) (denoted as `L2`).\n",
        "5. **Estimate Gradient:** The gradient is then estimated as \\( $\\frac{L2 - L1}{h}$ \\), which is printed out.\n",
        "\n",
        "By running the function `lol`, you'll see the numerical estimate of how the loss \\( L \\) changes with a tiny change in weight \\( a \\). Later, when you compute the gradient using backpropagation, you can compare this value to ensure correctness."
      ],
      "metadata": {
        "id": "-L5J9-QbFix7"
      }
    }
  ]
}